{
  "nbformat": 4,
  "nbformat_minor": 0,
  "metadata": {
    "colab": {
      "name": "3.Dataframes.ipynb",
      "provenance": [],
      "authorship_tag": "ABX9TyMSYzwZ50fq+iBUF0gl6bFP",
      "include_colab_link": true
    },
    "kernelspec": {
      "name": "python3",
      "display_name": "Python 3"
    }
  },
  "cells": [
    {
      "cell_type": "markdown",
      "metadata": {
        "id": "view-in-github",
        "colab_type": "text"
      },
      "source": [
        "<a href=\"https://colab.research.google.com/github/francomanca93/analisis-de-datos/blob/comienzo/1-Comenzando-con-pandas/3_Dataframes.ipynb\" target=\"_parent\"><img src=\"https://colab.research.google.com/assets/colab-badge.svg\" alt=\"Open In Colab\"/></a>"
      ]
    },
    {
      "cell_type": "markdown",
      "metadata": {
        "id": "dQoFZD_Vx7YH",
        "colab_type": "text"
      },
      "source": [
        "# Dataframes"
      ]
    },
    {
      "cell_type": "code",
      "metadata": {
        "id": "7wDx3DTRxuCp",
        "colab_type": "code",
        "colab": {
          "base_uri": "https://localhost:8080/",
          "height": 35
        },
        "outputId": "4f0d3a94-6d1d-4505-fb4a-9b45325bdf2d"
      },
      "source": [
        "import pandas as pd\n",
        "pd.__version__"
      ],
      "execution_count": 1,
      "outputs": [
        {
          "output_type": "execute_result",
          "data": {
            "application/vnd.google.colaboratory.intrinsic+json": {
              "type": "string"
            },
            "text/plain": [
              "'1.0.5'"
            ]
          },
          "metadata": {
            "tags": []
          },
          "execution_count": 1
        }
      ]
    },
    {
      "cell_type": "markdown",
      "metadata": {
        "id": "aPY7r2LxyJLG",
        "colab_type": "text"
      },
      "source": [
        "Actualizando nuestra librería de pandas"
      ]
    },
    {
      "cell_type": "code",
      "metadata": {
        "id": "X_Zzyhk3yCuC",
        "colab_type": "code",
        "colab": {}
      },
      "source": [
        "# !pip install --upgrade pandas"
      ],
      "execution_count": 3,
      "outputs": []
    },
    {
      "cell_type": "markdown",
      "metadata": {
        "id": "VKLqM4P0_7YL",
        "colab_type": "text"
      },
      "source": [
        "### Creando dataframe"
      ]
    },
    {
      "cell_type": "code",
      "metadata": {
        "id": "ZZePn7vayIF6",
        "colab_type": "code",
        "colab": {
          "base_uri": "https://localhost:8080/",
          "height": 34
        },
        "outputId": "83967310-a1dc-4511-ac83-ec8819fa5a71"
      },
      "source": [
        "dict_data = {'CO':100,'MX':200,'AR':300}\n",
        "dict_data"
      ],
      "execution_count": 4,
      "outputs": [
        {
          "output_type": "execute_result",
          "data": {
            "text/plain": [
              "{'AR': 300, 'CO': 100, 'MX': 200}"
            ]
          },
          "metadata": {
            "tags": []
          },
          "execution_count": 4
        }
      ]
    },
    {
      "cell_type": "code",
      "metadata": {
        "id": "8fOgzrocyePq",
        "colab_type": "code",
        "colab": {
          "base_uri": "https://localhost:8080/",
          "height": 86
        },
        "outputId": "fbd8cc5c-55f7-450e-c752-d6fd0ab1b100"
      },
      "source": [
        "pd.Series(dict_data)"
      ],
      "execution_count": 5,
      "outputs": [
        {
          "output_type": "execute_result",
          "data": {
            "text/plain": [
              "CO    100\n",
              "MX    200\n",
              "AR    300\n",
              "dtype: int64"
            ]
          },
          "metadata": {
            "tags": []
          },
          "execution_count": 5
        }
      ]
    },
    {
      "cell_type": "code",
      "metadata": {
        "id": "OD_aBoSEyh_b",
        "colab_type": "code",
        "colab": {
          "base_uri": "https://localhost:8080/",
          "height": 34
        },
        "outputId": "e072ad56-4b79-4d69-b893-9430e0a7a31f"
      },
      "source": [
        "dict_data = {\n",
        "    'CH': [100, 800, 200],\n",
        "    'CO': [100, 200, 200],\n",
        "    'AR': [300, 400, 400]\n",
        "}\n",
        "\n",
        "dict_data"
      ],
      "execution_count": 14,
      "outputs": [
        {
          "output_type": "execute_result",
          "data": {
            "text/plain": [
              "{'AR': [300, 400, 400], 'CH': [100, 800, 200], 'CO': [100, 200, 200]}"
            ]
          },
          "metadata": {
            "tags": []
          },
          "execution_count": 14
        }
      ]
    },
    {
      "cell_type": "code",
      "metadata": {
        "id": "wWGmXILpy5P1",
        "colab_type": "code",
        "colab": {
          "base_uri": "https://localhost:8080/",
          "height": 86
        },
        "outputId": "d546cfd6-309c-4b3a-bded-cf27dc0131ed"
      },
      "source": [
        "df = pd.DataFrame(dict_data)\n",
        "\n",
        "print(df)"
      ],
      "execution_count": 16,
      "outputs": [
        {
          "output_type": "stream",
          "text": [
            "    CH   CO   AR\n",
            "0  100  100  300\n",
            "1  800  200  400\n",
            "2  200  200  400\n"
          ],
          "name": "stdout"
        }
      ]
    },
    {
      "cell_type": "markdown",
      "metadata": {
        "id": "FEQ0QWmqACNK",
        "colab_type": "text"
      },
      "source": [
        "Ahora creemos un dataframe un poco mas complejo y con mayor cantidad de datos tanto en columna como en filas."
      ]
    },
    {
      "cell_type": "code",
      "metadata": {
        "id": "x0D4tiUP1UDB",
        "colab_type": "code",
        "colab": {}
      },
      "source": [
        "import numpy as np"
      ],
      "execution_count": 17,
      "outputs": []
    },
    {
      "cell_type": "code",
      "metadata": {
        "id": "Hvv3eC6QzB0h",
        "colab_type": "code",
        "colab": {
          "base_uri": "https://localhost:8080/",
          "height": 121
        },
        "outputId": "85a10591-9993-425f-973e-1ba4a12a6c1f"
      },
      "source": [
        "dict_data = {\n",
        "    'edad': [10,9,13,14,12,11,12],\n",
        "    'cm': [115,110,130,155,125,120,125],\n",
        "    'pais':['co','mx','co','mx','mx','ch','ch'],\n",
        "    'genero':['M','F','F','M','M','M','F'],\n",
        "    'Q1':[5,10,8,np.nan,7,8,3],\n",
        "    'Q2':[7,9,9,8,8,8,9]\n",
        "}\n",
        "dict_data"
      ],
      "execution_count": 20,
      "outputs": [
        {
          "output_type": "execute_result",
          "data": {
            "text/plain": [
              "{'Q1': [5, 10, 8, nan, 7, 8, 3],\n",
              " 'Q2': [7, 9, 9, 8, 8, 8, 9],\n",
              " 'cm': [115, 110, 130, 155, 125, 120, 125],\n",
              " 'edad': [10, 9, 13, 14, 12, 11, 12],\n",
              " 'genero': ['M', 'F', 'F', 'M', 'M', 'M', 'F'],\n",
              " 'pais': ['co', 'mx', 'co', 'mx', 'mx', 'ch', 'ch']}"
            ]
          },
          "metadata": {
            "tags": []
          },
          "execution_count": 20
        }
      ]
    },
    {
      "cell_type": "code",
      "metadata": {
        "id": "zRCj979Z1W_C",
        "colab_type": "code",
        "colab": {
          "base_uri": "https://localhost:8080/",
          "height": 156
        },
        "outputId": "a939a674-65a5-4444-c41e-5a9a4497ee24"
      },
      "source": [
        "df = pd.DataFrame(dict_data)\n",
        "\n",
        "print(df)"
      ],
      "execution_count": 23,
      "outputs": [
        {
          "output_type": "stream",
          "text": [
            "   edad   cm pais genero    Q1  Q2\n",
            "0    10  115   co      M   5.0   7\n",
            "1     9  110   mx      F  10.0   9\n",
            "2    13  130   co      F   8.0   9\n",
            "3    14  155   mx      M   NaN   8\n",
            "4    12  125   mx      M   7.0   8\n",
            "5    11  120   ch      M   8.0   8\n",
            "6    12  125   ch      F   3.0   9\n"
          ],
          "name": "stdout"
        }
      ]
    },
    {
      "cell_type": "code",
      "metadata": {
        "id": "gxp5AU1_1lmh",
        "colab_type": "code",
        "colab": {
          "base_uri": "https://localhost:8080/",
          "height": 156
        },
        "outputId": "ef36c915-ca88-4a2c-ee04-e7a7d85ffb52"
      },
      "source": [
        " df = pd.DataFrame(dict_data, index = ['ana','benito','camilo','daniel','erika','fabian','gabriela'])\n",
        "\n",
        " print(df)"
      ],
      "execution_count": 69,
      "outputs": [
        {
          "output_type": "stream",
          "text": [
            "          edad   cm pais genero    Q1  Q2\n",
            "ana         10  115   co      M   5.0   7\n",
            "benito       9  110   mx      F  10.0   9\n",
            "camilo      13  130   co      F   8.0   9\n",
            "daniel      14  155   mx      M   NaN   8\n",
            "erika       12  125   mx      M   7.0   8\n",
            "fabian      11  120   ch      M   8.0   8\n",
            "gabriela    12  125   ch      F   3.0   9\n"
          ],
          "name": "stdout"
        }
      ]
    },
    {
      "cell_type": "markdown",
      "metadata": {
        "id": "SXkJhgi8AQgj",
        "colab_type": "text"
      },
      "source": [
        "## Conociendo a nuestro dataframe"
      ]
    },
    {
      "cell_type": "markdown",
      "metadata": {
        "id": "nQ8MuvNqFwU7",
        "colab_type": "text"
      },
      "source": [
        "Cuando se empiezar a analizar un set de datos luego de tenerlo como un dataframe(df) lo primero de debemos hacer es conocerlo, tanto como su estructura, tipos de datos, labels, etc."
      ]
    },
    {
      "cell_type": "markdown",
      "metadata": {
        "id": "dbiL4inJGO3q",
        "colab_type": "text"
      },
      "source": [
        "df.info(): Te devuelve un resumen con la estructura de las variables y el tipo de datos que contienen.\n"
      ]
    },
    {
      "cell_type": "code",
      "metadata": {
        "id": "uY4QelWFF42I",
        "colab_type": "code",
        "colab": {
          "base_uri": "https://localhost:8080/",
          "height": 243
        },
        "outputId": "bbbb4d2d-bf6a-4fa0-84e6-0ae420e1023f"
      },
      "source": [
        "df.info()"
      ],
      "execution_count": 70,
      "outputs": [
        {
          "output_type": "stream",
          "text": [
            "<class 'pandas.core.frame.DataFrame'>\n",
            "Index: 7 entries, ana to gabriela\n",
            "Data columns (total 6 columns):\n",
            " #   Column  Non-Null Count  Dtype  \n",
            "---  ------  --------------  -----  \n",
            " 0   edad    7 non-null      int64  \n",
            " 1   cm      7 non-null      int64  \n",
            " 2   pais    7 non-null      object \n",
            " 3   genero  7 non-null      object \n",
            " 4   Q1      6 non-null      float64\n",
            " 5   Q2      7 non-null      int64  \n",
            "dtypes: float64(1), int64(3), object(2)\n",
            "memory usage: 392.0+ bytes\n"
          ],
          "name": "stdout"
        }
      ]
    },
    {
      "cell_type": "markdown",
      "metadata": {
        "id": "FYUL1fCpGKmk",
        "colab_type": "text"
      },
      "source": [
        "df.describe(): Te devuelve un summary() de tu set de datos. Si tienes variables numericas te devolvera: minimo. maximo, media,std,…etc de las columnas numericas."
      ]
    },
    {
      "cell_type": "code",
      "metadata": {
        "id": "PgmWbFt9GEpJ",
        "colab_type": "code",
        "colab": {
          "base_uri": "https://localhost:8080/",
          "height": 173
        },
        "outputId": "3d058eba-0dcb-46d1-a0ff-c60d887da61f"
      },
      "source": [
        "print(df.describe())"
      ],
      "execution_count": 72,
      "outputs": [
        {
          "output_type": "stream",
          "text": [
            "            edad          cm         Q1        Q2\n",
            "count   7.000000    7.000000   6.000000  7.000000\n",
            "mean   11.571429  125.714286   6.833333  8.285714\n",
            "std     1.718249   14.556949   2.483277  0.755929\n",
            "min     9.000000  110.000000   3.000000  7.000000\n",
            "25%    10.500000  117.500000   5.500000  8.000000\n",
            "50%    12.000000  125.000000   7.500000  8.000000\n",
            "75%    12.500000  127.500000   8.000000  9.000000\n",
            "max    14.000000  155.000000  10.000000  9.000000\n"
          ],
          "name": "stdout"
        }
      ]
    },
    {
      "cell_type": "markdown",
      "metadata": {
        "id": "QuiTZnNMGe7o",
        "colab_type": "text"
      },
      "source": [
        "Labels de filas y columnas"
      ]
    },
    {
      "cell_type": "code",
      "metadata": {
        "id": "Vm8NV0AQ2Ftq",
        "colab_type": "code",
        "colab": {
          "base_uri": "https://localhost:8080/",
          "height": 34
        },
        "outputId": "850a8e5e-f448-49b5-dad3-2c164cb4baf6"
      },
      "source": [
        "df.index"
      ],
      "execution_count": 25,
      "outputs": [
        {
          "output_type": "execute_result",
          "data": {
            "text/plain": [
              "Index(['ana', 'benito', 'camilo', 'daniel', 'erika', 'fabian', 'gabriela'], dtype='object')"
            ]
          },
          "metadata": {
            "tags": []
          },
          "execution_count": 25
        }
      ]
    },
    {
      "cell_type": "code",
      "metadata": {
        "id": "X6XTMErV2Kd4",
        "colab_type": "code",
        "colab": {
          "base_uri": "https://localhost:8080/",
          "height": 34
        },
        "outputId": "fbbf7ec7-0d14-4e17-a62e-7246096e2e24"
      },
      "source": [
        "df.columns"
      ],
      "execution_count": 26,
      "outputs": [
        {
          "output_type": "execute_result",
          "data": {
            "text/plain": [
              "Index(['edad', 'cm', 'pais', 'genero', 'Q1', 'Q2'], dtype='object')"
            ]
          },
          "metadata": {
            "tags": []
          },
          "execution_count": 26
        }
      ]
    },
    {
      "cell_type": "markdown",
      "metadata": {
        "id": "SBQozVDbGikF",
        "colab_type": "text"
      },
      "source": [
        "Nos entrega una matriz con los datos del dataframe"
      ]
    },
    {
      "cell_type": "code",
      "metadata": {
        "id": "jTyuHIZd2L7o",
        "colab_type": "code",
        "colab": {
          "base_uri": "https://localhost:8080/",
          "height": 139
        },
        "outputId": "2bf8431a-616c-4531-c266-3a0cbaa432ea"
      },
      "source": [
        "df.values"
      ],
      "execution_count": 27,
      "outputs": [
        {
          "output_type": "execute_result",
          "data": {
            "text/plain": [
              "array([[10, 115, 'co', 'M', 5.0, 7],\n",
              "       [9, 110, 'mx', 'F', 10.0, 9],\n",
              "       [13, 130, 'co', 'F', 8.0, 9],\n",
              "       [14, 155, 'mx', 'M', nan, 8],\n",
              "       [12, 125, 'mx', 'M', 7.0, 8],\n",
              "       [11, 120, 'ch', 'M', 8.0, 8],\n",
              "       [12, 125, 'ch', 'F', 3.0, 9]], dtype=object)"
            ]
          },
          "metadata": {
            "tags": []
          },
          "execution_count": 27
        }
      ]
    },
    {
      "cell_type": "markdown",
      "metadata": {
        "id": "EzoAmfXB_w8y",
        "colab_type": "text"
      },
      "source": [
        "## Extracción de datos"
      ]
    },
    {
      "cell_type": "code",
      "metadata": {
        "id": "woTdBZW32OF3",
        "colab_type": "code",
        "colab": {
          "base_uri": "https://localhost:8080/",
          "height": 156
        },
        "outputId": "2be3f70d-fdb1-412a-fd2b-77b2ee280b9d"
      },
      "source": [
        "df['edad']"
      ],
      "execution_count": 28,
      "outputs": [
        {
          "output_type": "execute_result",
          "data": {
            "text/plain": [
              "ana         10\n",
              "benito       9\n",
              "camilo      13\n",
              "daniel      14\n",
              "erika       12\n",
              "fabian      11\n",
              "gabriela    12\n",
              "Name: edad, dtype: int64"
            ]
          },
          "metadata": {
            "tags": []
          },
          "execution_count": 28
        }
      ]
    },
    {
      "cell_type": "code",
      "metadata": {
        "id": "1YFBp24Z2TJz",
        "colab_type": "code",
        "colab": {
          "base_uri": "https://localhost:8080/",
          "height": 156
        },
        "outputId": "73a71321-8001-481a-e677-9ddb50504b44"
      },
      "source": [
        "print(df[['edad', 'cm', 'Q1']])"
      ],
      "execution_count": 39,
      "outputs": [
        {
          "output_type": "stream",
          "text": [
            "          edad   cm    Q1\n",
            "ana         10  115   5.0\n",
            "benito       9  110  10.0\n",
            "camilo      13  130   8.0\n",
            "daniel      14  155   NaN\n",
            "erika       12  125   7.0\n",
            "fabian      11  120   8.0\n",
            "gabriela    12  125   3.0\n"
          ],
          "name": "stdout"
        }
      ]
    },
    {
      "cell_type": "markdown",
      "metadata": {
        "id": "XcH1kOEcAYbo",
        "colab_type": "text"
      },
      "source": [
        "Con el metodo .loc podemos extraer datos utilizando los label tanto de las filas como de las columnas"
      ]
    },
    {
      "cell_type": "code",
      "metadata": {
        "id": "TorI6iFC2a_w",
        "colab_type": "code",
        "colab": {
          "base_uri": "https://localhost:8080/",
          "height": 86
        },
        "outputId": "9b103ef5-776a-4574-9663-1818b7ffe936"
      },
      "source": [
        "df.loc['ana',['edad', 'cm', 'Q1']]"
      ],
      "execution_count": 40,
      "outputs": [
        {
          "output_type": "execute_result",
          "data": {
            "text/plain": [
              "edad     10\n",
              "cm      115\n",
              "Q1        5\n",
              "Name: ana, dtype: object"
            ]
          },
          "metadata": {
            "tags": []
          },
          "execution_count": 40
        }
      ]
    },
    {
      "cell_type": "code",
      "metadata": {
        "id": "4kBbnHvi3NVV",
        "colab_type": "code",
        "colab": {
          "base_uri": "https://localhost:8080/",
          "height": 69
        },
        "outputId": "de79cc9c-f01d-4760-810b-cf08bcaa582e"
      },
      "source": [
        "print(df.loc[['ana','erika'],['edad', 'cm', 'Q1']])"
      ],
      "execution_count": 42,
      "outputs": [
        {
          "output_type": "stream",
          "text": [
            "       edad   cm   Q1\n",
            "ana      10  115  5.0\n",
            "erika    12  125  7.0\n"
          ],
          "name": "stdout"
        }
      ]
    },
    {
      "cell_type": "code",
      "metadata": {
        "id": "DGdF9dYI3S-W",
        "colab_type": "code",
        "colab": {
          "base_uri": "https://localhost:8080/",
          "height": 34
        },
        "outputId": "a46524ab-209b-4061-8117-8f13eed66878"
      },
      "source": [
        "print(df.loc['daniel','Q1'])"
      ],
      "execution_count": 44,
      "outputs": [
        {
          "output_type": "stream",
          "text": [
            "nan\n"
          ],
          "name": "stdout"
        }
      ]
    },
    {
      "cell_type": "markdown",
      "metadata": {
        "id": "NLbg2hcTAjS8",
        "colab_type": "text"
      },
      "source": [
        "Con el método .iloc puedo localizar elementos de mi dataframe a través de la posicion numerica de filas y columna."
      ]
    },
    {
      "cell_type": "code",
      "metadata": {
        "id": "D2ZF5d-_3mUs",
        "colab_type": "code",
        "colab": {
          "base_uri": "https://localhost:8080/",
          "height": 156
        },
        "outputId": "be87bc47-e85e-4977-a013-b9e36a19e458"
      },
      "source": [
        "print(df)"
      ],
      "execution_count": 46,
      "outputs": [
        {
          "output_type": "stream",
          "text": [
            "          edad   cm pais genero    Q1  Q2\n",
            "ana         10  115   co      M   5.0   7\n",
            "benito       9  110   mx      F  10.0   9\n",
            "camilo      13  130   co      F   8.0   9\n",
            "daniel      14  155   mx      M   NaN   8\n",
            "erika       12  125   mx      M   7.0   8\n",
            "fabian      11  120   ch      M   8.0   8\n",
            "gabriela    12  125   ch      F   3.0   9\n"
          ],
          "name": "stdout"
        }
      ]
    },
    {
      "cell_type": "code",
      "metadata": {
        "id": "vWdm3PLB7xfp",
        "colab_type": "code",
        "colab": {
          "base_uri": "https://localhost:8080/",
          "height": 34
        },
        "outputId": "d2910e50-4fc7-4c23-a264-22f92008cba7"
      },
      "source": [
        "print(df.iloc[2,1])"
      ],
      "execution_count": 47,
      "outputs": [
        {
          "output_type": "stream",
          "text": [
            "130\n"
          ],
          "name": "stdout"
        }
      ]
    },
    {
      "cell_type": "code",
      "metadata": {
        "id": "G1_GTTod79Xh",
        "colab_type": "code",
        "colab": {
          "base_uri": "https://localhost:8080/",
          "height": 86
        },
        "outputId": "65c0f7f1-1d8f-4453-a119-691919e60af5"
      },
      "source": [
        "print(df.iloc[[2, 4, 6],[1, 3]])"
      ],
      "execution_count": 49,
      "outputs": [
        {
          "output_type": "stream",
          "text": [
            "           cm genero\n",
            "camilo    130      F\n",
            "erika     125      M\n",
            "gabriela  125      F\n"
          ],
          "name": "stdout"
        }
      ]
    },
    {
      "cell_type": "code",
      "metadata": {
        "id": "dbFytO4G8GZX",
        "colab_type": "code",
        "colab": {
          "base_uri": "https://localhost:8080/",
          "height": 156
        },
        "outputId": "6024345a-0466-4e9e-fbb6-24d4ed1205d6"
      },
      "source": [
        "print(df.iloc[:,[1, 3]])"
      ],
      "execution_count": 51,
      "outputs": [
        {
          "output_type": "stream",
          "text": [
            "           cm genero\n",
            "ana       115      M\n",
            "benito    110      F\n",
            "camilo    130      F\n",
            "daniel    155      M\n",
            "erika     125      M\n",
            "fabian    120      M\n",
            "gabriela  125      F\n"
          ],
          "name": "stdout"
        }
      ]
    },
    {
      "cell_type": "markdown",
      "metadata": {
        "id": "7_8YrLHrFYVB",
        "colab_type": "text"
      },
      "source": [
        "* df.loc: Para ubicar por el nombre de las columnas e indices\n",
        "* df.iloc: Para ubicar por número de columna y fila\n",
        "\n",
        "Utilizando .loc y .iloc podemos extraer subconjuntos de datos de un dataframe y poder extraer valor de los mismos."
      ]
    },
    {
      "cell_type": "markdown",
      "metadata": {
        "id": "s16-G00dBjyR",
        "colab_type": "text"
      },
      "source": [
        "## Filtrando datos"
      ]
    },
    {
      "cell_type": "markdown",
      "metadata": {
        "id": "uYnKE309B47u",
        "colab_type": "text"
      },
      "source": [
        "Gracias a los operadores relacionales puedo filtrar columnas o filas. \n",
        "\n",
        "Ejemplo: Quiero de mi dataframe de la columna **edad** a todos los estudiantes mayores o iguales a 12"
      ]
    },
    {
      "cell_type": "code",
      "metadata": {
        "id": "wEHN4FoZ8Nfw",
        "colab_type": "code",
        "colab": {
          "base_uri": "https://localhost:8080/",
          "height": 156
        },
        "outputId": "d505d4a7-53a0-4b24-8c67-856369af0d29"
      },
      "source": [
        "df['edad'] >= 12"
      ],
      "execution_count": 52,
      "outputs": [
        {
          "output_type": "execute_result",
          "data": {
            "text/plain": [
              "ana         False\n",
              "benito      False\n",
              "camilo       True\n",
              "daniel       True\n",
              "erika        True\n",
              "fabian      False\n",
              "gabriela     True\n",
              "Name: edad, dtype: bool"
            ]
          },
          "metadata": {
            "tags": []
          },
          "execution_count": 52
        }
      ]
    },
    {
      "cell_type": "markdown",
      "metadata": {
        "id": "aPWdG20qCKGi",
        "colab_type": "text"
      },
      "source": [
        "El filtro anterior me da un columna con variables booleanas y lo puedo utilizar para formar un nuevo dataframe sin los valores False."
      ]
    },
    {
      "cell_type": "code",
      "metadata": {
        "id": "Lb9eP6Bv8bUL",
        "colab_type": "code",
        "colab": {
          "base_uri": "https://localhost:8080/",
          "height": 104
        },
        "outputId": "a105d7bc-fcfc-4d31-be82-ba39d1309e22"
      },
      "source": [
        "print(df[df['edad'] >= 12])"
      ],
      "execution_count": 55,
      "outputs": [
        {
          "output_type": "stream",
          "text": [
            "          edad   cm pais genero   Q1  Q2\n",
            "camilo      13  130   co      F  8.0   9\n",
            "daniel      14  155   mx      M  NaN   8\n",
            "erika       12  125   mx      M  7.0   8\n",
            "gabriela    12  125   ch      F  3.0   9\n"
          ],
          "name": "stdout"
        }
      ]
    },
    {
      "cell_type": "markdown",
      "metadata": {
        "id": "vxahdx4NCZqI",
        "colab_type": "text"
      },
      "source": [
        "Tambien puedo utilizar los operadores lógicos y concatenar mas de una consulta o filtro.\n",
        "\n",
        "Ejemplo: Quiero a los mayores de 12 años y que sean de Mexico. A estos agregamelos en un nuevo dataframe."
      ]
    },
    {
      "cell_type": "code",
      "metadata": {
        "id": "eBC4Yo308hFP",
        "colab_type": "code",
        "colab": {
          "base_uri": "https://localhost:8080/",
          "height": 69
        },
        "outputId": "41bf28ad-1c19-4fac-9777-53c77e0bc36b"
      },
      "source": [
        "data_ejemplo = df[(df['edad'] >= 12) & (df['pais'] == 'mx')]\n",
        "print(data_ejemplo)"
      ],
      "execution_count": 62,
      "outputs": [
        {
          "output_type": "stream",
          "text": [
            "        edad   cm pais genero   Q1  Q2\n",
            "daniel    14  155   mx      M  NaN   8\n",
            "erika     12  125   mx      M  7.0   8\n"
          ],
          "name": "stdout"
        }
      ]
    },
    {
      "cell_type": "markdown",
      "metadata": {
        "id": "FqpmjbaaC1eE",
        "colab_type": "text"
      },
      "source": [
        "Tambien se puede utilizar la función query() de la siguiente manera. "
      ]
    },
    {
      "cell_type": "code",
      "metadata": {
        "id": "2Hky7mjU82jR",
        "colab_type": "code",
        "colab": {
          "base_uri": "https://localhost:8080/",
          "height": 69
        },
        "outputId": "e3f14e19-77c5-452b-844d-48586d55d043"
      },
      "source": [
        "print(df.query('edad > 12'))"
      ],
      "execution_count": 59,
      "outputs": [
        {
          "output_type": "stream",
          "text": [
            "        edad   cm pais genero   Q1  Q2\n",
            "camilo    13  130   co      F  8.0   9\n",
            "daniel    14  155   mx      M  NaN   8\n"
          ],
          "name": "stdout"
        }
      ]
    },
    {
      "cell_type": "markdown",
      "metadata": {
        "id": "YduuhwzpEvxC",
        "colab_type": "text"
      },
      "source": [
        "La función query aumenta la legibilidad del código. Ejemplo:"
      ]
    },
    {
      "cell_type": "code",
      "metadata": {
        "id": "fzJjL_m7EzZ9",
        "colab_type": "code",
        "colab": {
          "base_uri": "https://localhost:8080/",
          "height": 69
        },
        "outputId": "2dd7fe3e-e86a-4423-f32a-1c1a33e6df2f"
      },
      "source": [
        "print(df.query( 'edad >= 12 and pais == \"mx\"'))\n",
        " "
      ],
      "execution_count": 68,
      "outputs": [
        {
          "output_type": "stream",
          "text": [
            "        edad   cm pais genero   Q1  Q2\n",
            "daniel    14  155   mx      M  NaN   8\n",
            "erika     12  125   mx      M  7.0   8\n"
          ],
          "name": "stdout"
        }
      ]
    },
    {
      "cell_type": "code",
      "metadata": {
        "id": "RUY1PzYCE-N8",
        "colab_type": "code",
        "colab": {
          "base_uri": "https://localhost:8080/",
          "height": 69
        },
        "outputId": "2db4759a-e213-4be2-dda0-08006d5e77a6"
      },
      "source": [
        "print( df[(df['edad'] >= 12) & (df['pais'] == 'mx')])"
      ],
      "execution_count": 67,
      "outputs": [
        {
          "output_type": "stream",
          "text": [
            "        edad   cm pais genero   Q1  Q2\n",
            "daniel    14  155   mx      M  NaN   8\n",
            "erika     12  125   mx      M  7.0   8\n"
          ],
          "name": "stdout"
        }
      ]
    },
    {
      "cell_type": "markdown",
      "metadata": {
        "id": "shYBbAabFOyG",
        "colab_type": "text"
      },
      "source": [
        "Muestran los mismos resultados pero el primero es mucho más legible que el segundo."
      ]
    },
    {
      "cell_type": "markdown",
      "metadata": {
        "id": "UPiK8UegDCLG",
        "colab_type": "text"
      },
      "source": [
        "Tambien podemos comparar dos columnas que tengas los mismos tipos. \n",
        "\n",
        "Ejemplo: Filtrame los que tengan en la columna de calificacion Q2 mayor o igual nota respecto a la columna Q1."
      ]
    },
    {
      "cell_type": "code",
      "metadata": {
        "id": "jFUVDwA-_Jpl",
        "colab_type": "code",
        "colab": {
          "base_uri": "https://localhost:8080/",
          "height": 156
        },
        "outputId": "44a89457-1386-4fb3-d8f8-4d83eda354d6"
      },
      "source": [
        "print(df['Q2'] >= df['Q1'])"
      ],
      "execution_count": 60,
      "outputs": [
        {
          "output_type": "stream",
          "text": [
            "ana          True\n",
            "benito      False\n",
            "camilo       True\n",
            "daniel      False\n",
            "erika        True\n",
            "fabian       True\n",
            "gabriela     True\n",
            "dtype: bool\n"
          ],
          "name": "stdout"
        }
      ]
    },
    {
      "cell_type": "markdown",
      "metadata": {
        "id": "ptY5to1iDhNi",
        "colab_type": "text"
      },
      "source": [
        "Formemos un nuevo dataframe con este filtro."
      ]
    },
    {
      "cell_type": "code",
      "metadata": {
        "id": "tdN6hh6q_ZN-",
        "colab_type": "code",
        "colab": {
          "base_uri": "https://localhost:8080/",
          "height": 121
        },
        "outputId": "99dcb7df-618e-43fd-8141-1cdc0e1a227d"
      },
      "source": [
        "data_filtro_notas = df[df['Q2'] >= df['Q1']]\n",
        "print(data_filtro_notas)"
      ],
      "execution_count": 63,
      "outputs": [
        {
          "output_type": "stream",
          "text": [
            "          edad   cm pais genero   Q1  Q2\n",
            "ana         10  115   co      M  5.0   7\n",
            "camilo      13  130   co      F  8.0   9\n",
            "erika       12  125   mx      M  7.0   8\n",
            "fabian      11  120   ch      M  8.0   8\n",
            "gabriela    12  125   ch      F  3.0   9\n"
          ],
          "name": "stdout"
        }
      ]
    }
  ]
}
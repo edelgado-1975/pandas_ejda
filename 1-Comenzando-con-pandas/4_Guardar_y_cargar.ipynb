{
  "nbformat": 4,
  "nbformat_minor": 0,
  "metadata": {
    "colab": {
      "name": "4. Guardar y cargar.ipynb",
      "provenance": [],
      "authorship_tag": "ABX9TyNMNAqmI6UOztI8Tmu8Q2Qe",
      "include_colab_link": true
    },
    "kernelspec": {
      "name": "python3",
      "display_name": "Python 3"
    }
  },
  "cells": [
    {
      "cell_type": "markdown",
      "metadata": {
        "id": "view-in-github",
        "colab_type": "text"
      },
      "source": [
        "<a href=\"https://colab.research.google.com/github/francomanca93/analisis-de-datos/blob/comienzo/1-Comenzando-con-pandas/4_Guardar_y_cargar.ipynb\" target=\"_parent\"><img src=\"https://colab.research.google.com/assets/colab-badge.svg\" alt=\"Open In Colab\"/></a>"
      ]
    },
    {
      "cell_type": "markdown",
      "metadata": {
        "id": "DhVANuyyJPuu",
        "colab_type": "text"
      },
      "source": [
        "# Indexado y manejo de archivos CSV"
      ]
    },
    {
      "cell_type": "markdown",
      "metadata": {
        "id": "IDxmEM9IDMm_",
        "colab_type": "text"
      },
      "source": [
        "Los que aprenderemos en esta notebook será como conectar nuestro ambiente de trabajo con nuestro nube personal de google drive, generar nuestro primeros archivos en csv y aprender a leerlos.\n",
        "\n",
        "**csv** es el formato universal mas simple que se usa para compartir informacion."
      ]
    },
    {
      "cell_type": "markdown",
      "metadata": {
        "id": "wfe4EZbqA7bI",
        "colab_type": "text"
      },
      "source": [
        "## Conectandome a la nube de google"
      ]
    },
    {
      "cell_type": "code",
      "metadata": {
        "id": "8IE42VWwIva-",
        "colab_type": "code",
        "colab": {}
      },
      "source": [
        "# !pip install --upgrade pandas"
      ],
      "execution_count": 1,
      "outputs": []
    },
    {
      "cell_type": "code",
      "metadata": {
        "id": "QBbm3h4sJChV",
        "colab_type": "code",
        "colab": {
          "base_uri": "https://localhost:8080/",
          "height": 124
        },
        "outputId": "539f8901-c6aa-42e5-e1af-c3b5623ca2ae"
      },
      "source": [
        "from google.colab import drive\n",
        "drive.mount('/content/drive')"
      ],
      "execution_count": 2,
      "outputs": [
        {
          "output_type": "stream",
          "text": [
            "Go to this URL in a browser: https://accounts.google.com/o/oauth2/auth?client_id=947318989803-6bn6qk8qdgf4n4g3pfee6491hc0brc4i.apps.googleusercontent.com&redirect_uri=urn%3aietf%3awg%3aoauth%3a2.0%3aoob&response_type=code&scope=email%20https%3a%2f%2fwww.googleapis.com%2fauth%2fdocs.test%20https%3a%2f%2fwww.googleapis.com%2fauth%2fdrive%20https%3a%2f%2fwww.googleapis.com%2fauth%2fdrive.photos.readonly%20https%3a%2f%2fwww.googleapis.com%2fauth%2fpeopleapi.readonly\n",
            "\n",
            "Enter your authorization code:\n",
            "··········\n",
            "Mounted at /content/drive\n"
          ],
          "name": "stdout"
        }
      ]
    },
    {
      "cell_type": "code",
      "metadata": {
        "id": "-N4VwZMPKeTB",
        "colab_type": "code",
        "colab": {
          "base_uri": "https://localhost:8080/",
          "height": 52
        },
        "outputId": "f4520937-6cae-49a6-ace9-0ed698e91f5d"
      },
      "source": [
        "%cd '/content/drive/My Drive/Colab Notebooks'\n",
        "!ls"
      ],
      "execution_count": 3,
      "outputs": [
        {
          "output_type": "stream",
          "text": [
            "/content/drive/My Drive/Colab Notebooks\n",
            "analisis-de-datos-con-pandas  fundamentos_algebra_lineal  republica-liberal\n"
          ],
          "name": "stdout"
        }
      ]
    },
    {
      "cell_type": "code",
      "metadata": {
        "id": "LPwA9rB6LjMa",
        "colab_type": "code",
        "colab": {
          "base_uri": "https://localhost:8080/",
          "height": 69
        },
        "outputId": "22b95609-6046-4451-aa91-d5642fddb3c5"
      },
      "source": [
        "%cd '/content/drive/My Drive/Colab Notebooks/analisis-de-datos-con-pandas'\n",
        "!ls"
      ],
      "execution_count": 4,
      "outputs": [
        {
          "output_type": "stream",
          "text": [
            "/content/drive/My Drive/Colab Notebooks/analisis-de-datos-con-pandas\n",
            "'1. Configurando Google.ipynb'\t 3.Dataframes.ipynb\t      db\n",
            " 2.Series.ipynb\t\t\t'4. Guardar y cargar.ipynb'\n"
          ],
          "name": "stdout"
        }
      ]
    },
    {
      "cell_type": "code",
      "metadata": {
        "id": "vcdPyjVULV8T",
        "colab_type": "code",
        "colab": {
          "base_uri": "https://localhost:8080/",
          "height": 34
        },
        "outputId": "9af47daf-3915-418a-8f4c-56a427beefe3"
      },
      "source": [
        "!mkdir /content/drive/My\\ Drive/Colab\\ Notebooks/analisis-de-datos-con-pandas/db\n"
      ],
      "execution_count": 8,
      "outputs": [
        {
          "output_type": "stream",
          "text": [
            "mkdir: cannot create directory ‘/content/drive/My Drive/Colab Notebooks/analisis-de-datos-con-pandas/db’: File exists\n"
          ],
          "name": "stdout"
        }
      ]
    },
    {
      "cell_type": "markdown",
      "metadata": {
        "id": "zawsG1lLB_VJ",
        "colab_type": "text"
      },
      "source": [
        "## Creando y almacenando DataFrame"
      ]
    },
    {
      "cell_type": "markdown",
      "metadata": {
        "id": "2fDJ0vUIK-51",
        "colab_type": "text"
      },
      "source": [
        "Podemos crear string formateados, esto quiere decir que podemos escribir lo que nosotros queramos en el formateado, por ejemplo:"
      ]
    },
    {
      "cell_type": "code",
      "metadata": {
        "id": "OVSfHaulKtW-",
        "colab_type": "code",
        "colab": {
          "base_uri": "https://localhost:8080/",
          "height": 35
        },
        "outputId": "10d50e73-5e4f-4fef-e27e-c8ae03f24cf0"
      },
      "source": [
        "'Hola Mundo'"
      ],
      "execution_count": 5,
      "outputs": [
        {
          "output_type": "execute_result",
          "data": {
            "application/vnd.google.colaboratory.intrinsic+json": {
              "type": "string"
            },
            "text/plain": [
              "'Hola Mundo'"
            ]
          },
          "metadata": {
            "tags": []
          },
          "execution_count": 5
        }
      ]
    },
    {
      "cell_type": "code",
      "metadata": {
        "id": "jkrcG0ZfK1uo",
        "colab_type": "code",
        "colab": {
          "base_uri": "https://localhost:8080/",
          "height": 35
        },
        "outputId": "4bfd8417-53b3-40db-c364-f3f91bf348ce"
      },
      "source": [
        "'Hola {}'.format('Mundo')"
      ],
      "execution_count": 6,
      "outputs": [
        {
          "output_type": "execute_result",
          "data": {
            "application/vnd.google.colaboratory.intrinsic+json": {
              "type": "string"
            },
            "text/plain": [
              "'Hola Mundo'"
            ]
          },
          "metadata": {
            "tags": []
          },
          "execution_count": 6
        }
      ]
    },
    {
      "cell_type": "code",
      "metadata": {
        "id": "-PddTRFKK6Hk",
        "colab_type": "code",
        "colab": {
          "base_uri": "https://localhost:8080/",
          "height": 35
        },
        "outputId": "5f7c097d-754a-4d3b-ff15-404bb94d97fd"
      },
      "source": [
        "'Hola {}'.format('blablabla')"
      ],
      "execution_count": 7,
      "outputs": [
        {
          "output_type": "execute_result",
          "data": {
            "application/vnd.google.colaboratory.intrinsic+json": {
              "type": "string"
            },
            "text/plain": [
              "'Hola blablabla'"
            ]
          },
          "metadata": {
            "tags": []
          },
          "execution_count": 7
        }
      ]
    },
    {
      "cell_type": "markdown",
      "metadata": {
        "id": "UAr0hOFwLRUY",
        "colab_type": "text"
      },
      "source": [
        "Esto nos va a permitir almancenar mas rapido nuestra información."
      ]
    },
    {
      "cell_type": "code",
      "metadata": {
        "id": "YOBdPOxBL5kI",
        "colab_type": "code",
        "colab": {
          "base_uri": "https://localhost:8080/",
          "height": 35
        },
        "outputId": "3780b749-8a58-48dd-bf10-0f7928acdb94"
      },
      "source": [
        "dir_pandas = '/content/drive/My Drive/Colab Notebooks/analisis-de-datos-con-pandas/db/{}'.format('test.csv')\n",
        "dir_pandas\n"
      ],
      "execution_count": 9,
      "outputs": [
        {
          "output_type": "execute_result",
          "data": {
            "application/vnd.google.colaboratory.intrinsic+json": {
              "type": "string"
            },
            "text/plain": [
              "'/content/drive/My Drive/Colab Notebooks/analisis-de-datos-con-pandas/db/test.csv'"
            ]
          },
          "metadata": {
            "tags": []
          },
          "execution_count": 9
        }
      ]
    },
    {
      "cell_type": "code",
      "metadata": {
        "id": "EZ3eQCSLMGBM",
        "colab_type": "code",
        "colab": {
          "base_uri": "https://localhost:8080/",
          "height": 35
        },
        "outputId": "f134e557-0466-4f38-934c-c050401bfe16"
      },
      "source": [
        "import pandas as pd\n",
        "import numpy as np\n",
        "\n",
        "pd.__version__"
      ],
      "execution_count": 12,
      "outputs": [
        {
          "output_type": "execute_result",
          "data": {
            "application/vnd.google.colaboratory.intrinsic+json": {
              "type": "string"
            },
            "text/plain": [
              "'1.0.5'"
            ]
          },
          "metadata": {
            "tags": []
          },
          "execution_count": 12
        }
      ]
    },
    {
      "cell_type": "code",
      "metadata": {
        "id": "WCxDdAeW9XaE",
        "colab_type": "code",
        "colab": {
          "base_uri": "https://localhost:8080/",
          "height": 121
        },
        "outputId": "9fb6093c-7f35-4b99-eeda-d95d176ddfc5"
      },
      "source": [
        "dict_data = {\n",
        "    'edad': [10,9,13,14,12,11,12],\n",
        "    'cm': [115,110,130,155,125,120,125],\n",
        "    'pais':['co','mx','co','mx','mx','ch','ch'],\n",
        "    'genero':['M','F','F','M','M','M','F'],\n",
        "    'Q1':[5,10,8,np.nan,7,8,3],\n",
        "    'Q2':[7,9,9,8,8,8,9]\n",
        "}\n",
        "dict_data"
      ],
      "execution_count": 13,
      "outputs": [
        {
          "output_type": "execute_result",
          "data": {
            "text/plain": [
              "{'Q1': [5, 10, 8, nan, 7, 8, 3],\n",
              " 'Q2': [7, 9, 9, 8, 8, 8, 9],\n",
              " 'cm': [115, 110, 130, 155, 125, 120, 125],\n",
              " 'edad': [10, 9, 13, 14, 12, 11, 12],\n",
              " 'genero': ['M', 'F', 'F', 'M', 'M', 'M', 'F'],\n",
              " 'pais': ['co', 'mx', 'co', 'mx', 'mx', 'ch', 'ch']}"
            ]
          },
          "metadata": {
            "tags": []
          },
          "execution_count": 13
        }
      ]
    },
    {
      "cell_type": "code",
      "metadata": {
        "id": "Ve-2Z0Cr9iM0",
        "colab_type": "code",
        "colab": {
          "base_uri": "https://localhost:8080/",
          "height": 156
        },
        "outputId": "32ce57f5-ba11-40ca-f2d6-b0be7c8a04d4"
      },
      "source": [
        "df = pd.DataFrame(dict_data)\n",
        "print(df)"
      ],
      "execution_count": 15,
      "outputs": [
        {
          "output_type": "stream",
          "text": [
            "   edad   cm pais genero    Q1  Q2\n",
            "0    10  115   co      M   5.0   7\n",
            "1     9  110   mx      F  10.0   9\n",
            "2    13  130   co      F   8.0   9\n",
            "3    14  155   mx      M   NaN   8\n",
            "4    12  125   mx      M   7.0   8\n",
            "5    11  120   ch      M   8.0   8\n",
            "6    12  125   ch      F   3.0   9\n"
          ],
          "name": "stdout"
        }
      ]
    },
    {
      "cell_type": "markdown",
      "metadata": {
        "id": "6tfqtG2ICJQo",
        "colab_type": "text"
      },
      "source": [
        "## Leyendo DataFrame de nuestra nube."
      ]
    },
    {
      "cell_type": "code",
      "metadata": {
        "id": "1SmXoULr9pFR",
        "colab_type": "code",
        "colab": {
          "base_uri": "https://localhost:8080/",
          "height": 35
        },
        "outputId": "b6469e12-8fba-4d6a-d9ac-a76429504c72"
      },
      "source": [
        "dir_pandas = '/content/drive/My Drive/Colab Notebooks/analisis-de-datos-con-pandas/db/{}'.format('test.csv')\n",
        "dir_pandas"
      ],
      "execution_count": 16,
      "outputs": [
        {
          "output_type": "execute_result",
          "data": {
            "application/vnd.google.colaboratory.intrinsic+json": {
              "type": "string"
            },
            "text/plain": [
              "'/content/drive/My Drive/Colab Notebooks/analisis-de-datos-con-pandas/db/test.csv'"
            ]
          },
          "metadata": {
            "tags": []
          },
          "execution_count": 16
        }
      ]
    },
    {
      "cell_type": "markdown",
      "metadata": {
        "id": "1SXTRqBgCPoJ",
        "colab_type": "text"
      },
      "source": [
        "Guardamos nuestro dataframe y le decimos que no queremos los indices en el dataframe (index=False)"
      ]
    },
    {
      "cell_type": "code",
      "metadata": {
        "id": "fHYs1PS89wdS",
        "colab_type": "code",
        "colab": {}
      },
      "source": [
        "df.to_csv(dir_pandas, index=False)"
      ],
      "execution_count": 26,
      "outputs": []
    },
    {
      "cell_type": "markdown",
      "metadata": {
        "id": "3dJ5K6TjCbRk",
        "colab_type": "text"
      },
      "source": [
        "Vamos a la ubicación donde guardamos nuestro dataframe."
      ]
    },
    {
      "cell_type": "code",
      "metadata": {
        "id": "NTUxfV4g90kq",
        "colab_type": "code",
        "colab": {
          "base_uri": "https://localhost:8080/",
          "height": 34
        },
        "outputId": "2bf09293-6b4a-44e0-c31a-c0f9be8cb514"
      },
      "source": [
        "!ls /content/drive/My\\ Drive/Colab\\ Notebooks/analisis-de-datos-con-pandas/db"
      ],
      "execution_count": 27,
      "outputs": [
        {
          "output_type": "stream",
          "text": [
            "test.csv\n"
          ],
          "name": "stdout"
        }
      ]
    },
    {
      "cell_type": "markdown",
      "metadata": {
        "id": "adQ8wv_mCgQ4",
        "colab_type": "text"
      },
      "source": [
        "Leemos el dataframe y lo guardamos en una variable. "
      ]
    },
    {
      "cell_type": "code",
      "metadata": {
        "id": "6jNPMbIw9-DH",
        "colab_type": "code",
        "colab": {
          "base_uri": "https://localhost:8080/",
          "height": 156
        },
        "outputId": "87dd9aa3-e67a-42fe-974e-2866cf5bfdb4"
      },
      "source": [
        "df_read = pd.read_csv('/content/drive/My Drive/Colab Notebooks/analisis-de-datos-con-pandas/db/test.csv')\n",
        "print(df_read)"
      ],
      "execution_count": 28,
      "outputs": [
        {
          "output_type": "stream",
          "text": [
            "   edad   cm pais genero    Q1  Q2\n",
            "0    10  115   co      M   5.0   7\n",
            "1     9  110   mx      F  10.0   9\n",
            "2    13  130   co      F   8.0   9\n",
            "3    14  155   mx      M   NaN   8\n",
            "4    12  125   mx      M   7.0   8\n",
            "5    11  120   ch      M   8.0   8\n",
            "6    12  125   ch      F   3.0   9\n"
          ],
          "name": "stdout"
        }
      ]
    },
    {
      "cell_type": "markdown",
      "metadata": {
        "id": "sOJNQPsAClCR",
        "colab_type": "text"
      },
      "source": [
        "Podemos guardar nuestro dataframe con una separación distinta a la que viene por defecta, **la coma**. En este caso **la linea '|'**. "
      ]
    },
    {
      "cell_type": "code",
      "metadata": {
        "id": "DLEfzAsT-h_t",
        "colab_type": "code",
        "colab": {}
      },
      "source": [
        "dir_pandas_separacion_diferente = '/content/drive/My Drive/Colab Notebooks/analisis-de-datos-con-pandas/db/{}'.format('test-separacion-diferente.csv')\n",
        "df.to_csv(dir_pandas_separacion_diferente, sep = '|', index=False)"
      ],
      "execution_count": 29,
      "outputs": []
    },
    {
      "cell_type": "code",
      "metadata": {
        "id": "P2iKmI2yAKTJ",
        "colab_type": "code",
        "colab": {
          "base_uri": "https://localhost:8080/",
          "height": 34
        },
        "outputId": "8e159081-f8e9-49a1-aa6d-f088bcab9ede"
      },
      "source": [
        "!ls /content/drive/My\\ Drive/Colab\\ Notebooks/analisis-de-datos-con-pandas/db"
      ],
      "execution_count": 30,
      "outputs": [
        {
          "output_type": "stream",
          "text": [
            "test.csv  test-separacion-diferente.csv\n"
          ],
          "name": "stdout"
        }
      ]
    },
    {
      "cell_type": "markdown",
      "metadata": {
        "id": "RuxMOMBzC2RH",
        "colab_type": "text"
      },
      "source": [
        "Si leemos nuestro dataframe guardado con un metodo de separación diferente de la coma tendremos todo en una sola columna. "
      ]
    },
    {
      "cell_type": "code",
      "metadata": {
        "id": "FhnnRD5d_wh-",
        "colab_type": "code",
        "colab": {
          "base_uri": "https://localhost:8080/",
          "height": 156
        },
        "outputId": "a5cd5d0b-6364-407b-bd62-dbd3efef2712"
      },
      "source": [
        "df_read_separacion_diferente = pd.read_csv('/content/drive/My Drive/Colab Notebooks/analisis-de-datos-con-pandas/db/test-separacion-diferente.csv')\n",
        "print(df_read_separacion_diferente)"
      ],
      "execution_count": 33,
      "outputs": [
        {
          "output_type": "stream",
          "text": [
            "  edad|cm|pais|genero|Q1|Q2\n",
            "0         10|115|co|M|5.0|7\n",
            "1         9|110|mx|F|10.0|9\n",
            "2         13|130|co|F|8.0|9\n",
            "3            14|155|mx|M||8\n",
            "4         12|125|mx|M|7.0|8\n",
            "5         11|120|ch|M|8.0|8\n",
            "6         12|125|ch|F|3.0|9\n"
          ],
          "name": "stdout"
        }
      ]
    },
    {
      "cell_type": "markdown",
      "metadata": {
        "id": "CXUD6T8nC-n5",
        "colab_type": "text"
      },
      "source": [
        "Lo que debemos hacer es indicarle a la función cuando leemos nuestro dataset un metodo de separación diferente."
      ]
    },
    {
      "cell_type": "code",
      "metadata": {
        "id": "PhHksMzb_0fk",
        "colab_type": "code",
        "colab": {
          "base_uri": "https://localhost:8080/",
          "height": 156
        },
        "outputId": "d576f66f-3945-4229-fc35-de5069207e9c"
      },
      "source": [
        "df_read_separacion_diferente = pd.read_csv('/content/drive/My Drive/Colab Notebooks/analisis-de-datos-con-pandas/db/test-separacion-diferente.csv', sep='|')\n",
        "print(df_read_separacion_diferente)"
      ],
      "execution_count": 34,
      "outputs": [
        {
          "output_type": "stream",
          "text": [
            "   edad   cm pais genero    Q1  Q2\n",
            "0    10  115   co      M   5.0   7\n",
            "1     9  110   mx      F  10.0   9\n",
            "2    13  130   co      F   8.0   9\n",
            "3    14  155   mx      M   NaN   8\n",
            "4    12  125   mx      M   7.0   8\n",
            "5    11  120   ch      M   8.0   8\n",
            "6    12  125   ch      F   3.0   9\n"
          ],
          "name": "stdout"
        }
      ]
    },
    {
      "cell_type": "markdown",
      "metadata": {
        "id": "3nENjg7TAj7m",
        "colab_type": "text"
      },
      "source": [
        ""
      ]
    },
    {
      "cell_type": "code",
      "metadata": {
        "id": "H5V4McY9Ahys",
        "colab_type": "code",
        "colab": {}
      },
      "source": [
        ""
      ],
      "execution_count": null,
      "outputs": []
    }
  ]
}
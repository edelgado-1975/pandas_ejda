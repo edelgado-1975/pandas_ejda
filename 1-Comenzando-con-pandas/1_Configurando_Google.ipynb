{
  "nbformat": 4,
  "nbformat_minor": 0,
  "metadata": {
    "colab": {
      "name": "1. Configurando Google.ipynb",
      "provenance": [],
      "authorship_tag": "ABX9TyOaEsZNHVi/sOu86t1yLG3T",
      "include_colab_link": true
    },
    "kernelspec": {
      "name": "python3",
      "display_name": "Python 3"
    }
  },
  "cells": [
    {
      "cell_type": "markdown",
      "metadata": {
        "id": "view-in-github",
        "colab_type": "text"
      },
      "source": [
        "<a href=\"https://colab.research.google.com/github/francomanca93/analisis-de-datos/blob/comienzo/1-Comenzando-con-pandas/1_Configurando_Google.ipynb\" target=\"_parent\"><img src=\"https://colab.research.google.com/assets/colab-badge.svg\" alt=\"Open In Colab\"/></a>"
      ]
    },
    {
      "cell_type": "markdown",
      "metadata": {
        "id": "Dtsi_dspkI5n",
        "colab_type": "text"
      },
      "source": [
        "# Configurando Google Colab"
      ]
    },
    {
      "cell_type": "markdown",
      "metadata": {
        "id": "XjAB8grLioxj",
        "colab_type": "text"
      },
      "source": [
        "### Google colab"
      ]
    },
    {
      "cell_type": "markdown",
      "metadata": {
        "id": "Gb3HmAjvirka",
        "colab_type": "text"
      },
      "source": [
        "Google te brinda una maquina virtual con 100 GB y 12 GB de RAM, estas especificaciones te permiten ejecutar codigos mas complejos en la nube. Ademas colab viene con la mayoria de librerias para el uso en ciencia de datos y machine learning."
      ]
    },
    {
      "cell_type": "markdown",
      "metadata": {
        "id": "76iQcj8AjGFi",
        "colab_type": "text"
      },
      "source": [
        "Ventajas:\n",
        "\n",
        "* Mejor poder computacional. Tienes acceso a GPU’s que generalmente son caros.\n",
        "* No tienes que configurar las GPU’s, pues ya vienen preconfiguradas. Inclusive puedes usar TPU’s\n",
        "* No tienes la dificultad de instalar librerías.\n",
        "* Si quieres usar la versión de paga, no es tan caro como Google Cloud, AWS, etc.\n",
        "\n",
        "Desventajas:\n",
        "\n",
        "* Solo te dan 12 horas en la versión gratuita y 24 horas en la versión de paga.\n"
      ]
    },
    {
      "cell_type": "markdown",
      "metadata": {
        "id": "pCufWBEkhhFe",
        "colab_type": "text"
      },
      "source": [
        "## Cuentas básicas para probar Google Colab"
      ]
    },
    {
      "cell_type": "code",
      "metadata": {
        "id": "ifSMzoQ2e58U",
        "colab_type": "code",
        "colab": {
          "base_uri": "https://localhost:8080/",
          "height": 34
        },
        "outputId": "6afcef5b-c005-402d-83a3-a093a859a99f"
      },
      "source": [
        "10+3"
      ],
      "execution_count": 1,
      "outputs": [
        {
          "output_type": "execute_result",
          "data": {
            "text/plain": [
              "13"
            ]
          },
          "metadata": {
            "tags": []
          },
          "execution_count": 1
        }
      ]
    },
    {
      "cell_type": "code",
      "metadata": {
        "id": "6jNTfr8ufMz4",
        "colab_type": "code",
        "colab": {
          "base_uri": "https://localhost:8080/",
          "height": 34
        },
        "outputId": "1a6bde0f-baf4-4579-833d-8a813322ddc9"
      },
      "source": [
        "2*3"
      ],
      "execution_count": 2,
      "outputs": [
        {
          "output_type": "execute_result",
          "data": {
            "text/plain": [
              "6"
            ]
          },
          "metadata": {
            "tags": []
          },
          "execution_count": 2
        }
      ]
    },
    {
      "cell_type": "code",
      "metadata": {
        "id": "q_5Ov0SYfWFe",
        "colab_type": "code",
        "colab": {
          "base_uri": "https://localhost:8080/",
          "height": 34
        },
        "outputId": "2b6c12f5-13f1-4558-fbd0-ea30e6531ecf"
      },
      "source": [
        "2**3"
      ],
      "execution_count": 3,
      "outputs": [
        {
          "output_type": "execute_result",
          "data": {
            "text/plain": [
              "8"
            ]
          },
          "metadata": {
            "tags": []
          },
          "execution_count": 3
        }
      ]
    },
    {
      "cell_type": "markdown",
      "metadata": {
        "id": "UeDuZUg1hoVk",
        "colab_type": "text"
      },
      "source": [
        "## Definimos variables en Google Colab"
      ]
    },
    {
      "cell_type": "code",
      "metadata": {
        "id": "NImNjbZqfXON",
        "colab_type": "code",
        "colab": {
          "base_uri": "https://localhost:8080/",
          "height": 34
        },
        "outputId": "8c605dd3-18c6-4d9c-e727-177323e26533"
      },
      "source": [
        "x = 12\n",
        "x"
      ],
      "execution_count": 5,
      "outputs": [
        {
          "output_type": "execute_result",
          "data": {
            "text/plain": [
              "12"
            ]
          },
          "metadata": {
            "tags": []
          },
          "execution_count": 5
        }
      ]
    },
    {
      "cell_type": "code",
      "metadata": {
        "id": "nMd8WVemfZNO",
        "colab_type": "code",
        "colab": {}
      },
      "source": [
        "y = 15"
      ],
      "execution_count": 6,
      "outputs": []
    },
    {
      "cell_type": "code",
      "metadata": {
        "id": "I1dHg9Q1ffav",
        "colab_type": "code",
        "colab": {
          "base_uri": "https://localhost:8080/",
          "height": 34
        },
        "outputId": "e8045df4-277e-42aa-c551-ed2573edfd7d"
      },
      "source": [
        "x + y"
      ],
      "execution_count": 7,
      "outputs": [
        {
          "output_type": "execute_result",
          "data": {
            "text/plain": [
              "27"
            ]
          },
          "metadata": {
            "tags": []
          },
          "execution_count": 7
        }
      ]
    },
    {
      "cell_type": "code",
      "metadata": {
        "id": "ug0cYoQxfgfd",
        "colab_type": "code",
        "colab": {
          "base_uri": "https://localhost:8080/",
          "height": 35
        },
        "outputId": "ef931915-4cdb-4425-b73a-4107e86839be"
      },
      "source": [
        "'Hola mundo de Colab'"
      ],
      "execution_count": 8,
      "outputs": [
        {
          "output_type": "execute_result",
          "data": {
            "application/vnd.google.colaboratory.intrinsic+json": {
              "type": "string"
            },
            "text/plain": [
              "'Hola mundo de Colab'"
            ]
          },
          "metadata": {
            "tags": []
          },
          "execution_count": 8
        }
      ]
    },
    {
      "cell_type": "code",
      "metadata": {
        "id": "Ehn2v7pwfkzW",
        "colab_type": "code",
        "colab": {
          "base_uri": "https://localhost:8080/",
          "height": 35
        },
        "outputId": "8414f1ff-15ee-4389-eb98-ba11263e0ab8"
      },
      "source": [
        "x = 'Hola'\n",
        "y = 'mundo'\n",
        "x + ' ' + y"
      ],
      "execution_count": 9,
      "outputs": [
        {
          "output_type": "execute_result",
          "data": {
            "application/vnd.google.colaboratory.intrinsic+json": {
              "type": "string"
            },
            "text/plain": [
              "'Hola mundo'"
            ]
          },
          "metadata": {
            "tags": []
          },
          "execution_count": 9
        }
      ]
    },
    {
      "cell_type": "markdown",
      "metadata": {
        "id": "TiFAjeVHhsuG",
        "colab_type": "text"
      },
      "source": [
        "## Definiendo y jugando con listas en Google Colab"
      ]
    },
    {
      "cell_type": "code",
      "metadata": {
        "id": "r6GfVzF3fsxp",
        "colab_type": "code",
        "colab": {
          "base_uri": "https://localhost:8080/",
          "height": 34
        },
        "outputId": "bf45fc6a-a13d-4188-e3ad-9c8c884826ab"
      },
      "source": [
        "[1,2,3,4,5,6]"
      ],
      "execution_count": 10,
      "outputs": [
        {
          "output_type": "execute_result",
          "data": {
            "text/plain": [
              "[1, 2, 3, 4, 5, 6]"
            ]
          },
          "metadata": {
            "tags": []
          },
          "execution_count": 10
        }
      ]
    },
    {
      "cell_type": "code",
      "metadata": {
        "id": "TR0MC1A-fzxz",
        "colab_type": "code",
        "colab": {
          "base_uri": "https://localhost:8080/",
          "height": 34
        },
        "outputId": "fae7f0a9-d872-4e1f-fbf6-9e1a750bb6eb"
      },
      "source": [
        "[1,2,3] + [2,4,6]"
      ],
      "execution_count": 11,
      "outputs": [
        {
          "output_type": "execute_result",
          "data": {
            "text/plain": [
              "[1, 2, 3, 2, 4, 6]"
            ]
          },
          "metadata": {
            "tags": []
          },
          "execution_count": 11
        }
      ]
    },
    {
      "cell_type": "code",
      "metadata": {
        "id": "xEKTDbk3f5rI",
        "colab_type": "code",
        "colab": {}
      },
      "source": [
        "lista = [1,2,3,4,5]"
      ],
      "execution_count": 12,
      "outputs": []
    },
    {
      "cell_type": "code",
      "metadata": {
        "id": "u3epXDEef8pr",
        "colab_type": "code",
        "colab": {
          "base_uri": "https://localhost:8080/",
          "height": 34
        },
        "outputId": "7ab2107e-3ab7-41de-f7c9-5604f9b2edc0"
      },
      "source": [
        "lista[0]"
      ],
      "execution_count": 13,
      "outputs": [
        {
          "output_type": "execute_result",
          "data": {
            "text/plain": [
              "1"
            ]
          },
          "metadata": {
            "tags": []
          },
          "execution_count": 13
        }
      ]
    },
    {
      "cell_type": "code",
      "metadata": {
        "id": "KqLVHegIf-8U",
        "colab_type": "code",
        "colab": {
          "base_uri": "https://localhost:8080/",
          "height": 34
        },
        "outputId": "27be1616-a7f6-4830-908e-f8f46c7cd52c"
      },
      "source": [
        "lista[2]"
      ],
      "execution_count": 14,
      "outputs": [
        {
          "output_type": "execute_result",
          "data": {
            "text/plain": [
              "3"
            ]
          },
          "metadata": {
            "tags": []
          },
          "execution_count": 14
        }
      ]
    },
    {
      "cell_type": "code",
      "metadata": {
        "id": "04GFn7pOgCt6",
        "colab_type": "code",
        "colab": {
          "base_uri": "https://localhost:8080/",
          "height": 34
        },
        "outputId": "f595c7a9-a2c6-4505-ba41-56fd3bfcb320"
      },
      "source": [
        "lista[-1]"
      ],
      "execution_count": 15,
      "outputs": [
        {
          "output_type": "execute_result",
          "data": {
            "text/plain": [
              "5"
            ]
          },
          "metadata": {
            "tags": []
          },
          "execution_count": 15
        }
      ]
    },
    {
      "cell_type": "code",
      "metadata": {
        "id": "3wyJrW-ogFX7",
        "colab_type": "code",
        "colab": {
          "base_uri": "https://localhost:8080/",
          "height": 34
        },
        "outputId": "e3a38065-aa87-4101-c928-c607ada179a9"
      },
      "source": [
        "[1,2,3,4,5] + [10]"
      ],
      "execution_count": 16,
      "outputs": [
        {
          "output_type": "execute_result",
          "data": {
            "text/plain": [
              "[1, 2, 3, 4, 5, 10]"
            ]
          },
          "metadata": {
            "tags": []
          },
          "execution_count": 16
        }
      ]
    },
    {
      "cell_type": "markdown",
      "metadata": {
        "id": "s5ynLKCCiDx2",
        "colab_type": "text"
      },
      "source": [
        "## Importancia de Numpy para manipular datos"
      ]
    },
    {
      "cell_type": "code",
      "metadata": {
        "id": "5HdrLl_ZgKYc",
        "colab_type": "code",
        "colab": {}
      },
      "source": [
        "import numpy as np"
      ],
      "execution_count": 17,
      "outputs": []
    },
    {
      "cell_type": "code",
      "metadata": {
        "id": "b1gzqkn0gPaY",
        "colab_type": "code",
        "colab": {
          "base_uri": "https://localhost:8080/",
          "height": 34
        },
        "outputId": "5e177431-8573-4cc5-c933-bab66cde4db8"
      },
      "source": [
        "np.array([1,2,3,4,5])"
      ],
      "execution_count": 18,
      "outputs": [
        {
          "output_type": "execute_result",
          "data": {
            "text/plain": [
              "array([1, 2, 3, 4, 5])"
            ]
          },
          "metadata": {
            "tags": []
          },
          "execution_count": 18
        }
      ]
    },
    {
      "cell_type": "code",
      "metadata": {
        "id": "EjxXnki2gT9u",
        "colab_type": "code",
        "colab": {
          "base_uri": "https://localhost:8080/",
          "height": 34
        },
        "outputId": "4117c6c4-6cf2-4f36-a7c2-b9e9686fded6"
      },
      "source": [
        "np.array([1,2,3,4,5]) + 10"
      ],
      "execution_count": 19,
      "outputs": [
        {
          "output_type": "execute_result",
          "data": {
            "text/plain": [
              "array([11, 12, 13, 14, 15])"
            ]
          },
          "metadata": {
            "tags": []
          },
          "execution_count": 19
        }
      ]
    },
    {
      "cell_type": "code",
      "metadata": {
        "id": "FZPJVhFXgXjT",
        "colab_type": "code",
        "colab": {
          "base_uri": "https://localhost:8080/",
          "height": 34
        },
        "outputId": "c6611a81-35e7-44b3-9caf-9b1d325a940c"
      },
      "source": [
        "np.array([1,2,3,4,5]).shape"
      ],
      "execution_count": 20,
      "outputs": [
        {
          "output_type": "execute_result",
          "data": {
            "text/plain": [
              "(5,)"
            ]
          },
          "metadata": {
            "tags": []
          },
          "execution_count": 20
        }
      ]
    },
    {
      "cell_type": "code",
      "metadata": {
        "id": "9Hj03UfTgan5",
        "colab_type": "code",
        "colab": {
          "base_uri": "https://localhost:8080/",
          "height": 52
        },
        "outputId": "95448c38-e631-470e-ca53-06ba9f7539bf"
      },
      "source": [
        "np.array([[1,2,3,4],[6,7,8,9]])"
      ],
      "execution_count": 22,
      "outputs": [
        {
          "output_type": "execute_result",
          "data": {
            "text/plain": [
              "array([[1, 2, 3, 4],\n",
              "       [6, 7, 8, 9]])"
            ]
          },
          "metadata": {
            "tags": []
          },
          "execution_count": 22
        }
      ]
    },
    {
      "cell_type": "code",
      "metadata": {
        "id": "7lcQCO_ugmNK",
        "colab_type": "code",
        "colab": {
          "base_uri": "https://localhost:8080/",
          "height": 34
        },
        "outputId": "5aad8d84-4a2a-4913-caf6-46641dbe6ac8"
      },
      "source": [
        "np.array([[1,2,3,4],[6,7,8,9]]).shape"
      ],
      "execution_count": 23,
      "outputs": [
        {
          "output_type": "execute_result",
          "data": {
            "text/plain": [
              "(2, 4)"
            ]
          },
          "metadata": {
            "tags": []
          },
          "execution_count": 23
        }
      ]
    },
    {
      "cell_type": "code",
      "metadata": {
        "id": "t1bn7AY2gqnM",
        "colab_type": "code",
        "colab": {
          "base_uri": "https://localhost:8080/",
          "height": 34
        },
        "outputId": "2d67e672-e82d-410a-a2dc-6c534cf966a2"
      },
      "source": [
        "np.array([[1,2,3,4],[6,7,8,9]])[0]"
      ],
      "execution_count": 25,
      "outputs": [
        {
          "output_type": "execute_result",
          "data": {
            "text/plain": [
              "array([1, 2, 3, 4])"
            ]
          },
          "metadata": {
            "tags": []
          },
          "execution_count": 25
        }
      ]
    },
    {
      "cell_type": "code",
      "metadata": {
        "id": "2CRD6MZBg08J",
        "colab_type": "code",
        "colab": {
          "base_uri": "https://localhost:8080/",
          "height": 34
        },
        "outputId": "9b76385a-9348-44d7-c8aa-970955e8a8b7"
      },
      "source": [
        "np.array([[1,2,3,4],[6,7,8,9]])[0][2]"
      ],
      "execution_count": 26,
      "outputs": [
        {
          "output_type": "execute_result",
          "data": {
            "text/plain": [
              "3"
            ]
          },
          "metadata": {
            "tags": []
          },
          "execution_count": 26
        }
      ]
    }
  ]
}
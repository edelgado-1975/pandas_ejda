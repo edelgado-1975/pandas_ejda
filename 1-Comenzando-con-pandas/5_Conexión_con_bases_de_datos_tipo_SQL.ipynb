{
  "nbformat": 4,
  "nbformat_minor": 0,
  "metadata": {
    "colab": {
      "name": "5.Conexión con bases de datos tipo SQL ",
      "provenance": [],
      "toc_visible": true,
      "authorship_tag": "ABX9TyOeJsx80/wM/Nn1o46g8qjh",
      "include_colab_link": true
    },
    "kernelspec": {
      "name": "python3",
      "display_name": "Python 3"
    }
  },
  "cells": [
    {
      "cell_type": "markdown",
      "metadata": {
        "id": "view-in-github",
        "colab_type": "text"
      },
      "source": [
        "<a href=\"https://colab.research.google.com/github/francomanca93/analisis-de-datos/blob/comienzo/1-Comenzando-con-pandas/5_Conexi%C3%B3n_con_bases_de_datos_tipo_SQL.ipynb\" target=\"_parent\"><img src=\"https://colab.research.google.com/assets/colab-badge.svg\" alt=\"Open In Colab\"/></a>"
      ]
    },
    {
      "cell_type": "markdown",
      "metadata": {
        "id": "oPyyvWb3E-DE",
        "colab_type": "text"
      },
      "source": [
        "# Conexión con bases de datos tipo SQL \n",
        "\n",
        "Cómo usar Pandas y Python para conectar con tu base de datos SQL\n",
        "\n",
        "Pandas cuenta con una funcionalidad que facilita el acceso a tus bases de datos tipo SQL, para ello te mostrare algunos ejemplos:"
      ]
    },
    {
      "cell_type": "markdown",
      "metadata": {
        "id": "U6sXzMOoFKVZ",
        "colab_type": "text"
      },
      "source": [
        "## PostgreSQL"
      ]
    },
    {
      "cell_type": "markdown",
      "metadata": {
        "id": "6kxLOPHrFVXW",
        "colab_type": "text"
      },
      "source": [
        "Valida que tengas la librería **psycopg2** usando el comando **import**. Si no está instalada en tu ambiente, usa el comando **!pip install psycopg2** en la terminal de python para instalarlo.\n",
        "\n",
        "Comenzamos cargando las librerías:"
      ]
    },
    {
      "cell_type": "code",
      "metadata": {
        "id": "M-ev6V2WFsNB",
        "colab_type": "code",
        "colab": {}
      },
      "source": [
        "import pandas as pd\n",
        "import psycopg2"
      ],
      "execution_count": null,
      "outputs": []
    },
    {
      "cell_type": "markdown",
      "metadata": {
        "id": "VP8ulH2vFu1H",
        "colab_type": "text"
      },
      "source": [
        "Luego creamos el elemento de conexión con el siguieente código:"
      ]
    },
    {
      "cell_type": "code",
      "metadata": {
        "id": "C1ytHOY7FwNY",
        "colab_type": "code",
        "colab": {}
      },
      "source": [
        "conn_sql = psycopg2.connect(user = \"user_name\",\n",
        "                            password = \"password\",\n",
        "                            host = \"xxx.xxx.xxx.xxx\",\n",
        "                            port = \"5432\",\n",
        "                            database = \"postgres_db_name\")"
      ],
      "execution_count": null,
      "outputs": []
    },
    {
      "cell_type": "markdown",
      "metadata": {
        "id": "fBwkas8uF0QY",
        "colab_type": "text"
      },
      "source": [
        "Seguido simplemente definimos nuestra query en SQL:"
      ]
    },
    {
      "cell_type": "code",
      "metadata": {
        "id": "k0P20EiUF2KA",
        "colab_type": "code",
        "colab": {}
      },
      "source": [
        "query_sql = '''\n",
        "select *\n",
        "from table_name\n",
        "limit 10\n",
        "'''"
      ],
      "execution_count": null,
      "outputs": []
    },
    {
      "cell_type": "markdown",
      "metadata": {
        "id": "eUHMR-iWF3W3",
        "colab_type": "text"
      },
      "source": [
        "Y creamos nuestro dataframe:"
      ]
    },
    {
      "cell_type": "code",
      "metadata": {
        "id": "N8zz5YbIF4yM",
        "colab_type": "code",
        "colab": {}
      },
      "source": [
        "df = pd.read_sql(query_sql, sql_conn)\n",
        "df.head(5)"
      ],
      "execution_count": null,
      "outputs": []
    },
    {
      "cell_type": "markdown",
      "metadata": {
        "id": "QM8TFvirFOCy",
        "colab_type": "text"
      },
      "source": [
        "## SQL Server"
      ]
    },
    {
      "cell_type": "markdown",
      "metadata": {
        "id": "twreMaeMF9qY",
        "colab_type": "text"
      },
      "source": [
        "Valida que tengas la librería **pyodbc** usando el comando **import**, si no está instalada en tu ambiente, usa el comando **!pip install pyodbc** en la terminal python para instalarlo.\n",
        "\n",
        "Comenzamos cargando las librerías:"
      ]
    },
    {
      "cell_type": "code",
      "metadata": {
        "id": "FLVhw_pxGEHe",
        "colab_type": "code",
        "colab": {}
      },
      "source": [
        "import pandas as pd\n",
        "import pyodbc"
      ],
      "execution_count": null,
      "outputs": []
    },
    {
      "cell_type": "markdown",
      "metadata": {
        "id": "ZRWkWa_3GG54",
        "colab_type": "text"
      },
      "source": [
        "Luego creamos el elemento de conexión con el siguiente código:"
      ]
    },
    {
      "cell_type": "code",
      "metadata": {
        "id": "he3Euaf8GI9f",
        "colab_type": "code",
        "colab": {}
      },
      "source": [
        "driver = '{SQL Server}'\n",
        "server_name = 'server_name'\n",
        "db_name = 'database_name'\n",
        "user = 'user'\n",
        "password = 'password'\n",
        "sql_conn = pyodbc.connect('''\n",
        "DRIVER={};SERVER={};DATABASE={};UID={};PWD={};\n",
        "Trusted_Connection=yes\n",
        "'''.format(driver, server_name, db_name, user, password))"
      ],
      "execution_count": null,
      "outputs": []
    },
    {
      "cell_type": "markdown",
      "metadata": {
        "id": "xyyG-xeDGM4v",
        "colab_type": "text"
      },
      "source": [
        "O si tienes el DSN:"
      ]
    },
    {
      "cell_type": "code",
      "metadata": {
        "id": "nM2DWW0SGOwt",
        "colab_type": "code",
        "colab": {}
      },
      "source": [
        "dsn = 'odbc_datasource_name'\n",
        "sql_conn = pyodbc.connect('''\n",
        "DSN={};UID={};PWD={};Trusted_Connection=yes;\n",
        "'''.format(dsn, user, password))\n",
        "Seguido simplemente definimos nuestra query en SQL:\t\n",
        "query_sql = 'select * from table_name limit 10'\n"
      ],
      "execution_count": null,
      "outputs": []
    },
    {
      "cell_type": "markdown",
      "metadata": {
        "id": "8xL4rcWvGQX_",
        "colab_type": "text"
      },
      "source": [
        "Y creamos nuestro dataframe con:"
      ]
    },
    {
      "cell_type": "code",
      "metadata": {
        "id": "pnPVjcj0GSk6",
        "colab_type": "code",
        "colab": {}
      },
      "source": [
        "df = pd.read_sql(query_sql, sql_conn)\n",
        "df.head(5)"
      ],
      "execution_count": null,
      "outputs": []
    },
    {
      "cell_type": "markdown",
      "metadata": {
        "id": "YhtDi_i7FQ5_",
        "colab_type": "text"
      },
      "source": [
        "## MySQL / Oracle / Otras"
      ]
    },
    {
      "cell_type": "markdown",
      "metadata": {
        "id": "h1qd6qQ3GVmq",
        "colab_type": "text"
      },
      "source": [
        "Valida que tengas la librería **sqlalchemy** usando el comando **import**, si no está instalada en tu ambiente, usa el comando **!pip install sqlalchemy** en la terminal de python para instalarlo.\n",
        "\n",
        "Comenzamos cargando las librerías:"
      ]
    },
    {
      "cell_type": "code",
      "metadata": {
        "id": "-rmVBqHbGbUc",
        "colab_type": "code",
        "colab": {}
      },
      "source": [
        "import pandas as pd\n",
        "import sqlalchemy as sql\n"
      ],
      "execution_count": null,
      "outputs": []
    },
    {
      "cell_type": "markdown",
      "metadata": {
        "id": "DEah7R_4Gehl",
        "colab_type": "text"
      },
      "source": [
        "Escogemos nuestra base de datos, Oracle, MySql o la de tu preferencia:"
      ]
    },
    {
      "cell_type": "code",
      "metadata": {
        "id": "Md3AT13FGhDg",
        "colab_type": "code",
        "colab": {}
      },
      "source": [
        "database_type = 'mysql'\n",
        "database_type = 'oracle'"
      ],
      "execution_count": null,
      "outputs": []
    },
    {
      "cell_type": "markdown",
      "metadata": {
        "id": "SpV5Z_2WGktF",
        "colab_type": "text"
      },
      "source": [
        "Luego creamos el elemento de conexión con el siguiente código:"
      ]
    },
    {
      "cell_type": "code",
      "metadata": {
        "id": "iI4H5cAfGmeY",
        "colab_type": "code",
        "colab": {}
      },
      "source": [
        "user = 'user_name'\n",
        "password = 'password'\n",
        "host = 'xxx.xxx.xxx.xxx:port'\n",
        "database = 'database_name'\n",
        "\n",
        "conn_string = '{}://{}:{}@{}/{}'.format(\n",
        "database_type, user, password, host, database)\n",
        "\n",
        "sql_conn = sql.create_engine(conn_string)"
      ],
      "execution_count": null,
      "outputs": []
    },
    {
      "cell_type": "markdown",
      "metadata": {
        "id": "8E8T8xWgGq2R",
        "colab_type": "text"
      },
      "source": [
        "Seguido simplemente definimos nuestra query en SQL:"
      ]
    },
    {
      "cell_type": "code",
      "metadata": {
        "id": "QJpCjqhkGtbf",
        "colab_type": "code",
        "colab": {}
      },
      "source": [
        "query_sql = '''\n",
        "select *\n",
        "from table_name\n",
        "limit 10\n",
        "'''"
      ],
      "execution_count": null,
      "outputs": []
    },
    {
      "cell_type": "markdown",
      "metadata": {
        "id": "0jltOHtzGu1V",
        "colab_type": "text"
      },
      "source": [
        "Y creamos nuestro dataframe con:"
      ]
    },
    {
      "cell_type": "code",
      "metadata": {
        "id": "qFrljdRNGw8m",
        "colab_type": "code",
        "colab": {}
      },
      "source": [
        "df = pd.read_sql(query_sql, sql_conn)\n",
        "df.head(5)"
      ],
      "execution_count": null,
      "outputs": []
    },
    {
      "cell_type": "markdown",
      "metadata": {
        "id": "YbiXrk99GysX",
        "colab_type": "text"
      },
      "source": [
        "La libreria **sqlalchemy** también soporta **PostgreSQL** y otras fuentes de datos."
      ]
    }
  ]
}
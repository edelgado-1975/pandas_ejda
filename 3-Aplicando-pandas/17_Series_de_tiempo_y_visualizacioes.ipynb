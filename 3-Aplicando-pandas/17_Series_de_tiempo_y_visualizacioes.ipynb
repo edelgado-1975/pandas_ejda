{
  "nbformat": 4,
  "nbformat_minor": 0,
  "metadata": {
    "colab": {
      "name": "17.Series de tiempo y visualizacioes.ipynb ",
      "provenance": [],
      "authorship_tag": "ABX9TyMkSERx0gI4EgvamnmgUjy+",
      "include_colab_link": true
    },
    "kernelspec": {
      "name": "python3",
      "display_name": "Python 3"
    }
  },
  "cells": [
    {
      "cell_type": "markdown",
      "metadata": {
        "id": "view-in-github",
        "colab_type": "text"
      },
      "source": [
        "<a href=\"https://colab.research.google.com/github/francomanca93/analisis-de-datos/blob/aplicaciones/3-Aplicando-pandas/17_Series_de_tiempo_y_visualizacioes.ipynb\" target=\"_parent\"><img src=\"https://colab.research.google.com/assets/colab-badge.svg\" alt=\"Open In Colab\"/></a>"
      ]
    },
    {
      "cell_type": "markdown",
      "metadata": {
        "id": "cGISXI0IfDMv",
        "colab_type": "text"
      },
      "source": [
        "# Series de Tiempo\n",
        "\n",
        "En las lecturas previas se aprendio a como trabajar con **variables nulas** y a como darle formato a las **variables de tipo tiempo**. \n",
        "\n",
        "En esta sección se vera como utilizar las herramientas anteriores y como trabajar con **series de tiempo**. Se utilizará una base de dato que tiene información sobre el **coronavirus**. La misma la podemos encontrar en el siguiente enlace a la base de datos de [covid-19](https://www.kaggle.com/sudalairajkumar/novel-corona-virus-2019-dataset?select=covid_19_data.csv)"
      ]
    },
    {
      "cell_type": "code",
      "metadata": {
        "id": "-jWSVlY3bWYJ",
        "colab_type": "code",
        "colab": {
          "base_uri": "https://localhost:8080/",
          "height": 34
        },
        "outputId": "00f69a3b-b937-4f6e-f22b-e8dfb3d7a86a"
      },
      "source": [
        "from google.colab import drive\n",
        "drive.mount('/content/drive/')"
      ],
      "execution_count": 1,
      "outputs": [
        {
          "output_type": "stream",
          "text": [
            "Drive already mounted at /content/drive/; to attempt to forcibly remount, call drive.mount(\"/content/drive/\", force_remount=True).\n"
          ],
          "name": "stdout"
        }
      ]
    },
    {
      "cell_type": "code",
      "metadata": {
        "id": "7L6u6QA5kDzX",
        "colab_type": "code",
        "colab": {
          "base_uri": "https://localhost:8080/",
          "height": 104
        },
        "outputId": "fb016879-7131-4bc1-9460-2fd3662253cb"
      },
      "source": [
        "%cd '/content/drive/My Drive/Colab Notebooks/analisis-de-datos-con-pandas/db/'\n",
        "!ls"
      ],
      "execution_count": 2,
      "outputs": [
        {
          "output_type": "stream",
          "text": [
            "/content/drive/My Drive/Colab Notebooks/analisis-de-datos-con-pandas/db\n",
            "covid_19_data.csv\ttest.csv     test.parquet\n",
            "london_merged.csv\ttest.gsheet  test.pkl\n",
            "Meteorite_Landings.csv\ttest.hdf     test-separacion-diferente.csv\n",
            "poblacion.csv\t\ttest.json    test.xlsx\n"
          ],
          "name": "stdout"
        }
      ]
    },
    {
      "cell_type": "code",
      "metadata": {
        "id": "rz-NUh6Tvzp9",
        "colab_type": "code",
        "colab": {}
      },
      "source": [
        "import pandas as pd"
      ],
      "execution_count": 3,
      "outputs": []
    },
    {
      "cell_type": "code",
      "metadata": {
        "id": "0ZFrYdFxloJ5",
        "colab_type": "code",
        "colab": {
          "base_uri": "https://localhost:8080/",
          "height": 424
        },
        "outputId": "f8d71010-c65e-4e4c-9510-83eaba7f93f7"
      },
      "source": [
        "df = pd.read_csv('covid_19_data.csv')\n",
        "df\n"
      ],
      "execution_count": 4,
      "outputs": [
        {
          "output_type": "execute_result",
          "data": {
            "text/html": [
              "<div>\n",
              "<style scoped>\n",
              "    .dataframe tbody tr th:only-of-type {\n",
              "        vertical-align: middle;\n",
              "    }\n",
              "\n",
              "    .dataframe tbody tr th {\n",
              "        vertical-align: top;\n",
              "    }\n",
              "\n",
              "    .dataframe thead th {\n",
              "        text-align: right;\n",
              "    }\n",
              "</style>\n",
              "<table border=\"1\" class=\"dataframe\">\n",
              "  <thead>\n",
              "    <tr style=\"text-align: right;\">\n",
              "      <th></th>\n",
              "      <th>SNo</th>\n",
              "      <th>ObservationDate</th>\n",
              "      <th>Province/State</th>\n",
              "      <th>Country/Region</th>\n",
              "      <th>Last Update</th>\n",
              "      <th>Confirmed</th>\n",
              "      <th>Deaths</th>\n",
              "      <th>Recovered</th>\n",
              "    </tr>\n",
              "  </thead>\n",
              "  <tbody>\n",
              "    <tr>\n",
              "      <th>0</th>\n",
              "      <td>1</td>\n",
              "      <td>01/22/2020</td>\n",
              "      <td>Anhui</td>\n",
              "      <td>Mainland China</td>\n",
              "      <td>1/22/2020 17:00</td>\n",
              "      <td>1.0</td>\n",
              "      <td>0.0</td>\n",
              "      <td>0.0</td>\n",
              "    </tr>\n",
              "    <tr>\n",
              "      <th>1</th>\n",
              "      <td>2</td>\n",
              "      <td>01/22/2020</td>\n",
              "      <td>Beijing</td>\n",
              "      <td>Mainland China</td>\n",
              "      <td>1/22/2020 17:00</td>\n",
              "      <td>14.0</td>\n",
              "      <td>0.0</td>\n",
              "      <td>0.0</td>\n",
              "    </tr>\n",
              "    <tr>\n",
              "      <th>2</th>\n",
              "      <td>3</td>\n",
              "      <td>01/22/2020</td>\n",
              "      <td>Chongqing</td>\n",
              "      <td>Mainland China</td>\n",
              "      <td>1/22/2020 17:00</td>\n",
              "      <td>6.0</td>\n",
              "      <td>0.0</td>\n",
              "      <td>0.0</td>\n",
              "    </tr>\n",
              "    <tr>\n",
              "      <th>3</th>\n",
              "      <td>4</td>\n",
              "      <td>01/22/2020</td>\n",
              "      <td>Fujian</td>\n",
              "      <td>Mainland China</td>\n",
              "      <td>1/22/2020 17:00</td>\n",
              "      <td>1.0</td>\n",
              "      <td>0.0</td>\n",
              "      <td>0.0</td>\n",
              "    </tr>\n",
              "    <tr>\n",
              "      <th>4</th>\n",
              "      <td>5</td>\n",
              "      <td>01/22/2020</td>\n",
              "      <td>Gansu</td>\n",
              "      <td>Mainland China</td>\n",
              "      <td>1/22/2020 17:00</td>\n",
              "      <td>0.0</td>\n",
              "      <td>0.0</td>\n",
              "      <td>0.0</td>\n",
              "    </tr>\n",
              "    <tr>\n",
              "      <th>...</th>\n",
              "      <td>...</td>\n",
              "      <td>...</td>\n",
              "      <td>...</td>\n",
              "      <td>...</td>\n",
              "      <td>...</td>\n",
              "      <td>...</td>\n",
              "      <td>...</td>\n",
              "      <td>...</td>\n",
              "    </tr>\n",
              "    <tr>\n",
              "      <th>83406</th>\n",
              "      <td>83407</td>\n",
              "      <td>08/09/2020</td>\n",
              "      <td>Zaporizhia Oblast</td>\n",
              "      <td>Ukraine</td>\n",
              "      <td>2020-08-10 04:34:55</td>\n",
              "      <td>937.0</td>\n",
              "      <td>22.0</td>\n",
              "      <td>652.0</td>\n",
              "    </tr>\n",
              "    <tr>\n",
              "      <th>83407</th>\n",
              "      <td>83408</td>\n",
              "      <td>08/09/2020</td>\n",
              "      <td>Zeeland</td>\n",
              "      <td>Netherlands</td>\n",
              "      <td>2020-08-10 04:34:55</td>\n",
              "      <td>918.0</td>\n",
              "      <td>69.0</td>\n",
              "      <td>0.0</td>\n",
              "    </tr>\n",
              "    <tr>\n",
              "      <th>83408</th>\n",
              "      <td>83409</td>\n",
              "      <td>08/09/2020</td>\n",
              "      <td>Zhejiang</td>\n",
              "      <td>Mainland China</td>\n",
              "      <td>2020-08-10 04:34:55</td>\n",
              "      <td>1273.0</td>\n",
              "      <td>1.0</td>\n",
              "      <td>1268.0</td>\n",
              "    </tr>\n",
              "    <tr>\n",
              "      <th>83409</th>\n",
              "      <td>83410</td>\n",
              "      <td>08/09/2020</td>\n",
              "      <td>Zhytomyr Oblast</td>\n",
              "      <td>Ukraine</td>\n",
              "      <td>2020-08-10 04:34:55</td>\n",
              "      <td>2131.0</td>\n",
              "      <td>41.0</td>\n",
              "      <td>1524.0</td>\n",
              "    </tr>\n",
              "    <tr>\n",
              "      <th>83410</th>\n",
              "      <td>83411</td>\n",
              "      <td>08/09/2020</td>\n",
              "      <td>Zuid-Holland</td>\n",
              "      <td>Netherlands</td>\n",
              "      <td>2020-08-10 04:34:55</td>\n",
              "      <td>14931.0</td>\n",
              "      <td>1312.0</td>\n",
              "      <td>0.0</td>\n",
              "    </tr>\n",
              "  </tbody>\n",
              "</table>\n",
              "<p>83411 rows × 8 columns</p>\n",
              "</div>"
            ],
            "text/plain": [
              "         SNo ObservationDate     Province/State  ... Confirmed  Deaths  Recovered\n",
              "0          1      01/22/2020              Anhui  ...       1.0     0.0        0.0\n",
              "1          2      01/22/2020            Beijing  ...      14.0     0.0        0.0\n",
              "2          3      01/22/2020          Chongqing  ...       6.0     0.0        0.0\n",
              "3          4      01/22/2020             Fujian  ...       1.0     0.0        0.0\n",
              "4          5      01/22/2020              Gansu  ...       0.0     0.0        0.0\n",
              "...      ...             ...                ...  ...       ...     ...        ...\n",
              "83406  83407      08/09/2020  Zaporizhia Oblast  ...     937.0    22.0      652.0\n",
              "83407  83408      08/09/2020            Zeeland  ...     918.0    69.0        0.0\n",
              "83408  83409      08/09/2020           Zhejiang  ...    1273.0     1.0     1268.0\n",
              "83409  83410      08/09/2020    Zhytomyr Oblast  ...    2131.0    41.0     1524.0\n",
              "83410  83411      08/09/2020       Zuid-Holland  ...   14931.0  1312.0        0.0\n",
              "\n",
              "[83411 rows x 8 columns]"
            ]
          },
          "metadata": {
            "tags": []
          },
          "execution_count": 4
        }
      ]
    },
    {
      "cell_type": "markdown",
      "metadata": {
        "id": "P0jnAdI2pmh_",
        "colab_type": "text"
      },
      "source": [
        "## Da formato tiempo a una columna"
      ]
    },
    {
      "cell_type": "markdown",
      "metadata": {
        "id": "SMUSoqiqv_BU",
        "colab_type": "text"
      },
      "source": [
        "Vamos a darle un poco de formato al dataframe tipo tiempo a la segunda columna:"
      ]
    },
    {
      "cell_type": "code",
      "metadata": {
        "id": "Do1N1Whfv_yN",
        "colab_type": "code",
        "colab": {}
      },
      "source": [
        "df['ObservationDate'] = pd.to_datetime(df['ObservationDate'])"
      ],
      "execution_count": 5,
      "outputs": []
    },
    {
      "cell_type": "markdown",
      "metadata": {
        "id": "CAv5nprbwXEz",
        "colab_type": "text"
      },
      "source": [
        "Vamos a trabajar solo con algunas columnas de dataframe, para ver las columnas lo hacemos con **list(df)**"
      ]
    },
    {
      "cell_type": "code",
      "metadata": {
        "id": "DYOr69p7v-El",
        "colab_type": "code",
        "colab": {
          "base_uri": "https://localhost:8080/",
          "height": 156
        },
        "outputId": "2fd6259f-b6cd-4fb2-eda6-ed4b8a025d86"
      },
      "source": [
        "list(df)"
      ],
      "execution_count": 6,
      "outputs": [
        {
          "output_type": "execute_result",
          "data": {
            "text/plain": [
              "['SNo',\n",
              " 'ObservationDate',\n",
              " 'Province/State',\n",
              " 'Country/Region',\n",
              " 'Last Update',\n",
              " 'Confirmed',\n",
              " 'Deaths',\n",
              " 'Recovered']"
            ]
          },
          "metadata": {
            "tags": []
          },
          "execution_count": 6
        }
      ]
    },
    {
      "cell_type": "code",
      "metadata": {
        "id": "qiM3HvkYvxRD",
        "colab_type": "code",
        "colab": {
          "base_uri": "https://localhost:8080/",
          "height": 424
        },
        "outputId": "f37642f0-631e-4fc0-c26d-905801d40cc9"
      },
      "source": [
        "df = df[[\n",
        "         'ObservationDate',\n",
        "         'Country/Region',\n",
        "         'Confirmed',\n",
        "         'Deaths',\n",
        "         'Recovered'\n",
        "         ]]\n",
        "df"
      ],
      "execution_count": 7,
      "outputs": [
        {
          "output_type": "execute_result",
          "data": {
            "text/html": [
              "<div>\n",
              "<style scoped>\n",
              "    .dataframe tbody tr th:only-of-type {\n",
              "        vertical-align: middle;\n",
              "    }\n",
              "\n",
              "    .dataframe tbody tr th {\n",
              "        vertical-align: top;\n",
              "    }\n",
              "\n",
              "    .dataframe thead th {\n",
              "        text-align: right;\n",
              "    }\n",
              "</style>\n",
              "<table border=\"1\" class=\"dataframe\">\n",
              "  <thead>\n",
              "    <tr style=\"text-align: right;\">\n",
              "      <th></th>\n",
              "      <th>ObservationDate</th>\n",
              "      <th>Country/Region</th>\n",
              "      <th>Confirmed</th>\n",
              "      <th>Deaths</th>\n",
              "      <th>Recovered</th>\n",
              "    </tr>\n",
              "  </thead>\n",
              "  <tbody>\n",
              "    <tr>\n",
              "      <th>0</th>\n",
              "      <td>2020-01-22</td>\n",
              "      <td>Mainland China</td>\n",
              "      <td>1.0</td>\n",
              "      <td>0.0</td>\n",
              "      <td>0.0</td>\n",
              "    </tr>\n",
              "    <tr>\n",
              "      <th>1</th>\n",
              "      <td>2020-01-22</td>\n",
              "      <td>Mainland China</td>\n",
              "      <td>14.0</td>\n",
              "      <td>0.0</td>\n",
              "      <td>0.0</td>\n",
              "    </tr>\n",
              "    <tr>\n",
              "      <th>2</th>\n",
              "      <td>2020-01-22</td>\n",
              "      <td>Mainland China</td>\n",
              "      <td>6.0</td>\n",
              "      <td>0.0</td>\n",
              "      <td>0.0</td>\n",
              "    </tr>\n",
              "    <tr>\n",
              "      <th>3</th>\n",
              "      <td>2020-01-22</td>\n",
              "      <td>Mainland China</td>\n",
              "      <td>1.0</td>\n",
              "      <td>0.0</td>\n",
              "      <td>0.0</td>\n",
              "    </tr>\n",
              "    <tr>\n",
              "      <th>4</th>\n",
              "      <td>2020-01-22</td>\n",
              "      <td>Mainland China</td>\n",
              "      <td>0.0</td>\n",
              "      <td>0.0</td>\n",
              "      <td>0.0</td>\n",
              "    </tr>\n",
              "    <tr>\n",
              "      <th>...</th>\n",
              "      <td>...</td>\n",
              "      <td>...</td>\n",
              "      <td>...</td>\n",
              "      <td>...</td>\n",
              "      <td>...</td>\n",
              "    </tr>\n",
              "    <tr>\n",
              "      <th>83406</th>\n",
              "      <td>2020-08-09</td>\n",
              "      <td>Ukraine</td>\n",
              "      <td>937.0</td>\n",
              "      <td>22.0</td>\n",
              "      <td>652.0</td>\n",
              "    </tr>\n",
              "    <tr>\n",
              "      <th>83407</th>\n",
              "      <td>2020-08-09</td>\n",
              "      <td>Netherlands</td>\n",
              "      <td>918.0</td>\n",
              "      <td>69.0</td>\n",
              "      <td>0.0</td>\n",
              "    </tr>\n",
              "    <tr>\n",
              "      <th>83408</th>\n",
              "      <td>2020-08-09</td>\n",
              "      <td>Mainland China</td>\n",
              "      <td>1273.0</td>\n",
              "      <td>1.0</td>\n",
              "      <td>1268.0</td>\n",
              "    </tr>\n",
              "    <tr>\n",
              "      <th>83409</th>\n",
              "      <td>2020-08-09</td>\n",
              "      <td>Ukraine</td>\n",
              "      <td>2131.0</td>\n",
              "      <td>41.0</td>\n",
              "      <td>1524.0</td>\n",
              "    </tr>\n",
              "    <tr>\n",
              "      <th>83410</th>\n",
              "      <td>2020-08-09</td>\n",
              "      <td>Netherlands</td>\n",
              "      <td>14931.0</td>\n",
              "      <td>1312.0</td>\n",
              "      <td>0.0</td>\n",
              "    </tr>\n",
              "  </tbody>\n",
              "</table>\n",
              "<p>83411 rows × 5 columns</p>\n",
              "</div>"
            ],
            "text/plain": [
              "      ObservationDate  Country/Region  Confirmed  Deaths  Recovered\n",
              "0          2020-01-22  Mainland China        1.0     0.0        0.0\n",
              "1          2020-01-22  Mainland China       14.0     0.0        0.0\n",
              "2          2020-01-22  Mainland China        6.0     0.0        0.0\n",
              "3          2020-01-22  Mainland China        1.0     0.0        0.0\n",
              "4          2020-01-22  Mainland China        0.0     0.0        0.0\n",
              "...               ...             ...        ...     ...        ...\n",
              "83406      2020-08-09         Ukraine      937.0    22.0      652.0\n",
              "83407      2020-08-09     Netherlands      918.0    69.0        0.0\n",
              "83408      2020-08-09  Mainland China     1273.0     1.0     1268.0\n",
              "83409      2020-08-09         Ukraine     2131.0    41.0     1524.0\n",
              "83410      2020-08-09     Netherlands    14931.0  1312.0        0.0\n",
              "\n",
              "[83411 rows x 5 columns]"
            ]
          },
          "metadata": {
            "tags": []
          },
          "execution_count": 7
        }
      ]
    },
    {
      "cell_type": "markdown",
      "metadata": {
        "id": "N7yqj8oCptzG",
        "colab_type": "text"
      },
      "source": [
        "## Trabajando con groupby"
      ]
    },
    {
      "cell_type": "markdown",
      "metadata": {
        "id": "J1vbZwm-xKPO",
        "colab_type": "text"
      },
      "source": [
        "Vamos a crear un nuevo groupby, utilizaremos como indices a las fechas."
      ]
    },
    {
      "cell_type": "code",
      "metadata": {
        "id": "bhtjkv9ixDXD",
        "colab_type": "code",
        "colab": {
          "base_uri": "https://localhost:8080/",
          "height": 455
        },
        "outputId": "1c2870cc-f089-450f-d302-bacf02dfb32a"
      },
      "source": [
        "df_time = df.groupby('ObservationDate').sum()\n",
        "df_time"
      ],
      "execution_count": 8,
      "outputs": [
        {
          "output_type": "execute_result",
          "data": {
            "text/html": [
              "<div>\n",
              "<style scoped>\n",
              "    .dataframe tbody tr th:only-of-type {\n",
              "        vertical-align: middle;\n",
              "    }\n",
              "\n",
              "    .dataframe tbody tr th {\n",
              "        vertical-align: top;\n",
              "    }\n",
              "\n",
              "    .dataframe thead th {\n",
              "        text-align: right;\n",
              "    }\n",
              "</style>\n",
              "<table border=\"1\" class=\"dataframe\">\n",
              "  <thead>\n",
              "    <tr style=\"text-align: right;\">\n",
              "      <th></th>\n",
              "      <th>Confirmed</th>\n",
              "      <th>Deaths</th>\n",
              "      <th>Recovered</th>\n",
              "    </tr>\n",
              "    <tr>\n",
              "      <th>ObservationDate</th>\n",
              "      <th></th>\n",
              "      <th></th>\n",
              "      <th></th>\n",
              "    </tr>\n",
              "  </thead>\n",
              "  <tbody>\n",
              "    <tr>\n",
              "      <th>2020-01-22</th>\n",
              "      <td>555.0</td>\n",
              "      <td>17.0</td>\n",
              "      <td>28.0</td>\n",
              "    </tr>\n",
              "    <tr>\n",
              "      <th>2020-01-23</th>\n",
              "      <td>653.0</td>\n",
              "      <td>18.0</td>\n",
              "      <td>30.0</td>\n",
              "    </tr>\n",
              "    <tr>\n",
              "      <th>2020-01-24</th>\n",
              "      <td>941.0</td>\n",
              "      <td>26.0</td>\n",
              "      <td>36.0</td>\n",
              "    </tr>\n",
              "    <tr>\n",
              "      <th>2020-01-25</th>\n",
              "      <td>1438.0</td>\n",
              "      <td>42.0</td>\n",
              "      <td>39.0</td>\n",
              "    </tr>\n",
              "    <tr>\n",
              "      <th>2020-01-26</th>\n",
              "      <td>2118.0</td>\n",
              "      <td>56.0</td>\n",
              "      <td>52.0</td>\n",
              "    </tr>\n",
              "    <tr>\n",
              "      <th>...</th>\n",
              "      <td>...</td>\n",
              "      <td>...</td>\n",
              "      <td>...</td>\n",
              "    </tr>\n",
              "    <tr>\n",
              "      <th>2020-08-05</th>\n",
              "      <td>18811953.0</td>\n",
              "      <td>707820.0</td>\n",
              "      <td>11356275.0</td>\n",
              "    </tr>\n",
              "    <tr>\n",
              "      <th>2020-08-06</th>\n",
              "      <td>19097149.0</td>\n",
              "      <td>714940.0</td>\n",
              "      <td>11545401.0</td>\n",
              "    </tr>\n",
              "    <tr>\n",
              "      <th>2020-08-07</th>\n",
              "      <td>19378036.0</td>\n",
              "      <td>721324.0</td>\n",
              "      <td>11737927.0</td>\n",
              "    </tr>\n",
              "    <tr>\n",
              "      <th>2020-08-08</th>\n",
              "      <td>19637506.0</td>\n",
              "      <td>726781.0</td>\n",
              "      <td>11939109.0</td>\n",
              "    </tr>\n",
              "    <tr>\n",
              "      <th>2020-08-09</th>\n",
              "      <td>19861683.0</td>\n",
              "      <td>731326.0</td>\n",
              "      <td>12115825.0</td>\n",
              "    </tr>\n",
              "  </tbody>\n",
              "</table>\n",
              "<p>201 rows × 3 columns</p>\n",
              "</div>"
            ],
            "text/plain": [
              "                  Confirmed    Deaths   Recovered\n",
              "ObservationDate                                  \n",
              "2020-01-22            555.0      17.0        28.0\n",
              "2020-01-23            653.0      18.0        30.0\n",
              "2020-01-24            941.0      26.0        36.0\n",
              "2020-01-25           1438.0      42.0        39.0\n",
              "2020-01-26           2118.0      56.0        52.0\n",
              "...                     ...       ...         ...\n",
              "2020-08-05       18811953.0  707820.0  11356275.0\n",
              "2020-08-06       19097149.0  714940.0  11545401.0\n",
              "2020-08-07       19378036.0  721324.0  11737927.0\n",
              "2020-08-08       19637506.0  726781.0  11939109.0\n",
              "2020-08-09       19861683.0  731326.0  12115825.0\n",
              "\n",
              "[201 rows x 3 columns]"
            ]
          },
          "metadata": {
            "tags": []
          },
          "execution_count": 8
        }
      ]
    },
    {
      "cell_type": "markdown",
      "metadata": {
        "id": "GMMA66xQxlHH",
        "colab_type": "text"
      },
      "source": [
        "En este caso el tiempo ha quedado como el indice del dataframe"
      ]
    },
    {
      "cell_type": "code",
      "metadata": {
        "id": "0T8Bym1qxVwb",
        "colab_type": "code",
        "colab": {
          "base_uri": "https://localhost:8080/",
          "height": 139
        },
        "outputId": "c68f0a31-b9eb-4ee0-9bbf-72dbcd8c13cc"
      },
      "source": [
        "df1 = df_time['Confirmed'].iloc[10:15]\n",
        "df1"
      ],
      "execution_count": 9,
      "outputs": [
        {
          "output_type": "execute_result",
          "data": {
            "text/plain": [
              "ObservationDate\n",
              "2020-02-01    12038.0\n",
              "2020-02-02    16787.0\n",
              "2020-02-03    19881.0\n",
              "2020-02-04    23892.0\n",
              "2020-02-05    27636.0\n",
              "Name: Confirmed, dtype: float64"
            ]
          },
          "metadata": {
            "tags": []
          },
          "execution_count": 9
        }
      ]
    },
    {
      "cell_type": "code",
      "metadata": {
        "id": "MSxz6YrixzmI",
        "colab_type": "code",
        "colab": {
          "base_uri": "https://localhost:8080/",
          "height": 139
        },
        "outputId": "70591e85-4e32-465d-c955-26d82c3824d1"
      },
      "source": [
        "df2 = df_time['Deaths'].iloc[12:17]\n",
        "df2"
      ],
      "execution_count": 10,
      "outputs": [
        {
          "output_type": "execute_result",
          "data": {
            "text/plain": [
              "ObservationDate\n",
              "2020-02-03    426.0\n",
              "2020-02-04    492.0\n",
              "2020-02-05    564.0\n",
              "2020-02-06    634.0\n",
              "2020-02-07    719.0\n",
              "Name: Deaths, dtype: float64"
            ]
          },
          "metadata": {
            "tags": []
          },
          "execution_count": 10
        }
      ]
    },
    {
      "cell_type": "markdown",
      "metadata": {
        "id": "OLjlWdVRx-UP",
        "colab_type": "text"
      },
      "source": [
        "Cuando tenemos dos series con un sistema de indices por fecha podemos realizar operaciones entre las mismas"
      ]
    },
    {
      "cell_type": "code",
      "metadata": {
        "id": "PUpPtUwyx56T",
        "colab_type": "code",
        "colab": {
          "base_uri": "https://localhost:8080/",
          "height": 173
        },
        "outputId": "8e52ee2d-722f-4d22-cdf6-0201586421de"
      },
      "source": [
        "df1 - df2"
      ],
      "execution_count": 11,
      "outputs": [
        {
          "output_type": "execute_result",
          "data": {
            "text/plain": [
              "ObservationDate\n",
              "2020-02-01        NaN\n",
              "2020-02-02        NaN\n",
              "2020-02-03    19455.0\n",
              "2020-02-04    23400.0\n",
              "2020-02-05    27072.0\n",
              "2020-02-06        NaN\n",
              "2020-02-07        NaN\n",
              "dtype: float64"
            ]
          },
          "metadata": {
            "tags": []
          },
          "execution_count": 11
        }
      ]
    },
    {
      "cell_type": "markdown",
      "metadata": {
        "id": "1qlhD-T0qwbi",
        "colab_type": "text"
      },
      "source": [
        "## Agregando datos faltantes iniciales."
      ]
    },
    {
      "cell_type": "markdown",
      "metadata": {
        "id": "YsFbBqo0ygbK",
        "colab_type": "text"
      },
      "source": [
        "Ahora queremos ver como ha ido aumentando dia tras dia la cifra del covid"
      ]
    },
    {
      "cell_type": "code",
      "metadata": {
        "id": "Rn4v6WQHyMeh",
        "colab_type": "code",
        "colab": {
          "base_uri": "https://localhost:8080/",
          "height": 455
        },
        "outputId": "567093b9-79ec-4e92-d5c3-5a9e4a811187"
      },
      "source": [
        "df_time"
      ],
      "execution_count": 12,
      "outputs": [
        {
          "output_type": "execute_result",
          "data": {
            "text/html": [
              "<div>\n",
              "<style scoped>\n",
              "    .dataframe tbody tr th:only-of-type {\n",
              "        vertical-align: middle;\n",
              "    }\n",
              "\n",
              "    .dataframe tbody tr th {\n",
              "        vertical-align: top;\n",
              "    }\n",
              "\n",
              "    .dataframe thead th {\n",
              "        text-align: right;\n",
              "    }\n",
              "</style>\n",
              "<table border=\"1\" class=\"dataframe\">\n",
              "  <thead>\n",
              "    <tr style=\"text-align: right;\">\n",
              "      <th></th>\n",
              "      <th>Confirmed</th>\n",
              "      <th>Deaths</th>\n",
              "      <th>Recovered</th>\n",
              "    </tr>\n",
              "    <tr>\n",
              "      <th>ObservationDate</th>\n",
              "      <th></th>\n",
              "      <th></th>\n",
              "      <th></th>\n",
              "    </tr>\n",
              "  </thead>\n",
              "  <tbody>\n",
              "    <tr>\n",
              "      <th>2020-01-22</th>\n",
              "      <td>555.0</td>\n",
              "      <td>17.0</td>\n",
              "      <td>28.0</td>\n",
              "    </tr>\n",
              "    <tr>\n",
              "      <th>2020-01-23</th>\n",
              "      <td>653.0</td>\n",
              "      <td>18.0</td>\n",
              "      <td>30.0</td>\n",
              "    </tr>\n",
              "    <tr>\n",
              "      <th>2020-01-24</th>\n",
              "      <td>941.0</td>\n",
              "      <td>26.0</td>\n",
              "      <td>36.0</td>\n",
              "    </tr>\n",
              "    <tr>\n",
              "      <th>2020-01-25</th>\n",
              "      <td>1438.0</td>\n",
              "      <td>42.0</td>\n",
              "      <td>39.0</td>\n",
              "    </tr>\n",
              "    <tr>\n",
              "      <th>2020-01-26</th>\n",
              "      <td>2118.0</td>\n",
              "      <td>56.0</td>\n",
              "      <td>52.0</td>\n",
              "    </tr>\n",
              "    <tr>\n",
              "      <th>...</th>\n",
              "      <td>...</td>\n",
              "      <td>...</td>\n",
              "      <td>...</td>\n",
              "    </tr>\n",
              "    <tr>\n",
              "      <th>2020-08-05</th>\n",
              "      <td>18811953.0</td>\n",
              "      <td>707820.0</td>\n",
              "      <td>11356275.0</td>\n",
              "    </tr>\n",
              "    <tr>\n",
              "      <th>2020-08-06</th>\n",
              "      <td>19097149.0</td>\n",
              "      <td>714940.0</td>\n",
              "      <td>11545401.0</td>\n",
              "    </tr>\n",
              "    <tr>\n",
              "      <th>2020-08-07</th>\n",
              "      <td>19378036.0</td>\n",
              "      <td>721324.0</td>\n",
              "      <td>11737927.0</td>\n",
              "    </tr>\n",
              "    <tr>\n",
              "      <th>2020-08-08</th>\n",
              "      <td>19637506.0</td>\n",
              "      <td>726781.0</td>\n",
              "      <td>11939109.0</td>\n",
              "    </tr>\n",
              "    <tr>\n",
              "      <th>2020-08-09</th>\n",
              "      <td>19861683.0</td>\n",
              "      <td>731326.0</td>\n",
              "      <td>12115825.0</td>\n",
              "    </tr>\n",
              "  </tbody>\n",
              "</table>\n",
              "<p>201 rows × 3 columns</p>\n",
              "</div>"
            ],
            "text/plain": [
              "                  Confirmed    Deaths   Recovered\n",
              "ObservationDate                                  \n",
              "2020-01-22            555.0      17.0        28.0\n",
              "2020-01-23            653.0      18.0        30.0\n",
              "2020-01-24            941.0      26.0        36.0\n",
              "2020-01-25           1438.0      42.0        39.0\n",
              "2020-01-26           2118.0      56.0        52.0\n",
              "...                     ...       ...         ...\n",
              "2020-08-05       18811953.0  707820.0  11356275.0\n",
              "2020-08-06       19097149.0  714940.0  11545401.0\n",
              "2020-08-07       19378036.0  721324.0  11737927.0\n",
              "2020-08-08       19637506.0  726781.0  11939109.0\n",
              "2020-08-09       19861683.0  731326.0  12115825.0\n",
              "\n",
              "[201 rows x 3 columns]"
            ]
          },
          "metadata": {
            "tags": []
          },
          "execution_count": 12
        }
      ]
    },
    {
      "cell_type": "code",
      "metadata": {
        "id": "Vps-T3B4ySZh",
        "colab_type": "code",
        "colab": {
          "base_uri": "https://localhost:8080/",
          "height": 455
        },
        "outputId": "be10da80-2abc-4f44-b44c-a7377753b4da"
      },
      "source": [
        "df_time.diff()"
      ],
      "execution_count": 13,
      "outputs": [
        {
          "output_type": "execute_result",
          "data": {
            "text/html": [
              "<div>\n",
              "<style scoped>\n",
              "    .dataframe tbody tr th:only-of-type {\n",
              "        vertical-align: middle;\n",
              "    }\n",
              "\n",
              "    .dataframe tbody tr th {\n",
              "        vertical-align: top;\n",
              "    }\n",
              "\n",
              "    .dataframe thead th {\n",
              "        text-align: right;\n",
              "    }\n",
              "</style>\n",
              "<table border=\"1\" class=\"dataframe\">\n",
              "  <thead>\n",
              "    <tr style=\"text-align: right;\">\n",
              "      <th></th>\n",
              "      <th>Confirmed</th>\n",
              "      <th>Deaths</th>\n",
              "      <th>Recovered</th>\n",
              "    </tr>\n",
              "    <tr>\n",
              "      <th>ObservationDate</th>\n",
              "      <th></th>\n",
              "      <th></th>\n",
              "      <th></th>\n",
              "    </tr>\n",
              "  </thead>\n",
              "  <tbody>\n",
              "    <tr>\n",
              "      <th>2020-01-22</th>\n",
              "      <td>NaN</td>\n",
              "      <td>NaN</td>\n",
              "      <td>NaN</td>\n",
              "    </tr>\n",
              "    <tr>\n",
              "      <th>2020-01-23</th>\n",
              "      <td>98.0</td>\n",
              "      <td>1.0</td>\n",
              "      <td>2.0</td>\n",
              "    </tr>\n",
              "    <tr>\n",
              "      <th>2020-01-24</th>\n",
              "      <td>288.0</td>\n",
              "      <td>8.0</td>\n",
              "      <td>6.0</td>\n",
              "    </tr>\n",
              "    <tr>\n",
              "      <th>2020-01-25</th>\n",
              "      <td>497.0</td>\n",
              "      <td>16.0</td>\n",
              "      <td>3.0</td>\n",
              "    </tr>\n",
              "    <tr>\n",
              "      <th>2020-01-26</th>\n",
              "      <td>680.0</td>\n",
              "      <td>14.0</td>\n",
              "      <td>13.0</td>\n",
              "    </tr>\n",
              "    <tr>\n",
              "      <th>...</th>\n",
              "      <td>...</td>\n",
              "      <td>...</td>\n",
              "      <td>...</td>\n",
              "    </tr>\n",
              "    <tr>\n",
              "      <th>2020-08-05</th>\n",
              "      <td>271164.0</td>\n",
              "      <td>7084.0</td>\n",
              "      <td>221540.0</td>\n",
              "    </tr>\n",
              "    <tr>\n",
              "      <th>2020-08-06</th>\n",
              "      <td>285196.0</td>\n",
              "      <td>7120.0</td>\n",
              "      <td>189126.0</td>\n",
              "    </tr>\n",
              "    <tr>\n",
              "      <th>2020-08-07</th>\n",
              "      <td>280887.0</td>\n",
              "      <td>6384.0</td>\n",
              "      <td>192526.0</td>\n",
              "    </tr>\n",
              "    <tr>\n",
              "      <th>2020-08-08</th>\n",
              "      <td>259470.0</td>\n",
              "      <td>5457.0</td>\n",
              "      <td>201182.0</td>\n",
              "    </tr>\n",
              "    <tr>\n",
              "      <th>2020-08-09</th>\n",
              "      <td>224177.0</td>\n",
              "      <td>4545.0</td>\n",
              "      <td>176716.0</td>\n",
              "    </tr>\n",
              "  </tbody>\n",
              "</table>\n",
              "<p>201 rows × 3 columns</p>\n",
              "</div>"
            ],
            "text/plain": [
              "                 Confirmed  Deaths  Recovered\n",
              "ObservationDate                              \n",
              "2020-01-22             NaN     NaN        NaN\n",
              "2020-01-23            98.0     1.0        2.0\n",
              "2020-01-24           288.0     8.0        6.0\n",
              "2020-01-25           497.0    16.0        3.0\n",
              "2020-01-26           680.0    14.0       13.0\n",
              "...                    ...     ...        ...\n",
              "2020-08-05        271164.0  7084.0   221540.0\n",
              "2020-08-06        285196.0  7120.0   189126.0\n",
              "2020-08-07        280887.0  6384.0   192526.0\n",
              "2020-08-08        259470.0  5457.0   201182.0\n",
              "2020-08-09        224177.0  4545.0   176716.0\n",
              "\n",
              "[201 rows x 3 columns]"
            ]
          },
          "metadata": {
            "tags": []
          },
          "execution_count": 13
        }
      ]
    },
    {
      "cell_type": "markdown",
      "metadata": {
        "id": "WofnhE4yy3-a",
        "colab_type": "text"
      },
      "source": [
        "Incluso podriamos ver el promedio de coronavirus por dia hasta la fecha."
      ]
    },
    {
      "cell_type": "code",
      "metadata": {
        "id": "DNVKuWNVy3gC",
        "colab_type": "code",
        "colab": {
          "base_uri": "https://localhost:8080/",
          "height": 86
        },
        "outputId": "0a827558-3182-4b6e-bad5-eb3946799899"
      },
      "source": [
        "df_time.diff().mean()"
      ],
      "execution_count": 14,
      "outputs": [
        {
          "output_type": "execute_result",
          "data": {
            "text/plain": [
              "Confirmed    99305.640\n",
              "Deaths        3656.545\n",
              "Recovered    60578.985\n",
              "dtype: float64"
            ]
          },
          "metadata": {
            "tags": []
          },
          "execution_count": 14
        }
      ]
    },
    {
      "cell_type": "markdown",
      "metadata": {
        "id": "F_6-8qh6zrEB",
        "colab_type": "text"
      },
      "source": [
        "En el dataframe que creamos la primer fila la tenemos con valores nulos ya que la función diff() el valor de la fila con el anterior, y como la primera no tiene con quien restar el valor es NaN."
      ]
    },
    {
      "cell_type": "code",
      "metadata": {
        "id": "SCyoNDzXyp_E",
        "colab_type": "code",
        "colab": {
          "base_uri": "https://localhost:8080/",
          "height": 455
        },
        "outputId": "14c89b5a-68af-4136-fec6-5da81b83b577"
      },
      "source": [
        "df_diff = df_time.diff()\n",
        "df_diff"
      ],
      "execution_count": 15,
      "outputs": [
        {
          "output_type": "execute_result",
          "data": {
            "text/html": [
              "<div>\n",
              "<style scoped>\n",
              "    .dataframe tbody tr th:only-of-type {\n",
              "        vertical-align: middle;\n",
              "    }\n",
              "\n",
              "    .dataframe tbody tr th {\n",
              "        vertical-align: top;\n",
              "    }\n",
              "\n",
              "    .dataframe thead th {\n",
              "        text-align: right;\n",
              "    }\n",
              "</style>\n",
              "<table border=\"1\" class=\"dataframe\">\n",
              "  <thead>\n",
              "    <tr style=\"text-align: right;\">\n",
              "      <th></th>\n",
              "      <th>Confirmed</th>\n",
              "      <th>Deaths</th>\n",
              "      <th>Recovered</th>\n",
              "    </tr>\n",
              "    <tr>\n",
              "      <th>ObservationDate</th>\n",
              "      <th></th>\n",
              "      <th></th>\n",
              "      <th></th>\n",
              "    </tr>\n",
              "  </thead>\n",
              "  <tbody>\n",
              "    <tr>\n",
              "      <th>2020-01-22</th>\n",
              "      <td>NaN</td>\n",
              "      <td>NaN</td>\n",
              "      <td>NaN</td>\n",
              "    </tr>\n",
              "    <tr>\n",
              "      <th>2020-01-23</th>\n",
              "      <td>98.0</td>\n",
              "      <td>1.0</td>\n",
              "      <td>2.0</td>\n",
              "    </tr>\n",
              "    <tr>\n",
              "      <th>2020-01-24</th>\n",
              "      <td>288.0</td>\n",
              "      <td>8.0</td>\n",
              "      <td>6.0</td>\n",
              "    </tr>\n",
              "    <tr>\n",
              "      <th>2020-01-25</th>\n",
              "      <td>497.0</td>\n",
              "      <td>16.0</td>\n",
              "      <td>3.0</td>\n",
              "    </tr>\n",
              "    <tr>\n",
              "      <th>2020-01-26</th>\n",
              "      <td>680.0</td>\n",
              "      <td>14.0</td>\n",
              "      <td>13.0</td>\n",
              "    </tr>\n",
              "    <tr>\n",
              "      <th>...</th>\n",
              "      <td>...</td>\n",
              "      <td>...</td>\n",
              "      <td>...</td>\n",
              "    </tr>\n",
              "    <tr>\n",
              "      <th>2020-08-05</th>\n",
              "      <td>271164.0</td>\n",
              "      <td>7084.0</td>\n",
              "      <td>221540.0</td>\n",
              "    </tr>\n",
              "    <tr>\n",
              "      <th>2020-08-06</th>\n",
              "      <td>285196.0</td>\n",
              "      <td>7120.0</td>\n",
              "      <td>189126.0</td>\n",
              "    </tr>\n",
              "    <tr>\n",
              "      <th>2020-08-07</th>\n",
              "      <td>280887.0</td>\n",
              "      <td>6384.0</td>\n",
              "      <td>192526.0</td>\n",
              "    </tr>\n",
              "    <tr>\n",
              "      <th>2020-08-08</th>\n",
              "      <td>259470.0</td>\n",
              "      <td>5457.0</td>\n",
              "      <td>201182.0</td>\n",
              "    </tr>\n",
              "    <tr>\n",
              "      <th>2020-08-09</th>\n",
              "      <td>224177.0</td>\n",
              "      <td>4545.0</td>\n",
              "      <td>176716.0</td>\n",
              "    </tr>\n",
              "  </tbody>\n",
              "</table>\n",
              "<p>201 rows × 3 columns</p>\n",
              "</div>"
            ],
            "text/plain": [
              "                 Confirmed  Deaths  Recovered\n",
              "ObservationDate                              \n",
              "2020-01-22             NaN     NaN        NaN\n",
              "2020-01-23            98.0     1.0        2.0\n",
              "2020-01-24           288.0     8.0        6.0\n",
              "2020-01-25           497.0    16.0        3.0\n",
              "2020-01-26           680.0    14.0       13.0\n",
              "...                    ...     ...        ...\n",
              "2020-08-05        271164.0  7084.0   221540.0\n",
              "2020-08-06        285196.0  7120.0   189126.0\n",
              "2020-08-07        280887.0  6384.0   192526.0\n",
              "2020-08-08        259470.0  5457.0   201182.0\n",
              "2020-08-09        224177.0  4545.0   176716.0\n",
              "\n",
              "[201 rows x 3 columns]"
            ]
          },
          "metadata": {
            "tags": []
          },
          "execution_count": 15
        }
      ]
    },
    {
      "cell_type": "markdown",
      "metadata": {
        "id": "MKzGzs0Wz6L6",
        "colab_type": "text"
      },
      "source": [
        "Vamos a usar fillna() para completar el registro"
      ]
    },
    {
      "cell_type": "code",
      "metadata": {
        "id": "yeY6qURjz03_",
        "colab_type": "code",
        "colab": {
          "base_uri": "https://localhost:8080/",
          "height": 112
        },
        "outputId": "82ac3c22-be9c-4a20-f6be-b006dcda1877"
      },
      "source": [
        "df_time.head(1)"
      ],
      "execution_count": 16,
      "outputs": [
        {
          "output_type": "execute_result",
          "data": {
            "text/html": [
              "<div>\n",
              "<style scoped>\n",
              "    .dataframe tbody tr th:only-of-type {\n",
              "        vertical-align: middle;\n",
              "    }\n",
              "\n",
              "    .dataframe tbody tr th {\n",
              "        vertical-align: top;\n",
              "    }\n",
              "\n",
              "    .dataframe thead th {\n",
              "        text-align: right;\n",
              "    }\n",
              "</style>\n",
              "<table border=\"1\" class=\"dataframe\">\n",
              "  <thead>\n",
              "    <tr style=\"text-align: right;\">\n",
              "      <th></th>\n",
              "      <th>Confirmed</th>\n",
              "      <th>Deaths</th>\n",
              "      <th>Recovered</th>\n",
              "    </tr>\n",
              "    <tr>\n",
              "      <th>ObservationDate</th>\n",
              "      <th></th>\n",
              "      <th></th>\n",
              "      <th></th>\n",
              "    </tr>\n",
              "  </thead>\n",
              "  <tbody>\n",
              "    <tr>\n",
              "      <th>2020-01-22</th>\n",
              "      <td>555.0</td>\n",
              "      <td>17.0</td>\n",
              "      <td>28.0</td>\n",
              "    </tr>\n",
              "  </tbody>\n",
              "</table>\n",
              "</div>"
            ],
            "text/plain": [
              "                 Confirmed  Deaths  Recovered\n",
              "ObservationDate                              \n",
              "2020-01-22           555.0    17.0       28.0"
            ]
          },
          "metadata": {
            "tags": []
          },
          "execution_count": 16
        }
      ]
    },
    {
      "cell_type": "markdown",
      "metadata": {
        "id": "wYuimoQV0T1l",
        "colab_type": "text"
      },
      "source": [
        "Generamos un diccionario con el registro para meterlo en el dataframe creado, lo copiamos y lo modificamos."
      ]
    },
    {
      "cell_type": "code",
      "metadata": {
        "id": "8r_zrwR00Ngo",
        "colab_type": "code",
        "colab": {
          "base_uri": "https://localhost:8080/",
          "height": 69
        },
        "outputId": "9561e216-8cb7-4831-fb85-26e2106011dd"
      },
      "source": [
        "df_time.head(1).to_dict()"
      ],
      "execution_count": 17,
      "outputs": [
        {
          "output_type": "execute_result",
          "data": {
            "text/plain": [
              "{'Confirmed': {Timestamp('2020-01-22 00:00:00'): 555.0},\n",
              " 'Deaths': {Timestamp('2020-01-22 00:00:00'): 17.0},\n",
              " 'Recovered': {Timestamp('2020-01-22 00:00:00'): 28.0}}"
            ]
          },
          "metadata": {
            "tags": []
          },
          "execution_count": 17
        }
      ]
    },
    {
      "cell_type": "code",
      "metadata": {
        "id": "sW8FHw_60Sgn",
        "colab_type": "code",
        "colab": {}
      },
      "source": [
        "df_diff = df_diff.fillna(\n",
        "    {'Confirmed': 555.0,\n",
        "     'Deaths': 17.0,\n",
        "     'Recovered': 28.0})"
      ],
      "execution_count": 18,
      "outputs": []
    },
    {
      "cell_type": "markdown",
      "metadata": {
        "id": "DdalVJehMWo8",
        "colab_type": "text"
      },
      "source": [
        "Ahora podemos ver el dataframe con el data faltante"
      ]
    },
    {
      "cell_type": "code",
      "metadata": {
        "id": "U_H_5A9LMSt0",
        "colab_type": "code",
        "colab": {
          "base_uri": "https://localhost:8080/",
          "height": 455
        },
        "outputId": "8c62e2fe-83c4-4b1d-9580-33aeedc18b4d"
      },
      "source": [
        "df_diff"
      ],
      "execution_count": 19,
      "outputs": [
        {
          "output_type": "execute_result",
          "data": {
            "text/html": [
              "<div>\n",
              "<style scoped>\n",
              "    .dataframe tbody tr th:only-of-type {\n",
              "        vertical-align: middle;\n",
              "    }\n",
              "\n",
              "    .dataframe tbody tr th {\n",
              "        vertical-align: top;\n",
              "    }\n",
              "\n",
              "    .dataframe thead th {\n",
              "        text-align: right;\n",
              "    }\n",
              "</style>\n",
              "<table border=\"1\" class=\"dataframe\">\n",
              "  <thead>\n",
              "    <tr style=\"text-align: right;\">\n",
              "      <th></th>\n",
              "      <th>Confirmed</th>\n",
              "      <th>Deaths</th>\n",
              "      <th>Recovered</th>\n",
              "    </tr>\n",
              "    <tr>\n",
              "      <th>ObservationDate</th>\n",
              "      <th></th>\n",
              "      <th></th>\n",
              "      <th></th>\n",
              "    </tr>\n",
              "  </thead>\n",
              "  <tbody>\n",
              "    <tr>\n",
              "      <th>2020-01-22</th>\n",
              "      <td>555.0</td>\n",
              "      <td>17.0</td>\n",
              "      <td>28.0</td>\n",
              "    </tr>\n",
              "    <tr>\n",
              "      <th>2020-01-23</th>\n",
              "      <td>98.0</td>\n",
              "      <td>1.0</td>\n",
              "      <td>2.0</td>\n",
              "    </tr>\n",
              "    <tr>\n",
              "      <th>2020-01-24</th>\n",
              "      <td>288.0</td>\n",
              "      <td>8.0</td>\n",
              "      <td>6.0</td>\n",
              "    </tr>\n",
              "    <tr>\n",
              "      <th>2020-01-25</th>\n",
              "      <td>497.0</td>\n",
              "      <td>16.0</td>\n",
              "      <td>3.0</td>\n",
              "    </tr>\n",
              "    <tr>\n",
              "      <th>2020-01-26</th>\n",
              "      <td>680.0</td>\n",
              "      <td>14.0</td>\n",
              "      <td>13.0</td>\n",
              "    </tr>\n",
              "    <tr>\n",
              "      <th>...</th>\n",
              "      <td>...</td>\n",
              "      <td>...</td>\n",
              "      <td>...</td>\n",
              "    </tr>\n",
              "    <tr>\n",
              "      <th>2020-08-05</th>\n",
              "      <td>271164.0</td>\n",
              "      <td>7084.0</td>\n",
              "      <td>221540.0</td>\n",
              "    </tr>\n",
              "    <tr>\n",
              "      <th>2020-08-06</th>\n",
              "      <td>285196.0</td>\n",
              "      <td>7120.0</td>\n",
              "      <td>189126.0</td>\n",
              "    </tr>\n",
              "    <tr>\n",
              "      <th>2020-08-07</th>\n",
              "      <td>280887.0</td>\n",
              "      <td>6384.0</td>\n",
              "      <td>192526.0</td>\n",
              "    </tr>\n",
              "    <tr>\n",
              "      <th>2020-08-08</th>\n",
              "      <td>259470.0</td>\n",
              "      <td>5457.0</td>\n",
              "      <td>201182.0</td>\n",
              "    </tr>\n",
              "    <tr>\n",
              "      <th>2020-08-09</th>\n",
              "      <td>224177.0</td>\n",
              "      <td>4545.0</td>\n",
              "      <td>176716.0</td>\n",
              "    </tr>\n",
              "  </tbody>\n",
              "</table>\n",
              "<p>201 rows × 3 columns</p>\n",
              "</div>"
            ],
            "text/plain": [
              "                 Confirmed  Deaths  Recovered\n",
              "ObservationDate                              \n",
              "2020-01-22           555.0    17.0       28.0\n",
              "2020-01-23            98.0     1.0        2.0\n",
              "2020-01-24           288.0     8.0        6.0\n",
              "2020-01-25           497.0    16.0        3.0\n",
              "2020-01-26           680.0    14.0       13.0\n",
              "...                    ...     ...        ...\n",
              "2020-08-05        271164.0  7084.0   221540.0\n",
              "2020-08-06        285196.0  7120.0   189126.0\n",
              "2020-08-07        280887.0  6384.0   192526.0\n",
              "2020-08-08        259470.0  5457.0   201182.0\n",
              "2020-08-09        224177.0  4545.0   176716.0\n",
              "\n",
              "[201 rows x 3 columns]"
            ]
          },
          "metadata": {
            "tags": []
          },
          "execution_count": 19
        }
      ]
    },
    {
      "cell_type": "markdown",
      "metadata": {
        "id": "e0NN3jXjMb_6",
        "colab_type": "text"
      },
      "source": [
        "Y podemos ver las suma acumulativa "
      ]
    },
    {
      "cell_type": "code",
      "metadata": {
        "id": "6gqiPUqs0yzC",
        "colab_type": "code",
        "colab": {
          "base_uri": "https://localhost:8080/",
          "height": 455
        },
        "outputId": "162f8a41-e56d-409a-887a-aa27bed4bfd5"
      },
      "source": [
        "df_diff.cumsum()"
      ],
      "execution_count": 20,
      "outputs": [
        {
          "output_type": "execute_result",
          "data": {
            "text/html": [
              "<div>\n",
              "<style scoped>\n",
              "    .dataframe tbody tr th:only-of-type {\n",
              "        vertical-align: middle;\n",
              "    }\n",
              "\n",
              "    .dataframe tbody tr th {\n",
              "        vertical-align: top;\n",
              "    }\n",
              "\n",
              "    .dataframe thead th {\n",
              "        text-align: right;\n",
              "    }\n",
              "</style>\n",
              "<table border=\"1\" class=\"dataframe\">\n",
              "  <thead>\n",
              "    <tr style=\"text-align: right;\">\n",
              "      <th></th>\n",
              "      <th>Confirmed</th>\n",
              "      <th>Deaths</th>\n",
              "      <th>Recovered</th>\n",
              "    </tr>\n",
              "    <tr>\n",
              "      <th>ObservationDate</th>\n",
              "      <th></th>\n",
              "      <th></th>\n",
              "      <th></th>\n",
              "    </tr>\n",
              "  </thead>\n",
              "  <tbody>\n",
              "    <tr>\n",
              "      <th>2020-01-22</th>\n",
              "      <td>555.0</td>\n",
              "      <td>17.0</td>\n",
              "      <td>28.0</td>\n",
              "    </tr>\n",
              "    <tr>\n",
              "      <th>2020-01-23</th>\n",
              "      <td>653.0</td>\n",
              "      <td>18.0</td>\n",
              "      <td>30.0</td>\n",
              "    </tr>\n",
              "    <tr>\n",
              "      <th>2020-01-24</th>\n",
              "      <td>941.0</td>\n",
              "      <td>26.0</td>\n",
              "      <td>36.0</td>\n",
              "    </tr>\n",
              "    <tr>\n",
              "      <th>2020-01-25</th>\n",
              "      <td>1438.0</td>\n",
              "      <td>42.0</td>\n",
              "      <td>39.0</td>\n",
              "    </tr>\n",
              "    <tr>\n",
              "      <th>2020-01-26</th>\n",
              "      <td>2118.0</td>\n",
              "      <td>56.0</td>\n",
              "      <td>52.0</td>\n",
              "    </tr>\n",
              "    <tr>\n",
              "      <th>...</th>\n",
              "      <td>...</td>\n",
              "      <td>...</td>\n",
              "      <td>...</td>\n",
              "    </tr>\n",
              "    <tr>\n",
              "      <th>2020-08-05</th>\n",
              "      <td>18811953.0</td>\n",
              "      <td>707820.0</td>\n",
              "      <td>11356275.0</td>\n",
              "    </tr>\n",
              "    <tr>\n",
              "      <th>2020-08-06</th>\n",
              "      <td>19097149.0</td>\n",
              "      <td>714940.0</td>\n",
              "      <td>11545401.0</td>\n",
              "    </tr>\n",
              "    <tr>\n",
              "      <th>2020-08-07</th>\n",
              "      <td>19378036.0</td>\n",
              "      <td>721324.0</td>\n",
              "      <td>11737927.0</td>\n",
              "    </tr>\n",
              "    <tr>\n",
              "      <th>2020-08-08</th>\n",
              "      <td>19637506.0</td>\n",
              "      <td>726781.0</td>\n",
              "      <td>11939109.0</td>\n",
              "    </tr>\n",
              "    <tr>\n",
              "      <th>2020-08-09</th>\n",
              "      <td>19861683.0</td>\n",
              "      <td>731326.0</td>\n",
              "      <td>12115825.0</td>\n",
              "    </tr>\n",
              "  </tbody>\n",
              "</table>\n",
              "<p>201 rows × 3 columns</p>\n",
              "</div>"
            ],
            "text/plain": [
              "                  Confirmed    Deaths   Recovered\n",
              "ObservationDate                                  \n",
              "2020-01-22            555.0      17.0        28.0\n",
              "2020-01-23            653.0      18.0        30.0\n",
              "2020-01-24            941.0      26.0        36.0\n",
              "2020-01-25           1438.0      42.0        39.0\n",
              "2020-01-26           2118.0      56.0        52.0\n",
              "...                     ...       ...         ...\n",
              "2020-08-05       18811953.0  707820.0  11356275.0\n",
              "2020-08-06       19097149.0  714940.0  11545401.0\n",
              "2020-08-07       19378036.0  721324.0  11737927.0\n",
              "2020-08-08       19637506.0  726781.0  11939109.0\n",
              "2020-08-09       19861683.0  731326.0  12115825.0\n",
              "\n",
              "[201 rows x 3 columns]"
            ]
          },
          "metadata": {
            "tags": []
          },
          "execution_count": 20
        }
      ]
    },
    {
      "cell_type": "markdown",
      "metadata": {
        "id": "4Klai2j7qEHq",
        "colab_type": "text"
      },
      "source": [
        "## Extrayendo valor estadistico del dataframe"
      ]
    },
    {
      "cell_type": "markdown",
      "metadata": {
        "id": "HGOvKh1aM9hU",
        "colab_type": "text"
      },
      "source": [
        "Con **resample** podemos hacer algunas estimaciones estadisticas.\n",
        "Veremos la como utilizar función **resample** en **series de tiempo** para extraer **valor estadistico** de nuestros datos. Como ha ido cambiando el numero de casos observados dada una frecuencia determinada, como el mes o la semana.\n",
        "\n",
        "Puedo ver los casos cada 7 dias, por ejemplo."
      ]
    },
    {
      "cell_type": "code",
      "metadata": {
        "id": "S6qx1elN0_Z3",
        "colab_type": "code",
        "colab": {
          "base_uri": "https://localhost:8080/",
          "height": 990
        },
        "outputId": "13a821a6-8753-4b22-d367-8d04c10b0d10"
      },
      "source": [
        "df_diff.resample('7D').sum()"
      ],
      "execution_count": 21,
      "outputs": [
        {
          "output_type": "execute_result",
          "data": {
            "text/html": [
              "<div>\n",
              "<style scoped>\n",
              "    .dataframe tbody tr th:only-of-type {\n",
              "        vertical-align: middle;\n",
              "    }\n",
              "\n",
              "    .dataframe tbody tr th {\n",
              "        vertical-align: top;\n",
              "    }\n",
              "\n",
              "    .dataframe thead th {\n",
              "        text-align: right;\n",
              "    }\n",
              "</style>\n",
              "<table border=\"1\" class=\"dataframe\">\n",
              "  <thead>\n",
              "    <tr style=\"text-align: right;\">\n",
              "      <th></th>\n",
              "      <th>Confirmed</th>\n",
              "      <th>Deaths</th>\n",
              "      <th>Recovered</th>\n",
              "    </tr>\n",
              "    <tr>\n",
              "      <th>ObservationDate</th>\n",
              "      <th></th>\n",
              "      <th></th>\n",
              "      <th></th>\n",
              "    </tr>\n",
              "  </thead>\n",
              "  <tbody>\n",
              "    <tr>\n",
              "      <th>2020-01-22</th>\n",
              "      <td>5578.0</td>\n",
              "      <td>131.0</td>\n",
              "      <td>107.0</td>\n",
              "    </tr>\n",
              "    <tr>\n",
              "      <th>2020-01-29</th>\n",
              "      <td>18314.0</td>\n",
              "      <td>361.0</td>\n",
              "      <td>745.0</td>\n",
              "    </tr>\n",
              "    <tr>\n",
              "      <th>2020-02-05</th>\n",
              "      <td>20911.0</td>\n",
              "      <td>621.0</td>\n",
              "      <td>3831.0</td>\n",
              "    </tr>\n",
              "    <tr>\n",
              "      <th>2020-02-12</th>\n",
              "      <td>30335.0</td>\n",
              "      <td>894.0</td>\n",
              "      <td>9669.0</td>\n",
              "    </tr>\n",
              "    <tr>\n",
              "      <th>2020-02-19</th>\n",
              "      <td>5277.0</td>\n",
              "      <td>701.0</td>\n",
              "      <td>13553.0</td>\n",
              "    </tr>\n",
              "    <tr>\n",
              "      <th>2020-02-26</th>\n",
              "      <td>12429.0</td>\n",
              "      <td>452.0</td>\n",
              "      <td>20324.0</td>\n",
              "    </tr>\n",
              "    <tr>\n",
              "      <th>2020-03-04</th>\n",
              "      <td>25738.0</td>\n",
              "      <td>1102.0</td>\n",
              "      <td>16175.0</td>\n",
              "    </tr>\n",
              "    <tr>\n",
              "      <th>2020-03-11</th>\n",
              "      <td>78586.0</td>\n",
              "      <td>3643.0</td>\n",
              "      <td>16436.0</td>\n",
              "    </tr>\n",
              "    <tr>\n",
              "      <th>2020-03-18</th>\n",
              "      <td>220794.0</td>\n",
              "      <td>10710.0</td>\n",
              "      <td>26859.0</td>\n",
              "    </tr>\n",
              "    <tr>\n",
              "      <th>2020-03-25</th>\n",
              "      <td>439525.0</td>\n",
              "      <td>23492.0</td>\n",
              "      <td>70329.0</td>\n",
              "    </tr>\n",
              "    <tr>\n",
              "      <th>2020-04-01</th>\n",
              "      <td>568609.0</td>\n",
              "      <td>39758.0</td>\n",
              "      <td>122026.0</td>\n",
              "    </tr>\n",
              "    <tr>\n",
              "      <th>2020-04-08</th>\n",
              "      <td>550096.0</td>\n",
              "      <td>44119.0</td>\n",
              "      <td>174207.0</td>\n",
              "    </tr>\n",
              "    <tr>\n",
              "      <th>2020-04-15</th>\n",
              "      <td>572931.0</td>\n",
              "      <td>50599.0</td>\n",
              "      <td>205558.0</td>\n",
              "    </tr>\n",
              "    <tr>\n",
              "      <th>2020-04-22</th>\n",
              "      <td>567275.0</td>\n",
              "      <td>40570.0</td>\n",
              "      <td>248839.0</td>\n",
              "    </tr>\n",
              "    <tr>\n",
              "      <th>2020-04-29</th>\n",
              "      <td>546293.0</td>\n",
              "      <td>40086.0</td>\n",
              "      <td>270174.0</td>\n",
              "    </tr>\n",
              "    <tr>\n",
              "      <th>2020-05-06</th>\n",
              "      <td>599264.0</td>\n",
              "      <td>34725.0</td>\n",
              "      <td>294582.0</td>\n",
              "    </tr>\n",
              "    <tr>\n",
              "      <th>2020-05-13</th>\n",
              "      <td>635537.0</td>\n",
              "      <td>31321.0</td>\n",
              "      <td>345581.0</td>\n",
              "    </tr>\n",
              "    <tr>\n",
              "      <th>2020-05-20</th>\n",
              "      <td>692134.0</td>\n",
              "      <td>27168.0</td>\n",
              "      <td>447961.0</td>\n",
              "    </tr>\n",
              "    <tr>\n",
              "      <th>2020-05-27</th>\n",
              "      <td>796738.0</td>\n",
              "      <td>29930.0</td>\n",
              "      <td>442571.0</td>\n",
              "    </tr>\n",
              "    <tr>\n",
              "      <th>2020-06-03</th>\n",
              "      <td>855949.0</td>\n",
              "      <td>31053.0</td>\n",
              "      <td>646146.0</td>\n",
              "    </tr>\n",
              "    <tr>\n",
              "      <th>2020-06-10</th>\n",
              "      <td>931627.0</td>\n",
              "      <td>32249.0</td>\n",
              "      <td>579496.0</td>\n",
              "    </tr>\n",
              "    <tr>\n",
              "      <th>2020-06-17</th>\n",
              "      <td>1089526.0</td>\n",
              "      <td>33899.0</td>\n",
              "      <td>675222.0</td>\n",
              "    </tr>\n",
              "    <tr>\n",
              "      <th>2020-06-24</th>\n",
              "      <td>1212372.0</td>\n",
              "      <td>33669.0</td>\n",
              "      <td>722881.0</td>\n",
              "    </tr>\n",
              "    <tr>\n",
              "      <th>2020-07-01</th>\n",
              "      <td>1353764.0</td>\n",
              "      <td>32910.0</td>\n",
              "      <td>1094384.0</td>\n",
              "    </tr>\n",
              "    <tr>\n",
              "      <th>2020-07-08</th>\n",
              "      <td>1494455.0</td>\n",
              "      <td>34483.0</td>\n",
              "      <td>951818.0</td>\n",
              "    </tr>\n",
              "    <tr>\n",
              "      <th>2020-07-15</th>\n",
              "      <td>1623371.0</td>\n",
              "      <td>37797.0</td>\n",
              "      <td>1067516.0</td>\n",
              "    </tr>\n",
              "    <tr>\n",
              "      <th>2020-07-22</th>\n",
              "      <td>1744099.0</td>\n",
              "      <td>43179.0</td>\n",
              "      <td>1244197.0</td>\n",
              "    </tr>\n",
              "    <tr>\n",
              "      <th>2020-07-29</th>\n",
              "      <td>1849262.0</td>\n",
              "      <td>41114.0</td>\n",
              "      <td>1423548.0</td>\n",
              "    </tr>\n",
              "    <tr>\n",
              "      <th>2020-08-05</th>\n",
              "      <td>1320894.0</td>\n",
              "      <td>30590.0</td>\n",
              "      <td>981090.0</td>\n",
              "    </tr>\n",
              "  </tbody>\n",
              "</table>\n",
              "</div>"
            ],
            "text/plain": [
              "                 Confirmed   Deaths  Recovered\n",
              "ObservationDate                               \n",
              "2020-01-22          5578.0    131.0      107.0\n",
              "2020-01-29         18314.0    361.0      745.0\n",
              "2020-02-05         20911.0    621.0     3831.0\n",
              "2020-02-12         30335.0    894.0     9669.0\n",
              "2020-02-19          5277.0    701.0    13553.0\n",
              "2020-02-26         12429.0    452.0    20324.0\n",
              "2020-03-04         25738.0   1102.0    16175.0\n",
              "2020-03-11         78586.0   3643.0    16436.0\n",
              "2020-03-18        220794.0  10710.0    26859.0\n",
              "2020-03-25        439525.0  23492.0    70329.0\n",
              "2020-04-01        568609.0  39758.0   122026.0\n",
              "2020-04-08        550096.0  44119.0   174207.0\n",
              "2020-04-15        572931.0  50599.0   205558.0\n",
              "2020-04-22        567275.0  40570.0   248839.0\n",
              "2020-04-29        546293.0  40086.0   270174.0\n",
              "2020-05-06        599264.0  34725.0   294582.0\n",
              "2020-05-13        635537.0  31321.0   345581.0\n",
              "2020-05-20        692134.0  27168.0   447961.0\n",
              "2020-05-27        796738.0  29930.0   442571.0\n",
              "2020-06-03        855949.0  31053.0   646146.0\n",
              "2020-06-10        931627.0  32249.0   579496.0\n",
              "2020-06-17       1089526.0  33899.0   675222.0\n",
              "2020-06-24       1212372.0  33669.0   722881.0\n",
              "2020-07-01       1353764.0  32910.0  1094384.0\n",
              "2020-07-08       1494455.0  34483.0   951818.0\n",
              "2020-07-15       1623371.0  37797.0  1067516.0\n",
              "2020-07-22       1744099.0  43179.0  1244197.0\n",
              "2020-07-29       1849262.0  41114.0  1423548.0\n",
              "2020-08-05       1320894.0  30590.0   981090.0"
            ]
          },
          "metadata": {
            "tags": []
          },
          "execution_count": 21
        }
      ]
    },
    {
      "cell_type": "markdown",
      "metadata": {
        "id": "DLj-OH-4N19l",
        "colab_type": "text"
      },
      "source": [
        "Tambien podria ver los casos cada 7 dias, pero especificamente cada domingo:"
      ]
    },
    {
      "cell_type": "code",
      "metadata": {
        "id": "zuQS46_zNdEr",
        "colab_type": "code",
        "colab": {
          "base_uri": "https://localhost:8080/",
          "height": 990
        },
        "outputId": "97cf4457-f840-47d5-e288-9f8463946167"
      },
      "source": [
        "df_diff.resample('W-Sun').sum()"
      ],
      "execution_count": 22,
      "outputs": [
        {
          "output_type": "execute_result",
          "data": {
            "text/html": [
              "<div>\n",
              "<style scoped>\n",
              "    .dataframe tbody tr th:only-of-type {\n",
              "        vertical-align: middle;\n",
              "    }\n",
              "\n",
              "    .dataframe tbody tr th {\n",
              "        vertical-align: top;\n",
              "    }\n",
              "\n",
              "    .dataframe thead th {\n",
              "        text-align: right;\n",
              "    }\n",
              "</style>\n",
              "<table border=\"1\" class=\"dataframe\">\n",
              "  <thead>\n",
              "    <tr style=\"text-align: right;\">\n",
              "      <th></th>\n",
              "      <th>Confirmed</th>\n",
              "      <th>Deaths</th>\n",
              "      <th>Recovered</th>\n",
              "    </tr>\n",
              "    <tr>\n",
              "      <th>ObservationDate</th>\n",
              "      <th></th>\n",
              "      <th></th>\n",
              "      <th></th>\n",
              "    </tr>\n",
              "  </thead>\n",
              "  <tbody>\n",
              "    <tr>\n",
              "      <th>2020-01-26</th>\n",
              "      <td>2118.0</td>\n",
              "      <td>56.0</td>\n",
              "      <td>52.0</td>\n",
              "    </tr>\n",
              "    <tr>\n",
              "      <th>2020-02-02</th>\n",
              "      <td>14669.0</td>\n",
              "      <td>306.0</td>\n",
              "      <td>420.0</td>\n",
              "    </tr>\n",
              "    <tr>\n",
              "      <th>2020-02-09</th>\n",
              "      <td>23364.0</td>\n",
              "      <td>544.0</td>\n",
              "      <td>2772.0</td>\n",
              "    </tr>\n",
              "    <tr>\n",
              "      <th>2020-02-16</th>\n",
              "      <td>31075.0</td>\n",
              "      <td>864.0</td>\n",
              "      <td>7621.0</td>\n",
              "    </tr>\n",
              "    <tr>\n",
              "      <th>2020-02-23</th>\n",
              "      <td>7759.0</td>\n",
              "      <td>699.0</td>\n",
              "      <td>12529.0</td>\n",
              "    </tr>\n",
              "    <tr>\n",
              "      <th>2020-03-01</th>\n",
              "      <td>9386.0</td>\n",
              "      <td>527.0</td>\n",
              "      <td>19322.0</td>\n",
              "    </tr>\n",
              "    <tr>\n",
              "      <th>2020-03-08</th>\n",
              "      <td>21464.0</td>\n",
              "      <td>807.0</td>\n",
              "      <td>17979.0</td>\n",
              "    </tr>\n",
              "    <tr>\n",
              "      <th>2020-03-15</th>\n",
              "      <td>57612.0</td>\n",
              "      <td>2637.0</td>\n",
              "      <td>15339.0</td>\n",
              "    </tr>\n",
              "    <tr>\n",
              "      <th>2020-03-22</th>\n",
              "      <td>169675.0</td>\n",
              "      <td>8183.0</td>\n",
              "      <td>21209.0</td>\n",
              "    </tr>\n",
              "    <tr>\n",
              "      <th>2020-03-29</th>\n",
              "      <td>383018.0</td>\n",
              "      <td>19302.0</td>\n",
              "      <td>51833.0</td>\n",
              "    </tr>\n",
              "    <tr>\n",
              "      <th>2020-04-05</th>\n",
              "      <td>551975.0</td>\n",
              "      <td>35449.0</td>\n",
              "      <td>110936.0</td>\n",
              "    </tr>\n",
              "    <tr>\n",
              "      <th>2020-04-12</th>\n",
              "      <td>574565.0</td>\n",
              "      <td>44715.0</td>\n",
              "      <td>161710.0</td>\n",
              "    </tr>\n",
              "    <tr>\n",
              "      <th>2020-04-19</th>\n",
              "      <td>554699.0</td>\n",
              "      <td>50955.0</td>\n",
              "      <td>202181.0</td>\n",
              "    </tr>\n",
              "    <tr>\n",
              "      <th>2020-04-26</th>\n",
              "      <td>570096.0</td>\n",
              "      <td>41500.0</td>\n",
              "      <td>241830.0</td>\n",
              "    </tr>\n",
              "    <tr>\n",
              "      <th>2020-05-03</th>\n",
              "      <td>535254.0</td>\n",
              "      <td>40926.0</td>\n",
              "      <td>259503.0</td>\n",
              "    </tr>\n",
              "    <tr>\n",
              "      <th>2020-05-10</th>\n",
              "      <td>594970.0</td>\n",
              "      <td>35239.0</td>\n",
              "      <td>283744.0</td>\n",
              "    </tr>\n",
              "    <tr>\n",
              "      <th>2020-05-17</th>\n",
              "      <td>611921.0</td>\n",
              "      <td>32476.0</td>\n",
              "      <td>324983.0</td>\n",
              "    </tr>\n",
              "    <tr>\n",
              "      <th>2020-05-24</th>\n",
              "      <td>693993.0</td>\n",
              "      <td>29874.0</td>\n",
              "      <td>434600.0</td>\n",
              "    </tr>\n",
              "    <tr>\n",
              "      <th>2020-05-31</th>\n",
              "      <td>759333.0</td>\n",
              "      <td>26976.0</td>\n",
              "      <td>472766.0</td>\n",
              "    </tr>\n",
              "    <tr>\n",
              "      <th>2020-06-07</th>\n",
              "      <td>843636.0</td>\n",
              "      <td>30709.0</td>\n",
              "      <td>499591.0</td>\n",
              "    </tr>\n",
              "    <tr>\n",
              "      <th>2020-06-14</th>\n",
              "      <td>890342.0</td>\n",
              "      <td>30322.0</td>\n",
              "      <td>628792.0</td>\n",
              "    </tr>\n",
              "    <tr>\n",
              "      <th>2020-06-21</th>\n",
              "      <td>1054612.0</td>\n",
              "      <td>35299.0</td>\n",
              "      <td>677374.0</td>\n",
              "    </tr>\n",
              "    <tr>\n",
              "      <th>2020-06-28</th>\n",
              "      <td>1190255.0</td>\n",
              "      <td>33528.0</td>\n",
              "      <td>693813.0</td>\n",
              "    </tr>\n",
              "    <tr>\n",
              "      <th>2020-07-05</th>\n",
              "      <td>1303916.0</td>\n",
              "      <td>32374.0</td>\n",
              "      <td>1038107.0</td>\n",
              "    </tr>\n",
              "    <tr>\n",
              "      <th>2020-07-12</th>\n",
              "      <td>1460650.0</td>\n",
              "      <td>34861.0</td>\n",
              "      <td>937951.0</td>\n",
              "    </tr>\n",
              "    <tr>\n",
              "      <th>2020-07-19</th>\n",
              "      <td>1597134.0</td>\n",
              "      <td>37045.0</td>\n",
              "      <td>1016706.0</td>\n",
              "    </tr>\n",
              "    <tr>\n",
              "      <th>2020-07-26</th>\n",
              "      <td>1745050.0</td>\n",
              "      <td>42464.0</td>\n",
              "      <td>1263842.0</td>\n",
              "    </tr>\n",
              "    <tr>\n",
              "      <th>2020-08-02</th>\n",
              "      <td>1826975.0</td>\n",
              "      <td>40723.0</td>\n",
              "      <td>1293050.0</td>\n",
              "    </tr>\n",
              "    <tr>\n",
              "      <th>2020-08-09</th>\n",
              "      <td>1782167.0</td>\n",
              "      <td>41966.0</td>\n",
              "      <td>1425270.0</td>\n",
              "    </tr>\n",
              "  </tbody>\n",
              "</table>\n",
              "</div>"
            ],
            "text/plain": [
              "                 Confirmed   Deaths  Recovered\n",
              "ObservationDate                               \n",
              "2020-01-26          2118.0     56.0       52.0\n",
              "2020-02-02         14669.0    306.0      420.0\n",
              "2020-02-09         23364.0    544.0     2772.0\n",
              "2020-02-16         31075.0    864.0     7621.0\n",
              "2020-02-23          7759.0    699.0    12529.0\n",
              "2020-03-01          9386.0    527.0    19322.0\n",
              "2020-03-08         21464.0    807.0    17979.0\n",
              "2020-03-15         57612.0   2637.0    15339.0\n",
              "2020-03-22        169675.0   8183.0    21209.0\n",
              "2020-03-29        383018.0  19302.0    51833.0\n",
              "2020-04-05        551975.0  35449.0   110936.0\n",
              "2020-04-12        574565.0  44715.0   161710.0\n",
              "2020-04-19        554699.0  50955.0   202181.0\n",
              "2020-04-26        570096.0  41500.0   241830.0\n",
              "2020-05-03        535254.0  40926.0   259503.0\n",
              "2020-05-10        594970.0  35239.0   283744.0\n",
              "2020-05-17        611921.0  32476.0   324983.0\n",
              "2020-05-24        693993.0  29874.0   434600.0\n",
              "2020-05-31        759333.0  26976.0   472766.0\n",
              "2020-06-07        843636.0  30709.0   499591.0\n",
              "2020-06-14        890342.0  30322.0   628792.0\n",
              "2020-06-21       1054612.0  35299.0   677374.0\n",
              "2020-06-28       1190255.0  33528.0   693813.0\n",
              "2020-07-05       1303916.0  32374.0  1038107.0\n",
              "2020-07-12       1460650.0  34861.0   937951.0\n",
              "2020-07-19       1597134.0  37045.0  1016706.0\n",
              "2020-07-26       1745050.0  42464.0  1263842.0\n",
              "2020-08-02       1826975.0  40723.0  1293050.0\n",
              "2020-08-09       1782167.0  41966.0  1425270.0"
            ]
          },
          "metadata": {
            "tags": []
          },
          "execution_count": 22
        }
      ]
    },
    {
      "cell_type": "markdown",
      "metadata": {
        "id": "znuMvaB9OHr4",
        "colab_type": "text"
      },
      "source": [
        "O la suma mensual de casos de covid-19 de forma mensual"
      ]
    },
    {
      "cell_type": "code",
      "metadata": {
        "id": "sB7jqCy3N_yA",
        "colab_type": "code",
        "colab": {
          "base_uri": "https://localhost:8080/",
          "height": 332
        },
        "outputId": "31bf4ad8-f5a8-4e4a-d8fb-5b8158d8a0b9"
      },
      "source": [
        "df_diff.resample('M').sum()"
      ],
      "execution_count": 23,
      "outputs": [
        {
          "output_type": "execute_result",
          "data": {
            "text/html": [
              "<div>\n",
              "<style scoped>\n",
              "    .dataframe tbody tr th:only-of-type {\n",
              "        vertical-align: middle;\n",
              "    }\n",
              "\n",
              "    .dataframe tbody tr th {\n",
              "        vertical-align: top;\n",
              "    }\n",
              "\n",
              "    .dataframe thead th {\n",
              "        text-align: right;\n",
              "    }\n",
              "</style>\n",
              "<table border=\"1\" class=\"dataframe\">\n",
              "  <thead>\n",
              "    <tr style=\"text-align: right;\">\n",
              "      <th></th>\n",
              "      <th>Confirmed</th>\n",
              "      <th>Deaths</th>\n",
              "      <th>Recovered</th>\n",
              "    </tr>\n",
              "    <tr>\n",
              "      <th>ObservationDate</th>\n",
              "      <th></th>\n",
              "      <th></th>\n",
              "      <th></th>\n",
              "    </tr>\n",
              "  </thead>\n",
              "  <tbody>\n",
              "    <tr>\n",
              "      <th>2020-01-31</th>\n",
              "      <td>9925.0</td>\n",
              "      <td>213.0</td>\n",
              "      <td>222.0</td>\n",
              "    </tr>\n",
              "    <tr>\n",
              "      <th>2020-02-29</th>\n",
              "      <td>76088.0</td>\n",
              "      <td>2728.0</td>\n",
              "      <td>39560.0</td>\n",
              "    </tr>\n",
              "    <tr>\n",
              "      <th>2020-03-31</th>\n",
              "      <td>771474.0</td>\n",
              "      <td>39166.0</td>\n",
              "      <td>138246.0</td>\n",
              "    </tr>\n",
              "    <tr>\n",
              "      <th>2020-04-30</th>\n",
              "      <td>2399359.0</td>\n",
              "      <td>191281.0</td>\n",
              "      <td>836725.0</td>\n",
              "    </tr>\n",
              "    <tr>\n",
              "      <th>2020-05-31</th>\n",
              "      <td>2910100.0</td>\n",
              "      <td>138647.0</td>\n",
              "      <td>1626576.0</td>\n",
              "    </tr>\n",
              "    <tr>\n",
              "      <th>2020-06-30</th>\n",
              "      <td>4308892.0</td>\n",
              "      <td>139218.0</td>\n",
              "      <td>2711943.0</td>\n",
              "    </tr>\n",
              "    <tr>\n",
              "      <th>2020-07-31</th>\n",
              "      <td>7123998.0</td>\n",
              "      <td>168247.0</td>\n",
              "      <td>5015868.0</td>\n",
              "    </tr>\n",
              "    <tr>\n",
              "      <th>2020-08-31</th>\n",
              "      <td>2261847.0</td>\n",
              "      <td>51826.0</td>\n",
              "      <td>1746685.0</td>\n",
              "    </tr>\n",
              "  </tbody>\n",
              "</table>\n",
              "</div>"
            ],
            "text/plain": [
              "                 Confirmed    Deaths  Recovered\n",
              "ObservationDate                                \n",
              "2020-01-31          9925.0     213.0      222.0\n",
              "2020-02-29         76088.0    2728.0    39560.0\n",
              "2020-03-31        771474.0   39166.0   138246.0\n",
              "2020-04-30       2399359.0  191281.0   836725.0\n",
              "2020-05-31       2910100.0  138647.0  1626576.0\n",
              "2020-06-30       4308892.0  139218.0  2711943.0\n",
              "2020-07-31       7123998.0  168247.0  5015868.0\n",
              "2020-08-31       2261847.0   51826.0  1746685.0"
            ]
          },
          "metadata": {
            "tags": []
          },
          "execution_count": 23
        }
      ]
    },
    {
      "cell_type": "markdown",
      "metadata": {
        "id": "dAZmfob2OfwL",
        "colab_type": "text"
      },
      "source": [
        "Contemos cuantos dias tienen los meses, esto nos va a dar una mirada de los  "
      ]
    },
    {
      "cell_type": "code",
      "metadata": {
        "id": "EjA67KbNOMvT",
        "colab_type": "code",
        "colab": {
          "base_uri": "https://localhost:8080/",
          "height": 332
        },
        "outputId": "c794d4de-911e-481b-d41d-d55d4d8d4556"
      },
      "source": [
        "df_diff.resample('M').count()"
      ],
      "execution_count": 24,
      "outputs": [
        {
          "output_type": "execute_result",
          "data": {
            "text/html": [
              "<div>\n",
              "<style scoped>\n",
              "    .dataframe tbody tr th:only-of-type {\n",
              "        vertical-align: middle;\n",
              "    }\n",
              "\n",
              "    .dataframe tbody tr th {\n",
              "        vertical-align: top;\n",
              "    }\n",
              "\n",
              "    .dataframe thead th {\n",
              "        text-align: right;\n",
              "    }\n",
              "</style>\n",
              "<table border=\"1\" class=\"dataframe\">\n",
              "  <thead>\n",
              "    <tr style=\"text-align: right;\">\n",
              "      <th></th>\n",
              "      <th>Confirmed</th>\n",
              "      <th>Deaths</th>\n",
              "      <th>Recovered</th>\n",
              "    </tr>\n",
              "    <tr>\n",
              "      <th>ObservationDate</th>\n",
              "      <th></th>\n",
              "      <th></th>\n",
              "      <th></th>\n",
              "    </tr>\n",
              "  </thead>\n",
              "  <tbody>\n",
              "    <tr>\n",
              "      <th>2020-01-31</th>\n",
              "      <td>10</td>\n",
              "      <td>10</td>\n",
              "      <td>10</td>\n",
              "    </tr>\n",
              "    <tr>\n",
              "      <th>2020-02-29</th>\n",
              "      <td>29</td>\n",
              "      <td>29</td>\n",
              "      <td>29</td>\n",
              "    </tr>\n",
              "    <tr>\n",
              "      <th>2020-03-31</th>\n",
              "      <td>31</td>\n",
              "      <td>31</td>\n",
              "      <td>31</td>\n",
              "    </tr>\n",
              "    <tr>\n",
              "      <th>2020-04-30</th>\n",
              "      <td>30</td>\n",
              "      <td>30</td>\n",
              "      <td>30</td>\n",
              "    </tr>\n",
              "    <tr>\n",
              "      <th>2020-05-31</th>\n",
              "      <td>31</td>\n",
              "      <td>31</td>\n",
              "      <td>31</td>\n",
              "    </tr>\n",
              "    <tr>\n",
              "      <th>2020-06-30</th>\n",
              "      <td>30</td>\n",
              "      <td>30</td>\n",
              "      <td>30</td>\n",
              "    </tr>\n",
              "    <tr>\n",
              "      <th>2020-07-31</th>\n",
              "      <td>31</td>\n",
              "      <td>31</td>\n",
              "      <td>31</td>\n",
              "    </tr>\n",
              "    <tr>\n",
              "      <th>2020-08-31</th>\n",
              "      <td>9</td>\n",
              "      <td>9</td>\n",
              "      <td>9</td>\n",
              "    </tr>\n",
              "  </tbody>\n",
              "</table>\n",
              "</div>"
            ],
            "text/plain": [
              "                 Confirmed  Deaths  Recovered\n",
              "ObservationDate                              \n",
              "2020-01-31              10      10         10\n",
              "2020-02-29              29      29         29\n",
              "2020-03-31              31      31         31\n",
              "2020-04-30              30      30         30\n",
              "2020-05-31              31      31         31\n",
              "2020-06-30              30      30         30\n",
              "2020-07-31              31      31         31\n",
              "2020-08-31               9       9          9"
            ]
          },
          "metadata": {
            "tags": []
          },
          "execution_count": 24
        }
      ]
    },
    {
      "cell_type": "code",
      "metadata": {
        "id": "b4LFi_UyOXT2",
        "colab_type": "code",
        "colab": {
          "base_uri": "https://localhost:8080/",
          "height": 332
        },
        "outputId": "82606dde-0761-42f1-e211-db1dc30ea23b"
      },
      "source": [
        "df_diff.resample('M').mean()"
      ],
      "execution_count": 25,
      "outputs": [
        {
          "output_type": "execute_result",
          "data": {
            "text/html": [
              "<div>\n",
              "<style scoped>\n",
              "    .dataframe tbody tr th:only-of-type {\n",
              "        vertical-align: middle;\n",
              "    }\n",
              "\n",
              "    .dataframe tbody tr th {\n",
              "        vertical-align: top;\n",
              "    }\n",
              "\n",
              "    .dataframe thead th {\n",
              "        text-align: right;\n",
              "    }\n",
              "</style>\n",
              "<table border=\"1\" class=\"dataframe\">\n",
              "  <thead>\n",
              "    <tr style=\"text-align: right;\">\n",
              "      <th></th>\n",
              "      <th>Confirmed</th>\n",
              "      <th>Deaths</th>\n",
              "      <th>Recovered</th>\n",
              "    </tr>\n",
              "    <tr>\n",
              "      <th>ObservationDate</th>\n",
              "      <th></th>\n",
              "      <th></th>\n",
              "      <th></th>\n",
              "    </tr>\n",
              "  </thead>\n",
              "  <tbody>\n",
              "    <tr>\n",
              "      <th>2020-01-31</th>\n",
              "      <td>992.500000</td>\n",
              "      <td>21.300000</td>\n",
              "      <td>22.200000</td>\n",
              "    </tr>\n",
              "    <tr>\n",
              "      <th>2020-02-29</th>\n",
              "      <td>2623.724138</td>\n",
              "      <td>94.068966</td>\n",
              "      <td>1364.137931</td>\n",
              "    </tr>\n",
              "    <tr>\n",
              "      <th>2020-03-31</th>\n",
              "      <td>24886.258065</td>\n",
              "      <td>1263.419355</td>\n",
              "      <td>4459.548387</td>\n",
              "    </tr>\n",
              "    <tr>\n",
              "      <th>2020-04-30</th>\n",
              "      <td>79978.633333</td>\n",
              "      <td>6376.033333</td>\n",
              "      <td>27890.833333</td>\n",
              "    </tr>\n",
              "    <tr>\n",
              "      <th>2020-05-31</th>\n",
              "      <td>93874.193548</td>\n",
              "      <td>4472.483871</td>\n",
              "      <td>52470.193548</td>\n",
              "    </tr>\n",
              "    <tr>\n",
              "      <th>2020-06-30</th>\n",
              "      <td>143629.733333</td>\n",
              "      <td>4640.600000</td>\n",
              "      <td>90398.100000</td>\n",
              "    </tr>\n",
              "    <tr>\n",
              "      <th>2020-07-31</th>\n",
              "      <td>229806.387097</td>\n",
              "      <td>5427.322581</td>\n",
              "      <td>161802.193548</td>\n",
              "    </tr>\n",
              "    <tr>\n",
              "      <th>2020-08-31</th>\n",
              "      <td>251316.333333</td>\n",
              "      <td>5758.444444</td>\n",
              "      <td>194076.111111</td>\n",
              "    </tr>\n",
              "  </tbody>\n",
              "</table>\n",
              "</div>"
            ],
            "text/plain": [
              "                     Confirmed       Deaths      Recovered\n",
              "ObservationDate                                           \n",
              "2020-01-31          992.500000    21.300000      22.200000\n",
              "2020-02-29         2623.724138    94.068966    1364.137931\n",
              "2020-03-31        24886.258065  1263.419355    4459.548387\n",
              "2020-04-30        79978.633333  6376.033333   27890.833333\n",
              "2020-05-31        93874.193548  4472.483871   52470.193548\n",
              "2020-06-30       143629.733333  4640.600000   90398.100000\n",
              "2020-07-31       229806.387097  5427.322581  161802.193548\n",
              "2020-08-31       251316.333333  5758.444444  194076.111111"
            ]
          },
          "metadata": {
            "tags": []
          },
          "execution_count": 25
        }
      ]
    },
    {
      "cell_type": "markdown",
      "metadata": {
        "id": "lSVNSgfGtYYc",
        "colab_type": "text"
      },
      "source": [
        "# Series de Tiempo - variables nulas\n",
        "\n",
        "Vamos a ver en mas profundidad las variables nulas y como trabajar con ellas. Tambien trabajaremos con graficos simples."
      ]
    },
    {
      "cell_type": "markdown",
      "metadata": {
        "id": "O3hVjYW4_ufT",
        "colab_type": "text"
      },
      "source": [
        "## Trabajando con variables nulas\n",
        "\n",
        "Lo que hicimos antes fue utilizar la función **resample** para extraer valor estadistico segun un intervalo definido por nosotros. Extrajimos la cantidad de observaciones de la cantidad de confirmados, muertos y recuperados por COVID-19 en una **frecuencia mensual**.\n",
        "\n",
        "Cambiemos nuestra frecuencia y veamos que pasa:"
      ]
    },
    {
      "cell_type": "code",
      "metadata": {
        "id": "aAxwWG7ToU_D",
        "colab_type": "code",
        "colab": {
          "base_uri": "https://localhost:8080/",
          "height": 455
        },
        "outputId": "076a258c-578e-4a13-fd6d-2d409cc7700b"
      },
      "source": [
        "df_diff.resample('12h').sum()"
      ],
      "execution_count": 26,
      "outputs": [
        {
          "output_type": "execute_result",
          "data": {
            "text/html": [
              "<div>\n",
              "<style scoped>\n",
              "    .dataframe tbody tr th:only-of-type {\n",
              "        vertical-align: middle;\n",
              "    }\n",
              "\n",
              "    .dataframe tbody tr th {\n",
              "        vertical-align: top;\n",
              "    }\n",
              "\n",
              "    .dataframe thead th {\n",
              "        text-align: right;\n",
              "    }\n",
              "</style>\n",
              "<table border=\"1\" class=\"dataframe\">\n",
              "  <thead>\n",
              "    <tr style=\"text-align: right;\">\n",
              "      <th></th>\n",
              "      <th>Confirmed</th>\n",
              "      <th>Deaths</th>\n",
              "      <th>Recovered</th>\n",
              "    </tr>\n",
              "    <tr>\n",
              "      <th>ObservationDate</th>\n",
              "      <th></th>\n",
              "      <th></th>\n",
              "      <th></th>\n",
              "    </tr>\n",
              "  </thead>\n",
              "  <tbody>\n",
              "    <tr>\n",
              "      <th>2020-01-22 00:00:00</th>\n",
              "      <td>555.0</td>\n",
              "      <td>17.0</td>\n",
              "      <td>28.0</td>\n",
              "    </tr>\n",
              "    <tr>\n",
              "      <th>2020-01-22 12:00:00</th>\n",
              "      <td>0.0</td>\n",
              "      <td>0.0</td>\n",
              "      <td>0.0</td>\n",
              "    </tr>\n",
              "    <tr>\n",
              "      <th>2020-01-23 00:00:00</th>\n",
              "      <td>98.0</td>\n",
              "      <td>1.0</td>\n",
              "      <td>2.0</td>\n",
              "    </tr>\n",
              "    <tr>\n",
              "      <th>2020-01-23 12:00:00</th>\n",
              "      <td>0.0</td>\n",
              "      <td>0.0</td>\n",
              "      <td>0.0</td>\n",
              "    </tr>\n",
              "    <tr>\n",
              "      <th>2020-01-24 00:00:00</th>\n",
              "      <td>288.0</td>\n",
              "      <td>8.0</td>\n",
              "      <td>6.0</td>\n",
              "    </tr>\n",
              "    <tr>\n",
              "      <th>...</th>\n",
              "      <td>...</td>\n",
              "      <td>...</td>\n",
              "      <td>...</td>\n",
              "    </tr>\n",
              "    <tr>\n",
              "      <th>2020-08-07 00:00:00</th>\n",
              "      <td>280887.0</td>\n",
              "      <td>6384.0</td>\n",
              "      <td>192526.0</td>\n",
              "    </tr>\n",
              "    <tr>\n",
              "      <th>2020-08-07 12:00:00</th>\n",
              "      <td>0.0</td>\n",
              "      <td>0.0</td>\n",
              "      <td>0.0</td>\n",
              "    </tr>\n",
              "    <tr>\n",
              "      <th>2020-08-08 00:00:00</th>\n",
              "      <td>259470.0</td>\n",
              "      <td>5457.0</td>\n",
              "      <td>201182.0</td>\n",
              "    </tr>\n",
              "    <tr>\n",
              "      <th>2020-08-08 12:00:00</th>\n",
              "      <td>0.0</td>\n",
              "      <td>0.0</td>\n",
              "      <td>0.0</td>\n",
              "    </tr>\n",
              "    <tr>\n",
              "      <th>2020-08-09 00:00:00</th>\n",
              "      <td>224177.0</td>\n",
              "      <td>4545.0</td>\n",
              "      <td>176716.0</td>\n",
              "    </tr>\n",
              "  </tbody>\n",
              "</table>\n",
              "<p>401 rows × 3 columns</p>\n",
              "</div>"
            ],
            "text/plain": [
              "                     Confirmed  Deaths  Recovered\n",
              "ObservationDate                                  \n",
              "2020-01-22 00:00:00      555.0    17.0       28.0\n",
              "2020-01-22 12:00:00        0.0     0.0        0.0\n",
              "2020-01-23 00:00:00       98.0     1.0        2.0\n",
              "2020-01-23 12:00:00        0.0     0.0        0.0\n",
              "2020-01-24 00:00:00      288.0     8.0        6.0\n",
              "...                        ...     ...        ...\n",
              "2020-08-07 00:00:00   280887.0  6384.0   192526.0\n",
              "2020-08-07 12:00:00        0.0     0.0        0.0\n",
              "2020-08-08 00:00:00   259470.0  5457.0   201182.0\n",
              "2020-08-08 12:00:00        0.0     0.0        0.0\n",
              "2020-08-09 00:00:00   224177.0  4545.0   176716.0\n",
              "\n",
              "[401 rows x 3 columns]"
            ]
          },
          "metadata": {
            "tags": []
          },
          "execution_count": 26
        }
      ]
    },
    {
      "cell_type": "markdown",
      "metadata": {
        "id": "gSQ9cx00uWMh",
        "colab_type": "text"
      },
      "source": [
        "Para cada intervalo de 12 horas donde yo no tenia datos previamente definidos se autocompleta con **0**, ahora si intento obtener el promedio, tendremos valores nulos:"
      ]
    },
    {
      "cell_type": "code",
      "metadata": {
        "id": "kuvGj1YMuTUJ",
        "colab_type": "code",
        "colab": {
          "base_uri": "https://localhost:8080/",
          "height": 455
        },
        "outputId": "85fad6d4-0e62-4672-a27d-433c40ad90c7"
      },
      "source": [
        "df_diff.resample('12h').mean()"
      ],
      "execution_count": 27,
      "outputs": [
        {
          "output_type": "execute_result",
          "data": {
            "text/html": [
              "<div>\n",
              "<style scoped>\n",
              "    .dataframe tbody tr th:only-of-type {\n",
              "        vertical-align: middle;\n",
              "    }\n",
              "\n",
              "    .dataframe tbody tr th {\n",
              "        vertical-align: top;\n",
              "    }\n",
              "\n",
              "    .dataframe thead th {\n",
              "        text-align: right;\n",
              "    }\n",
              "</style>\n",
              "<table border=\"1\" class=\"dataframe\">\n",
              "  <thead>\n",
              "    <tr style=\"text-align: right;\">\n",
              "      <th></th>\n",
              "      <th>Confirmed</th>\n",
              "      <th>Deaths</th>\n",
              "      <th>Recovered</th>\n",
              "    </tr>\n",
              "    <tr>\n",
              "      <th>ObservationDate</th>\n",
              "      <th></th>\n",
              "      <th></th>\n",
              "      <th></th>\n",
              "    </tr>\n",
              "  </thead>\n",
              "  <tbody>\n",
              "    <tr>\n",
              "      <th>2020-01-22 00:00:00</th>\n",
              "      <td>555.0</td>\n",
              "      <td>17.0</td>\n",
              "      <td>28.0</td>\n",
              "    </tr>\n",
              "    <tr>\n",
              "      <th>2020-01-22 12:00:00</th>\n",
              "      <td>NaN</td>\n",
              "      <td>NaN</td>\n",
              "      <td>NaN</td>\n",
              "    </tr>\n",
              "    <tr>\n",
              "      <th>2020-01-23 00:00:00</th>\n",
              "      <td>98.0</td>\n",
              "      <td>1.0</td>\n",
              "      <td>2.0</td>\n",
              "    </tr>\n",
              "    <tr>\n",
              "      <th>2020-01-23 12:00:00</th>\n",
              "      <td>NaN</td>\n",
              "      <td>NaN</td>\n",
              "      <td>NaN</td>\n",
              "    </tr>\n",
              "    <tr>\n",
              "      <th>2020-01-24 00:00:00</th>\n",
              "      <td>288.0</td>\n",
              "      <td>8.0</td>\n",
              "      <td>6.0</td>\n",
              "    </tr>\n",
              "    <tr>\n",
              "      <th>...</th>\n",
              "      <td>...</td>\n",
              "      <td>...</td>\n",
              "      <td>...</td>\n",
              "    </tr>\n",
              "    <tr>\n",
              "      <th>2020-08-07 00:00:00</th>\n",
              "      <td>280887.0</td>\n",
              "      <td>6384.0</td>\n",
              "      <td>192526.0</td>\n",
              "    </tr>\n",
              "    <tr>\n",
              "      <th>2020-08-07 12:00:00</th>\n",
              "      <td>NaN</td>\n",
              "      <td>NaN</td>\n",
              "      <td>NaN</td>\n",
              "    </tr>\n",
              "    <tr>\n",
              "      <th>2020-08-08 00:00:00</th>\n",
              "      <td>259470.0</td>\n",
              "      <td>5457.0</td>\n",
              "      <td>201182.0</td>\n",
              "    </tr>\n",
              "    <tr>\n",
              "      <th>2020-08-08 12:00:00</th>\n",
              "      <td>NaN</td>\n",
              "      <td>NaN</td>\n",
              "      <td>NaN</td>\n",
              "    </tr>\n",
              "    <tr>\n",
              "      <th>2020-08-09 00:00:00</th>\n",
              "      <td>224177.0</td>\n",
              "      <td>4545.0</td>\n",
              "      <td>176716.0</td>\n",
              "    </tr>\n",
              "  </tbody>\n",
              "</table>\n",
              "<p>401 rows × 3 columns</p>\n",
              "</div>"
            ],
            "text/plain": [
              "                     Confirmed  Deaths  Recovered\n",
              "ObservationDate                                  \n",
              "2020-01-22 00:00:00      555.0    17.0       28.0\n",
              "2020-01-22 12:00:00        NaN     NaN        NaN\n",
              "2020-01-23 00:00:00       98.0     1.0        2.0\n",
              "2020-01-23 12:00:00        NaN     NaN        NaN\n",
              "2020-01-24 00:00:00      288.0     8.0        6.0\n",
              "...                        ...     ...        ...\n",
              "2020-08-07 00:00:00   280887.0  6384.0   192526.0\n",
              "2020-08-07 12:00:00        NaN     NaN        NaN\n",
              "2020-08-08 00:00:00   259470.0  5457.0   201182.0\n",
              "2020-08-08 12:00:00        NaN     NaN        NaN\n",
              "2020-08-09 00:00:00   224177.0  4545.0   176716.0\n",
              "\n",
              "[401 rows x 3 columns]"
            ]
          },
          "metadata": {
            "tags": []
          },
          "execution_count": 27
        }
      ]
    },
    {
      "cell_type": "markdown",
      "metadata": {
        "id": "ThdNTPNuuvfZ",
        "colab_type": "text"
      },
      "source": [
        "Vamos a recuperar nuestra suma y obtener datos nulos, para luego poder trabajar con estos, y lo haremos con nuestro dataframe df_time, el cual tiene nuestros datos originales:"
      ]
    },
    {
      "cell_type": "code",
      "metadata": {
        "id": "PQ9GKCslukzz",
        "colab_type": "code",
        "colab": {
          "base_uri": "https://localhost:8080/",
          "height": 455
        },
        "outputId": "dc1fa4be-d9b9-45d6-adf1-d813ece1286f"
      },
      "source": [
        "df_cum = df_time.resample('12h').sum(min_count=1)\n",
        "df_cum"
      ],
      "execution_count": 28,
      "outputs": [
        {
          "output_type": "execute_result",
          "data": {
            "text/html": [
              "<div>\n",
              "<style scoped>\n",
              "    .dataframe tbody tr th:only-of-type {\n",
              "        vertical-align: middle;\n",
              "    }\n",
              "\n",
              "    .dataframe tbody tr th {\n",
              "        vertical-align: top;\n",
              "    }\n",
              "\n",
              "    .dataframe thead th {\n",
              "        text-align: right;\n",
              "    }\n",
              "</style>\n",
              "<table border=\"1\" class=\"dataframe\">\n",
              "  <thead>\n",
              "    <tr style=\"text-align: right;\">\n",
              "      <th></th>\n",
              "      <th>Confirmed</th>\n",
              "      <th>Deaths</th>\n",
              "      <th>Recovered</th>\n",
              "    </tr>\n",
              "    <tr>\n",
              "      <th>ObservationDate</th>\n",
              "      <th></th>\n",
              "      <th></th>\n",
              "      <th></th>\n",
              "    </tr>\n",
              "  </thead>\n",
              "  <tbody>\n",
              "    <tr>\n",
              "      <th>2020-01-22 00:00:00</th>\n",
              "      <td>555.0</td>\n",
              "      <td>17.0</td>\n",
              "      <td>28.0</td>\n",
              "    </tr>\n",
              "    <tr>\n",
              "      <th>2020-01-22 12:00:00</th>\n",
              "      <td>NaN</td>\n",
              "      <td>NaN</td>\n",
              "      <td>NaN</td>\n",
              "    </tr>\n",
              "    <tr>\n",
              "      <th>2020-01-23 00:00:00</th>\n",
              "      <td>653.0</td>\n",
              "      <td>18.0</td>\n",
              "      <td>30.0</td>\n",
              "    </tr>\n",
              "    <tr>\n",
              "      <th>2020-01-23 12:00:00</th>\n",
              "      <td>NaN</td>\n",
              "      <td>NaN</td>\n",
              "      <td>NaN</td>\n",
              "    </tr>\n",
              "    <tr>\n",
              "      <th>2020-01-24 00:00:00</th>\n",
              "      <td>941.0</td>\n",
              "      <td>26.0</td>\n",
              "      <td>36.0</td>\n",
              "    </tr>\n",
              "    <tr>\n",
              "      <th>...</th>\n",
              "      <td>...</td>\n",
              "      <td>...</td>\n",
              "      <td>...</td>\n",
              "    </tr>\n",
              "    <tr>\n",
              "      <th>2020-08-07 00:00:00</th>\n",
              "      <td>19378036.0</td>\n",
              "      <td>721324.0</td>\n",
              "      <td>11737927.0</td>\n",
              "    </tr>\n",
              "    <tr>\n",
              "      <th>2020-08-07 12:00:00</th>\n",
              "      <td>NaN</td>\n",
              "      <td>NaN</td>\n",
              "      <td>NaN</td>\n",
              "    </tr>\n",
              "    <tr>\n",
              "      <th>2020-08-08 00:00:00</th>\n",
              "      <td>19637506.0</td>\n",
              "      <td>726781.0</td>\n",
              "      <td>11939109.0</td>\n",
              "    </tr>\n",
              "    <tr>\n",
              "      <th>2020-08-08 12:00:00</th>\n",
              "      <td>NaN</td>\n",
              "      <td>NaN</td>\n",
              "      <td>NaN</td>\n",
              "    </tr>\n",
              "    <tr>\n",
              "      <th>2020-08-09 00:00:00</th>\n",
              "      <td>19861683.0</td>\n",
              "      <td>731326.0</td>\n",
              "      <td>12115825.0</td>\n",
              "    </tr>\n",
              "  </tbody>\n",
              "</table>\n",
              "<p>401 rows × 3 columns</p>\n",
              "</div>"
            ],
            "text/plain": [
              "                      Confirmed    Deaths   Recovered\n",
              "ObservationDate                                      \n",
              "2020-01-22 00:00:00       555.0      17.0        28.0\n",
              "2020-01-22 12:00:00         NaN       NaN         NaN\n",
              "2020-01-23 00:00:00       653.0      18.0        30.0\n",
              "2020-01-23 12:00:00         NaN       NaN         NaN\n",
              "2020-01-24 00:00:00       941.0      26.0        36.0\n",
              "...                         ...       ...         ...\n",
              "2020-08-07 00:00:00  19378036.0  721324.0  11737927.0\n",
              "2020-08-07 12:00:00         NaN       NaN         NaN\n",
              "2020-08-08 00:00:00  19637506.0  726781.0  11939109.0\n",
              "2020-08-08 12:00:00         NaN       NaN         NaN\n",
              "2020-08-09 00:00:00  19861683.0  731326.0  12115825.0\n",
              "\n",
              "[401 rows x 3 columns]"
            ]
          },
          "metadata": {
            "tags": []
          },
          "execution_count": 28
        }
      ]
    },
    {
      "cell_type": "markdown",
      "metadata": {
        "id": "IGCziQ3fvKLV",
        "colab_type": "text"
      },
      "source": [
        "Vamos a tratar de recupearar los datos nulos, existen 2 tipos de funciones para completar los valores nulos con los datos superiores o inferiores:"
      ]
    },
    {
      "cell_type": "code",
      "metadata": {
        "id": "yDCSiY7xu24V",
        "colab_type": "code",
        "colab": {
          "base_uri": "https://localhost:8080/",
          "height": 455
        },
        "outputId": "b2f2421a-cb40-4874-ffa2-2da89c3cb653"
      },
      "source": [
        "df_cum.bfill()  # Con los datos inferiores completo la celda superior"
      ],
      "execution_count": 29,
      "outputs": [
        {
          "output_type": "execute_result",
          "data": {
            "text/html": [
              "<div>\n",
              "<style scoped>\n",
              "    .dataframe tbody tr th:only-of-type {\n",
              "        vertical-align: middle;\n",
              "    }\n",
              "\n",
              "    .dataframe tbody tr th {\n",
              "        vertical-align: top;\n",
              "    }\n",
              "\n",
              "    .dataframe thead th {\n",
              "        text-align: right;\n",
              "    }\n",
              "</style>\n",
              "<table border=\"1\" class=\"dataframe\">\n",
              "  <thead>\n",
              "    <tr style=\"text-align: right;\">\n",
              "      <th></th>\n",
              "      <th>Confirmed</th>\n",
              "      <th>Deaths</th>\n",
              "      <th>Recovered</th>\n",
              "    </tr>\n",
              "    <tr>\n",
              "      <th>ObservationDate</th>\n",
              "      <th></th>\n",
              "      <th></th>\n",
              "      <th></th>\n",
              "    </tr>\n",
              "  </thead>\n",
              "  <tbody>\n",
              "    <tr>\n",
              "      <th>2020-01-22 00:00:00</th>\n",
              "      <td>555.0</td>\n",
              "      <td>17.0</td>\n",
              "      <td>28.0</td>\n",
              "    </tr>\n",
              "    <tr>\n",
              "      <th>2020-01-22 12:00:00</th>\n",
              "      <td>653.0</td>\n",
              "      <td>18.0</td>\n",
              "      <td>30.0</td>\n",
              "    </tr>\n",
              "    <tr>\n",
              "      <th>2020-01-23 00:00:00</th>\n",
              "      <td>653.0</td>\n",
              "      <td>18.0</td>\n",
              "      <td>30.0</td>\n",
              "    </tr>\n",
              "    <tr>\n",
              "      <th>2020-01-23 12:00:00</th>\n",
              "      <td>941.0</td>\n",
              "      <td>26.0</td>\n",
              "      <td>36.0</td>\n",
              "    </tr>\n",
              "    <tr>\n",
              "      <th>2020-01-24 00:00:00</th>\n",
              "      <td>941.0</td>\n",
              "      <td>26.0</td>\n",
              "      <td>36.0</td>\n",
              "    </tr>\n",
              "    <tr>\n",
              "      <th>...</th>\n",
              "      <td>...</td>\n",
              "      <td>...</td>\n",
              "      <td>...</td>\n",
              "    </tr>\n",
              "    <tr>\n",
              "      <th>2020-08-07 00:00:00</th>\n",
              "      <td>19378036.0</td>\n",
              "      <td>721324.0</td>\n",
              "      <td>11737927.0</td>\n",
              "    </tr>\n",
              "    <tr>\n",
              "      <th>2020-08-07 12:00:00</th>\n",
              "      <td>19637506.0</td>\n",
              "      <td>726781.0</td>\n",
              "      <td>11939109.0</td>\n",
              "    </tr>\n",
              "    <tr>\n",
              "      <th>2020-08-08 00:00:00</th>\n",
              "      <td>19637506.0</td>\n",
              "      <td>726781.0</td>\n",
              "      <td>11939109.0</td>\n",
              "    </tr>\n",
              "    <tr>\n",
              "      <th>2020-08-08 12:00:00</th>\n",
              "      <td>19861683.0</td>\n",
              "      <td>731326.0</td>\n",
              "      <td>12115825.0</td>\n",
              "    </tr>\n",
              "    <tr>\n",
              "      <th>2020-08-09 00:00:00</th>\n",
              "      <td>19861683.0</td>\n",
              "      <td>731326.0</td>\n",
              "      <td>12115825.0</td>\n",
              "    </tr>\n",
              "  </tbody>\n",
              "</table>\n",
              "<p>401 rows × 3 columns</p>\n",
              "</div>"
            ],
            "text/plain": [
              "                      Confirmed    Deaths   Recovered\n",
              "ObservationDate                                      \n",
              "2020-01-22 00:00:00       555.0      17.0        28.0\n",
              "2020-01-22 12:00:00       653.0      18.0        30.0\n",
              "2020-01-23 00:00:00       653.0      18.0        30.0\n",
              "2020-01-23 12:00:00       941.0      26.0        36.0\n",
              "2020-01-24 00:00:00       941.0      26.0        36.0\n",
              "...                         ...       ...         ...\n",
              "2020-08-07 00:00:00  19378036.0  721324.0  11737927.0\n",
              "2020-08-07 12:00:00  19637506.0  726781.0  11939109.0\n",
              "2020-08-08 00:00:00  19637506.0  726781.0  11939109.0\n",
              "2020-08-08 12:00:00  19861683.0  731326.0  12115825.0\n",
              "2020-08-09 00:00:00  19861683.0  731326.0  12115825.0\n",
              "\n",
              "[401 rows x 3 columns]"
            ]
          },
          "metadata": {
            "tags": []
          },
          "execution_count": 29
        }
      ]
    },
    {
      "cell_type": "code",
      "metadata": {
        "id": "PE6KxodWvRZ_",
        "colab_type": "code",
        "colab": {
          "base_uri": "https://localhost:8080/",
          "height": 455
        },
        "outputId": "a4a33ff8-9d65-4183-b505-dd4f4b5ab818"
      },
      "source": [
        "df_cum.ffill()  # Con los datos superiores completo la celda inferior"
      ],
      "execution_count": 30,
      "outputs": [
        {
          "output_type": "execute_result",
          "data": {
            "text/html": [
              "<div>\n",
              "<style scoped>\n",
              "    .dataframe tbody tr th:only-of-type {\n",
              "        vertical-align: middle;\n",
              "    }\n",
              "\n",
              "    .dataframe tbody tr th {\n",
              "        vertical-align: top;\n",
              "    }\n",
              "\n",
              "    .dataframe thead th {\n",
              "        text-align: right;\n",
              "    }\n",
              "</style>\n",
              "<table border=\"1\" class=\"dataframe\">\n",
              "  <thead>\n",
              "    <tr style=\"text-align: right;\">\n",
              "      <th></th>\n",
              "      <th>Confirmed</th>\n",
              "      <th>Deaths</th>\n",
              "      <th>Recovered</th>\n",
              "    </tr>\n",
              "    <tr>\n",
              "      <th>ObservationDate</th>\n",
              "      <th></th>\n",
              "      <th></th>\n",
              "      <th></th>\n",
              "    </tr>\n",
              "  </thead>\n",
              "  <tbody>\n",
              "    <tr>\n",
              "      <th>2020-01-22 00:00:00</th>\n",
              "      <td>555.0</td>\n",
              "      <td>17.0</td>\n",
              "      <td>28.0</td>\n",
              "    </tr>\n",
              "    <tr>\n",
              "      <th>2020-01-22 12:00:00</th>\n",
              "      <td>555.0</td>\n",
              "      <td>17.0</td>\n",
              "      <td>28.0</td>\n",
              "    </tr>\n",
              "    <tr>\n",
              "      <th>2020-01-23 00:00:00</th>\n",
              "      <td>653.0</td>\n",
              "      <td>18.0</td>\n",
              "      <td>30.0</td>\n",
              "    </tr>\n",
              "    <tr>\n",
              "      <th>2020-01-23 12:00:00</th>\n",
              "      <td>653.0</td>\n",
              "      <td>18.0</td>\n",
              "      <td>30.0</td>\n",
              "    </tr>\n",
              "    <tr>\n",
              "      <th>2020-01-24 00:00:00</th>\n",
              "      <td>941.0</td>\n",
              "      <td>26.0</td>\n",
              "      <td>36.0</td>\n",
              "    </tr>\n",
              "    <tr>\n",
              "      <th>...</th>\n",
              "      <td>...</td>\n",
              "      <td>...</td>\n",
              "      <td>...</td>\n",
              "    </tr>\n",
              "    <tr>\n",
              "      <th>2020-08-07 00:00:00</th>\n",
              "      <td>19378036.0</td>\n",
              "      <td>721324.0</td>\n",
              "      <td>11737927.0</td>\n",
              "    </tr>\n",
              "    <tr>\n",
              "      <th>2020-08-07 12:00:00</th>\n",
              "      <td>19378036.0</td>\n",
              "      <td>721324.0</td>\n",
              "      <td>11737927.0</td>\n",
              "    </tr>\n",
              "    <tr>\n",
              "      <th>2020-08-08 00:00:00</th>\n",
              "      <td>19637506.0</td>\n",
              "      <td>726781.0</td>\n",
              "      <td>11939109.0</td>\n",
              "    </tr>\n",
              "    <tr>\n",
              "      <th>2020-08-08 12:00:00</th>\n",
              "      <td>19637506.0</td>\n",
              "      <td>726781.0</td>\n",
              "      <td>11939109.0</td>\n",
              "    </tr>\n",
              "    <tr>\n",
              "      <th>2020-08-09 00:00:00</th>\n",
              "      <td>19861683.0</td>\n",
              "      <td>731326.0</td>\n",
              "      <td>12115825.0</td>\n",
              "    </tr>\n",
              "  </tbody>\n",
              "</table>\n",
              "<p>401 rows × 3 columns</p>\n",
              "</div>"
            ],
            "text/plain": [
              "                      Confirmed    Deaths   Recovered\n",
              "ObservationDate                                      \n",
              "2020-01-22 00:00:00       555.0      17.0        28.0\n",
              "2020-01-22 12:00:00       555.0      17.0        28.0\n",
              "2020-01-23 00:00:00       653.0      18.0        30.0\n",
              "2020-01-23 12:00:00       653.0      18.0        30.0\n",
              "2020-01-24 00:00:00       941.0      26.0        36.0\n",
              "...                         ...       ...         ...\n",
              "2020-08-07 00:00:00  19378036.0  721324.0  11737927.0\n",
              "2020-08-07 12:00:00  19378036.0  721324.0  11737927.0\n",
              "2020-08-08 00:00:00  19637506.0  726781.0  11939109.0\n",
              "2020-08-08 12:00:00  19637506.0  726781.0  11939109.0\n",
              "2020-08-09 00:00:00  19861683.0  731326.0  12115825.0\n",
              "\n",
              "[401 rows x 3 columns]"
            ]
          },
          "metadata": {
            "tags": []
          },
          "execution_count": 30
        }
      ]
    },
    {
      "cell_type": "markdown",
      "metadata": {
        "id": "UsINVDHgvqVr",
        "colab_type": "text"
      },
      "source": [
        "Incluso puedo reemplazar todos los valores nulos con valores que yo quiera:"
      ]
    },
    {
      "cell_type": "code",
      "metadata": {
        "id": "51vgzt0lvlio",
        "colab_type": "code",
        "colab": {
          "base_uri": "https://localhost:8080/",
          "height": 455
        },
        "outputId": "dfa1ec52-69bb-47a3-827a-a810b911c878"
      },
      "source": [
        "df_cum.fillna(-1000)"
      ],
      "execution_count": 31,
      "outputs": [
        {
          "output_type": "execute_result",
          "data": {
            "text/html": [
              "<div>\n",
              "<style scoped>\n",
              "    .dataframe tbody tr th:only-of-type {\n",
              "        vertical-align: middle;\n",
              "    }\n",
              "\n",
              "    .dataframe tbody tr th {\n",
              "        vertical-align: top;\n",
              "    }\n",
              "\n",
              "    .dataframe thead th {\n",
              "        text-align: right;\n",
              "    }\n",
              "</style>\n",
              "<table border=\"1\" class=\"dataframe\">\n",
              "  <thead>\n",
              "    <tr style=\"text-align: right;\">\n",
              "      <th></th>\n",
              "      <th>Confirmed</th>\n",
              "      <th>Deaths</th>\n",
              "      <th>Recovered</th>\n",
              "    </tr>\n",
              "    <tr>\n",
              "      <th>ObservationDate</th>\n",
              "      <th></th>\n",
              "      <th></th>\n",
              "      <th></th>\n",
              "    </tr>\n",
              "  </thead>\n",
              "  <tbody>\n",
              "    <tr>\n",
              "      <th>2020-01-22 00:00:00</th>\n",
              "      <td>555.0</td>\n",
              "      <td>17.0</td>\n",
              "      <td>28.0</td>\n",
              "    </tr>\n",
              "    <tr>\n",
              "      <th>2020-01-22 12:00:00</th>\n",
              "      <td>-1000.0</td>\n",
              "      <td>-1000.0</td>\n",
              "      <td>-1000.0</td>\n",
              "    </tr>\n",
              "    <tr>\n",
              "      <th>2020-01-23 00:00:00</th>\n",
              "      <td>653.0</td>\n",
              "      <td>18.0</td>\n",
              "      <td>30.0</td>\n",
              "    </tr>\n",
              "    <tr>\n",
              "      <th>2020-01-23 12:00:00</th>\n",
              "      <td>-1000.0</td>\n",
              "      <td>-1000.0</td>\n",
              "      <td>-1000.0</td>\n",
              "    </tr>\n",
              "    <tr>\n",
              "      <th>2020-01-24 00:00:00</th>\n",
              "      <td>941.0</td>\n",
              "      <td>26.0</td>\n",
              "      <td>36.0</td>\n",
              "    </tr>\n",
              "    <tr>\n",
              "      <th>...</th>\n",
              "      <td>...</td>\n",
              "      <td>...</td>\n",
              "      <td>...</td>\n",
              "    </tr>\n",
              "    <tr>\n",
              "      <th>2020-08-07 00:00:00</th>\n",
              "      <td>19378036.0</td>\n",
              "      <td>721324.0</td>\n",
              "      <td>11737927.0</td>\n",
              "    </tr>\n",
              "    <tr>\n",
              "      <th>2020-08-07 12:00:00</th>\n",
              "      <td>-1000.0</td>\n",
              "      <td>-1000.0</td>\n",
              "      <td>-1000.0</td>\n",
              "    </tr>\n",
              "    <tr>\n",
              "      <th>2020-08-08 00:00:00</th>\n",
              "      <td>19637506.0</td>\n",
              "      <td>726781.0</td>\n",
              "      <td>11939109.0</td>\n",
              "    </tr>\n",
              "    <tr>\n",
              "      <th>2020-08-08 12:00:00</th>\n",
              "      <td>-1000.0</td>\n",
              "      <td>-1000.0</td>\n",
              "      <td>-1000.0</td>\n",
              "    </tr>\n",
              "    <tr>\n",
              "      <th>2020-08-09 00:00:00</th>\n",
              "      <td>19861683.0</td>\n",
              "      <td>731326.0</td>\n",
              "      <td>12115825.0</td>\n",
              "    </tr>\n",
              "  </tbody>\n",
              "</table>\n",
              "<p>401 rows × 3 columns</p>\n",
              "</div>"
            ],
            "text/plain": [
              "                      Confirmed    Deaths   Recovered\n",
              "ObservationDate                                      \n",
              "2020-01-22 00:00:00       555.0      17.0        28.0\n",
              "2020-01-22 12:00:00     -1000.0   -1000.0     -1000.0\n",
              "2020-01-23 00:00:00       653.0      18.0        30.0\n",
              "2020-01-23 12:00:00     -1000.0   -1000.0     -1000.0\n",
              "2020-01-24 00:00:00       941.0      26.0        36.0\n",
              "...                         ...       ...         ...\n",
              "2020-08-07 00:00:00  19378036.0  721324.0  11737927.0\n",
              "2020-08-07 12:00:00     -1000.0   -1000.0     -1000.0\n",
              "2020-08-08 00:00:00  19637506.0  726781.0  11939109.0\n",
              "2020-08-08 12:00:00     -1000.0   -1000.0     -1000.0\n",
              "2020-08-09 00:00:00  19861683.0  731326.0  12115825.0\n",
              "\n",
              "[401 rows x 3 columns]"
            ]
          },
          "metadata": {
            "tags": []
          },
          "execution_count": 31
        }
      ]
    },
    {
      "cell_type": "markdown",
      "metadata": {
        "id": "-9kcxw5iv2lP",
        "colab_type": "text"
      },
      "source": [
        "Una buena opcion para datos nulos en series de tiempo es utilizar la funcion **interpolate**, esta funcion nos completara con un datos interpolado con la fila superior y la inferior, y agregará un posible dato que puede corresponder a dicha fila. Lo que hace es una **interpolación lineal**"
      ]
    },
    {
      "cell_type": "code",
      "metadata": {
        "id": "IbvtOtd6vyHa",
        "colab_type": "code",
        "colab": {
          "base_uri": "https://localhost:8080/",
          "height": 455
        },
        "outputId": "ba3ffa05-0659-4e49-f7a7-bd1aea3af427"
      },
      "source": [
        "df_cum = df_cum.interpolate()\n",
        "df_cum"
      ],
      "execution_count": 32,
      "outputs": [
        {
          "output_type": "execute_result",
          "data": {
            "text/html": [
              "<div>\n",
              "<style scoped>\n",
              "    .dataframe tbody tr th:only-of-type {\n",
              "        vertical-align: middle;\n",
              "    }\n",
              "\n",
              "    .dataframe tbody tr th {\n",
              "        vertical-align: top;\n",
              "    }\n",
              "\n",
              "    .dataframe thead th {\n",
              "        text-align: right;\n",
              "    }\n",
              "</style>\n",
              "<table border=\"1\" class=\"dataframe\">\n",
              "  <thead>\n",
              "    <tr style=\"text-align: right;\">\n",
              "      <th></th>\n",
              "      <th>Confirmed</th>\n",
              "      <th>Deaths</th>\n",
              "      <th>Recovered</th>\n",
              "    </tr>\n",
              "    <tr>\n",
              "      <th>ObservationDate</th>\n",
              "      <th></th>\n",
              "      <th></th>\n",
              "      <th></th>\n",
              "    </tr>\n",
              "  </thead>\n",
              "  <tbody>\n",
              "    <tr>\n",
              "      <th>2020-01-22 00:00:00</th>\n",
              "      <td>555.0</td>\n",
              "      <td>17.0</td>\n",
              "      <td>28.0</td>\n",
              "    </tr>\n",
              "    <tr>\n",
              "      <th>2020-01-22 12:00:00</th>\n",
              "      <td>604.0</td>\n",
              "      <td>17.5</td>\n",
              "      <td>29.0</td>\n",
              "    </tr>\n",
              "    <tr>\n",
              "      <th>2020-01-23 00:00:00</th>\n",
              "      <td>653.0</td>\n",
              "      <td>18.0</td>\n",
              "      <td>30.0</td>\n",
              "    </tr>\n",
              "    <tr>\n",
              "      <th>2020-01-23 12:00:00</th>\n",
              "      <td>797.0</td>\n",
              "      <td>22.0</td>\n",
              "      <td>33.0</td>\n",
              "    </tr>\n",
              "    <tr>\n",
              "      <th>2020-01-24 00:00:00</th>\n",
              "      <td>941.0</td>\n",
              "      <td>26.0</td>\n",
              "      <td>36.0</td>\n",
              "    </tr>\n",
              "    <tr>\n",
              "      <th>...</th>\n",
              "      <td>...</td>\n",
              "      <td>...</td>\n",
              "      <td>...</td>\n",
              "    </tr>\n",
              "    <tr>\n",
              "      <th>2020-08-07 00:00:00</th>\n",
              "      <td>19378036.0</td>\n",
              "      <td>721324.0</td>\n",
              "      <td>11737927.0</td>\n",
              "    </tr>\n",
              "    <tr>\n",
              "      <th>2020-08-07 12:00:00</th>\n",
              "      <td>19507771.0</td>\n",
              "      <td>724052.5</td>\n",
              "      <td>11838518.0</td>\n",
              "    </tr>\n",
              "    <tr>\n",
              "      <th>2020-08-08 00:00:00</th>\n",
              "      <td>19637506.0</td>\n",
              "      <td>726781.0</td>\n",
              "      <td>11939109.0</td>\n",
              "    </tr>\n",
              "    <tr>\n",
              "      <th>2020-08-08 12:00:00</th>\n",
              "      <td>19749594.5</td>\n",
              "      <td>729053.5</td>\n",
              "      <td>12027467.0</td>\n",
              "    </tr>\n",
              "    <tr>\n",
              "      <th>2020-08-09 00:00:00</th>\n",
              "      <td>19861683.0</td>\n",
              "      <td>731326.0</td>\n",
              "      <td>12115825.0</td>\n",
              "    </tr>\n",
              "  </tbody>\n",
              "</table>\n",
              "<p>401 rows × 3 columns</p>\n",
              "</div>"
            ],
            "text/plain": [
              "                      Confirmed    Deaths   Recovered\n",
              "ObservationDate                                      \n",
              "2020-01-22 00:00:00       555.0      17.0        28.0\n",
              "2020-01-22 12:00:00       604.0      17.5        29.0\n",
              "2020-01-23 00:00:00       653.0      18.0        30.0\n",
              "2020-01-23 12:00:00       797.0      22.0        33.0\n",
              "2020-01-24 00:00:00       941.0      26.0        36.0\n",
              "...                         ...       ...         ...\n",
              "2020-08-07 00:00:00  19378036.0  721324.0  11737927.0\n",
              "2020-08-07 12:00:00  19507771.0  724052.5  11838518.0\n",
              "2020-08-08 00:00:00  19637506.0  726781.0  11939109.0\n",
              "2020-08-08 12:00:00  19749594.5  729053.5  12027467.0\n",
              "2020-08-09 00:00:00  19861683.0  731326.0  12115825.0\n",
              "\n",
              "[401 rows x 3 columns]"
            ]
          },
          "metadata": {
            "tags": []
          },
          "execution_count": 32
        }
      ]
    },
    {
      "cell_type": "markdown",
      "metadata": {
        "id": "pq1OpT8P976T",
        "colab_type": "text"
      },
      "source": [
        "## Agrupando series de tiempo y graficando datos simples\n",
        "\n",
        "Utilizaremos herramientas de pandas para hacer analisis de series de tiempo, **como agrupar** cuando tenemos columnas de tipo tiempo, utilizando una función llamada **Grouper** y veremos la importancia de trabajar con **intervalos de tiempo** y calcular **suavizados de curvas**, usando **rolling()**.\n",
        "\n",
        "En general en la naturaleza haremos este tipo de analisis por ejemplo en:\n",
        "* temperaturas a lo largo de un año.\n",
        "* cuando realizamos proyecciones financieras."
      ]
    },
    {
      "cell_type": "markdown",
      "metadata": {
        "id": "PeqvPPWcwdqa",
        "colab_type": "text"
      },
      "source": [
        "Creemos una nueva columna, esta será la **tasa de supervivencia** al COVID-19"
      ]
    },
    {
      "cell_type": "code",
      "metadata": {
        "id": "g90BgbuswPOa",
        "colab_type": "code",
        "colab": {
          "base_uri": "https://localhost:8080/",
          "height": 424
        },
        "outputId": "4308761f-278a-46c5-f232-f0322ddd2eed"
      },
      "source": [
        "df_cum['rate'] = 1 - df_cum['Deaths'] / df_cum['Confirmed']\n",
        "df_cum"
      ],
      "execution_count": 37,
      "outputs": [
        {
          "output_type": "execute_result",
          "data": {
            "text/html": [
              "<div>\n",
              "<style scoped>\n",
              "    .dataframe tbody tr th:only-of-type {\n",
              "        vertical-align: middle;\n",
              "    }\n",
              "\n",
              "    .dataframe tbody tr th {\n",
              "        vertical-align: top;\n",
              "    }\n",
              "\n",
              "    .dataframe thead th {\n",
              "        text-align: right;\n",
              "    }\n",
              "</style>\n",
              "<table border=\"1\" class=\"dataframe\">\n",
              "  <thead>\n",
              "    <tr style=\"text-align: right;\">\n",
              "      <th></th>\n",
              "      <th>ObservationDate</th>\n",
              "      <th>Confirmed</th>\n",
              "      <th>Deaths</th>\n",
              "      <th>Recovered</th>\n",
              "      <th>rate-recovered</th>\n",
              "      <th>rate</th>\n",
              "    </tr>\n",
              "  </thead>\n",
              "  <tbody>\n",
              "    <tr>\n",
              "      <th>0</th>\n",
              "      <td>2020-01-22 00:00:00</td>\n",
              "      <td>555.0</td>\n",
              "      <td>17.0</td>\n",
              "      <td>28.0</td>\n",
              "      <td>0.969369</td>\n",
              "      <td>0.969369</td>\n",
              "    </tr>\n",
              "    <tr>\n",
              "      <th>1</th>\n",
              "      <td>2020-01-22 12:00:00</td>\n",
              "      <td>604.0</td>\n",
              "      <td>17.5</td>\n",
              "      <td>29.0</td>\n",
              "      <td>0.971026</td>\n",
              "      <td>0.971026</td>\n",
              "    </tr>\n",
              "    <tr>\n",
              "      <th>2</th>\n",
              "      <td>2020-01-23 00:00:00</td>\n",
              "      <td>653.0</td>\n",
              "      <td>18.0</td>\n",
              "      <td>30.0</td>\n",
              "      <td>0.972435</td>\n",
              "      <td>0.972435</td>\n",
              "    </tr>\n",
              "    <tr>\n",
              "      <th>3</th>\n",
              "      <td>2020-01-23 12:00:00</td>\n",
              "      <td>797.0</td>\n",
              "      <td>22.0</td>\n",
              "      <td>33.0</td>\n",
              "      <td>0.972396</td>\n",
              "      <td>0.972396</td>\n",
              "    </tr>\n",
              "    <tr>\n",
              "      <th>4</th>\n",
              "      <td>2020-01-24 00:00:00</td>\n",
              "      <td>941.0</td>\n",
              "      <td>26.0</td>\n",
              "      <td>36.0</td>\n",
              "      <td>0.972370</td>\n",
              "      <td>0.972370</td>\n",
              "    </tr>\n",
              "    <tr>\n",
              "      <th>...</th>\n",
              "      <td>...</td>\n",
              "      <td>...</td>\n",
              "      <td>...</td>\n",
              "      <td>...</td>\n",
              "      <td>...</td>\n",
              "      <td>...</td>\n",
              "    </tr>\n",
              "    <tr>\n",
              "      <th>396</th>\n",
              "      <td>2020-08-07 00:00:00</td>\n",
              "      <td>19378036.0</td>\n",
              "      <td>721324.0</td>\n",
              "      <td>11737927.0</td>\n",
              "      <td>0.962776</td>\n",
              "      <td>0.962776</td>\n",
              "    </tr>\n",
              "    <tr>\n",
              "      <th>397</th>\n",
              "      <td>2020-08-07 12:00:00</td>\n",
              "      <td>19507771.0</td>\n",
              "      <td>724052.5</td>\n",
              "      <td>11838518.0</td>\n",
              "      <td>0.962884</td>\n",
              "      <td>0.962884</td>\n",
              "    </tr>\n",
              "    <tr>\n",
              "      <th>398</th>\n",
              "      <td>2020-08-08 00:00:00</td>\n",
              "      <td>19637506.0</td>\n",
              "      <td>726781.0</td>\n",
              "      <td>11939109.0</td>\n",
              "      <td>0.962990</td>\n",
              "      <td>0.962990</td>\n",
              "    </tr>\n",
              "    <tr>\n",
              "      <th>399</th>\n",
              "      <td>2020-08-08 12:00:00</td>\n",
              "      <td>19749594.5</td>\n",
              "      <td>729053.5</td>\n",
              "      <td>12027467.0</td>\n",
              "      <td>0.963085</td>\n",
              "      <td>0.963085</td>\n",
              "    </tr>\n",
              "    <tr>\n",
              "      <th>400</th>\n",
              "      <td>2020-08-09 00:00:00</td>\n",
              "      <td>19861683.0</td>\n",
              "      <td>731326.0</td>\n",
              "      <td>12115825.0</td>\n",
              "      <td>0.963179</td>\n",
              "      <td>0.963179</td>\n",
              "    </tr>\n",
              "  </tbody>\n",
              "</table>\n",
              "<p>401 rows × 6 columns</p>\n",
              "</div>"
            ],
            "text/plain": [
              "        ObservationDate   Confirmed  ...  rate-recovered      rate\n",
              "0   2020-01-22 00:00:00       555.0  ...        0.969369  0.969369\n",
              "1   2020-01-22 12:00:00       604.0  ...        0.971026  0.971026\n",
              "2   2020-01-23 00:00:00       653.0  ...        0.972435  0.972435\n",
              "3   2020-01-23 12:00:00       797.0  ...        0.972396  0.972396\n",
              "4   2020-01-24 00:00:00       941.0  ...        0.972370  0.972370\n",
              "..                  ...         ...  ...             ...       ...\n",
              "396 2020-08-07 00:00:00  19378036.0  ...        0.962776  0.962776\n",
              "397 2020-08-07 12:00:00  19507771.0  ...        0.962884  0.962884\n",
              "398 2020-08-08 00:00:00  19637506.0  ...        0.962990  0.962990\n",
              "399 2020-08-08 12:00:00  19749594.5  ...        0.963085  0.963085\n",
              "400 2020-08-09 00:00:00  19861683.0  ...        0.963179  0.963179\n",
              "\n",
              "[401 rows x 6 columns]"
            ]
          },
          "metadata": {
            "tags": []
          },
          "execution_count": 37
        }
      ]
    },
    {
      "cell_type": "markdown",
      "metadata": {
        "id": "oLGzXnSNxpKq",
        "colab_type": "text"
      },
      "source": [
        "Eliminemos al tiempo como indice y contemplemos un nuevo tipo de base de datos, esto es cuando nuestra variable de tipo tiempo no pertenece al indice"
      ]
    },
    {
      "cell_type": "code",
      "metadata": {
        "id": "nU-WDfL5wyXI",
        "colab_type": "code",
        "colab": {
          "base_uri": "https://localhost:8080/",
          "height": 424
        },
        "outputId": "56b7fa54-ab5b-40be-9b3d-3fe3efa80441"
      },
      "source": [
        "df_cum = df_cum.reset_index()\n",
        "df_cum"
      ],
      "execution_count": 38,
      "outputs": [
        {
          "output_type": "execute_result",
          "data": {
            "text/html": [
              "<div>\n",
              "<style scoped>\n",
              "    .dataframe tbody tr th:only-of-type {\n",
              "        vertical-align: middle;\n",
              "    }\n",
              "\n",
              "    .dataframe tbody tr th {\n",
              "        vertical-align: top;\n",
              "    }\n",
              "\n",
              "    .dataframe thead th {\n",
              "        text-align: right;\n",
              "    }\n",
              "</style>\n",
              "<table border=\"1\" class=\"dataframe\">\n",
              "  <thead>\n",
              "    <tr style=\"text-align: right;\">\n",
              "      <th></th>\n",
              "      <th>index</th>\n",
              "      <th>ObservationDate</th>\n",
              "      <th>Confirmed</th>\n",
              "      <th>Deaths</th>\n",
              "      <th>Recovered</th>\n",
              "      <th>rate-recovered</th>\n",
              "      <th>rate</th>\n",
              "    </tr>\n",
              "  </thead>\n",
              "  <tbody>\n",
              "    <tr>\n",
              "      <th>0</th>\n",
              "      <td>0</td>\n",
              "      <td>2020-01-22 00:00:00</td>\n",
              "      <td>555.0</td>\n",
              "      <td>17.0</td>\n",
              "      <td>28.0</td>\n",
              "      <td>0.969369</td>\n",
              "      <td>0.969369</td>\n",
              "    </tr>\n",
              "    <tr>\n",
              "      <th>1</th>\n",
              "      <td>1</td>\n",
              "      <td>2020-01-22 12:00:00</td>\n",
              "      <td>604.0</td>\n",
              "      <td>17.5</td>\n",
              "      <td>29.0</td>\n",
              "      <td>0.971026</td>\n",
              "      <td>0.971026</td>\n",
              "    </tr>\n",
              "    <tr>\n",
              "      <th>2</th>\n",
              "      <td>2</td>\n",
              "      <td>2020-01-23 00:00:00</td>\n",
              "      <td>653.0</td>\n",
              "      <td>18.0</td>\n",
              "      <td>30.0</td>\n",
              "      <td>0.972435</td>\n",
              "      <td>0.972435</td>\n",
              "    </tr>\n",
              "    <tr>\n",
              "      <th>3</th>\n",
              "      <td>3</td>\n",
              "      <td>2020-01-23 12:00:00</td>\n",
              "      <td>797.0</td>\n",
              "      <td>22.0</td>\n",
              "      <td>33.0</td>\n",
              "      <td>0.972396</td>\n",
              "      <td>0.972396</td>\n",
              "    </tr>\n",
              "    <tr>\n",
              "      <th>4</th>\n",
              "      <td>4</td>\n",
              "      <td>2020-01-24 00:00:00</td>\n",
              "      <td>941.0</td>\n",
              "      <td>26.0</td>\n",
              "      <td>36.0</td>\n",
              "      <td>0.972370</td>\n",
              "      <td>0.972370</td>\n",
              "    </tr>\n",
              "    <tr>\n",
              "      <th>...</th>\n",
              "      <td>...</td>\n",
              "      <td>...</td>\n",
              "      <td>...</td>\n",
              "      <td>...</td>\n",
              "      <td>...</td>\n",
              "      <td>...</td>\n",
              "      <td>...</td>\n",
              "    </tr>\n",
              "    <tr>\n",
              "      <th>396</th>\n",
              "      <td>396</td>\n",
              "      <td>2020-08-07 00:00:00</td>\n",
              "      <td>19378036.0</td>\n",
              "      <td>721324.0</td>\n",
              "      <td>11737927.0</td>\n",
              "      <td>0.962776</td>\n",
              "      <td>0.962776</td>\n",
              "    </tr>\n",
              "    <tr>\n",
              "      <th>397</th>\n",
              "      <td>397</td>\n",
              "      <td>2020-08-07 12:00:00</td>\n",
              "      <td>19507771.0</td>\n",
              "      <td>724052.5</td>\n",
              "      <td>11838518.0</td>\n",
              "      <td>0.962884</td>\n",
              "      <td>0.962884</td>\n",
              "    </tr>\n",
              "    <tr>\n",
              "      <th>398</th>\n",
              "      <td>398</td>\n",
              "      <td>2020-08-08 00:00:00</td>\n",
              "      <td>19637506.0</td>\n",
              "      <td>726781.0</td>\n",
              "      <td>11939109.0</td>\n",
              "      <td>0.962990</td>\n",
              "      <td>0.962990</td>\n",
              "    </tr>\n",
              "    <tr>\n",
              "      <th>399</th>\n",
              "      <td>399</td>\n",
              "      <td>2020-08-08 12:00:00</td>\n",
              "      <td>19749594.5</td>\n",
              "      <td>729053.5</td>\n",
              "      <td>12027467.0</td>\n",
              "      <td>0.963085</td>\n",
              "      <td>0.963085</td>\n",
              "    </tr>\n",
              "    <tr>\n",
              "      <th>400</th>\n",
              "      <td>400</td>\n",
              "      <td>2020-08-09 00:00:00</td>\n",
              "      <td>19861683.0</td>\n",
              "      <td>731326.0</td>\n",
              "      <td>12115825.0</td>\n",
              "      <td>0.963179</td>\n",
              "      <td>0.963179</td>\n",
              "    </tr>\n",
              "  </tbody>\n",
              "</table>\n",
              "<p>401 rows × 7 columns</p>\n",
              "</div>"
            ],
            "text/plain": [
              "     index     ObservationDate  ...  rate-recovered      rate\n",
              "0        0 2020-01-22 00:00:00  ...        0.969369  0.969369\n",
              "1        1 2020-01-22 12:00:00  ...        0.971026  0.971026\n",
              "2        2 2020-01-23 00:00:00  ...        0.972435  0.972435\n",
              "3        3 2020-01-23 12:00:00  ...        0.972396  0.972396\n",
              "4        4 2020-01-24 00:00:00  ...        0.972370  0.972370\n",
              "..     ...                 ...  ...             ...       ...\n",
              "396    396 2020-08-07 00:00:00  ...        0.962776  0.962776\n",
              "397    397 2020-08-07 12:00:00  ...        0.962884  0.962884\n",
              "398    398 2020-08-08 00:00:00  ...        0.962990  0.962990\n",
              "399    399 2020-08-08 12:00:00  ...        0.963085  0.963085\n",
              "400    400 2020-08-09 00:00:00  ...        0.963179  0.963179\n",
              "\n",
              "[401 rows x 7 columns]"
            ]
          },
          "metadata": {
            "tags": []
          },
          "execution_count": 38
        }
      ]
    },
    {
      "cell_type": "markdown",
      "metadata": {
        "id": "GhXg9lJDx6EU",
        "colab_type": "text"
      },
      "source": [
        "Utilicemos un groupby especial para series de tiempo. Vamos a determinar una frecuencia en la cual haremos nuestra observación estadística, en este caso lo haremos mensual. Trabajaremos con la nueva columna que es la tasa de supervivencia y calcularemos la media."
      ]
    },
    {
      "cell_type": "code",
      "metadata": {
        "id": "_7RVQV_ixkXw",
        "colab_type": "code",
        "colab": {
          "base_uri": "https://localhost:8080/",
          "height": 332
        },
        "outputId": "9ebcf650-7591-4c76-8c1e-d5ea4c46c4c5"
      },
      "source": [
        "df_cum.groupby(pd.Grouper(key='ObservationDate', freq= 'M'))[['rate']].mean()"
      ],
      "execution_count": 39,
      "outputs": [
        {
          "output_type": "execute_result",
          "data": {
            "text/html": [
              "<div>\n",
              "<style scoped>\n",
              "    .dataframe tbody tr th:only-of-type {\n",
              "        vertical-align: middle;\n",
              "    }\n",
              "\n",
              "    .dataframe tbody tr th {\n",
              "        vertical-align: top;\n",
              "    }\n",
              "\n",
              "    .dataframe thead th {\n",
              "        text-align: right;\n",
              "    }\n",
              "</style>\n",
              "<table border=\"1\" class=\"dataframe\">\n",
              "  <thead>\n",
              "    <tr style=\"text-align: right;\">\n",
              "      <th></th>\n",
              "      <th>rate</th>\n",
              "    </tr>\n",
              "    <tr>\n",
              "      <th>ObservationDate</th>\n",
              "      <th></th>\n",
              "    </tr>\n",
              "  </thead>\n",
              "  <tbody>\n",
              "    <tr>\n",
              "      <th>2020-01-31</th>\n",
              "      <td>0.974594</td>\n",
              "    </tr>\n",
              "    <tr>\n",
              "      <th>2020-02-29</th>\n",
              "      <td>0.973562</td>\n",
              "    </tr>\n",
              "    <tr>\n",
              "      <th>2020-03-31</th>\n",
              "      <td>0.960070</td>\n",
              "    </tr>\n",
              "    <tr>\n",
              "      <th>2020-04-30</th>\n",
              "      <td>0.936029</td>\n",
              "    </tr>\n",
              "    <tr>\n",
              "      <th>2020-05-31</th>\n",
              "      <td>0.933422</td>\n",
              "    </tr>\n",
              "    <tr>\n",
              "      <th>2020-06-30</th>\n",
              "      <td>0.945713</td>\n",
              "    </tr>\n",
              "    <tr>\n",
              "      <th>2020-07-31</th>\n",
              "      <td>0.957037</td>\n",
              "    </tr>\n",
              "    <tr>\n",
              "      <th>2020-08-31</th>\n",
              "      <td>0.962405</td>\n",
              "    </tr>\n",
              "  </tbody>\n",
              "</table>\n",
              "</div>"
            ],
            "text/plain": [
              "                     rate\n",
              "ObservationDate          \n",
              "2020-01-31       0.974594\n",
              "2020-02-29       0.973562\n",
              "2020-03-31       0.960070\n",
              "2020-04-30       0.936029\n",
              "2020-05-31       0.933422\n",
              "2020-06-30       0.945713\n",
              "2020-07-31       0.957037\n",
              "2020-08-31       0.962405"
            ]
          },
          "metadata": {
            "tags": []
          },
          "execution_count": 39
        }
      ]
    },
    {
      "cell_type": "markdown",
      "metadata": {
        "id": "0hzQPzTWzjE2",
        "colab_type": "text"
      },
      "source": [
        "Podemos visualizar de forma gráfica lo anterior, cambiemos la frecuencia en la cual haremos nuestro estudio, esta será a un dia."
      ]
    },
    {
      "cell_type": "code",
      "metadata": {
        "id": "yLtEg7Q5yQl3",
        "colab_type": "code",
        "colab": {
          "base_uri": "https://localhost:8080/",
          "height": 308
        },
        "outputId": "cb4f5ce0-f923-4c0a-d905-453d1d5809de"
      },
      "source": [
        "serie = df_cum.groupby(pd.Grouper(key='ObservationDate', freq= '1d'))['rate'].mean()\n",
        "serie.plot()"
      ],
      "execution_count": 40,
      "outputs": [
        {
          "output_type": "execute_result",
          "data": {
            "text/plain": [
              "<matplotlib.axes._subplots.AxesSubplot at 0x7ff806fdb8d0>"
            ]
          },
          "metadata": {
            "tags": []
          },
          "execution_count": 40
        },
        {
          "output_type": "display_data",
          "data": {
            "image/png": "[encoded data removed]",
            "text/plain": [
              "<Figure size 432x288 with 1 Axes>"
            ]
          },
          "metadata": {
            "tags": [],
            "needs_background": "light"
          }
        }
      ]
    },
    {
      "cell_type": "markdown",
      "metadata": {
        "id": "ci737SiM0Ezz",
        "colab_type": "text"
      },
      "source": [
        "Podemos hacer la gráfica anterior visualmente mas agradable haciendo un suavizado. El mismo se realiza calculando los promedios y graficandolos.\n",
        "\n",
        "Utilicemos la funcion .rolling(), la misma nos permite hacer promedios con ventajas de frecuencia"
      ]
    },
    {
      "cell_type": "code",
      "metadata": {
        "id": "Xzufrwc1zJEj",
        "colab_type": "code",
        "colab": {
          "base_uri": "https://localhost:8080/",
          "height": 308
        },
        "outputId": "c60d1a3f-c311-4d87-a62a-9c77b5b2dcf7"
      },
      "source": [
        "serie.rolling(window=7).mean().plot()"
      ],
      "execution_count": 41,
      "outputs": [
        {
          "output_type": "execute_result",
          "data": {
            "text/plain": [
              "<matplotlib.axes._subplots.AxesSubplot at 0x7ff806fdb4e0>"
            ]
          },
          "metadata": {
            "tags": []
          },
          "execution_count": 41
        },
        {
          "output_type": "display_data",
          "data": {
            "image/png": "[encoded data removed]",
            "text/plain": [
              "<Figure size 432x288 with 1 Axes>"
            ]
          },
          "metadata": {
            "tags": [],
            "needs_background": "light"
          }
        }
      ]
    },
    {
      "cell_type": "markdown",
      "metadata": {
        "id": "Q-yWTHXP6AUj",
        "colab_type": "text"
      },
      "source": [
        "Comparemos ahora las gráficas:"
      ]
    },
    {
      "cell_type": "code",
      "metadata": {
        "id": "HPcfwFQZ58DN",
        "colab_type": "code",
        "colab": {
          "base_uri": "https://localhost:8080/",
          "height": 308
        },
        "outputId": "7d2a3e0f-27dc-4172-e7d3-821dac67c962"
      },
      "source": [
        "serie.plot()\n",
        "serie.rolling(window=7).mean().plot()\n",
        "serie.rolling(window=14).mean().plot()\n",
        "serie.rolling(window=21).mean().plot()"
      ],
      "execution_count": 42,
      "outputs": [
        {
          "output_type": "execute_result",
          "data": {
            "text/plain": [
              "<matplotlib.axes._subplots.AxesSubplot at 0x7ff806964ef0>"
            ]
          },
          "metadata": {
            "tags": []
          },
          "execution_count": 42
        },
        {
          "output_type": "display_data",
          "data": {
            "image/png": "[encoded data removed]",
            "text/plain": [
              "<Figure size 432x288 with 1 Axes>"
            ]
          },
          "metadata": {
            "tags": [],
            "needs_background": "light"
          }
        }
      ]
    },
    {
      "cell_type": "markdown",
      "metadata": {
        "id": "gobG8cpm9DMO",
        "colab_type": "text"
      },
      "source": [
        "Tambien podemos hacer la gráfica anterior mas agradable de utilizando la libreria matplotlib y agregando labels"
      ]
    },
    {
      "cell_type": "code",
      "metadata": {
        "id": "3XHUXTEh9LBE",
        "colab_type": "code",
        "colab": {
          "base_uri": "https://localhost:8080/",
          "height": 318
        },
        "outputId": "02c12cc7-e839-4ebc-a5d3-d1c0b86ec2b7"
      },
      "source": [
        "import matplotlib.pyplot as plt\n",
        "\n",
        "plt.plot(serie, label = 'Original')\n",
        "plt.plot(serie.rolling(window = 7).mean(), label = '7 días')\n",
        "plt.plot(serie.rolling(window = 14).mean(), label = '14 días')\n",
        "plt.plot(serie.rolling(window = 21).mean(), label = '21 días')\n",
        "\n",
        "plt.xticks(rotation = '30')\n",
        "plt.legend()\n",
        "plt.title('Promedio móvil de Tasa de Supervivencia')"
      ],
      "execution_count": 43,
      "outputs": [
        {
          "output_type": "execute_result",
          "data": {
            "text/plain": [
              "Text(0.5, 1.0, 'Promedio móvil de Tasa de Supervivencia')"
            ]
          },
          "metadata": {
            "tags": []
          },
          "execution_count": 43
        },
        {
          "output_type": "display_data",
          "data": {
            "image/png": "[encoded data removed]",
            "text/plain": [
              "<Figure size 432x288 with 1 Axes>"
            ]
          },
          "metadata": {
            "tags": [],
            "needs_background": "light"
          }
        }
      ]
    },
    {
      "cell_type": "markdown",
      "metadata": {
        "id": "IBYUIvZk6To4",
        "colab_type": "text"
      },
      "source": [
        "Cada vez que aumentamos el tamaño de la ventana para tomar datos y sacar su promedio, aumentamos el suavizado de la gráfica"
      ]
    },
    {
      "cell_type": "markdown",
      "metadata": {
        "id": "HuDGrWFF6jFU",
        "colab_type": "text"
      },
      "source": [
        "Por último analicemos como ha ido variando la desviación estandar de nuestra tasa de supervivencia."
      ]
    },
    {
      "cell_type": "code",
      "metadata": {
        "id": "NRsx2m1D7KKJ",
        "colab_type": "code",
        "colab": {}
      },
      "source": [
        "import numpy as np"
      ],
      "execution_count": 44,
      "outputs": []
    },
    {
      "cell_type": "code",
      "metadata": {
        "id": "HjBW_5An6IpB",
        "colab_type": "code",
        "colab": {
          "base_uri": "https://localhost:8080/",
          "height": 308
        },
        "outputId": "b92bb64c-4251-4f24-9207-b752067f1949"
      },
      "source": [
        "serie.rolling(window=12).std().plot()  # Utilizando una función de pandas\n",
        "serie.rolling(window=12).apply(lambda x: np.std(x)).plot() # Utilizando una funcion externa, en este caso numpy\n"
      ],
      "execution_count": 45,
      "outputs": [
        {
          "output_type": "execute_result",
          "data": {
            "text/plain": [
              "<matplotlib.axes._subplots.AxesSubplot at 0x7ff80683c160>"
            ]
          },
          "metadata": {
            "tags": []
          },
          "execution_count": 45
        },
        {
          "output_type": "display_data",
          "data": {
            "image/png": "[encoded data removed]",
            "text/plain": [
              "<Figure size 432x288 with 1 Axes>"
            ]
          },
          "metadata": {
            "tags": [],
            "needs_background": "light"
          }
        }
      ]
    },
    {
      "cell_type": "markdown",
      "metadata": {
        "id": "rzRb-BkM7lOY",
        "colab_type": "text"
      },
      "source": [
        "La variacion de nuesta variacion estandar es de menos del 0.5%, esto es muy bueno. Como conclusion podemos decir la tasa de supervivencia para buena noticas es alta y es del 97% aproximadamente."
      ]
    },
    {
      "cell_type": "markdown",
      "metadata": {
        "id": "i-GsQheVFh5-",
        "colab_type": "text"
      },
      "source": [
        "# Visualización y graficación de datos \n",
        "\n",
        "Tomaremos los datos de un **pais determinado** y **analizaremos sus casos** gracias a groupby. Luego **graficaremos** utilizando diferentes [**plot de pandas**](https://pandas.pydata.org/docs/reference/api/pandas.DataFrame.plot.html?highlight=plot) y matplotlib."
      ]
    },
    {
      "cell_type": "markdown",
      "metadata": {
        "id": "nZUjqt_JFso2",
        "colab_type": "text"
      },
      "source": [
        "¿Cual es el pais donde mas ocurrencia de COVID-19 existe?"
      ]
    },
    {
      "cell_type": "code",
      "metadata": {
        "id": "69YxOWaSFlCv",
        "colab_type": "code",
        "colab": {
          "base_uri": "https://localhost:8080/",
          "height": 243
        },
        "outputId": "5a0aa45b-a53b-40d5-d8b5-33f129176d19"
      },
      "source": [
        "df.groupby('Country/Region')['Confirmed'].max().sort_values(ascending=False)"
      ],
      "execution_count": 46,
      "outputs": [
        {
          "output_type": "execute_result",
          "data": {
            "text/plain": [
              "Country/Region\n",
              "Brazil             627126.0\n",
              "South Africa       559859.0\n",
              "US                 559746.0\n",
              "India              515332.0\n",
              "Russia             405843.0\n",
              "                     ...   \n",
              "Gambia, The             1.0\n",
              "East Timor              1.0\n",
              "Curacao                 1.0\n",
              "Channel Islands         1.0\n",
              " Azerbaijan             1.0\n",
              "Name: Confirmed, Length: 223, dtype: float64"
            ]
          },
          "metadata": {
            "tags": []
          },
          "execution_count": 46
        }
      ]
    },
    {
      "cell_type": "markdown",
      "metadata": {
        "id": "6QwFY004IKGx",
        "colab_type": "text"
      },
      "source": [
        "Haremos un analisis utilizando la columna de tipo tiempo, para un pais en específico:"
      ]
    },
    {
      "cell_type": "code",
      "metadata": {
        "id": "kWshcXccITnA",
        "colab_type": "code",
        "colab": {
          "base_uri": "https://localhost:8080/",
          "height": 34
        },
        "outputId": "8360123f-f118-49cd-c77d-d33e5055e8e4"
      },
      "source": [
        "list(df)"
      ],
      "execution_count": 47,
      "outputs": [
        {
          "output_type": "execute_result",
          "data": {
            "text/plain": [
              "['ObservationDate', 'Country/Region', 'Confirmed', 'Deaths', 'Recovered']"
            ]
          },
          "metadata": {
            "tags": []
          },
          "execution_count": 47
        }
      ]
    },
    {
      "cell_type": "markdown",
      "metadata": {
        "id": "hT-y12WfH6TN",
        "colab_type": "text"
      },
      "source": [
        "Haremos un analisis de Argentina"
      ]
    },
    {
      "cell_type": "code",
      "metadata": {
        "id": "ELRXuU_IH9gV",
        "colab_type": "code",
        "colab": {
          "base_uri": "https://localhost:8080/",
          "height": 455
        },
        "outputId": "6bf7aecb-f696-4615-b24a-9a40121cca08"
      },
      "source": [
        "df_time = df.groupby(['Country/Region',\n",
        "            pd.Grouper(key='ObservationDate', freq='1D')]).sum()\n",
        "\n",
        "df_time"
      ],
      "execution_count": 49,
      "outputs": [
        {
          "output_type": "execute_result",
          "data": {
            "text/html": [
              "<div>\n",
              "<style scoped>\n",
              "    .dataframe tbody tr th:only-of-type {\n",
              "        vertical-align: middle;\n",
              "    }\n",
              "\n",
              "    .dataframe tbody tr th {\n",
              "        vertical-align: top;\n",
              "    }\n",
              "\n",
              "    .dataframe thead th {\n",
              "        text-align: right;\n",
              "    }\n",
              "</style>\n",
              "<table border=\"1\" class=\"dataframe\">\n",
              "  <thead>\n",
              "    <tr style=\"text-align: right;\">\n",
              "      <th></th>\n",
              "      <th></th>\n",
              "      <th>Confirmed</th>\n",
              "      <th>Deaths</th>\n",
              "      <th>Recovered</th>\n",
              "    </tr>\n",
              "    <tr>\n",
              "      <th>Country/Region</th>\n",
              "      <th>ObservationDate</th>\n",
              "      <th></th>\n",
              "      <th></th>\n",
              "      <th></th>\n",
              "    </tr>\n",
              "  </thead>\n",
              "  <tbody>\n",
              "    <tr>\n",
              "      <th>Azerbaijan</th>\n",
              "      <th>2020-02-28</th>\n",
              "      <td>1.0</td>\n",
              "      <td>0.0</td>\n",
              "      <td>0.0</td>\n",
              "    </tr>\n",
              "    <tr>\n",
              "      <th>('St. Martin',)</th>\n",
              "      <th>2020-03-10</th>\n",
              "      <td>2.0</td>\n",
              "      <td>0.0</td>\n",
              "      <td>0.0</td>\n",
              "    </tr>\n",
              "    <tr>\n",
              "      <th rowspan=\"3\" valign=\"top\">Afghanistan</th>\n",
              "      <th>2020-02-24</th>\n",
              "      <td>1.0</td>\n",
              "      <td>0.0</td>\n",
              "      <td>0.0</td>\n",
              "    </tr>\n",
              "    <tr>\n",
              "      <th>2020-02-25</th>\n",
              "      <td>1.0</td>\n",
              "      <td>0.0</td>\n",
              "      <td>0.0</td>\n",
              "    </tr>\n",
              "    <tr>\n",
              "      <th>2020-02-26</th>\n",
              "      <td>1.0</td>\n",
              "      <td>0.0</td>\n",
              "      <td>0.0</td>\n",
              "    </tr>\n",
              "    <tr>\n",
              "      <th>...</th>\n",
              "      <th>...</th>\n",
              "      <td>...</td>\n",
              "      <td>...</td>\n",
              "      <td>...</td>\n",
              "    </tr>\n",
              "    <tr>\n",
              "      <th rowspan=\"5\" valign=\"top\">occupied Palestinian territory</th>\n",
              "      <th>2020-03-12</th>\n",
              "      <td>0.0</td>\n",
              "      <td>0.0</td>\n",
              "      <td>0.0</td>\n",
              "    </tr>\n",
              "    <tr>\n",
              "      <th>2020-03-14</th>\n",
              "      <td>0.0</td>\n",
              "      <td>0.0</td>\n",
              "      <td>0.0</td>\n",
              "    </tr>\n",
              "    <tr>\n",
              "      <th>2020-03-15</th>\n",
              "      <td>0.0</td>\n",
              "      <td>0.0</td>\n",
              "      <td>0.0</td>\n",
              "    </tr>\n",
              "    <tr>\n",
              "      <th>2020-03-16</th>\n",
              "      <td>0.0</td>\n",
              "      <td>0.0</td>\n",
              "      <td>0.0</td>\n",
              "    </tr>\n",
              "    <tr>\n",
              "      <th>2020-03-17</th>\n",
              "      <td>0.0</td>\n",
              "      <td>0.0</td>\n",
              "      <td>0.0</td>\n",
              "    </tr>\n",
              "  </tbody>\n",
              "</table>\n",
              "<p>30281 rows × 3 columns</p>\n",
              "</div>"
            ],
            "text/plain": [
              "                                                Confirmed  Deaths  Recovered\n",
              "Country/Region                 ObservationDate                              \n",
              " Azerbaijan                    2020-02-28             1.0     0.0        0.0\n",
              "('St. Martin',)                2020-03-10             2.0     0.0        0.0\n",
              "Afghanistan                    2020-02-24             1.0     0.0        0.0\n",
              "                               2020-02-25             1.0     0.0        0.0\n",
              "                               2020-02-26             1.0     0.0        0.0\n",
              "...                                                   ...     ...        ...\n",
              "occupied Palestinian territory 2020-03-12             0.0     0.0        0.0\n",
              "                               2020-03-14             0.0     0.0        0.0\n",
              "                               2020-03-15             0.0     0.0        0.0\n",
              "                               2020-03-16             0.0     0.0        0.0\n",
              "                               2020-03-17             0.0     0.0        0.0\n",
              "\n",
              "[30281 rows x 3 columns]"
            ]
          },
          "metadata": {
            "tags": []
          },
          "execution_count": 49
        }
      ]
    },
    {
      "cell_type": "code",
      "metadata": {
        "id": "y18ZSFMwKpjq",
        "colab_type": "code",
        "colab": {
          "base_uri": "https://localhost:8080/",
          "height": 455
        },
        "outputId": "addd724a-13a6-40d1-f1a6-384215c215eb"
      },
      "source": [
        "df_argentina = df_time.loc['Argentina', :]\n",
        "df_argentina"
      ],
      "execution_count": 87,
      "outputs": [
        {
          "output_type": "execute_result",
          "data": {
            "text/html": [
              "<div>\n",
              "<style scoped>\n",
              "    .dataframe tbody tr th:only-of-type {\n",
              "        vertical-align: middle;\n",
              "    }\n",
              "\n",
              "    .dataframe tbody tr th {\n",
              "        vertical-align: top;\n",
              "    }\n",
              "\n",
              "    .dataframe thead th {\n",
              "        text-align: right;\n",
              "    }\n",
              "</style>\n",
              "<table border=\"1\" class=\"dataframe\">\n",
              "  <thead>\n",
              "    <tr style=\"text-align: right;\">\n",
              "      <th></th>\n",
              "      <th>Confirmed</th>\n",
              "      <th>Deaths</th>\n",
              "      <th>Recovered</th>\n",
              "    </tr>\n",
              "    <tr>\n",
              "      <th>ObservationDate</th>\n",
              "      <th></th>\n",
              "      <th></th>\n",
              "      <th></th>\n",
              "    </tr>\n",
              "  </thead>\n",
              "  <tbody>\n",
              "    <tr>\n",
              "      <th>2020-03-03</th>\n",
              "      <td>1.0</td>\n",
              "      <td>0.0</td>\n",
              "      <td>0.0</td>\n",
              "    </tr>\n",
              "    <tr>\n",
              "      <th>2020-03-04</th>\n",
              "      <td>1.0</td>\n",
              "      <td>0.0</td>\n",
              "      <td>0.0</td>\n",
              "    </tr>\n",
              "    <tr>\n",
              "      <th>2020-03-05</th>\n",
              "      <td>1.0</td>\n",
              "      <td>0.0</td>\n",
              "      <td>0.0</td>\n",
              "    </tr>\n",
              "    <tr>\n",
              "      <th>2020-03-06</th>\n",
              "      <td>2.0</td>\n",
              "      <td>0.0</td>\n",
              "      <td>0.0</td>\n",
              "    </tr>\n",
              "    <tr>\n",
              "      <th>2020-03-07</th>\n",
              "      <td>8.0</td>\n",
              "      <td>0.0</td>\n",
              "      <td>0.0</td>\n",
              "    </tr>\n",
              "    <tr>\n",
              "      <th>...</th>\n",
              "      <td>...</td>\n",
              "      <td>...</td>\n",
              "      <td>...</td>\n",
              "    </tr>\n",
              "    <tr>\n",
              "      <th>2020-08-05</th>\n",
              "      <td>220682.0</td>\n",
              "      <td>4106.0</td>\n",
              "      <td>96948.0</td>\n",
              "    </tr>\n",
              "    <tr>\n",
              "      <th>2020-08-06</th>\n",
              "      <td>228195.0</td>\n",
              "      <td>4251.0</td>\n",
              "      <td>99852.0</td>\n",
              "    </tr>\n",
              "    <tr>\n",
              "      <th>2020-08-07</th>\n",
              "      <td>235677.0</td>\n",
              "      <td>4411.0</td>\n",
              "      <td>103297.0</td>\n",
              "    </tr>\n",
              "    <tr>\n",
              "      <th>2020-08-08</th>\n",
              "      <td>241811.0</td>\n",
              "      <td>4523.0</td>\n",
              "      <td>108242.0</td>\n",
              "    </tr>\n",
              "    <tr>\n",
              "      <th>2020-08-09</th>\n",
              "      <td>246499.0</td>\n",
              "      <td>4606.0</td>\n",
              "      <td>108242.0</td>\n",
              "    </tr>\n",
              "  </tbody>\n",
              "</table>\n",
              "<p>160 rows × 3 columns</p>\n",
              "</div>"
            ],
            "text/plain": [
              "                 Confirmed  Deaths  Recovered\n",
              "ObservationDate                              \n",
              "2020-03-03             1.0     0.0        0.0\n",
              "2020-03-04             1.0     0.0        0.0\n",
              "2020-03-05             1.0     0.0        0.0\n",
              "2020-03-06             2.0     0.0        0.0\n",
              "2020-03-07             8.0     0.0        0.0\n",
              "...                    ...     ...        ...\n",
              "2020-08-05        220682.0  4106.0    96948.0\n",
              "2020-08-06        228195.0  4251.0    99852.0\n",
              "2020-08-07        235677.0  4411.0   103297.0\n",
              "2020-08-08        241811.0  4523.0   108242.0\n",
              "2020-08-09        246499.0  4606.0   108242.0\n",
              "\n",
              "[160 rows x 3 columns]"
            ]
          },
          "metadata": {
            "tags": []
          },
          "execution_count": 87
        }
      ]
    },
    {
      "cell_type": "code",
      "metadata": {
        "id": "DkNk5vcQK3Ss",
        "colab_type": "code",
        "colab": {
          "base_uri": "https://localhost:8080/",
          "height": 487
        },
        "outputId": "0c4afb49-882f-41dd-9d2e-a5e7885e0474"
      },
      "source": [
        "df_argentina.plot(figsize = (10,7), title='COVID-19')"
      ],
      "execution_count": 88,
      "outputs": [
        {
          "output_type": "execute_result",
          "data": {
            "text/plain": [
              "<matplotlib.axes._subplots.AxesSubplot at 0x7ff806167e10>"
            ]
          },
          "metadata": {
            "tags": []
          },
          "execution_count": 88
        },
        {
          "output_type": "display_data",
          "data": {
            "image/png": "[encoded data removed]",
            "text/plain": [
              "<Figure size 720x504 with 1 Axes>"
            ]
          },
          "metadata": {
            "tags": [],
            "needs_background": "light"
          }
        }
      ]
    },
    {
      "cell_type": "markdown",
      "metadata": {
        "id": "n-UQ23OVMNK2",
        "colab_type": "text"
      },
      "source": [
        "Podemos adicionar informacion a nuestros ejes utilizando la librerias matplotlib."
      ]
    },
    {
      "cell_type": "code",
      "metadata": {
        "id": "qFK6Y97rLHuE",
        "colab_type": "code",
        "colab": {}
      },
      "source": [
        "import matplotlib.pyplot as plt\n"
      ],
      "execution_count": 57,
      "outputs": []
    },
    {
      "cell_type": "code",
      "metadata": {
        "id": "FJq1l25qMYm3",
        "colab_type": "code",
        "colab": {
          "base_uri": "https://localhost:8080/",
          "height": 470
        },
        "outputId": "19f09825-5c7b-44cf-c70f-9fd40546fa69"
      },
      "source": [
        "df_argentina.plot(figsize = (10,7), title='COVID-19')\n",
        "plt.xlabel('Date')\n",
        "plt.ylabel('People')\n",
        "plt.show()"
      ],
      "execution_count": 89,
      "outputs": [
        {
          "output_type": "display_data",
          "data": {
            "image/png": "[encoded data removed]",
            "text/plain": [
              "<Figure size 720x504 with 1 Axes>"
            ]
          },
          "metadata": {
            "tags": [],
            "needs_background": "light"
          }
        }
      ]
    },
    {
      "cell_type": "code",
      "metadata": {
        "id": "RpeJhnW2Miv8",
        "colab_type": "code",
        "colab": {
          "base_uri": "https://localhost:8080/",
          "height": 470
        },
        "outputId": "9f8c7d82-8142-4390-8fcb-f31656107193"
      },
      "source": [
        "ax = df_argentina.plot(figsize = (10,7), title='COVID-19',\n",
        "                  legend = False,\n",
        "                  style = ['r-', 'g--', 'b:*'])\n",
        "ax.legend(['Confirmados', 'Muertes', 'Recuperados'])\n",
        "plt.xlabel('Date')\n",
        "plt.ylabel('People')\n",
        "plt.show()"
      ],
      "execution_count": 90,
      "outputs": [
        {
          "output_type": "display_data",
          "data": {
            "image/png": "[encoded data removed]",
            "text/plain": [
              "<Figure size 720x504 with 1 Axes>"
            ]
          },
          "metadata": {
            "tags": [],
            "needs_background": "light"
          }
        }
      ]
    },
    {
      "cell_type": "markdown",
      "metadata": {
        "id": "su2zsFJINM-f",
        "colab_type": "text"
      },
      "source": [
        "Vamos a crear un nuevo dataframe, para ver las ocurrencias mensuales:"
      ]
    },
    {
      "cell_type": "code",
      "metadata": {
        "id": "4W89lnTtNFwp",
        "colab_type": "code",
        "colab": {
          "base_uri": "https://localhost:8080/",
          "height": 269
        },
        "outputId": "02bb25b4-c6af-4340-f089-645eda8157a3"
      },
      "source": [
        "df_monthly = df_argentina.resample('M').max()\n",
        "df_monthly"
      ],
      "execution_count": 91,
      "outputs": [
        {
          "output_type": "execute_result",
          "data": {
            "text/html": [
              "<div>\n",
              "<style scoped>\n",
              "    .dataframe tbody tr th:only-of-type {\n",
              "        vertical-align: middle;\n",
              "    }\n",
              "\n",
              "    .dataframe tbody tr th {\n",
              "        vertical-align: top;\n",
              "    }\n",
              "\n",
              "    .dataframe thead th {\n",
              "        text-align: right;\n",
              "    }\n",
              "</style>\n",
              "<table border=\"1\" class=\"dataframe\">\n",
              "  <thead>\n",
              "    <tr style=\"text-align: right;\">\n",
              "      <th></th>\n",
              "      <th>Confirmed</th>\n",
              "      <th>Deaths</th>\n",
              "      <th>Recovered</th>\n",
              "    </tr>\n",
              "    <tr>\n",
              "      <th>ObservationDate</th>\n",
              "      <th></th>\n",
              "      <th></th>\n",
              "      <th></th>\n",
              "    </tr>\n",
              "  </thead>\n",
              "  <tbody>\n",
              "    <tr>\n",
              "      <th>2020-03-31</th>\n",
              "      <td>1054.0</td>\n",
              "      <td>27.0</td>\n",
              "      <td>240.0</td>\n",
              "    </tr>\n",
              "    <tr>\n",
              "      <th>2020-04-30</th>\n",
              "      <td>4428.0</td>\n",
              "      <td>218.0</td>\n",
              "      <td>1256.0</td>\n",
              "    </tr>\n",
              "    <tr>\n",
              "      <th>2020-05-31</th>\n",
              "      <td>16851.0</td>\n",
              "      <td>539.0</td>\n",
              "      <td>5336.0</td>\n",
              "    </tr>\n",
              "    <tr>\n",
              "      <th>2020-06-30</th>\n",
              "      <td>64530.0</td>\n",
              "      <td>1307.0</td>\n",
              "      <td>22028.0</td>\n",
              "    </tr>\n",
              "    <tr>\n",
              "      <th>2020-07-31</th>\n",
              "      <td>191302.0</td>\n",
              "      <td>3543.0</td>\n",
              "      <td>83780.0</td>\n",
              "    </tr>\n",
              "    <tr>\n",
              "      <th>2020-08-31</th>\n",
              "      <td>246499.0</td>\n",
              "      <td>4606.0</td>\n",
              "      <td>108242.0</td>\n",
              "    </tr>\n",
              "  </tbody>\n",
              "</table>\n",
              "</div>"
            ],
            "text/plain": [
              "                 Confirmed  Deaths  Recovered\n",
              "ObservationDate                              \n",
              "2020-03-31          1054.0    27.0      240.0\n",
              "2020-04-30          4428.0   218.0     1256.0\n",
              "2020-05-31         16851.0   539.0     5336.0\n",
              "2020-06-30         64530.0  1307.0    22028.0\n",
              "2020-07-31        191302.0  3543.0    83780.0\n",
              "2020-08-31        246499.0  4606.0   108242.0"
            ]
          },
          "metadata": {
            "tags": []
          },
          "execution_count": 91
        }
      ]
    },
    {
      "cell_type": "code",
      "metadata": {
        "id": "uZ2Jcm3DNZ-8",
        "colab_type": "code",
        "colab": {
          "base_uri": "https://localhost:8080/",
          "height": 554
        },
        "outputId": "fdfabf33-9826-4350-a39d-567f021ace8e"
      },
      "source": [
        "df_monthly.plot(figsize = (10,7), kind='bar')"
      ],
      "execution_count": 92,
      "outputs": [
        {
          "output_type": "execute_result",
          "data": {
            "text/plain": [
              "<matplotlib.axes._subplots.AxesSubplot at 0x7ff803740e10>"
            ]
          },
          "metadata": {
            "tags": []
          },
          "execution_count": 92
        },
        {
          "output_type": "display_data",
          "data": {
            "image/png": "[encoded data removed]",
            "text/plain": [
              "<Figure size 720x504 with 1 Axes>"
            ]
          },
          "metadata": {
            "tags": [],
            "needs_background": "light"
          }
        }
      ]
    },
    {
      "cell_type": "markdown",
      "metadata": {
        "id": "022hfZHAONZZ",
        "colab_type": "text"
      },
      "source": [
        "Podemos juntar todos los datos por mes en una sola barra y ver la proporcion de cada variable."
      ]
    },
    {
      "cell_type": "code",
      "metadata": {
        "id": "kNPecJCVOJkU",
        "colab_type": "code",
        "colab": {
          "base_uri": "https://localhost:8080/",
          "height": 554
        },
        "outputId": "622039e6-504f-47bb-eda8-1f4c440f599a"
      },
      "source": [
        "df_monthly.plot(figsize = (10,7), kind='bar', stacked=True)\n"
      ],
      "execution_count": 93,
      "outputs": [
        {
          "output_type": "execute_result",
          "data": {
            "text/plain": [
              "<matplotlib.axes._subplots.AxesSubplot at 0x7ff803694160>"
            ]
          },
          "metadata": {
            "tags": []
          },
          "execution_count": 93
        },
        {
          "output_type": "display_data",
          "data": {
            "image/png": "[encoded data removed]",
            "text/plain": [
              "<Figure size 720x504 with 1 Axes>"
            ]
          },
          "metadata": {
            "tags": [],
            "needs_background": "light"
          }
        }
      ]
    },
    {
      "cell_type": "markdown",
      "metadata": {
        "id": "_b2GAcvFOhR7",
        "colab_type": "text"
      },
      "source": [
        "Vamos a crear una nueva variable para mejorar nuestro grafico anterior, esta será una variable de las personas que han tenido tratamiento. Son personas que no estan muertas, pero tampoco se han recuperado. Son aquellas que se encuetran en confinamiento y sabemos que tienen COVID-19."
      ]
    },
    {
      "cell_type": "code",
      "metadata": {
        "id": "oD-EZydLNqSf",
        "colab_type": "code",
        "colab": {
          "base_uri": "https://localhost:8080/",
          "height": 156
        },
        "outputId": "f62e990f-4118-42a6-8c25-9f357c353a50"
      },
      "source": [
        "df_monthly['Traitment'] = df_monthly['Confirmed'] - df_monthly['Deaths'] - df_monthly['Recovered']\n",
        "df_monthly['Traitment']"
      ],
      "execution_count": 94,
      "outputs": [
        {
          "output_type": "execute_result",
          "data": {
            "text/plain": [
              "ObservationDate\n",
              "2020-03-31       787.0\n",
              "2020-04-30      2954.0\n",
              "2020-05-31     10976.0\n",
              "2020-06-30     41195.0\n",
              "2020-07-31    103979.0\n",
              "2020-08-31    133651.0\n",
              "Freq: M, Name: Traitment, dtype: float64"
            ]
          },
          "metadata": {
            "tags": []
          },
          "execution_count": 94
        }
      ]
    },
    {
      "cell_type": "code",
      "metadata": {
        "id": "ACXUAFtQPYa3",
        "colab_type": "code",
        "colab": {
          "base_uri": "https://localhost:8080/",
          "height": 269
        },
        "outputId": "e70cab1b-0c98-48bd-a3d9-916ffe3f9c34"
      },
      "source": [
        "df_monthly"
      ],
      "execution_count": 95,
      "outputs": [
        {
          "output_type": "execute_result",
          "data": {
            "text/html": [
              "<div>\n",
              "<style scoped>\n",
              "    .dataframe tbody tr th:only-of-type {\n",
              "        vertical-align: middle;\n",
              "    }\n",
              "\n",
              "    .dataframe tbody tr th {\n",
              "        vertical-align: top;\n",
              "    }\n",
              "\n",
              "    .dataframe thead th {\n",
              "        text-align: right;\n",
              "    }\n",
              "</style>\n",
              "<table border=\"1\" class=\"dataframe\">\n",
              "  <thead>\n",
              "    <tr style=\"text-align: right;\">\n",
              "      <th></th>\n",
              "      <th>Confirmed</th>\n",
              "      <th>Deaths</th>\n",
              "      <th>Recovered</th>\n",
              "      <th>Traitment</th>\n",
              "    </tr>\n",
              "    <tr>\n",
              "      <th>ObservationDate</th>\n",
              "      <th></th>\n",
              "      <th></th>\n",
              "      <th></th>\n",
              "      <th></th>\n",
              "    </tr>\n",
              "  </thead>\n",
              "  <tbody>\n",
              "    <tr>\n",
              "      <th>2020-03-31</th>\n",
              "      <td>1054.0</td>\n",
              "      <td>27.0</td>\n",
              "      <td>240.0</td>\n",
              "      <td>787.0</td>\n",
              "    </tr>\n",
              "    <tr>\n",
              "      <th>2020-04-30</th>\n",
              "      <td>4428.0</td>\n",
              "      <td>218.0</td>\n",
              "      <td>1256.0</td>\n",
              "      <td>2954.0</td>\n",
              "    </tr>\n",
              "    <tr>\n",
              "      <th>2020-05-31</th>\n",
              "      <td>16851.0</td>\n",
              "      <td>539.0</td>\n",
              "      <td>5336.0</td>\n",
              "      <td>10976.0</td>\n",
              "    </tr>\n",
              "    <tr>\n",
              "      <th>2020-06-30</th>\n",
              "      <td>64530.0</td>\n",
              "      <td>1307.0</td>\n",
              "      <td>22028.0</td>\n",
              "      <td>41195.0</td>\n",
              "    </tr>\n",
              "    <tr>\n",
              "      <th>2020-07-31</th>\n",
              "      <td>191302.0</td>\n",
              "      <td>3543.0</td>\n",
              "      <td>83780.0</td>\n",
              "      <td>103979.0</td>\n",
              "    </tr>\n",
              "    <tr>\n",
              "      <th>2020-08-31</th>\n",
              "      <td>246499.0</td>\n",
              "      <td>4606.0</td>\n",
              "      <td>108242.0</td>\n",
              "      <td>133651.0</td>\n",
              "    </tr>\n",
              "  </tbody>\n",
              "</table>\n",
              "</div>"
            ],
            "text/plain": [
              "                 Confirmed  Deaths  Recovered  Traitment\n",
              "ObservationDate                                         \n",
              "2020-03-31          1054.0    27.0      240.0      787.0\n",
              "2020-04-30          4428.0   218.0     1256.0     2954.0\n",
              "2020-05-31         16851.0   539.0     5336.0    10976.0\n",
              "2020-06-30         64530.0  1307.0    22028.0    41195.0\n",
              "2020-07-31        191302.0  3543.0    83780.0   103979.0\n",
              "2020-08-31        246499.0  4606.0   108242.0   133651.0"
            ]
          },
          "metadata": {
            "tags": []
          },
          "execution_count": 95
        }
      ]
    },
    {
      "cell_type": "code",
      "metadata": {
        "id": "URhja2MPPs7c",
        "colab_type": "code",
        "colab": {
          "base_uri": "https://localhost:8080/",
          "height": 322
        },
        "outputId": "cdd47623-dd66-4623-8c7f-f0b541b8261a"
      },
      "source": [
        "df_monthly[['Deaths', 'Recovered', 'Traitment']].T.plot(figsize = (25,25), kind='pie', subplots=True)"
      ],
      "execution_count": 96,
      "outputs": [
        {
          "output_type": "execute_result",
          "data": {
            "text/plain": [
              "array([<matplotlib.axes._subplots.AxesSubplot object at 0x7ff803613400>,\n",
              "       <matplotlib.axes._subplots.AxesSubplot object at 0x7ff80355a828>,\n",
              "       <matplotlib.axes._subplots.AxesSubplot object at 0x7ff80358e828>,\n",
              "       <matplotlib.axes._subplots.AxesSubplot object at 0x7ff803544828>,\n",
              "       <matplotlib.axes._subplots.AxesSubplot object at 0x7ff8034f9828>,\n",
              "       <matplotlib.axes._subplots.AxesSubplot object at 0x7ff8034b0828>],\n",
              "      dtype=object)"
            ]
          },
          "metadata": {
            "tags": []
          },
          "execution_count": 96
        },
        {
          "output_type": "display_data",
          "data": {
            "image/png": "[encoded data removed]",
            "text/plain": [
              "<Figure size 1800x1800 with 6 Axes>"
            ]
          },
          "metadata": {
            "tags": []
          }
        }
      ]
    },
    {
      "cell_type": "markdown",
      "metadata": {
        "id": "fl45V8hgQjMy",
        "colab_type": "text"
      },
      "source": [
        "Podemos ir viendo como la proporcion de color naranja, recuperados, va aumentando a medida que pasa el tiempo, esto quiere decir que la cantidad de recuperados va aumentando en el tiempo. Tambien se resalta que el color azul, las muertes, han ido aumentando y luego se fue manteniendo."
      ]
    },
    {
      "cell_type": "markdown",
      "metadata": {
        "id": "jERa7RhIRtGz",
        "colab_type": "text"
      },
      "source": [
        "Haremos ahora un histograma de como se distribuye nuestra tasa de supervivencia en Argentina"
      ]
    },
    {
      "cell_type": "code",
      "metadata": {
        "id": "X0zMJ2YTQAzA",
        "colab_type": "code",
        "colab": {
          "base_uri": "https://localhost:8080/",
          "height": 445
        },
        "outputId": "8602bc5a-1226-46e6-c983-da92e9467a40"
      },
      "source": [
        "df_argentina['rate-argentina'] = 1 - df_argentina['Deaths'] / df_argentina['Confirmed']\n",
        "df_argentina['rate-argentina'].hist(figsize = (10,7), bins = 10)"
      ],
      "execution_count": 98,
      "outputs": [
        {
          "output_type": "execute_result",
          "data": {
            "text/plain": [
              "<matplotlib.axes._subplots.AxesSubplot at 0x7ff8033bcb70>"
            ]
          },
          "metadata": {
            "tags": []
          },
          "execution_count": 98
        },
        {
          "output_type": "display_data",
          "data": {
            "image/png": "[encoded data removed]",
            "text/plain": [
              "<Figure size 720x504 with 1 Axes>"
            ]
          },
          "metadata": {
            "tags": [],
            "needs_background": "light"
          }
        }
      ]
    },
    {
      "cell_type": "markdown",
      "metadata": {
        "id": "q-P0_r7MSke0",
        "colab_type": "text"
      },
      "source": [
        "Obtengando una distribucion  parametrica alrededor del valor de la tasa de supervivencia."
      ]
    },
    {
      "cell_type": "code",
      "metadata": {
        "id": "BiFOoRiZRVHv",
        "colab_type": "code",
        "colab": {
          "base_uri": "https://localhost:8080/",
          "height": 445
        },
        "outputId": "e72c958c-9185-4fb7-98b4-40c061c048b7"
      },
      "source": [
        "df_argentina['rate-argentina'].plot(kind='kde', figsize = (10,7))"
      ],
      "execution_count": 99,
      "outputs": [
        {
          "output_type": "execute_result",
          "data": {
            "text/plain": [
              "<matplotlib.axes._subplots.AxesSubplot at 0x7ff80330c1d0>"
            ]
          },
          "metadata": {
            "tags": []
          },
          "execution_count": 99
        },
        {
          "output_type": "display_data",
          "data": {
            "image/png": "[encoded data removed]",
            "text/plain": [
              "<Figure size 720x504 with 1 Axes>"
            ]
          },
          "metadata": {
            "tags": [],
            "needs_background": "light"
          }
        }
      ]
    }
  ]
}
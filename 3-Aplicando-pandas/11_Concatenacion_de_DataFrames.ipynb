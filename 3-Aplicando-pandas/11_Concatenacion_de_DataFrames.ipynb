{
  "nbformat": 4,
  "nbformat_minor": 0,
  "metadata": {
    "colab": {
      "name": "11.Concatenacion de DataFrames.ipynb",
      "provenance": [],
      "toc_visible": true,
      "authorship_tag": "ABX9TyOl1hFtpGFv4CoqoCYzl+sA",
      "include_colab_link": true
    },
    "kernelspec": {
      "name": "python3",
      "display_name": "Python 3"
    }
  },
  "cells": [
    {
      "cell_type": "markdown",
      "metadata": {
        "id": "view-in-github",
        "colab_type": "text"
      },
      "source": [
        "<a href=\"https://colab.research.google.com/github/francomanca93/analisis-de-datos/blob/aplicaciones/3-Aplicando-pandas/11_Concatenacion_de_DataFrames.ipynb\" target=\"_parent\"><img src=\"https://colab.research.google.com/assets/colab-badge.svg\" alt=\"Open In Colab\"/></a>"
      ]
    },
    {
      "cell_type": "markdown",
      "metadata": {
        "id": "n5DWAmONse35",
        "colab_type": "text"
      },
      "source": [
        "# Concatenación de DataFrames: concat y append\n",
        "\n",
        "En este notebook se estudia como unir dos dataframes en uno solo. Esto es muy usual cuando se hace análisis de datos y a estos solo los podemos obtener en pequeños paquetes. Utilizando la función **for y append** podemos unirlos en unos solo rapidamente."
      ]
    },
    {
      "cell_type": "code",
      "metadata": {
        "id": "_WVewf0NsXNF",
        "colab_type": "code",
        "colab": {}
      },
      "source": [
        "import pandas as pd\n",
        "import numpy as np "
      ],
      "execution_count": 1,
      "outputs": []
    },
    {
      "cell_type": "markdown",
      "metadata": {
        "id": "g4D2hPSKv-6o",
        "colab_type": "text"
      },
      "source": [
        "Lo primero que vamos a hacer es configurar pandas y numpy para que veamos pocos numeros decimales."
      ]
    },
    {
      "cell_type": "code",
      "metadata": {
        "id": "J0Od_Tdev1ga",
        "colab_type": "code",
        "colab": {}
      },
      "source": [
        "pd.options.display.float_format = '{:.2f}'.format # para pandas"
      ],
      "execution_count": 3,
      "outputs": []
    },
    {
      "cell_type": "code",
      "metadata": {
        "id": "vOOnhM19wFhs",
        "colab_type": "code",
        "colab": {}
      },
      "source": [
        "np.set_printoptions(precision=2) # para numpy"
      ],
      "execution_count": 4,
      "outputs": []
    },
    {
      "cell_type": "markdown",
      "metadata": {
        "id": "TvpxLsmPyQUx",
        "colab_type": "text"
      },
      "source": [
        "## Concatenacion de vectores y matrices con numpy"
      ]
    },
    {
      "cell_type": "markdown",
      "metadata": {
        "id": "an20ltWowSHz",
        "colab_type": "text"
      },
      "source": [
        "Lo primero que vamos a hacer es generar numeros aleatorios con numpy"
      ]
    },
    {
      "cell_type": "code",
      "metadata": {
        "id": "-MJHBCpxwPLs",
        "colab_type": "code",
        "colab": {
          "base_uri": "https://localhost:8080/",
          "height": 34
        },
        "outputId": "96057589-eb7d-4039-fb46-390fd3d5b02e"
      },
      "source": [
        "np.random.rand()  # Numero aleatorio entre 0 y 1"
      ],
      "execution_count": 5,
      "outputs": [
        {
          "output_type": "execute_result",
          "data": {
            "text/plain": [
              "0.4701047447896134"
            ]
          },
          "metadata": {
            "tags": []
          },
          "execution_count": 5
        }
      ]
    },
    {
      "cell_type": "code",
      "metadata": {
        "id": "qKN0VhH_waum",
        "colab_type": "code",
        "colab": {
          "base_uri": "https://localhost:8080/",
          "height": 34
        },
        "outputId": "9d2be1fd-e89f-4bd2-ec74-9ccbae76b660"
      },
      "source": [
        "np.random.randn()  # Numero aleatorio entre -1 y 1 "
      ],
      "execution_count": 6,
      "outputs": [
        {
          "output_type": "execute_result",
          "data": {
            "text/plain": [
              "-0.43926915060336563"
            ]
          },
          "metadata": {
            "tags": []
          },
          "execution_count": 6
        }
      ]
    },
    {
      "cell_type": "markdown",
      "metadata": {
        "id": "J68hvifOwoZl",
        "colab_type": "text"
      },
      "source": [
        "Sabiendo lo anterior vamos a generar una matriz de 2 x 5"
      ]
    },
    {
      "cell_type": "code",
      "metadata": {
        "id": "kfr2vk0EwjAI",
        "colab_type": "code",
        "colab": {
          "base_uri": "https://localhost:8080/",
          "height": 52
        },
        "outputId": "fb4cfbf7-f79e-4590-ae9d-495ab00a5605"
      },
      "source": [
        "x1 = np.random.rand(2,5) * 100\n",
        "x1"
      ],
      "execution_count": 9,
      "outputs": [
        {
          "output_type": "execute_result",
          "data": {
            "text/plain": [
              "array([[37.24,  4.96, 25.54, 27.03, 76.9 ],\n",
              "       [26.24, 11.55, 57.48, 72.77, 70.83]])"
            ]
          },
          "metadata": {
            "tags": []
          },
          "execution_count": 9
        }
      ]
    },
    {
      "cell_type": "markdown",
      "metadata": {
        "id": "kdpqYcNtxAr2",
        "colab_type": "text"
      },
      "source": [
        "Ahora una matriz de igual dimensión que la anterior pero con numeros negativos."
      ]
    },
    {
      "cell_type": "code",
      "metadata": {
        "id": "O6wRpN4bwwGv",
        "colab_type": "code",
        "colab": {
          "base_uri": "https://localhost:8080/",
          "height": 52
        },
        "outputId": "a5f95011-1bb7-4f20-ba2f-0622f74a3b15"
      },
      "source": [
        "x2 = np.random.rand(2,5) * -1\n",
        "x2"
      ],
      "execution_count": 10,
      "outputs": [
        {
          "output_type": "execute_result",
          "data": {
            "text/plain": [
              "array([[-0.22, -0.81, -0.96, -0.6 , -0.16],\n",
              "       [-0.67, -0.14, -0.28, -0.71, -0.21]])"
            ]
          },
          "metadata": {
            "tags": []
          },
          "execution_count": 10
        }
      ]
    },
    {
      "cell_type": "markdown",
      "metadata": {
        "id": "0CeD4pCQxOIq",
        "colab_type": "text"
      },
      "source": [
        "Numpy puede unir las dos matrices utilizando la función **.concatenate()**"
      ]
    },
    {
      "cell_type": "code",
      "metadata": {
        "id": "H46pd3GgxL6D",
        "colab_type": "code",
        "colab": {
          "base_uri": "https://localhost:8080/",
          "height": 86
        },
        "outputId": "f3baf81a-dd62-45af-c30a-625dd68fa3c8"
      },
      "source": [
        "np.concatenate([x1,x2])"
      ],
      "execution_count": 11,
      "outputs": [
        {
          "output_type": "execute_result",
          "data": {
            "text/plain": [
              "array([[37.24,  4.96, 25.54, 27.03, 76.9 ],\n",
              "       [26.24, 11.55, 57.48, 72.77, 70.83],\n",
              "       [-0.22, -0.81, -0.96, -0.6 , -0.16],\n",
              "       [-0.67, -0.14, -0.28, -0.71, -0.21]])"
            ]
          },
          "metadata": {
            "tags": []
          },
          "execution_count": 11
        }
      ]
    },
    {
      "cell_type": "markdown",
      "metadata": {
        "id": "-XawruKixkCo",
        "colab_type": "text"
      },
      "source": [
        "Hemos concatenado a lo largo de las filas. Veamos las dimensiones de la matriz generada."
      ]
    },
    {
      "cell_type": "code",
      "metadata": {
        "id": "jUU6-8bsxbQS",
        "colab_type": "code",
        "colab": {
          "base_uri": "https://localhost:8080/",
          "height": 34
        },
        "outputId": "2600eade-0965-4a73-dab1-036f80e1c069"
      },
      "source": [
        "np.concatenate([x1,x2]).shape"
      ],
      "execution_count": 12,
      "outputs": [
        {
          "output_type": "execute_result",
          "data": {
            "text/plain": [
              "(4, 5)"
            ]
          },
          "metadata": {
            "tags": []
          },
          "execution_count": 12
        }
      ]
    },
    {
      "cell_type": "markdown",
      "metadata": {
        "id": "tu30TqjIx13q",
        "colab_type": "text"
      },
      "source": [
        "Tambien podemos concatenar a lo largo de las columnas, indicandoles a la función. Luego veamos las dimensiones de la matriz generada.\n"
      ]
    },
    {
      "cell_type": "code",
      "metadata": {
        "id": "qPOrrMx8xqOu",
        "colab_type": "code",
        "colab": {
          "base_uri": "https://localhost:8080/",
          "height": 86
        },
        "outputId": "3c581d9f-a50a-4da5-d407-9cec776e497e"
      },
      "source": [
        "np.concatenate([x1,x2], axis = 1)"
      ],
      "execution_count": 13,
      "outputs": [
        {
          "output_type": "execute_result",
          "data": {
            "text/plain": [
              "array([[37.24,  4.96, 25.54, 27.03, 76.9 , -0.22, -0.81, -0.96, -0.6 ,\n",
              "        -0.16],\n",
              "       [26.24, 11.55, 57.48, 72.77, 70.83, -0.67, -0.14, -0.28, -0.71,\n",
              "        -0.21]])"
            ]
          },
          "metadata": {
            "tags": []
          },
          "execution_count": 13
        }
      ]
    },
    {
      "cell_type": "code",
      "metadata": {
        "id": "0K-sYLu3yHgg",
        "colab_type": "code",
        "colab": {
          "base_uri": "https://localhost:8080/",
          "height": 34
        },
        "outputId": "9f4bc272-2c4e-4f4b-9206-bb8e55710a51"
      },
      "source": [
        "np.concatenate([x1,x2], axis = 1).shape"
      ],
      "execution_count": 14,
      "outputs": [
        {
          "output_type": "execute_result",
          "data": {
            "text/plain": [
              "(2, 10)"
            ]
          },
          "metadata": {
            "tags": []
          },
          "execution_count": 14
        }
      ]
    },
    {
      "cell_type": "markdown",
      "metadata": {
        "colab_type": "text",
        "id": "YEI_3zKVydtf"
      },
      "source": [
        "## Concatenacion de filas y columnas (series) con pandas"
      ]
    },
    {
      "cell_type": "markdown",
      "metadata": {
        "id": "miUNM3ufynwF",
        "colab_type": "text"
      },
      "source": [
        "Primero transformemos los vectores antes generados en **numpy** en series para poder manipularlos con **pandas**."
      ]
    },
    {
      "cell_type": "code",
      "metadata": {
        "id": "hBcOKrN8ykZa",
        "colab_type": "code",
        "colab": {
          "base_uri": "https://localhost:8080/",
          "height": 121
        },
        "outputId": "46395b17-d187-483d-988b-e567285c78ac"
      },
      "source": [
        "s1 = pd.Series(x1[0], index=['a','b','c','d','e'])\n",
        "s1"
      ],
      "execution_count": 15,
      "outputs": [
        {
          "output_type": "execute_result",
          "data": {
            "text/plain": [
              "a   37.24\n",
              "b    4.96\n",
              "c   25.54\n",
              "d   27.03\n",
              "e   76.90\n",
              "dtype: float64"
            ]
          },
          "metadata": {
            "tags": []
          },
          "execution_count": 15
        }
      ]
    },
    {
      "cell_type": "code",
      "metadata": {
        "id": "mYfD6-ouy5YO",
        "colab_type": "code",
        "colab": {
          "base_uri": "https://localhost:8080/",
          "height": 121
        },
        "outputId": "df57e59d-f37b-4918-e9d7-f36bf9c26ff1"
      },
      "source": [
        "s2 = pd.Series(x2[0], index=['c','d','e','f','g'])\n",
        "s2"
      ],
      "execution_count": 16,
      "outputs": [
        {
          "output_type": "execute_result",
          "data": {
            "text/plain": [
              "c   -0.22\n",
              "d   -0.81\n",
              "e   -0.96\n",
              "f   -0.60\n",
              "g   -0.16\n",
              "dtype: float64"
            ]
          },
          "metadata": {
            "tags": []
          },
          "execution_count": 16
        }
      ]
    },
    {
      "cell_type": "markdown",
      "metadata": {
        "id": "l_k0iboBzSE6",
        "colab_type": "text"
      },
      "source": [
        "Para hacer una concatenación en pandas utilizamos la función **.concat()**."
      ]
    },
    {
      "cell_type": "code",
      "metadata": {
        "id": "Gb6qqwdtzQCW",
        "colab_type": "code",
        "colab": {
          "base_uri": "https://localhost:8080/",
          "height": 208
        },
        "outputId": "51e576d9-e5eb-439a-bc89-0089ca000ad4"
      },
      "source": [
        "pd.concat([s1,s2])"
      ],
      "execution_count": 17,
      "outputs": [
        {
          "output_type": "execute_result",
          "data": {
            "text/plain": [
              "a   37.24\n",
              "b    4.96\n",
              "c   25.54\n",
              "d   27.03\n",
              "e   76.90\n",
              "c   -0.22\n",
              "d   -0.81\n",
              "e   -0.96\n",
              "f   -0.60\n",
              "g   -0.16\n",
              "dtype: float64"
            ]
          },
          "metadata": {
            "tags": []
          },
          "execution_count": 17
        }
      ]
    },
    {
      "cell_type": "markdown",
      "metadata": {
        "id": "Wqxi_xU0zeyG",
        "colab_type": "text"
      },
      "source": [
        "Lo que sucede es que concatenan a lo largo de las filas. Podemos alterar este comportamiento y que se concatenen respetando indices y a lo largo de las columnas de la siguiente manera."
      ]
    },
    {
      "cell_type": "code",
      "metadata": {
        "id": "Lw2lifv9zduB",
        "colab_type": "code",
        "colab": {
          "base_uri": "https://localhost:8080/",
          "height": 269
        },
        "outputId": "9436d9a7-5f7c-4895-cc81-a3b8fc3241fe"
      },
      "source": [
        "pd.concat([s1,s2], axis=1)"
      ],
      "execution_count": 18,
      "outputs": [
        {
          "output_type": "execute_result",
          "data": {
            "text/html": [
              "<div>\n",
              "<style scoped>\n",
              "    .dataframe tbody tr th:only-of-type {\n",
              "        vertical-align: middle;\n",
              "    }\n",
              "\n",
              "    .dataframe tbody tr th {\n",
              "        vertical-align: top;\n",
              "    }\n",
              "\n",
              "    .dataframe thead th {\n",
              "        text-align: right;\n",
              "    }\n",
              "</style>\n",
              "<table border=\"1\" class=\"dataframe\">\n",
              "  <thead>\n",
              "    <tr style=\"text-align: right;\">\n",
              "      <th></th>\n",
              "      <th>0</th>\n",
              "      <th>1</th>\n",
              "    </tr>\n",
              "  </thead>\n",
              "  <tbody>\n",
              "    <tr>\n",
              "      <th>a</th>\n",
              "      <td>37.24</td>\n",
              "      <td>nan</td>\n",
              "    </tr>\n",
              "    <tr>\n",
              "      <th>b</th>\n",
              "      <td>4.96</td>\n",
              "      <td>nan</td>\n",
              "    </tr>\n",
              "    <tr>\n",
              "      <th>c</th>\n",
              "      <td>25.54</td>\n",
              "      <td>-0.22</td>\n",
              "    </tr>\n",
              "    <tr>\n",
              "      <th>d</th>\n",
              "      <td>27.03</td>\n",
              "      <td>-0.81</td>\n",
              "    </tr>\n",
              "    <tr>\n",
              "      <th>e</th>\n",
              "      <td>76.90</td>\n",
              "      <td>-0.96</td>\n",
              "    </tr>\n",
              "    <tr>\n",
              "      <th>f</th>\n",
              "      <td>nan</td>\n",
              "      <td>-0.60</td>\n",
              "    </tr>\n",
              "    <tr>\n",
              "      <th>g</th>\n",
              "      <td>nan</td>\n",
              "      <td>-0.16</td>\n",
              "    </tr>\n",
              "  </tbody>\n",
              "</table>\n",
              "</div>"
            ],
            "text/plain": [
              "      0     1\n",
              "a 37.24   nan\n",
              "b  4.96   nan\n",
              "c 25.54 -0.22\n",
              "d 27.03 -0.81\n",
              "e 76.90 -0.96\n",
              "f   nan -0.60\n",
              "g   nan -0.16"
            ]
          },
          "metadata": {
            "tags": []
          },
          "execution_count": 18
        }
      ]
    },
    {
      "cell_type": "markdown",
      "metadata": {
        "id": "rGibv6AIC40t",
        "colab_type": "text"
      },
      "source": [
        "Se cocatenan respetando los indices puesto"
      ]
    },
    {
      "cell_type": "markdown",
      "metadata": {
        "id": "TRuxsODIDVno",
        "colab_type": "text"
      },
      "source": [
        "Ahora si queremos concatenar sin respetar el indice lo que podemos hacer es resetear los indices."
      ]
    },
    {
      "cell_type": "code",
      "metadata": {
        "id": "79dIRckqzr0o",
        "colab_type": "code",
        "colab": {
          "base_uri": "https://localhost:8080/",
          "height": 206
        },
        "outputId": "f5b8b0fa-b016-4d96-ac20-dfc922804122"
      },
      "source": [
        "s1.reset_index()"
      ],
      "execution_count": 19,
      "outputs": [
        {
          "output_type": "execute_result",
          "data": {
            "text/html": [
              "<div>\n",
              "<style scoped>\n",
              "    .dataframe tbody tr th:only-of-type {\n",
              "        vertical-align: middle;\n",
              "    }\n",
              "\n",
              "    .dataframe tbody tr th {\n",
              "        vertical-align: top;\n",
              "    }\n",
              "\n",
              "    .dataframe thead th {\n",
              "        text-align: right;\n",
              "    }\n",
              "</style>\n",
              "<table border=\"1\" class=\"dataframe\">\n",
              "  <thead>\n",
              "    <tr style=\"text-align: right;\">\n",
              "      <th></th>\n",
              "      <th>index</th>\n",
              "      <th>0</th>\n",
              "    </tr>\n",
              "  </thead>\n",
              "  <tbody>\n",
              "    <tr>\n",
              "      <th>0</th>\n",
              "      <td>a</td>\n",
              "      <td>37.24</td>\n",
              "    </tr>\n",
              "    <tr>\n",
              "      <th>1</th>\n",
              "      <td>b</td>\n",
              "      <td>4.96</td>\n",
              "    </tr>\n",
              "    <tr>\n",
              "      <th>2</th>\n",
              "      <td>c</td>\n",
              "      <td>25.54</td>\n",
              "    </tr>\n",
              "    <tr>\n",
              "      <th>3</th>\n",
              "      <td>d</td>\n",
              "      <td>27.03</td>\n",
              "    </tr>\n",
              "    <tr>\n",
              "      <th>4</th>\n",
              "      <td>e</td>\n",
              "      <td>76.90</td>\n",
              "    </tr>\n",
              "  </tbody>\n",
              "</table>\n",
              "</div>"
            ],
            "text/plain": [
              "  index     0\n",
              "0     a 37.24\n",
              "1     b  4.96\n",
              "2     c 25.54\n",
              "3     d 27.03\n",
              "4     e 76.90"
            ]
          },
          "metadata": {
            "tags": []
          },
          "execution_count": 19
        }
      ]
    },
    {
      "cell_type": "markdown",
      "metadata": {
        "id": "rXbduUpIDhid",
        "colab_type": "text"
      },
      "source": [
        "Y podemos obtener una nueva serie con nuevos indices y eliminamos los indices..."
      ]
    },
    {
      "cell_type": "code",
      "metadata": {
        "id": "eSjM3xp-Dd05",
        "colab_type": "code",
        "colab": {
          "base_uri": "https://localhost:8080/",
          "height": 121
        },
        "outputId": "842c8086-bef7-403e-f9c8-dc0debe1aa66"
      },
      "source": [
        "s1.reset_index(drop=True)"
      ],
      "execution_count": 20,
      "outputs": [
        {
          "output_type": "execute_result",
          "data": {
            "text/plain": [
              "0   37.24\n",
              "1    4.96\n",
              "2   25.54\n",
              "3   27.03\n",
              "4   76.90\n",
              "dtype: float64"
            ]
          },
          "metadata": {
            "tags": []
          },
          "execution_count": 20
        }
      ]
    },
    {
      "cell_type": "markdown",
      "metadata": {
        "id": "7YA4DMe4DtFo",
        "colab_type": "text"
      },
      "source": [
        "Vamos a crear una nueva concatenación eliminandos los indices."
      ]
    },
    {
      "cell_type": "code",
      "metadata": {
        "id": "05uIYvuEDotA",
        "colab_type": "code",
        "colab": {
          "base_uri": "https://localhost:8080/",
          "height": 206
        },
        "outputId": "e97c5f55-d7f4-45ba-d17d-4ca56656daf0"
      },
      "source": [
        "pd.concat([s1.reset_index(drop=True),s2.reset_index(drop=True)], axis=1)"
      ],
      "execution_count": 21,
      "outputs": [
        {
          "output_type": "execute_result",
          "data": {
            "text/html": [
              "<div>\n",
              "<style scoped>\n",
              "    .dataframe tbody tr th:only-of-type {\n",
              "        vertical-align: middle;\n",
              "    }\n",
              "\n",
              "    .dataframe tbody tr th {\n",
              "        vertical-align: top;\n",
              "    }\n",
              "\n",
              "    .dataframe thead th {\n",
              "        text-align: right;\n",
              "    }\n",
              "</style>\n",
              "<table border=\"1\" class=\"dataframe\">\n",
              "  <thead>\n",
              "    <tr style=\"text-align: right;\">\n",
              "      <th></th>\n",
              "      <th>0</th>\n",
              "      <th>1</th>\n",
              "    </tr>\n",
              "  </thead>\n",
              "  <tbody>\n",
              "    <tr>\n",
              "      <th>0</th>\n",
              "      <td>37.24</td>\n",
              "      <td>-0.22</td>\n",
              "    </tr>\n",
              "    <tr>\n",
              "      <th>1</th>\n",
              "      <td>4.96</td>\n",
              "      <td>-0.81</td>\n",
              "    </tr>\n",
              "    <tr>\n",
              "      <th>2</th>\n",
              "      <td>25.54</td>\n",
              "      <td>-0.96</td>\n",
              "    </tr>\n",
              "    <tr>\n",
              "      <th>3</th>\n",
              "      <td>27.03</td>\n",
              "      <td>-0.60</td>\n",
              "    </tr>\n",
              "    <tr>\n",
              "      <th>4</th>\n",
              "      <td>76.90</td>\n",
              "      <td>-0.16</td>\n",
              "    </tr>\n",
              "  </tbody>\n",
              "</table>\n",
              "</div>"
            ],
            "text/plain": [
              "      0     1\n",
              "0 37.24 -0.22\n",
              "1  4.96 -0.81\n",
              "2 25.54 -0.96\n",
              "3 27.03 -0.60\n",
              "4 76.90 -0.16"
            ]
          },
          "metadata": {
            "tags": []
          },
          "execution_count": 21
        }
      ]
    },
    {
      "cell_type": "markdown",
      "metadata": {
        "id": "F_pnELhRD4KX",
        "colab_type": "text"
      },
      "source": [
        "Tengo ahora una concatenación pero ahora ya no respeta el índice, en realidad se respeta el nuevo indice creado (reset_index)"
      ]
    },
    {
      "cell_type": "markdown",
      "metadata": {
        "colab_type": "text",
        "id": "CWd5oVvEEIyo"
      },
      "source": [
        "## Concatenacion de dataframe con pandas"
      ]
    },
    {
      "cell_type": "markdown",
      "metadata": {
        "id": "a6ambZNlEeuK",
        "colab_type": "text"
      },
      "source": [
        "Creemos un DataFrame simple con valores aleatorio."
      ]
    },
    {
      "cell_type": "code",
      "metadata": {
        "id": "6iaxV-T4ES7s",
        "colab_type": "code",
        "colab": {
          "base_uri": "https://localhost:8080/",
          "height": 143
        },
        "outputId": "04c3ecf0-cbbf-459b-f410-d61efd20efc4"
      },
      "source": [
        "df1 = pd.DataFrame(np.random.rand(3,2)*10, columns=['a','b'])\n",
        "df1"
      ],
      "execution_count": 22,
      "outputs": [
        {
          "output_type": "execute_result",
          "data": {
            "text/html": [
              "<div>\n",
              "<style scoped>\n",
              "    .dataframe tbody tr th:only-of-type {\n",
              "        vertical-align: middle;\n",
              "    }\n",
              "\n",
              "    .dataframe tbody tr th {\n",
              "        vertical-align: top;\n",
              "    }\n",
              "\n",
              "    .dataframe thead th {\n",
              "        text-align: right;\n",
              "    }\n",
              "</style>\n",
              "<table border=\"1\" class=\"dataframe\">\n",
              "  <thead>\n",
              "    <tr style=\"text-align: right;\">\n",
              "      <th></th>\n",
              "      <th>a</th>\n",
              "      <th>b</th>\n",
              "    </tr>\n",
              "  </thead>\n",
              "  <tbody>\n",
              "    <tr>\n",
              "      <th>0</th>\n",
              "      <td>1.75</td>\n",
              "      <td>2.12</td>\n",
              "    </tr>\n",
              "    <tr>\n",
              "      <th>1</th>\n",
              "      <td>5.83</td>\n",
              "      <td>4.54</td>\n",
              "    </tr>\n",
              "    <tr>\n",
              "      <th>2</th>\n",
              "      <td>0.17</td>\n",
              "      <td>7.60</td>\n",
              "    </tr>\n",
              "  </tbody>\n",
              "</table>\n",
              "</div>"
            ],
            "text/plain": [
              "     a    b\n",
              "0 1.75 2.12\n",
              "1 5.83 4.54\n",
              "2 0.17 7.60"
            ]
          },
          "metadata": {
            "tags": []
          },
          "execution_count": 22
        }
      ]
    },
    {
      "cell_type": "markdown",
      "metadata": {
        "id": "AQJs1Im6FK5Y",
        "colab_type": "text"
      },
      "source": [
        "Podemos un segundo dataframe con numeros negativos y cambios de indice."
      ]
    },
    {
      "cell_type": "code",
      "metadata": {
        "id": "WYLz27jWEclr",
        "colab_type": "code",
        "colab": {
          "base_uri": "https://localhost:8080/",
          "height": 143
        },
        "outputId": "e34f7cde-ef48-4e9e-a3e5-d0c019551a26"
      },
      "source": [
        "df2 = pd.DataFrame(np.random.rand(3,2)*-1, columns=['a','b'], index=[2,3,4])\n",
        "df2"
      ],
      "execution_count": 23,
      "outputs": [
        {
          "output_type": "execute_result",
          "data": {
            "text/html": [
              "<div>\n",
              "<style scoped>\n",
              "    .dataframe tbody tr th:only-of-type {\n",
              "        vertical-align: middle;\n",
              "    }\n",
              "\n",
              "    .dataframe tbody tr th {\n",
              "        vertical-align: top;\n",
              "    }\n",
              "\n",
              "    .dataframe thead th {\n",
              "        text-align: right;\n",
              "    }\n",
              "</style>\n",
              "<table border=\"1\" class=\"dataframe\">\n",
              "  <thead>\n",
              "    <tr style=\"text-align: right;\">\n",
              "      <th></th>\n",
              "      <th>a</th>\n",
              "      <th>b</th>\n",
              "    </tr>\n",
              "  </thead>\n",
              "  <tbody>\n",
              "    <tr>\n",
              "      <th>2</th>\n",
              "      <td>-0.85</td>\n",
              "      <td>-0.77</td>\n",
              "    </tr>\n",
              "    <tr>\n",
              "      <th>3</th>\n",
              "      <td>-0.57</td>\n",
              "      <td>-0.10</td>\n",
              "    </tr>\n",
              "    <tr>\n",
              "      <th>4</th>\n",
              "      <td>-0.89</td>\n",
              "      <td>-0.60</td>\n",
              "    </tr>\n",
              "  </tbody>\n",
              "</table>\n",
              "</div>"
            ],
            "text/plain": [
              "      a     b\n",
              "2 -0.85 -0.77\n",
              "3 -0.57 -0.10\n",
              "4 -0.89 -0.60"
            ]
          },
          "metadata": {
            "tags": []
          },
          "execution_count": 23
        }
      ]
    },
    {
      "cell_type": "markdown",
      "metadata": {
        "id": "QA3KYT04FcnW",
        "colab_type": "text"
      },
      "source": [
        "Concatenemos los dataframe anteriores, estos lo haran a lo largo de las filas de forma predenterminada."
      ]
    },
    {
      "cell_type": "code",
      "metadata": {
        "id": "pSiy5lwIFa0u",
        "colab_type": "code",
        "colab": {
          "base_uri": "https://localhost:8080/",
          "height": 238
        },
        "outputId": "40f73315-1f1b-4f7d-b3da-23db3a343aec"
      },
      "source": [
        "pd.concat([df1,df2])"
      ],
      "execution_count": 24,
      "outputs": [
        {
          "output_type": "execute_result",
          "data": {
            "text/html": [
              "<div>\n",
              "<style scoped>\n",
              "    .dataframe tbody tr th:only-of-type {\n",
              "        vertical-align: middle;\n",
              "    }\n",
              "\n",
              "    .dataframe tbody tr th {\n",
              "        vertical-align: top;\n",
              "    }\n",
              "\n",
              "    .dataframe thead th {\n",
              "        text-align: right;\n",
              "    }\n",
              "</style>\n",
              "<table border=\"1\" class=\"dataframe\">\n",
              "  <thead>\n",
              "    <tr style=\"text-align: right;\">\n",
              "      <th></th>\n",
              "      <th>a</th>\n",
              "      <th>b</th>\n",
              "    </tr>\n",
              "  </thead>\n",
              "  <tbody>\n",
              "    <tr>\n",
              "      <th>0</th>\n",
              "      <td>1.75</td>\n",
              "      <td>2.12</td>\n",
              "    </tr>\n",
              "    <tr>\n",
              "      <th>1</th>\n",
              "      <td>5.83</td>\n",
              "      <td>4.54</td>\n",
              "    </tr>\n",
              "    <tr>\n",
              "      <th>2</th>\n",
              "      <td>0.17</td>\n",
              "      <td>7.60</td>\n",
              "    </tr>\n",
              "    <tr>\n",
              "      <th>2</th>\n",
              "      <td>-0.85</td>\n",
              "      <td>-0.77</td>\n",
              "    </tr>\n",
              "    <tr>\n",
              "      <th>3</th>\n",
              "      <td>-0.57</td>\n",
              "      <td>-0.10</td>\n",
              "    </tr>\n",
              "    <tr>\n",
              "      <th>4</th>\n",
              "      <td>-0.89</td>\n",
              "      <td>-0.60</td>\n",
              "    </tr>\n",
              "  </tbody>\n",
              "</table>\n",
              "</div>"
            ],
            "text/plain": [
              "      a     b\n",
              "0  1.75  2.12\n",
              "1  5.83  4.54\n",
              "2  0.17  7.60\n",
              "2 -0.85 -0.77\n",
              "3 -0.57 -0.10\n",
              "4 -0.89 -0.60"
            ]
          },
          "metadata": {
            "tags": []
          },
          "execution_count": 24
        }
      ]
    },
    {
      "cell_type": "markdown",
      "metadata": {
        "id": "jIFED4kgFpO_",
        "colab_type": "text"
      },
      "source": [
        "Si lo queremos hacer a lo largo de las columnas debemos hacerlo como sigue:"
      ]
    },
    {
      "cell_type": "code",
      "metadata": {
        "id": "cm4GrMMZFhs-",
        "colab_type": "code",
        "colab": {
          "base_uri": "https://localhost:8080/",
          "height": 206
        },
        "outputId": "1b3b410d-0526-4d8d-87df-de999248eda2"
      },
      "source": [
        "pd.concat([df1,df2], axis=1)"
      ],
      "execution_count": 25,
      "outputs": [
        {
          "output_type": "execute_result",
          "data": {
            "text/html": [
              "<div>\n",
              "<style scoped>\n",
              "    .dataframe tbody tr th:only-of-type {\n",
              "        vertical-align: middle;\n",
              "    }\n",
              "\n",
              "    .dataframe tbody tr th {\n",
              "        vertical-align: top;\n",
              "    }\n",
              "\n",
              "    .dataframe thead th {\n",
              "        text-align: right;\n",
              "    }\n",
              "</style>\n",
              "<table border=\"1\" class=\"dataframe\">\n",
              "  <thead>\n",
              "    <tr style=\"text-align: right;\">\n",
              "      <th></th>\n",
              "      <th>a</th>\n",
              "      <th>b</th>\n",
              "      <th>a</th>\n",
              "      <th>b</th>\n",
              "    </tr>\n",
              "  </thead>\n",
              "  <tbody>\n",
              "    <tr>\n",
              "      <th>0</th>\n",
              "      <td>1.75</td>\n",
              "      <td>2.12</td>\n",
              "      <td>nan</td>\n",
              "      <td>nan</td>\n",
              "    </tr>\n",
              "    <tr>\n",
              "      <th>1</th>\n",
              "      <td>5.83</td>\n",
              "      <td>4.54</td>\n",
              "      <td>nan</td>\n",
              "      <td>nan</td>\n",
              "    </tr>\n",
              "    <tr>\n",
              "      <th>2</th>\n",
              "      <td>0.17</td>\n",
              "      <td>7.60</td>\n",
              "      <td>-0.85</td>\n",
              "      <td>-0.77</td>\n",
              "    </tr>\n",
              "    <tr>\n",
              "      <th>3</th>\n",
              "      <td>nan</td>\n",
              "      <td>nan</td>\n",
              "      <td>-0.57</td>\n",
              "      <td>-0.10</td>\n",
              "    </tr>\n",
              "    <tr>\n",
              "      <th>4</th>\n",
              "      <td>nan</td>\n",
              "      <td>nan</td>\n",
              "      <td>-0.89</td>\n",
              "      <td>-0.60</td>\n",
              "    </tr>\n",
              "  </tbody>\n",
              "</table>\n",
              "</div>"
            ],
            "text/plain": [
              "     a    b     a     b\n",
              "0 1.75 2.12   nan   nan\n",
              "1 5.83 4.54   nan   nan\n",
              "2 0.17 7.60 -0.85 -0.77\n",
              "3  nan  nan -0.57 -0.10\n",
              "4  nan  nan -0.89 -0.60"
            ]
          },
          "metadata": {
            "tags": []
          },
          "execution_count": 25
        }
      ]
    },
    {
      "cell_type": "markdown",
      "metadata": {
        "id": "pVM1adniFxxi",
        "colab_type": "text"
      },
      "source": [
        "Lo que paso en el primer caso es que se repetian indices de filas y se compatian indices de columnas. \n",
        "\n",
        "En el segundo caso pasa lo contrario, se comparten los indices de las filas y se repiten los índices de las columnas."
      ]
    },
    {
      "cell_type": "markdown",
      "metadata": {
        "id": "acqtQ_wJGJPK",
        "colab_type": "text"
      },
      "source": [
        "Si hacemos concatenacion de dos dataframe y queremos hacer enfasis de solo los elementos que se comparten, lo hacemos de la siguiente manera."
      ]
    },
    {
      "cell_type": "code",
      "metadata": {
        "id": "J8LJmzFSFvHh",
        "colab_type": "code",
        "colab": {
          "base_uri": "https://localhost:8080/",
          "height": 81
        },
        "outputId": "be44ffd6-f22c-45a1-b53c-94ee0e1f4b28"
      },
      "source": [
        "pd.concat([df1,df2], axis=1, join='inner')"
      ],
      "execution_count": 26,
      "outputs": [
        {
          "output_type": "execute_result",
          "data": {
            "text/html": [
              "<div>\n",
              "<style scoped>\n",
              "    .dataframe tbody tr th:only-of-type {\n",
              "        vertical-align: middle;\n",
              "    }\n",
              "\n",
              "    .dataframe tbody tr th {\n",
              "        vertical-align: top;\n",
              "    }\n",
              "\n",
              "    .dataframe thead th {\n",
              "        text-align: right;\n",
              "    }\n",
              "</style>\n",
              "<table border=\"1\" class=\"dataframe\">\n",
              "  <thead>\n",
              "    <tr style=\"text-align: right;\">\n",
              "      <th></th>\n",
              "      <th>a</th>\n",
              "      <th>b</th>\n",
              "      <th>a</th>\n",
              "      <th>b</th>\n",
              "    </tr>\n",
              "  </thead>\n",
              "  <tbody>\n",
              "    <tr>\n",
              "      <th>2</th>\n",
              "      <td>0.17</td>\n",
              "      <td>7.60</td>\n",
              "      <td>-0.85</td>\n",
              "      <td>-0.77</td>\n",
              "    </tr>\n",
              "  </tbody>\n",
              "</table>\n",
              "</div>"
            ],
            "text/plain": [
              "     a    b     a     b\n",
              "2 0.17 7.60 -0.85 -0.77"
            ]
          },
          "metadata": {
            "tags": []
          },
          "execution_count": 26
        }
      ]
    },
    {
      "cell_type": "markdown",
      "metadata": {
        "id": "0T3iwD2IGatf",
        "colab_type": "text"
      },
      "source": [
        "Podemos resetear los indices tambien como hicimos antes:"
      ]
    },
    {
      "cell_type": "code",
      "metadata": {
        "id": "hL33cFN2GVqr",
        "colab_type": "code",
        "colab": {
          "base_uri": "https://localhost:8080/",
          "height": 143
        },
        "outputId": "a93a81c2-2264-4122-b125-ea8bb89c955b"
      },
      "source": [
        "pd.concat([df1.reset_index(drop=True),\n",
        "           df2.reset_index(drop=True)],\n",
        "           axis=1, join='inner')"
      ],
      "execution_count": 27,
      "outputs": [
        {
          "output_type": "execute_result",
          "data": {
            "text/html": [
              "<div>\n",
              "<style scoped>\n",
              "    .dataframe tbody tr th:only-of-type {\n",
              "        vertical-align: middle;\n",
              "    }\n",
              "\n",
              "    .dataframe tbody tr th {\n",
              "        vertical-align: top;\n",
              "    }\n",
              "\n",
              "    .dataframe thead th {\n",
              "        text-align: right;\n",
              "    }\n",
              "</style>\n",
              "<table border=\"1\" class=\"dataframe\">\n",
              "  <thead>\n",
              "    <tr style=\"text-align: right;\">\n",
              "      <th></th>\n",
              "      <th>a</th>\n",
              "      <th>b</th>\n",
              "      <th>a</th>\n",
              "      <th>b</th>\n",
              "    </tr>\n",
              "  </thead>\n",
              "  <tbody>\n",
              "    <tr>\n",
              "      <th>0</th>\n",
              "      <td>1.75</td>\n",
              "      <td>2.12</td>\n",
              "      <td>-0.85</td>\n",
              "      <td>-0.77</td>\n",
              "    </tr>\n",
              "    <tr>\n",
              "      <th>1</th>\n",
              "      <td>5.83</td>\n",
              "      <td>4.54</td>\n",
              "      <td>-0.57</td>\n",
              "      <td>-0.10</td>\n",
              "    </tr>\n",
              "    <tr>\n",
              "      <th>2</th>\n",
              "      <td>0.17</td>\n",
              "      <td>7.60</td>\n",
              "      <td>-0.89</td>\n",
              "      <td>-0.60</td>\n",
              "    </tr>\n",
              "  </tbody>\n",
              "</table>\n",
              "</div>"
            ],
            "text/plain": [
              "     a    b     a     b\n",
              "0 1.75 2.12 -0.85 -0.77\n",
              "1 5.83 4.54 -0.57 -0.10\n",
              "2 0.17 7.60 -0.89 -0.60"
            ]
          },
          "metadata": {
            "tags": []
          },
          "execution_count": 27
        }
      ]
    },
    {
      "cell_type": "markdown",
      "metadata": {
        "id": "KocDBRfJGti5",
        "colab_type": "text"
      },
      "source": [
        "Hay una forma mas simple de unir dos dataframe con una función llamada **append**"
      ]
    },
    {
      "cell_type": "code",
      "metadata": {
        "id": "cqmrbkZZGpd5",
        "colab_type": "code",
        "colab": {
          "base_uri": "https://localhost:8080/",
          "height": 238
        },
        "outputId": "57fca193-0b73-4adf-f688-7927503df641"
      },
      "source": [
        "df1.append(df2)"
      ],
      "execution_count": 28,
      "outputs": [
        {
          "output_type": "execute_result",
          "data": {
            "text/html": [
              "<div>\n",
              "<style scoped>\n",
              "    .dataframe tbody tr th:only-of-type {\n",
              "        vertical-align: middle;\n",
              "    }\n",
              "\n",
              "    .dataframe tbody tr th {\n",
              "        vertical-align: top;\n",
              "    }\n",
              "\n",
              "    .dataframe thead th {\n",
              "        text-align: right;\n",
              "    }\n",
              "</style>\n",
              "<table border=\"1\" class=\"dataframe\">\n",
              "  <thead>\n",
              "    <tr style=\"text-align: right;\">\n",
              "      <th></th>\n",
              "      <th>a</th>\n",
              "      <th>b</th>\n",
              "    </tr>\n",
              "  </thead>\n",
              "  <tbody>\n",
              "    <tr>\n",
              "      <th>0</th>\n",
              "      <td>1.75</td>\n",
              "      <td>2.12</td>\n",
              "    </tr>\n",
              "    <tr>\n",
              "      <th>1</th>\n",
              "      <td>5.83</td>\n",
              "      <td>4.54</td>\n",
              "    </tr>\n",
              "    <tr>\n",
              "      <th>2</th>\n",
              "      <td>0.17</td>\n",
              "      <td>7.60</td>\n",
              "    </tr>\n",
              "    <tr>\n",
              "      <th>2</th>\n",
              "      <td>-0.85</td>\n",
              "      <td>-0.77</td>\n",
              "    </tr>\n",
              "    <tr>\n",
              "      <th>3</th>\n",
              "      <td>-0.57</td>\n",
              "      <td>-0.10</td>\n",
              "    </tr>\n",
              "    <tr>\n",
              "      <th>4</th>\n",
              "      <td>-0.89</td>\n",
              "      <td>-0.60</td>\n",
              "    </tr>\n",
              "  </tbody>\n",
              "</table>\n",
              "</div>"
            ],
            "text/plain": [
              "      a     b\n",
              "0  1.75  2.12\n",
              "1  5.83  4.54\n",
              "2  0.17  7.60\n",
              "2 -0.85 -0.77\n",
              "3 -0.57 -0.10\n",
              "4 -0.89 -0.60"
            ]
          },
          "metadata": {
            "tags": []
          },
          "execution_count": 28
        }
      ]
    },
    {
      "cell_type": "code",
      "metadata": {
        "id": "9XUpuu4aHBxB",
        "colab_type": "code",
        "colab": {
          "base_uri": "https://localhost:8080/",
          "height": 332
        },
        "outputId": "735187f5-5bd9-47be-a9c8-d607852b8b6a"
      },
      "source": [
        "df1.append(df2).append(df2)\n"
      ],
      "execution_count": 30,
      "outputs": [
        {
          "output_type": "execute_result",
          "data": {
            "text/html": [
              "<div>\n",
              "<style scoped>\n",
              "    .dataframe tbody tr th:only-of-type {\n",
              "        vertical-align: middle;\n",
              "    }\n",
              "\n",
              "    .dataframe tbody tr th {\n",
              "        vertical-align: top;\n",
              "    }\n",
              "\n",
              "    .dataframe thead th {\n",
              "        text-align: right;\n",
              "    }\n",
              "</style>\n",
              "<table border=\"1\" class=\"dataframe\">\n",
              "  <thead>\n",
              "    <tr style=\"text-align: right;\">\n",
              "      <th></th>\n",
              "      <th>a</th>\n",
              "      <th>b</th>\n",
              "    </tr>\n",
              "  </thead>\n",
              "  <tbody>\n",
              "    <tr>\n",
              "      <th>0</th>\n",
              "      <td>1.75</td>\n",
              "      <td>2.12</td>\n",
              "    </tr>\n",
              "    <tr>\n",
              "      <th>1</th>\n",
              "      <td>5.83</td>\n",
              "      <td>4.54</td>\n",
              "    </tr>\n",
              "    <tr>\n",
              "      <th>2</th>\n",
              "      <td>0.17</td>\n",
              "      <td>7.60</td>\n",
              "    </tr>\n",
              "    <tr>\n",
              "      <th>2</th>\n",
              "      <td>-0.85</td>\n",
              "      <td>-0.77</td>\n",
              "    </tr>\n",
              "    <tr>\n",
              "      <th>3</th>\n",
              "      <td>-0.57</td>\n",
              "      <td>-0.10</td>\n",
              "    </tr>\n",
              "    <tr>\n",
              "      <th>4</th>\n",
              "      <td>-0.89</td>\n",
              "      <td>-0.60</td>\n",
              "    </tr>\n",
              "    <tr>\n",
              "      <th>2</th>\n",
              "      <td>-0.85</td>\n",
              "      <td>-0.77</td>\n",
              "    </tr>\n",
              "    <tr>\n",
              "      <th>3</th>\n",
              "      <td>-0.57</td>\n",
              "      <td>-0.10</td>\n",
              "    </tr>\n",
              "    <tr>\n",
              "      <th>4</th>\n",
              "      <td>-0.89</td>\n",
              "      <td>-0.60</td>\n",
              "    </tr>\n",
              "  </tbody>\n",
              "</table>\n",
              "</div>"
            ],
            "text/plain": [
              "      a     b\n",
              "0  1.75  2.12\n",
              "1  5.83  4.54\n",
              "2  0.17  7.60\n",
              "2 -0.85 -0.77\n",
              "3 -0.57 -0.10\n",
              "4 -0.89 -0.60\n",
              "2 -0.85 -0.77\n",
              "3 -0.57 -0.10\n",
              "4 -0.89 -0.60"
            ]
          },
          "metadata": {
            "tags": []
          },
          "execution_count": 30
        }
      ]
    },
    {
      "cell_type": "markdown",
      "metadata": {
        "id": "gVjQpmmGHIII",
        "colab_type": "text"
      },
      "source": [
        "Ahora si queremos hacer un append a los largo de las columnas debemos hacer la transpueta de nuestro dataframe."
      ]
    },
    {
      "cell_type": "code",
      "metadata": {
        "id": "_q6bYVPyHFsp",
        "colab_type": "code",
        "colab": {
          "base_uri": "https://localhost:8080/",
          "height": 143
        },
        "outputId": "c4732e14-5663-4d99-fcf0-91dae1d51f5c"
      },
      "source": [
        "df1"
      ],
      "execution_count": 31,
      "outputs": [
        {
          "output_type": "execute_result",
          "data": {
            "text/html": [
              "<div>\n",
              "<style scoped>\n",
              "    .dataframe tbody tr th:only-of-type {\n",
              "        vertical-align: middle;\n",
              "    }\n",
              "\n",
              "    .dataframe tbody tr th {\n",
              "        vertical-align: top;\n",
              "    }\n",
              "\n",
              "    .dataframe thead th {\n",
              "        text-align: right;\n",
              "    }\n",
              "</style>\n",
              "<table border=\"1\" class=\"dataframe\">\n",
              "  <thead>\n",
              "    <tr style=\"text-align: right;\">\n",
              "      <th></th>\n",
              "      <th>a</th>\n",
              "      <th>b</th>\n",
              "    </tr>\n",
              "  </thead>\n",
              "  <tbody>\n",
              "    <tr>\n",
              "      <th>0</th>\n",
              "      <td>1.75</td>\n",
              "      <td>2.12</td>\n",
              "    </tr>\n",
              "    <tr>\n",
              "      <th>1</th>\n",
              "      <td>5.83</td>\n",
              "      <td>4.54</td>\n",
              "    </tr>\n",
              "    <tr>\n",
              "      <th>2</th>\n",
              "      <td>0.17</td>\n",
              "      <td>7.60</td>\n",
              "    </tr>\n",
              "  </tbody>\n",
              "</table>\n",
              "</div>"
            ],
            "text/plain": [
              "     a    b\n",
              "0 1.75 2.12\n",
              "1 5.83 4.54\n",
              "2 0.17 7.60"
            ]
          },
          "metadata": {
            "tags": []
          },
          "execution_count": 31
        }
      ]
    },
    {
      "cell_type": "code",
      "metadata": {
        "id": "ocxYfWFpHTr7",
        "colab_type": "code",
        "colab": {
          "base_uri": "https://localhost:8080/",
          "height": 112
        },
        "outputId": "cba9a63b-a30e-4ba9-9da3-12c0479007b6"
      },
      "source": [
        "df1.T"
      ],
      "execution_count": 32,
      "outputs": [
        {
          "output_type": "execute_result",
          "data": {
            "text/html": [
              "<div>\n",
              "<style scoped>\n",
              "    .dataframe tbody tr th:only-of-type {\n",
              "        vertical-align: middle;\n",
              "    }\n",
              "\n",
              "    .dataframe tbody tr th {\n",
              "        vertical-align: top;\n",
              "    }\n",
              "\n",
              "    .dataframe thead th {\n",
              "        text-align: right;\n",
              "    }\n",
              "</style>\n",
              "<table border=\"1\" class=\"dataframe\">\n",
              "  <thead>\n",
              "    <tr style=\"text-align: right;\">\n",
              "      <th></th>\n",
              "      <th>0</th>\n",
              "      <th>1</th>\n",
              "      <th>2</th>\n",
              "    </tr>\n",
              "  </thead>\n",
              "  <tbody>\n",
              "    <tr>\n",
              "      <th>a</th>\n",
              "      <td>1.75</td>\n",
              "      <td>5.83</td>\n",
              "      <td>0.17</td>\n",
              "    </tr>\n",
              "    <tr>\n",
              "      <th>b</th>\n",
              "      <td>2.12</td>\n",
              "      <td>4.54</td>\n",
              "      <td>7.60</td>\n",
              "    </tr>\n",
              "  </tbody>\n",
              "</table>\n",
              "</div>"
            ],
            "text/plain": [
              "     0    1    2\n",
              "a 1.75 5.83 0.17\n",
              "b 2.12 4.54 7.60"
            ]
          },
          "metadata": {
            "tags": []
          },
          "execution_count": 32
        }
      ]
    },
    {
      "cell_type": "code",
      "metadata": {
        "id": "Ccf-4Jt4HVGh",
        "colab_type": "code",
        "colab": {
          "base_uri": "https://localhost:8080/",
          "height": 175
        },
        "outputId": "78742932-d46f-4ced-bb33-74b12c37fd22"
      },
      "source": [
        "df1.T.append(df2.T)"
      ],
      "execution_count": 33,
      "outputs": [
        {
          "output_type": "execute_result",
          "data": {
            "text/html": [
              "<div>\n",
              "<style scoped>\n",
              "    .dataframe tbody tr th:only-of-type {\n",
              "        vertical-align: middle;\n",
              "    }\n",
              "\n",
              "    .dataframe tbody tr th {\n",
              "        vertical-align: top;\n",
              "    }\n",
              "\n",
              "    .dataframe thead th {\n",
              "        text-align: right;\n",
              "    }\n",
              "</style>\n",
              "<table border=\"1\" class=\"dataframe\">\n",
              "  <thead>\n",
              "    <tr style=\"text-align: right;\">\n",
              "      <th></th>\n",
              "      <th>0</th>\n",
              "      <th>1</th>\n",
              "      <th>2</th>\n",
              "      <th>3</th>\n",
              "      <th>4</th>\n",
              "    </tr>\n",
              "  </thead>\n",
              "  <tbody>\n",
              "    <tr>\n",
              "      <th>a</th>\n",
              "      <td>1.75</td>\n",
              "      <td>5.83</td>\n",
              "      <td>0.17</td>\n",
              "      <td>nan</td>\n",
              "      <td>nan</td>\n",
              "    </tr>\n",
              "    <tr>\n",
              "      <th>b</th>\n",
              "      <td>2.12</td>\n",
              "      <td>4.54</td>\n",
              "      <td>7.60</td>\n",
              "      <td>nan</td>\n",
              "      <td>nan</td>\n",
              "    </tr>\n",
              "    <tr>\n",
              "      <th>a</th>\n",
              "      <td>nan</td>\n",
              "      <td>nan</td>\n",
              "      <td>-0.85</td>\n",
              "      <td>-0.57</td>\n",
              "      <td>-0.89</td>\n",
              "    </tr>\n",
              "    <tr>\n",
              "      <th>b</th>\n",
              "      <td>nan</td>\n",
              "      <td>nan</td>\n",
              "      <td>-0.77</td>\n",
              "      <td>-0.10</td>\n",
              "      <td>-0.60</td>\n",
              "    </tr>\n",
              "  </tbody>\n",
              "</table>\n",
              "</div>"
            ],
            "text/plain": [
              "     0    1     2     3     4\n",
              "a 1.75 5.83  0.17   nan   nan\n",
              "b 2.12 4.54  7.60   nan   nan\n",
              "a  nan  nan -0.85 -0.57 -0.89\n",
              "b  nan  nan -0.77 -0.10 -0.60"
            ]
          },
          "metadata": {
            "tags": []
          },
          "execution_count": 33
        }
      ]
    },
    {
      "cell_type": "code",
      "metadata": {
        "id": "gyT2fpWeHdCL",
        "colab_type": "code",
        "colab": {
          "base_uri": "https://localhost:8080/",
          "height": 206
        },
        "outputId": "820eddfa-3743-46fd-9206-ff9e749f14c0"
      },
      "source": [
        "df1.T.append(df2.T).T"
      ],
      "execution_count": 34,
      "outputs": [
        {
          "output_type": "execute_result",
          "data": {
            "text/html": [
              "<div>\n",
              "<style scoped>\n",
              "    .dataframe tbody tr th:only-of-type {\n",
              "        vertical-align: middle;\n",
              "    }\n",
              "\n",
              "    .dataframe tbody tr th {\n",
              "        vertical-align: top;\n",
              "    }\n",
              "\n",
              "    .dataframe thead th {\n",
              "        text-align: right;\n",
              "    }\n",
              "</style>\n",
              "<table border=\"1\" class=\"dataframe\">\n",
              "  <thead>\n",
              "    <tr style=\"text-align: right;\">\n",
              "      <th></th>\n",
              "      <th>a</th>\n",
              "      <th>b</th>\n",
              "      <th>a</th>\n",
              "      <th>b</th>\n",
              "    </tr>\n",
              "  </thead>\n",
              "  <tbody>\n",
              "    <tr>\n",
              "      <th>0</th>\n",
              "      <td>1.75</td>\n",
              "      <td>2.12</td>\n",
              "      <td>nan</td>\n",
              "      <td>nan</td>\n",
              "    </tr>\n",
              "    <tr>\n",
              "      <th>1</th>\n",
              "      <td>5.83</td>\n",
              "      <td>4.54</td>\n",
              "      <td>nan</td>\n",
              "      <td>nan</td>\n",
              "    </tr>\n",
              "    <tr>\n",
              "      <th>2</th>\n",
              "      <td>0.17</td>\n",
              "      <td>7.60</td>\n",
              "      <td>-0.85</td>\n",
              "      <td>-0.77</td>\n",
              "    </tr>\n",
              "    <tr>\n",
              "      <th>3</th>\n",
              "      <td>nan</td>\n",
              "      <td>nan</td>\n",
              "      <td>-0.57</td>\n",
              "      <td>-0.10</td>\n",
              "    </tr>\n",
              "    <tr>\n",
              "      <th>4</th>\n",
              "      <td>nan</td>\n",
              "      <td>nan</td>\n",
              "      <td>-0.89</td>\n",
              "      <td>-0.60</td>\n",
              "    </tr>\n",
              "  </tbody>\n",
              "</table>\n",
              "</div>"
            ],
            "text/plain": [
              "     a    b     a     b\n",
              "0 1.75 2.12   nan   nan\n",
              "1 5.83 4.54   nan   nan\n",
              "2 0.17 7.60 -0.85 -0.77\n",
              "3  nan  nan -0.57 -0.10\n",
              "4  nan  nan -0.89 -0.60"
            ]
          },
          "metadata": {
            "tags": []
          },
          "execution_count": 34
        }
      ]
    },
    {
      "cell_type": "code",
      "metadata": {
        "id": "NhCgLieWHfoV",
        "colab_type": "code",
        "colab": {}
      },
      "source": [
        ""
      ],
      "execution_count": null,
      "outputs": []
    }
  ]
}
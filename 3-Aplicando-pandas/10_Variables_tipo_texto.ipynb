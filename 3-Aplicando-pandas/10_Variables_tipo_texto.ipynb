{
  "nbformat": 4,
  "nbformat_minor": 0,
  "metadata": {
    "colab": {
      "name": "10-Variables-tipo-texto.ipynb",
      "provenance": [],
      "authorship_tag": "ABX9TyOKi0lYr+YtiZmzgoLjUXfH",
      "include_colab_link": true
    },
    "kernelspec": {
      "name": "python3",
      "display_name": "Python 3"
    }
  },
  "cells": [
    {
      "cell_type": "markdown",
      "metadata": {
        "id": "view-in-github",
        "colab_type": "text"
      },
      "source": [
        "<a href=\"https://colab.research.google.com/github/francomanca93/analisis-de-datos/blob/aplicaciones/3-Aplicando-pandas/10_Variables_tipo_texto.ipynb\" target=\"_parent\"><img src=\"https://colab.research.google.com/assets/colab-badge.svg\" alt=\"Open In Colab\"/></a>"
      ]
    },
    {
      "cell_type": "markdown",
      "metadata": {
        "id": "vJbfLRXNwBv-",
        "colab_type": "text"
      },
      "source": [
        "# Cómo trabajar con variables tipo texto en Pandas "
      ]
    },
    {
      "cell_type": "markdown",
      "metadata": {
        "id": "YP9RRwddEVRH",
        "colab_type": "text"
      },
      "source": [
        "Pandas cuenta con una gran funcionalidad a la hora de interactuar con texto, es super versatil si estas interesado en crear modelos de análisis de lenguaje natural.\n",
        "\n",
        "Cuando queremos manejar texto utilizamos la función **.str** y con esta podemos concatenar otros métodos para **hacer mayúsculas o minúsculas todo el texto**, y otras funcionalidades. Podemos **contar los caracteres **del string o **separar por palabras**. Tambien podemos **buscar coincidencias** y **crear filtros**. Inclusive podemos utilizar **expresiones regulares** para realizar busquedas mas complejas y exhaustivas.\n",
        "\n",
        "Comencemos cargando nuestra librería y creando un diccionario con nombres de personas."
      ]
    },
    {
      "cell_type": "code",
      "metadata": {
        "id": "KeKtN8ipv5SW",
        "colab_type": "code",
        "colab": {}
      },
      "source": [
        "import pandas as pd\n",
        "data = {'names':['Sara Moreno 34',\n",
        "                 'jUAn GOMez 23',\n",
        "                 'CArlos mArtinez 89',\n",
        "                 'Alfredo VelaZques 3',\n",
        "                 'luis Mora 56',\n",
        "                 '@freddier #platzi 10',pd.NA]}"
      ],
      "execution_count": 1,
      "outputs": []
    },
    {
      "cell_type": "markdown",
      "metadata": {
        "id": "R6afABWAE2Mn",
        "colab_type": "text"
      },
      "source": [
        "Usemos los datos del diccionario para crear nuestro DataFrame. Nuestro DataFrame contiene una columna tipo texto, con variedades de caracteres especiales, números, mayúsculas e inclusive variables nulas."
      ]
    },
    {
      "cell_type": "code",
      "metadata": {
        "id": "Ol97mpk-Evs8",
        "colab_type": "code",
        "colab": {
          "base_uri": "https://localhost:8080/",
          "height": 269
        },
        "outputId": "df29977b-6787-411a-b132-311539321c50"
      },
      "source": [
        "df = pd.DataFrame(data)\n",
        "df"
      ],
      "execution_count": 2,
      "outputs": [
        {
          "output_type": "execute_result",
          "data": {
            "text/html": [
              "<div>\n",
              "<style scoped>\n",
              "    .dataframe tbody tr th:only-of-type {\n",
              "        vertical-align: middle;\n",
              "    }\n",
              "\n",
              "    .dataframe tbody tr th {\n",
              "        vertical-align: top;\n",
              "    }\n",
              "\n",
              "    .dataframe thead th {\n",
              "        text-align: right;\n",
              "    }\n",
              "</style>\n",
              "<table border=\"1\" class=\"dataframe\">\n",
              "  <thead>\n",
              "    <tr style=\"text-align: right;\">\n",
              "      <th></th>\n",
              "      <th>names</th>\n",
              "    </tr>\n",
              "  </thead>\n",
              "  <tbody>\n",
              "    <tr>\n",
              "      <th>0</th>\n",
              "      <td>Sara Moreno 34</td>\n",
              "    </tr>\n",
              "    <tr>\n",
              "      <th>1</th>\n",
              "      <td>jUAn GOMez 23</td>\n",
              "    </tr>\n",
              "    <tr>\n",
              "      <th>2</th>\n",
              "      <td>CArlos mArtinez 89</td>\n",
              "    </tr>\n",
              "    <tr>\n",
              "      <th>3</th>\n",
              "      <td>Alfredo VelaZques 3</td>\n",
              "    </tr>\n",
              "    <tr>\n",
              "      <th>4</th>\n",
              "      <td>luis Mora 56</td>\n",
              "    </tr>\n",
              "    <tr>\n",
              "      <th>5</th>\n",
              "      <td>@freddier #platzi 10</td>\n",
              "    </tr>\n",
              "    <tr>\n",
              "      <th>6</th>\n",
              "      <td>&lt;NA&gt;</td>\n",
              "    </tr>\n",
              "  </tbody>\n",
              "</table>\n",
              "</div>"
            ],
            "text/plain": [
              "                  names\n",
              "0        Sara Moreno 34\n",
              "1         jUAn GOMez 23\n",
              "2    CArlos mArtinez 89\n",
              "3   Alfredo VelaZques 3\n",
              "4          luis Mora 56\n",
              "5  @freddier #platzi 10\n",
              "6                  <NA>"
            ]
          },
          "metadata": {
            "tags": []
          },
          "execution_count": 2
        }
      ]
    },
    {
      "cell_type": "markdown",
      "metadata": {
        "id": "VsRQnQB_FBKY",
        "colab_type": "text"
      },
      "source": [
        "Para usar las funciones asociadas a texto usamos **str** en nuestro DataFrame, por ejemplo, si se quiere colocar el texto en minúscula, basta con escribir:"
      ]
    },
    {
      "cell_type": "code",
      "metadata": {
        "id": "0z1WXfINE4fj",
        "colab_type": "code",
        "colab": {
          "base_uri": "https://localhost:8080/",
          "height": 156
        },
        "outputId": "2a9927bb-8938-41db-8265-ddfd1ca5ac7b"
      },
      "source": [
        "df['names'].str.lower()"
      ],
      "execution_count": 6,
      "outputs": [
        {
          "output_type": "execute_result",
          "data": {
            "text/plain": [
              "0          sara moreno 34\n",
              "1           juan gomez 23\n",
              "2      carlos martinez 89\n",
              "3     alfredo velazques 3\n",
              "4            luis mora 56\n",
              "5    @freddier #platzi 10\n",
              "6                    <NA>\n",
              "Name: names, dtype: object"
            ]
          },
          "metadata": {
            "tags": []
          },
          "execution_count": 6
        }
      ]
    },
    {
      "cell_type": "markdown",
      "metadata": {
        "id": "l0asIW-fFOOR",
        "colab_type": "text"
      },
      "source": [
        "Para mayúsculas igualmente:"
      ]
    },
    {
      "cell_type": "code",
      "metadata": {
        "id": "-piMKxf5FEAu",
        "colab_type": "code",
        "colab": {
          "base_uri": "https://localhost:8080/",
          "height": 156
        },
        "outputId": "4cb86195-2bd6-4f25-8167-a977ee048a06"
      },
      "source": [
        "df['names'].str.upper()"
      ],
      "execution_count": 5,
      "outputs": [
        {
          "output_type": "execute_result",
          "data": {
            "text/plain": [
              "0          SARA MORENO 34\n",
              "1           JUAN GOMEZ 23\n",
              "2      CARLOS MARTINEZ 89\n",
              "3     ALFREDO VELAZQUES 3\n",
              "4            LUIS MORA 56\n",
              "5    @FREDDIER #PLATZI 10\n",
              "6                    <NA>\n",
              "Name: names, dtype: object"
            ]
          },
          "metadata": {
            "tags": []
          },
          "execution_count": 5
        }
      ]
    },
    {
      "cell_type": "markdown",
      "metadata": {
        "id": "3o3ngHoDFgpL",
        "colab_type": "text"
      },
      "source": [
        "O si queremos solo la primera letra en mayúscula:"
      ]
    },
    {
      "cell_type": "code",
      "metadata": {
        "id": "oDVyeh8nFP7Y",
        "colab_type": "code",
        "colab": {
          "base_uri": "https://localhost:8080/",
          "height": 156
        },
        "outputId": "d0922843-9d39-4822-fa74-169beba85f23"
      },
      "source": [
        "df['names'].str.capitalize()"
      ],
      "execution_count": 7,
      "outputs": [
        {
          "output_type": "execute_result",
          "data": {
            "text/plain": [
              "0          Sara moreno 34\n",
              "1           Juan gomez 23\n",
              "2      Carlos martinez 89\n",
              "3     Alfredo velazques 3\n",
              "4            Luis mora 56\n",
              "5    @freddier #platzi 10\n",
              "6                    <NA>\n",
              "Name: names, dtype: object"
            ]
          },
          "metadata": {
            "tags": []
          },
          "execution_count": 7
        }
      ]
    },
    {
      "cell_type": "markdown",
      "metadata": {
        "id": "ZzmtNbHGFmlh",
        "colab_type": "text"
      },
      "source": [
        "Para contar la longitud de nuestro texto usamos:"
      ]
    },
    {
      "cell_type": "code",
      "metadata": {
        "id": "I9K39RYlFiLF",
        "colab_type": "code",
        "colab": {
          "base_uri": "https://localhost:8080/",
          "height": 156
        },
        "outputId": "f987ba22-3284-4167-8cf2-b42565885733"
      },
      "source": [
        "df['names'].str.len()"
      ],
      "execution_count": 8,
      "outputs": [
        {
          "output_type": "execute_result",
          "data": {
            "text/plain": [
              "0      14\n",
              "1      13\n",
              "2      18\n",
              "3      19\n",
              "4      12\n",
              "5      20\n",
              "6    <NA>\n",
              "Name: names, dtype: object"
            ]
          },
          "metadata": {
            "tags": []
          },
          "execution_count": 8
        }
      ]
    },
    {
      "cell_type": "markdown",
      "metadata": {
        "id": "N207vqhdFtEt",
        "colab_type": "text"
      },
      "source": [
        "Para dividir el texto por espacios usamos **split** y definimos el carácter por el que queremos dividir, en este caso, un espacio vacío ' '  o **'#'**:"
      ]
    },
    {
      "cell_type": "code",
      "metadata": {
        "id": "LSErks1pFoLS",
        "colab_type": "code",
        "colab": {
          "base_uri": "https://localhost:8080/",
          "height": 156
        },
        "outputId": "7fc4ddb7-245e-40e3-afb6-257ff077bd2e"
      },
      "source": [
        "df['names'].str.split(' ')"
      ],
      "execution_count": 9,
      "outputs": [
        {
          "output_type": "execute_result",
          "data": {
            "text/plain": [
              "0          [Sara, Moreno, 34]\n",
              "1           [jUAn, GOMez, 23]\n",
              "2      [CArlos, mArtinez, 89]\n",
              "3     [Alfredo, VelaZques, 3]\n",
              "4            [luis, Mora, 56]\n",
              "5    [@freddier, #platzi, 10]\n",
              "6                        <NA>\n",
              "Name: names, dtype: object"
            ]
          },
          "metadata": {
            "tags": []
          },
          "execution_count": 9
        }
      ]
    },
    {
      "cell_type": "code",
      "metadata": {
        "id": "muNwpHg5F1w3",
        "colab_type": "code",
        "colab": {
          "base_uri": "https://localhost:8080/",
          "height": 156
        },
        "outputId": "de1aae60-3175-425c-f1ad-3067abe04951"
      },
      "source": [
        "df['names'].str.split('#')"
      ],
      "execution_count": 10,
      "outputs": [
        {
          "output_type": "execute_result",
          "data": {
            "text/plain": [
              "0           [Sara Moreno 34]\n",
              "1            [jUAn GOMez 23]\n",
              "2       [CArlos mArtinez 89]\n",
              "3      [Alfredo VelaZques 3]\n",
              "4             [luis Mora 56]\n",
              "5    [@freddier , platzi 10]\n",
              "6                       <NA>\n",
              "Name: names, dtype: object"
            ]
          },
          "metadata": {
            "tags": []
          },
          "execution_count": 10
        }
      ]
    },
    {
      "cell_type": "markdown",
      "metadata": {
        "id": "plJs8qmjF_v_",
        "colab_type": "text"
      },
      "source": [
        "Para seleccionar los primeros o últimos 5 caracteres usamos:"
      ]
    },
    {
      "cell_type": "code",
      "metadata": {
        "id": "ndh6k6JvF6sc",
        "colab_type": "code",
        "colab": {
          "base_uri": "https://localhost:8080/",
          "height": 156
        },
        "outputId": "4bea4178-784f-45f5-8bdd-8d7d0e8f8ea5"
      },
      "source": [
        "df['names'].str[:5]"
      ],
      "execution_count": 11,
      "outputs": [
        {
          "output_type": "execute_result",
          "data": {
            "text/plain": [
              "0    Sara \n",
              "1    jUAn \n",
              "2    CArlo\n",
              "3    Alfre\n",
              "4    luis \n",
              "5    @fred\n",
              "6     <NA>\n",
              "Name: names, dtype: object"
            ]
          },
          "metadata": {
            "tags": []
          },
          "execution_count": 11
        }
      ]
    },
    {
      "cell_type": "code",
      "metadata": {
        "id": "V1SSX2aSGCAR",
        "colab_type": "code",
        "colab": {
          "base_uri": "https://localhost:8080/",
          "height": 156
        },
        "outputId": "6b357fcb-0c88-46ad-dcd4-37d5689b1958"
      },
      "source": [
        "df['names'].str[-5:]"
      ],
      "execution_count": 12,
      "outputs": [
        {
          "output_type": "execute_result",
          "data": {
            "text/plain": [
              "0    no 34\n",
              "1    ez 23\n",
              "2    ez 89\n",
              "3    ues 3\n",
              "4    ra 56\n",
              "5    zi 10\n",
              "6     <NA>\n",
              "Name: names, dtype: object"
            ]
          },
          "metadata": {
            "tags": []
          },
          "execution_count": 12
        }
      ]
    },
    {
      "cell_type": "markdown",
      "metadata": {
        "id": "lVl_csvqGVVE",
        "colab_type": "text"
      },
      "source": [
        "Podemos reemplazar una secuencia de caracteres por otra mediante:"
      ]
    },
    {
      "cell_type": "code",
      "metadata": {
        "id": "pf0NnTr9GEQG",
        "colab_type": "code",
        "colab": {
          "base_uri": "https://localhost:8080/",
          "height": 156
        },
        "outputId": "38ff0464-5276-4e7f-8768-1caa25f614ea"
      },
      "source": [
        "df['names'].str.replace('Alfredo','Antonio')"
      ],
      "execution_count": 13,
      "outputs": [
        {
          "output_type": "execute_result",
          "data": {
            "text/plain": [
              "0          Sara Moreno 34\n",
              "1           jUAn GOMez 23\n",
              "2      CArlos mArtinez 89\n",
              "3     Antonio VelaZques 3\n",
              "4            luis Mora 56\n",
              "5    @freddier #platzi 10\n",
              "6                    <NA>\n",
              "Name: names, dtype: object"
            ]
          },
          "metadata": {
            "tags": []
          },
          "execution_count": 13
        }
      ]
    },
    {
      "cell_type": "markdown",
      "metadata": {
        "id": "_kNS9t9AGopb",
        "colab_type": "text"
      },
      "source": [
        "También podemos buscar una secuencia de texto en específico, en este caso, **'ara'**:"
      ]
    },
    {
      "cell_type": "code",
      "metadata": {
        "id": "CUOIJzkFGXGg",
        "colab_type": "code",
        "colab": {
          "base_uri": "https://localhost:8080/",
          "height": 156
        },
        "outputId": "2a167fd0-fda4-46b4-8c72-ff1639900380"
      },
      "source": [
        "df['names'].str.findall('ara')"
      ],
      "execution_count": 14,
      "outputs": [
        {
          "output_type": "execute_result",
          "data": {
            "text/plain": [
              "0    [ara]\n",
              "1       []\n",
              "2       []\n",
              "3       []\n",
              "4       []\n",
              "5       []\n",
              "6     <NA>\n",
              "Name: names, dtype: object"
            ]
          },
          "metadata": {
            "tags": []
          },
          "execution_count": 14
        }
      ]
    },
    {
      "cell_type": "markdown",
      "metadata": {
        "id": "0fuHhWkuGvmv",
        "colab_type": "text"
      },
      "source": [
        "También podemos crear un filtro basándonos en una secuencia de texto en\n",
        "específico, en este caso, las filas que tengan **'or'**:"
      ]
    },
    {
      "cell_type": "code",
      "metadata": {
        "id": "O5xtgEUQGshu",
        "colab_type": "code",
        "colab": {
          "base_uri": "https://localhost:8080/",
          "height": 156
        },
        "outputId": "50adeecb-36ff-4ba2-dbc5-a23cecb93aac"
      },
      "source": [
        "df['names'].str.contains('or')"
      ],
      "execution_count": 15,
      "outputs": [
        {
          "output_type": "execute_result",
          "data": {
            "text/plain": [
              "0     True\n",
              "1    False\n",
              "2    False\n",
              "3    False\n",
              "4     True\n",
              "5    False\n",
              "6     <NA>\n",
              "Name: names, dtype: object"
            ]
          },
          "metadata": {
            "tags": []
          },
          "execution_count": 15
        }
      ]
    },
    {
      "cell_type": "markdown",
      "metadata": {
        "id": "nSYMTRczG5qj",
        "colab_type": "text"
      },
      "source": [
        "Así mismo, podemos contar el número de ocurrencias de un caracter en específico, por ejemplo, cuántas veces aparece la letra **'a'**:"
      ]
    },
    {
      "cell_type": "code",
      "metadata": {
        "id": "VCLmO-BuGz9F",
        "colab_type": "code",
        "colab": {
          "base_uri": "https://localhost:8080/",
          "height": 156
        },
        "outputId": "3b1051fd-e7bb-4b78-c825-367055850f00"
      },
      "source": [
        "df['names'].str.lower().str.count('a')"
      ],
      "execution_count": 16,
      "outputs": [
        {
          "output_type": "execute_result",
          "data": {
            "text/plain": [
              "0       2\n",
              "1       1\n",
              "2       2\n",
              "3       2\n",
              "4       1\n",
              "5       1\n",
              "6    <NA>\n",
              "Name: names, dtype: object"
            ]
          },
          "metadata": {
            "tags": []
          },
          "execution_count": 16
        }
      ]
    },
    {
      "cell_type": "markdown",
      "metadata": {
        "id": "3wS05VlqHfnU",
        "colab_type": "text"
      },
      "source": [
        "Existen comandos más avanzados usando **Regex (Expresiones Regulares)**, por ejemplo, si quiero extraer los caracteres numéricos:"
      ]
    },
    {
      "cell_type": "code",
      "metadata": {
        "id": "xRcsnCFCG-NL",
        "colab_type": "code",
        "colab": {
          "base_uri": "https://localhost:8080/",
          "height": 156
        },
        "outputId": "ab9d6e82-f2fd-489a-9cba-85f87b7784e2"
      },
      "source": [
        "df['names'].str.extract('([0-9]+)', expand=False)"
      ],
      "execution_count": 17,
      "outputs": [
        {
          "output_type": "execute_result",
          "data": {
            "text/plain": [
              "0     34\n",
              "1     23\n",
              "2     89\n",
              "3      3\n",
              "4     56\n",
              "5     10\n",
              "6    NaN\n",
              "Name: names, dtype: object"
            ]
          },
          "metadata": {
            "tags": []
          },
          "execution_count": 17
        }
      ]
    },
    {
      "cell_type": "markdown",
      "metadata": {
        "id": "w_biKjHsHp8Q",
        "colab_type": "text"
      },
      "source": [
        "O, por ejemplo, si quiero extraer las menciones **'@xxxx'** del texto:"
      ]
    },
    {
      "cell_type": "code",
      "metadata": {
        "id": "TSMbJ3PxHnF6",
        "colab_type": "code",
        "colab": {
          "base_uri": "https://localhost:8080/",
          "height": 156
        },
        "outputId": "1498605d-f8bf-4904-c193-256099f586f8"
      },
      "source": [
        "df['names'].str.replace('@[^\\s]+','')"
      ],
      "execution_count": 18,
      "outputs": [
        {
          "output_type": "execute_result",
          "data": {
            "text/plain": [
              "0         Sara Moreno 34\n",
              "1          jUAn GOMez 23\n",
              "2     CArlos mArtinez 89\n",
              "3    Alfredo VelaZques 3\n",
              "4           luis Mora 56\n",
              "5             #platzi 10\n",
              "6                   <NA>\n",
              "Name: names, dtype: object"
            ]
          },
          "metadata": {
            "tags": []
          },
          "execution_count": 18
        }
      ]
    }
  ]
}
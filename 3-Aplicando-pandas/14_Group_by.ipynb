{
  "nbformat": 4,
  "nbformat_minor": 0,
  "metadata": {
    "colab": {
      "name": "14.Group by.ipynb",
      "provenance": [],
      "authorship_tag": "ABX9TyM9Ju1ZEtzAbrP8hg1wsxoJ",
      "include_colab_link": true
    },
    "kernelspec": {
      "name": "python3",
      "display_name": "Python 3"
    }
  },
  "cells": [
    {
      "cell_type": "markdown",
      "metadata": {
        "id": "view-in-github",
        "colab_type": "text"
      },
      "source": [
        "<a href=\"https://colab.research.google.com/github/francomanca93/analisis-de-datos/blob/aplicaciones/3-Aplicando-pandas/14_Group_by.ipynb\" target=\"_parent\"><img src=\"https://colab.research.google.com/assets/colab-badge.svg\" alt=\"Open In Colab\"/></a>"
      ]
    },
    {
      "cell_type": "markdown",
      "metadata": {
        "id": "sTGRKXFDvvJO",
        "colab_type": "text"
      },
      "source": [
        "# Group by\n",
        "\n",
        "En esta sección aprenderemos a como agrupar nuetro dataframe bajo una categoria y sobre esta aplicar algunas funciones estadísticas. Tambien aprenderemos a crear nuestra propia función y agregarla al estudio."
      ]
    },
    {
      "cell_type": "code",
      "metadata": {
        "id": "3ns7OcJTvuN5",
        "colab_type": "code",
        "colab": {}
      },
      "source": [
        "import pandas as pd\n",
        "import numpy as np"
      ],
      "execution_count": 5,
      "outputs": []
    },
    {
      "cell_type": "markdown",
      "metadata": {
        "id": "V1i30ZZewLvR",
        "colab_type": "text"
      },
      "source": [
        "Vamos a utilizar una base de datos que se encuentra en una importante libreria de visualizacion de datos, **seaborn**. La misma se llama **diamonds**, es una base de datos que muestra diferentes caracteristicas de diamantes como quilates, tipo de corte, color, claridad, precio y dimensiones."
      ]
    },
    {
      "cell_type": "code",
      "metadata": {
        "id": "KRaDvayJwHT2",
        "colab_type": "code",
        "colab": {
          "base_uri": "https://localhost:8080/",
          "height": 424
        },
        "outputId": "0eeb7a52-1f23-4bac-99f2-04f2294e363f"
      },
      "source": [
        "import seaborn as sns\n",
        "df = sns.load_dataset('diamonds')\n",
        "df"
      ],
      "execution_count": 3,
      "outputs": [
        {
          "output_type": "execute_result",
          "data": {
            "text/html": [
              "<div>\n",
              "<style scoped>\n",
              "    .dataframe tbody tr th:only-of-type {\n",
              "        vertical-align: middle;\n",
              "    }\n",
              "\n",
              "    .dataframe tbody tr th {\n",
              "        vertical-align: top;\n",
              "    }\n",
              "\n",
              "    .dataframe thead th {\n",
              "        text-align: right;\n",
              "    }\n",
              "</style>\n",
              "<table border=\"1\" class=\"dataframe\">\n",
              "  <thead>\n",
              "    <tr style=\"text-align: right;\">\n",
              "      <th></th>\n",
              "      <th>carat</th>\n",
              "      <th>cut</th>\n",
              "      <th>color</th>\n",
              "      <th>clarity</th>\n",
              "      <th>depth</th>\n",
              "      <th>table</th>\n",
              "      <th>price</th>\n",
              "      <th>x</th>\n",
              "      <th>y</th>\n",
              "      <th>z</th>\n",
              "    </tr>\n",
              "  </thead>\n",
              "  <tbody>\n",
              "    <tr>\n",
              "      <th>0</th>\n",
              "      <td>0.23</td>\n",
              "      <td>Ideal</td>\n",
              "      <td>E</td>\n",
              "      <td>SI2</td>\n",
              "      <td>61.5</td>\n",
              "      <td>55.0</td>\n",
              "      <td>326</td>\n",
              "      <td>3.95</td>\n",
              "      <td>3.98</td>\n",
              "      <td>2.43</td>\n",
              "    </tr>\n",
              "    <tr>\n",
              "      <th>1</th>\n",
              "      <td>0.21</td>\n",
              "      <td>Premium</td>\n",
              "      <td>E</td>\n",
              "      <td>SI1</td>\n",
              "      <td>59.8</td>\n",
              "      <td>61.0</td>\n",
              "      <td>326</td>\n",
              "      <td>3.89</td>\n",
              "      <td>3.84</td>\n",
              "      <td>2.31</td>\n",
              "    </tr>\n",
              "    <tr>\n",
              "      <th>2</th>\n",
              "      <td>0.23</td>\n",
              "      <td>Good</td>\n",
              "      <td>E</td>\n",
              "      <td>VS1</td>\n",
              "      <td>56.9</td>\n",
              "      <td>65.0</td>\n",
              "      <td>327</td>\n",
              "      <td>4.05</td>\n",
              "      <td>4.07</td>\n",
              "      <td>2.31</td>\n",
              "    </tr>\n",
              "    <tr>\n",
              "      <th>3</th>\n",
              "      <td>0.29</td>\n",
              "      <td>Premium</td>\n",
              "      <td>I</td>\n",
              "      <td>VS2</td>\n",
              "      <td>62.4</td>\n",
              "      <td>58.0</td>\n",
              "      <td>334</td>\n",
              "      <td>4.20</td>\n",
              "      <td>4.23</td>\n",
              "      <td>2.63</td>\n",
              "    </tr>\n",
              "    <tr>\n",
              "      <th>4</th>\n",
              "      <td>0.31</td>\n",
              "      <td>Good</td>\n",
              "      <td>J</td>\n",
              "      <td>SI2</td>\n",
              "      <td>63.3</td>\n",
              "      <td>58.0</td>\n",
              "      <td>335</td>\n",
              "      <td>4.34</td>\n",
              "      <td>4.35</td>\n",
              "      <td>2.75</td>\n",
              "    </tr>\n",
              "    <tr>\n",
              "      <th>...</th>\n",
              "      <td>...</td>\n",
              "      <td>...</td>\n",
              "      <td>...</td>\n",
              "      <td>...</td>\n",
              "      <td>...</td>\n",
              "      <td>...</td>\n",
              "      <td>...</td>\n",
              "      <td>...</td>\n",
              "      <td>...</td>\n",
              "      <td>...</td>\n",
              "    </tr>\n",
              "    <tr>\n",
              "      <th>53935</th>\n",
              "      <td>0.72</td>\n",
              "      <td>Ideal</td>\n",
              "      <td>D</td>\n",
              "      <td>SI1</td>\n",
              "      <td>60.8</td>\n",
              "      <td>57.0</td>\n",
              "      <td>2757</td>\n",
              "      <td>5.75</td>\n",
              "      <td>5.76</td>\n",
              "      <td>3.50</td>\n",
              "    </tr>\n",
              "    <tr>\n",
              "      <th>53936</th>\n",
              "      <td>0.72</td>\n",
              "      <td>Good</td>\n",
              "      <td>D</td>\n",
              "      <td>SI1</td>\n",
              "      <td>63.1</td>\n",
              "      <td>55.0</td>\n",
              "      <td>2757</td>\n",
              "      <td>5.69</td>\n",
              "      <td>5.75</td>\n",
              "      <td>3.61</td>\n",
              "    </tr>\n",
              "    <tr>\n",
              "      <th>53937</th>\n",
              "      <td>0.70</td>\n",
              "      <td>Very Good</td>\n",
              "      <td>D</td>\n",
              "      <td>SI1</td>\n",
              "      <td>62.8</td>\n",
              "      <td>60.0</td>\n",
              "      <td>2757</td>\n",
              "      <td>5.66</td>\n",
              "      <td>5.68</td>\n",
              "      <td>3.56</td>\n",
              "    </tr>\n",
              "    <tr>\n",
              "      <th>53938</th>\n",
              "      <td>0.86</td>\n",
              "      <td>Premium</td>\n",
              "      <td>H</td>\n",
              "      <td>SI2</td>\n",
              "      <td>61.0</td>\n",
              "      <td>58.0</td>\n",
              "      <td>2757</td>\n",
              "      <td>6.15</td>\n",
              "      <td>6.12</td>\n",
              "      <td>3.74</td>\n",
              "    </tr>\n",
              "    <tr>\n",
              "      <th>53939</th>\n",
              "      <td>0.75</td>\n",
              "      <td>Ideal</td>\n",
              "      <td>D</td>\n",
              "      <td>SI2</td>\n",
              "      <td>62.2</td>\n",
              "      <td>55.0</td>\n",
              "      <td>2757</td>\n",
              "      <td>5.83</td>\n",
              "      <td>5.87</td>\n",
              "      <td>3.64</td>\n",
              "    </tr>\n",
              "  </tbody>\n",
              "</table>\n",
              "<p>53940 rows × 10 columns</p>\n",
              "</div>"
            ],
            "text/plain": [
              "       carat        cut color clarity  depth  table  price     x     y     z\n",
              "0       0.23      Ideal     E     SI2   61.5   55.0    326  3.95  3.98  2.43\n",
              "1       0.21    Premium     E     SI1   59.8   61.0    326  3.89  3.84  2.31\n",
              "2       0.23       Good     E     VS1   56.9   65.0    327  4.05  4.07  2.31\n",
              "3       0.29    Premium     I     VS2   62.4   58.0    334  4.20  4.23  2.63\n",
              "4       0.31       Good     J     SI2   63.3   58.0    335  4.34  4.35  2.75\n",
              "...      ...        ...   ...     ...    ...    ...    ...   ...   ...   ...\n",
              "53935   0.72      Ideal     D     SI1   60.8   57.0   2757  5.75  5.76  3.50\n",
              "53936   0.72       Good     D     SI1   63.1   55.0   2757  5.69  5.75  3.61\n",
              "53937   0.70  Very Good     D     SI1   62.8   60.0   2757  5.66  5.68  3.56\n",
              "53938   0.86    Premium     H     SI2   61.0   58.0   2757  6.15  6.12  3.74\n",
              "53939   0.75      Ideal     D     SI2   62.2   55.0   2757  5.83  5.87  3.64\n",
              "\n",
              "[53940 rows x 10 columns]"
            ]
          },
          "metadata": {
            "tags": []
          },
          "execution_count": 3
        }
      ]
    },
    {
      "cell_type": "markdown",
      "metadata": {
        "id": "o1wBnE96hSCO",
        "colab_type": "text"
      },
      "source": [
        "**.groupby()** es un método que nos permite agrupar los datos dada una variable. Este método nos crea un elemento de grupo y sobre el puedo aplicar otras funciones, en este caso el promedio."
      ]
    },
    {
      "cell_type": "code",
      "metadata": {
        "id": "FDGMfjhQwemY",
        "colab_type": "code",
        "colab": {
          "base_uri": "https://localhost:8080/",
          "height": 34
        },
        "outputId": "0c98ce44-2c5a-439d-9462-1a04c8d47730"
      },
      "source": [
        "df.groupby('cut')"
      ],
      "execution_count": 6,
      "outputs": [
        {
          "output_type": "execute_result",
          "data": {
            "text/plain": [
              "<pandas.core.groupby.generic.DataFrameGroupBy object at 0x7f731dd57748>"
            ]
          },
          "metadata": {
            "tags": []
          },
          "execution_count": 6
        }
      ]
    },
    {
      "cell_type": "code",
      "metadata": {
        "id": "tjuNn_otyL9-",
        "colab_type": "code",
        "colab": {
          "base_uri": "https://localhost:8080/",
          "height": 238
        },
        "outputId": "4952cb3b-df34-4a4e-f4f2-5b6a6435cad3"
      },
      "source": [
        "df.groupby('cut').mean()"
      ],
      "execution_count": 7,
      "outputs": [
        {
          "output_type": "execute_result",
          "data": {
            "text/html": [
              "<div>\n",
              "<style scoped>\n",
              "    .dataframe tbody tr th:only-of-type {\n",
              "        vertical-align: middle;\n",
              "    }\n",
              "\n",
              "    .dataframe tbody tr th {\n",
              "        vertical-align: top;\n",
              "    }\n",
              "\n",
              "    .dataframe thead th {\n",
              "        text-align: right;\n",
              "    }\n",
              "</style>\n",
              "<table border=\"1\" class=\"dataframe\">\n",
              "  <thead>\n",
              "    <tr style=\"text-align: right;\">\n",
              "      <th></th>\n",
              "      <th>carat</th>\n",
              "      <th>depth</th>\n",
              "      <th>table</th>\n",
              "      <th>price</th>\n",
              "      <th>x</th>\n",
              "      <th>y</th>\n",
              "      <th>z</th>\n",
              "    </tr>\n",
              "    <tr>\n",
              "      <th>cut</th>\n",
              "      <th></th>\n",
              "      <th></th>\n",
              "      <th></th>\n",
              "      <th></th>\n",
              "      <th></th>\n",
              "      <th></th>\n",
              "      <th></th>\n",
              "    </tr>\n",
              "  </thead>\n",
              "  <tbody>\n",
              "    <tr>\n",
              "      <th>Fair</th>\n",
              "      <td>1.046137</td>\n",
              "      <td>64.041677</td>\n",
              "      <td>59.053789</td>\n",
              "      <td>4358.757764</td>\n",
              "      <td>6.246894</td>\n",
              "      <td>6.182652</td>\n",
              "      <td>3.982770</td>\n",
              "    </tr>\n",
              "    <tr>\n",
              "      <th>Good</th>\n",
              "      <td>0.849185</td>\n",
              "      <td>62.365879</td>\n",
              "      <td>58.694639</td>\n",
              "      <td>3928.864452</td>\n",
              "      <td>5.838785</td>\n",
              "      <td>5.850744</td>\n",
              "      <td>3.639507</td>\n",
              "    </tr>\n",
              "    <tr>\n",
              "      <th>Ideal</th>\n",
              "      <td>0.702837</td>\n",
              "      <td>61.709401</td>\n",
              "      <td>55.951668</td>\n",
              "      <td>3457.541970</td>\n",
              "      <td>5.507451</td>\n",
              "      <td>5.520080</td>\n",
              "      <td>3.401448</td>\n",
              "    </tr>\n",
              "    <tr>\n",
              "      <th>Premium</th>\n",
              "      <td>0.891955</td>\n",
              "      <td>61.264673</td>\n",
              "      <td>58.746095</td>\n",
              "      <td>4584.257704</td>\n",
              "      <td>5.973887</td>\n",
              "      <td>5.944879</td>\n",
              "      <td>3.647124</td>\n",
              "    </tr>\n",
              "    <tr>\n",
              "      <th>Very Good</th>\n",
              "      <td>0.806381</td>\n",
              "      <td>61.818275</td>\n",
              "      <td>57.956150</td>\n",
              "      <td>3981.759891</td>\n",
              "      <td>5.740696</td>\n",
              "      <td>5.770026</td>\n",
              "      <td>3.559801</td>\n",
              "    </tr>\n",
              "  </tbody>\n",
              "</table>\n",
              "</div>"
            ],
            "text/plain": [
              "              carat      depth      table  ...         x         y         z\n",
              "cut                                        ...                              \n",
              "Fair       1.046137  64.041677  59.053789  ...  6.246894  6.182652  3.982770\n",
              "Good       0.849185  62.365879  58.694639  ...  5.838785  5.850744  3.639507\n",
              "Ideal      0.702837  61.709401  55.951668  ...  5.507451  5.520080  3.401448\n",
              "Premium    0.891955  61.264673  58.746095  ...  5.973887  5.944879  3.647124\n",
              "Very Good  0.806381  61.818275  57.956150  ...  5.740696  5.770026  3.559801\n",
              "\n",
              "[5 rows x 7 columns]"
            ]
          },
          "metadata": {
            "tags": []
          },
          "execution_count": 7
        }
      ]
    },
    {
      "cell_type": "markdown",
      "metadata": {
        "id": "PyEK6HsRh4LV",
        "colab_type": "text"
      },
      "source": [
        "Podemos sacar conclusiones, en este caso para aquellos diamantes con cortes premium, el precio promedio oscila alrededor de los 4500 usd."
      ]
    },
    {
      "cell_type": "markdown",
      "metadata": {
        "id": "OptwP2tQiI9J",
        "colab_type": "text"
      },
      "source": [
        "Podemos utilizar otras funciones. En este caso el método .median(), es un método que me permite obtener una media **menos** sesgada ya que tiene en cuenta la distribución normal. "
      ]
    },
    {
      "cell_type": "code",
      "metadata": {
        "id": "U5yDXeS_hzBp",
        "colab_type": "code",
        "colab": {
          "base_uri": "https://localhost:8080/",
          "height": 238
        },
        "outputId": "81d02aee-4f0b-48bd-8c39-00eb71186677"
      },
      "source": [
        "df.groupby('cut').median()"
      ],
      "execution_count": 8,
      "outputs": [
        {
          "output_type": "execute_result",
          "data": {
            "text/html": [
              "<div>\n",
              "<style scoped>\n",
              "    .dataframe tbody tr th:only-of-type {\n",
              "        vertical-align: middle;\n",
              "    }\n",
              "\n",
              "    .dataframe tbody tr th {\n",
              "        vertical-align: top;\n",
              "    }\n",
              "\n",
              "    .dataframe thead th {\n",
              "        text-align: right;\n",
              "    }\n",
              "</style>\n",
              "<table border=\"1\" class=\"dataframe\">\n",
              "  <thead>\n",
              "    <tr style=\"text-align: right;\">\n",
              "      <th></th>\n",
              "      <th>carat</th>\n",
              "      <th>depth</th>\n",
              "      <th>table</th>\n",
              "      <th>price</th>\n",
              "      <th>x</th>\n",
              "      <th>y</th>\n",
              "      <th>z</th>\n",
              "    </tr>\n",
              "    <tr>\n",
              "      <th>cut</th>\n",
              "      <th></th>\n",
              "      <th></th>\n",
              "      <th></th>\n",
              "      <th></th>\n",
              "      <th></th>\n",
              "      <th></th>\n",
              "      <th></th>\n",
              "    </tr>\n",
              "  </thead>\n",
              "  <tbody>\n",
              "    <tr>\n",
              "      <th>Fair</th>\n",
              "      <td>1.00</td>\n",
              "      <td>65.0</td>\n",
              "      <td>58.0</td>\n",
              "      <td>3282.0</td>\n",
              "      <td>6.175</td>\n",
              "      <td>6.10</td>\n",
              "      <td>3.97</td>\n",
              "    </tr>\n",
              "    <tr>\n",
              "      <th>Good</th>\n",
              "      <td>0.82</td>\n",
              "      <td>63.4</td>\n",
              "      <td>58.0</td>\n",
              "      <td>3050.5</td>\n",
              "      <td>5.980</td>\n",
              "      <td>5.99</td>\n",
              "      <td>3.70</td>\n",
              "    </tr>\n",
              "    <tr>\n",
              "      <th>Ideal</th>\n",
              "      <td>0.54</td>\n",
              "      <td>61.8</td>\n",
              "      <td>56.0</td>\n",
              "      <td>1810.0</td>\n",
              "      <td>5.250</td>\n",
              "      <td>5.26</td>\n",
              "      <td>3.23</td>\n",
              "    </tr>\n",
              "    <tr>\n",
              "      <th>Premium</th>\n",
              "      <td>0.86</td>\n",
              "      <td>61.4</td>\n",
              "      <td>59.0</td>\n",
              "      <td>3185.0</td>\n",
              "      <td>6.110</td>\n",
              "      <td>6.06</td>\n",
              "      <td>3.72</td>\n",
              "    </tr>\n",
              "    <tr>\n",
              "      <th>Very Good</th>\n",
              "      <td>0.71</td>\n",
              "      <td>62.1</td>\n",
              "      <td>58.0</td>\n",
              "      <td>2648.0</td>\n",
              "      <td>5.740</td>\n",
              "      <td>5.77</td>\n",
              "      <td>3.56</td>\n",
              "    </tr>\n",
              "  </tbody>\n",
              "</table>\n",
              "</div>"
            ],
            "text/plain": [
              "           carat  depth  table   price      x     y     z\n",
              "cut                                                      \n",
              "Fair        1.00   65.0   58.0  3282.0  6.175  6.10  3.97\n",
              "Good        0.82   63.4   58.0  3050.5  5.980  5.99  3.70\n",
              "Ideal       0.54   61.8   56.0  1810.0  5.250  5.26  3.23\n",
              "Premium     0.86   61.4   59.0  3185.0  6.110  6.06  3.72\n",
              "Very Good   0.71   62.1   58.0  2648.0  5.740  5.77  3.56"
            ]
          },
          "metadata": {
            "tags": []
          },
          "execution_count": 8
        }
      ]
    },
    {
      "cell_type": "markdown",
      "metadata": {
        "id": "p8GUcwP-ik19",
        "colab_type": "text"
      },
      "source": [
        "Puedo seleccionar columnas y contar los datos por ejemplo"
      ]
    },
    {
      "cell_type": "code",
      "metadata": {
        "id": "YDTtzg-JiHP1",
        "colab_type": "code",
        "colab": {
          "base_uri": "https://localhost:8080/",
          "height": 139
        },
        "outputId": "ffef435e-0d3d-472b-ce49-e7d0c38d33f7"
      },
      "source": [
        "df.groupby('cut')['carat'].count()"
      ],
      "execution_count": 10,
      "outputs": [
        {
          "output_type": "execute_result",
          "data": {
            "text/plain": [
              "cut\n",
              "Fair          1610\n",
              "Good          4906\n",
              "Ideal        21551\n",
              "Premium      13791\n",
              "Very Good    12082\n",
              "Name: carat, dtype: int64"
            ]
          },
          "metadata": {
            "tags": []
          },
          "execution_count": 10
        }
      ]
    },
    {
      "cell_type": "code",
      "metadata": {
        "id": "Jlcnnsh6iqOo",
        "colab_type": "code",
        "colab": {
          "base_uri": "https://localhost:8080/",
          "height": 139
        },
        "outputId": "7db1abfc-dd7c-4975-c2b1-4f7837754f7a"
      },
      "source": [
        "df.groupby('cut')['carat'].max()"
      ],
      "execution_count": 11,
      "outputs": [
        {
          "output_type": "execute_result",
          "data": {
            "text/plain": [
              "cut\n",
              "Fair         5.01\n",
              "Good         3.01\n",
              "Ideal        3.50\n",
              "Premium      4.01\n",
              "Very Good    4.00\n",
              "Name: carat, dtype: float64"
            ]
          },
          "metadata": {
            "tags": []
          },
          "execution_count": 11
        }
      ]
    },
    {
      "cell_type": "code",
      "metadata": {
        "id": "2mmZRTUHiyHL",
        "colab_type": "code",
        "colab": {
          "base_uri": "https://localhost:8080/",
          "height": 139
        },
        "outputId": "baa5a516-1a9b-420e-87eb-5ddeaff8988e"
      },
      "source": [
        "df.groupby('cut')['carat'].min()"
      ],
      "execution_count": 12,
      "outputs": [
        {
          "output_type": "execute_result",
          "data": {
            "text/plain": [
              "cut\n",
              "Fair         0.22\n",
              "Good         0.23\n",
              "Ideal        0.20\n",
              "Premium      0.20\n",
              "Very Good    0.20\n",
              "Name: carat, dtype: float64"
            ]
          },
          "metadata": {
            "tags": []
          },
          "execution_count": 12
        }
      ]
    },
    {
      "cell_type": "markdown",
      "metadata": {
        "id": "6c2QpWNfi1fA",
        "colab_type": "text"
      },
      "source": [
        "Podemos entender el groupby como un paquete de objetos y por el cual se recorren aplicandole diversas funciones."
      ]
    },
    {
      "cell_type": "code",
      "metadata": {
        "id": "2AXM03nsi0Xw",
        "colab_type": "code",
        "colab": {
          "base_uri": "https://localhost:8080/",
          "height": 104
        },
        "outputId": "afa4a2d3-1578-4189-fe15-6086f33e656b"
      },
      "source": [
        "for i in [0,1,2,3,'Hola']:\n",
        "  print(i)"
      ],
      "execution_count": 14,
      "outputs": [
        {
          "output_type": "stream",
          "text": [
            "0\n",
            "1\n",
            "2\n",
            "3\n",
            "Hola\n"
          ],
          "name": "stdout"
        }
      ]
    },
    {
      "cell_type": "markdown",
      "metadata": {
        "id": "4IvyOjwIjGBl",
        "colab_type": "text"
      },
      "source": [
        "Lo que sucede en el **bucle for** simple anterior es lo mismo esta sucediendo en el método groupby, pero optimizado."
      ]
    },
    {
      "cell_type": "code",
      "metadata": {
        "id": "qOpQsW1ljBv4",
        "colab_type": "code",
        "colab": {
          "base_uri": "https://localhost:8080/",
          "height": 191
        },
        "outputId": "6ad41c07-e151-4f27-887d-ddfc787ee114"
      },
      "source": [
        "for key_group, group in df.groupby('cut'):\n",
        "  grouped_price = group['price'].mean()\n",
        "\n",
        "  print('Cut: {}, Price: {} \\n'.format(key_group, grouped_price))"
      ],
      "execution_count": 20,
      "outputs": [
        {
          "output_type": "stream",
          "text": [
            "Cut: Fair, Price: 4358.757763975155 \n",
            "\n",
            "Cut: Good, Price: 3928.864451691806 \n",
            "\n",
            "Cut: Ideal, Price: 3457.541970210199 \n",
            "\n",
            "Cut: Premium, Price: 4584.2577042999055 \n",
            "\n",
            "Cut: Very Good, Price: 3981.7598907465654 \n",
            "\n"
          ],
          "name": "stdout"
        }
      ]
    },
    {
      "cell_type": "markdown",
      "metadata": {
        "id": "wdFWobTfl6MM",
        "colab_type": "text"
      },
      "source": [
        "Tambien con **groupby** podemos crear dataframe con **dos indices**, **el promedio de los precios** y **convertir el objeto en una dataframe**."
      ]
    },
    {
      "cell_type": "code",
      "metadata": {
        "id": "pnU4tsqcjpWK",
        "colab_type": "code",
        "colab": {
          "base_uri": "https://localhost:8080/",
          "height": 1000
        },
        "outputId": "9afa7fc9-99c5-4737-fcf2-ff459abac1bb"
      },
      "source": [
        "df.groupby(['cut', 'color'])['price'].mean().to_frame()"
      ],
      "execution_count": 23,
      "outputs": [
        {
          "output_type": "execute_result",
          "data": {
            "text/html": [
              "<div>\n",
              "<style scoped>\n",
              "    .dataframe tbody tr th:only-of-type {\n",
              "        vertical-align: middle;\n",
              "    }\n",
              "\n",
              "    .dataframe tbody tr th {\n",
              "        vertical-align: top;\n",
              "    }\n",
              "\n",
              "    .dataframe thead th {\n",
              "        text-align: right;\n",
              "    }\n",
              "</style>\n",
              "<table border=\"1\" class=\"dataframe\">\n",
              "  <thead>\n",
              "    <tr style=\"text-align: right;\">\n",
              "      <th></th>\n",
              "      <th></th>\n",
              "      <th>price</th>\n",
              "    </tr>\n",
              "    <tr>\n",
              "      <th>cut</th>\n",
              "      <th>color</th>\n",
              "      <th></th>\n",
              "    </tr>\n",
              "  </thead>\n",
              "  <tbody>\n",
              "    <tr>\n",
              "      <th rowspan=\"7\" valign=\"top\">Fair</th>\n",
              "      <th>D</th>\n",
              "      <td>4291.061350</td>\n",
              "    </tr>\n",
              "    <tr>\n",
              "      <th>E</th>\n",
              "      <td>3682.312500</td>\n",
              "    </tr>\n",
              "    <tr>\n",
              "      <th>F</th>\n",
              "      <td>3827.003205</td>\n",
              "    </tr>\n",
              "    <tr>\n",
              "      <th>G</th>\n",
              "      <td>4239.254777</td>\n",
              "    </tr>\n",
              "    <tr>\n",
              "      <th>H</th>\n",
              "      <td>5135.683168</td>\n",
              "    </tr>\n",
              "    <tr>\n",
              "      <th>I</th>\n",
              "      <td>4685.445714</td>\n",
              "    </tr>\n",
              "    <tr>\n",
              "      <th>J</th>\n",
              "      <td>4975.655462</td>\n",
              "    </tr>\n",
              "    <tr>\n",
              "      <th rowspan=\"7\" valign=\"top\">Good</th>\n",
              "      <th>D</th>\n",
              "      <td>3405.382175</td>\n",
              "    </tr>\n",
              "    <tr>\n",
              "      <th>E</th>\n",
              "      <td>3423.644159</td>\n",
              "    </tr>\n",
              "    <tr>\n",
              "      <th>F</th>\n",
              "      <td>3495.750275</td>\n",
              "    </tr>\n",
              "    <tr>\n",
              "      <th>G</th>\n",
              "      <td>4123.482204</td>\n",
              "    </tr>\n",
              "    <tr>\n",
              "      <th>H</th>\n",
              "      <td>4276.254986</td>\n",
              "    </tr>\n",
              "    <tr>\n",
              "      <th>I</th>\n",
              "      <td>5078.532567</td>\n",
              "    </tr>\n",
              "    <tr>\n",
              "      <th>J</th>\n",
              "      <td>4574.172638</td>\n",
              "    </tr>\n",
              "    <tr>\n",
              "      <th rowspan=\"7\" valign=\"top\">Ideal</th>\n",
              "      <th>D</th>\n",
              "      <td>2629.094566</td>\n",
              "    </tr>\n",
              "    <tr>\n",
              "      <th>E</th>\n",
              "      <td>2597.550090</td>\n",
              "    </tr>\n",
              "    <tr>\n",
              "      <th>F</th>\n",
              "      <td>3374.939362</td>\n",
              "    </tr>\n",
              "    <tr>\n",
              "      <th>G</th>\n",
              "      <td>3720.706388</td>\n",
              "    </tr>\n",
              "    <tr>\n",
              "      <th>H</th>\n",
              "      <td>3889.334831</td>\n",
              "    </tr>\n",
              "    <tr>\n",
              "      <th>I</th>\n",
              "      <td>4451.970377</td>\n",
              "    </tr>\n",
              "    <tr>\n",
              "      <th>J</th>\n",
              "      <td>4918.186384</td>\n",
              "    </tr>\n",
              "    <tr>\n",
              "      <th rowspan=\"7\" valign=\"top\">Premium</th>\n",
              "      <th>D</th>\n",
              "      <td>3631.292576</td>\n",
              "    </tr>\n",
              "    <tr>\n",
              "      <th>E</th>\n",
              "      <td>3538.914420</td>\n",
              "    </tr>\n",
              "    <tr>\n",
              "      <th>F</th>\n",
              "      <td>4324.890176</td>\n",
              "    </tr>\n",
              "    <tr>\n",
              "      <th>G</th>\n",
              "      <td>4500.742134</td>\n",
              "    </tr>\n",
              "    <tr>\n",
              "      <th>H</th>\n",
              "      <td>5216.706780</td>\n",
              "    </tr>\n",
              "    <tr>\n",
              "      <th>I</th>\n",
              "      <td>5946.180672</td>\n",
              "    </tr>\n",
              "    <tr>\n",
              "      <th>J</th>\n",
              "      <td>6294.591584</td>\n",
              "    </tr>\n",
              "    <tr>\n",
              "      <th rowspan=\"7\" valign=\"top\">Very Good</th>\n",
              "      <th>D</th>\n",
              "      <td>3470.467284</td>\n",
              "    </tr>\n",
              "    <tr>\n",
              "      <th>E</th>\n",
              "      <td>3214.652083</td>\n",
              "    </tr>\n",
              "    <tr>\n",
              "      <th>F</th>\n",
              "      <td>3778.820240</td>\n",
              "    </tr>\n",
              "    <tr>\n",
              "      <th>G</th>\n",
              "      <td>3872.753806</td>\n",
              "    </tr>\n",
              "    <tr>\n",
              "      <th>H</th>\n",
              "      <td>4535.390351</td>\n",
              "    </tr>\n",
              "    <tr>\n",
              "      <th>I</th>\n",
              "      <td>5255.879568</td>\n",
              "    </tr>\n",
              "    <tr>\n",
              "      <th>J</th>\n",
              "      <td>5103.513274</td>\n",
              "    </tr>\n",
              "  </tbody>\n",
              "</table>\n",
              "</div>"
            ],
            "text/plain": [
              "                       price\n",
              "cut       color             \n",
              "Fair      D      4291.061350\n",
              "          E      3682.312500\n",
              "          F      3827.003205\n",
              "          G      4239.254777\n",
              "          H      5135.683168\n",
              "          I      4685.445714\n",
              "          J      4975.655462\n",
              "Good      D      3405.382175\n",
              "          E      3423.644159\n",
              "          F      3495.750275\n",
              "          G      4123.482204\n",
              "          H      4276.254986\n",
              "          I      5078.532567\n",
              "          J      4574.172638\n",
              "Ideal     D      2629.094566\n",
              "          E      2597.550090\n",
              "          F      3374.939362\n",
              "          G      3720.706388\n",
              "          H      3889.334831\n",
              "          I      4451.970377\n",
              "          J      4918.186384\n",
              "Premium   D      3631.292576\n",
              "          E      3538.914420\n",
              "          F      4324.890176\n",
              "          G      4500.742134\n",
              "          H      5216.706780\n",
              "          I      5946.180672\n",
              "          J      6294.591584\n",
              "Very Good D      3470.467284\n",
              "          E      3214.652083\n",
              "          F      3778.820240\n",
              "          G      3872.753806\n",
              "          H      4535.390351\n",
              "          I      5255.879568\n",
              "          J      5103.513274"
            ]
          },
          "metadata": {
            "tags": []
          },
          "execution_count": 23
        }
      ]
    },
    {
      "cell_type": "markdown",
      "metadata": {
        "id": "J8Cw4e1lmTM1",
        "colab_type": "text"
      },
      "source": [
        "Podemos crear nuestras propias funciones o utiilzar muchas funciones, incluso de otras librerias y aplicarlas. Esto lo hago gracias al a función **.aggregate()** y le paso una lista del nombre de las funciones. A las que no le especifique la libreria de donde provienen, las tomas como si fueran de pandas. Tambien las podemos pasar como un string, como se ve:"
      ]
    },
    {
      "cell_type": "code",
      "metadata": {
        "id": "aH5QrpoIlqXH",
        "colab_type": "code",
        "colab": {
          "base_uri": "https://localhost:8080/",
          "height": 1000
        },
        "outputId": "4b347dde-df63-413b-81b1-bd6e156b907a"
      },
      "source": [
        "df.groupby(['cut', 'color'])['price'].aggregate([min, np.mean, 'max'])"
      ],
      "execution_count": 24,
      "outputs": [
        {
          "output_type": "execute_result",
          "data": {
            "text/html": [
              "<div>\n",
              "<style scoped>\n",
              "    .dataframe tbody tr th:only-of-type {\n",
              "        vertical-align: middle;\n",
              "    }\n",
              "\n",
              "    .dataframe tbody tr th {\n",
              "        vertical-align: top;\n",
              "    }\n",
              "\n",
              "    .dataframe thead th {\n",
              "        text-align: right;\n",
              "    }\n",
              "</style>\n",
              "<table border=\"1\" class=\"dataframe\">\n",
              "  <thead>\n",
              "    <tr style=\"text-align: right;\">\n",
              "      <th></th>\n",
              "      <th></th>\n",
              "      <th>min</th>\n",
              "      <th>mean</th>\n",
              "      <th>max</th>\n",
              "    </tr>\n",
              "    <tr>\n",
              "      <th>cut</th>\n",
              "      <th>color</th>\n",
              "      <th></th>\n",
              "      <th></th>\n",
              "      <th></th>\n",
              "    </tr>\n",
              "  </thead>\n",
              "  <tbody>\n",
              "    <tr>\n",
              "      <th rowspan=\"7\" valign=\"top\">Fair</th>\n",
              "      <th>D</th>\n",
              "      <td>536</td>\n",
              "      <td>4291.061350</td>\n",
              "      <td>16386</td>\n",
              "    </tr>\n",
              "    <tr>\n",
              "      <th>E</th>\n",
              "      <td>337</td>\n",
              "      <td>3682.312500</td>\n",
              "      <td>15584</td>\n",
              "    </tr>\n",
              "    <tr>\n",
              "      <th>F</th>\n",
              "      <td>496</td>\n",
              "      <td>3827.003205</td>\n",
              "      <td>17995</td>\n",
              "    </tr>\n",
              "    <tr>\n",
              "      <th>G</th>\n",
              "      <td>369</td>\n",
              "      <td>4239.254777</td>\n",
              "      <td>18574</td>\n",
              "    </tr>\n",
              "    <tr>\n",
              "      <th>H</th>\n",
              "      <td>659</td>\n",
              "      <td>5135.683168</td>\n",
              "      <td>18565</td>\n",
              "    </tr>\n",
              "    <tr>\n",
              "      <th>I</th>\n",
              "      <td>735</td>\n",
              "      <td>4685.445714</td>\n",
              "      <td>18242</td>\n",
              "    </tr>\n",
              "    <tr>\n",
              "      <th>J</th>\n",
              "      <td>416</td>\n",
              "      <td>4975.655462</td>\n",
              "      <td>18531</td>\n",
              "    </tr>\n",
              "    <tr>\n",
              "      <th rowspan=\"7\" valign=\"top\">Good</th>\n",
              "      <th>D</th>\n",
              "      <td>361</td>\n",
              "      <td>3405.382175</td>\n",
              "      <td>18468</td>\n",
              "    </tr>\n",
              "    <tr>\n",
              "      <th>E</th>\n",
              "      <td>327</td>\n",
              "      <td>3423.644159</td>\n",
              "      <td>18236</td>\n",
              "    </tr>\n",
              "    <tr>\n",
              "      <th>F</th>\n",
              "      <td>357</td>\n",
              "      <td>3495.750275</td>\n",
              "      <td>18686</td>\n",
              "    </tr>\n",
              "    <tr>\n",
              "      <th>G</th>\n",
              "      <td>394</td>\n",
              "      <td>4123.482204</td>\n",
              "      <td>18788</td>\n",
              "    </tr>\n",
              "    <tr>\n",
              "      <th>H</th>\n",
              "      <td>368</td>\n",
              "      <td>4276.254986</td>\n",
              "      <td>18640</td>\n",
              "    </tr>\n",
              "    <tr>\n",
              "      <th>I</th>\n",
              "      <td>351</td>\n",
              "      <td>5078.532567</td>\n",
              "      <td>18707</td>\n",
              "    </tr>\n",
              "    <tr>\n",
              "      <th>J</th>\n",
              "      <td>335</td>\n",
              "      <td>4574.172638</td>\n",
              "      <td>18325</td>\n",
              "    </tr>\n",
              "    <tr>\n",
              "      <th rowspan=\"7\" valign=\"top\">Ideal</th>\n",
              "      <th>D</th>\n",
              "      <td>367</td>\n",
              "      <td>2629.094566</td>\n",
              "      <td>18693</td>\n",
              "    </tr>\n",
              "    <tr>\n",
              "      <th>E</th>\n",
              "      <td>326</td>\n",
              "      <td>2597.550090</td>\n",
              "      <td>18729</td>\n",
              "    </tr>\n",
              "    <tr>\n",
              "      <th>F</th>\n",
              "      <td>408</td>\n",
              "      <td>3374.939362</td>\n",
              "      <td>18780</td>\n",
              "    </tr>\n",
              "    <tr>\n",
              "      <th>G</th>\n",
              "      <td>361</td>\n",
              "      <td>3720.706388</td>\n",
              "      <td>18806</td>\n",
              "    </tr>\n",
              "    <tr>\n",
              "      <th>H</th>\n",
              "      <td>357</td>\n",
              "      <td>3889.334831</td>\n",
              "      <td>18760</td>\n",
              "    </tr>\n",
              "    <tr>\n",
              "      <th>I</th>\n",
              "      <td>348</td>\n",
              "      <td>4451.970377</td>\n",
              "      <td>18779</td>\n",
              "    </tr>\n",
              "    <tr>\n",
              "      <th>J</th>\n",
              "      <td>340</td>\n",
              "      <td>4918.186384</td>\n",
              "      <td>18508</td>\n",
              "    </tr>\n",
              "    <tr>\n",
              "      <th rowspan=\"7\" valign=\"top\">Premium</th>\n",
              "      <th>D</th>\n",
              "      <td>367</td>\n",
              "      <td>3631.292576</td>\n",
              "      <td>18575</td>\n",
              "    </tr>\n",
              "    <tr>\n",
              "      <th>E</th>\n",
              "      <td>326</td>\n",
              "      <td>3538.914420</td>\n",
              "      <td>18477</td>\n",
              "    </tr>\n",
              "    <tr>\n",
              "      <th>F</th>\n",
              "      <td>342</td>\n",
              "      <td>4324.890176</td>\n",
              "      <td>18791</td>\n",
              "    </tr>\n",
              "    <tr>\n",
              "      <th>G</th>\n",
              "      <td>382</td>\n",
              "      <td>4500.742134</td>\n",
              "      <td>18741</td>\n",
              "    </tr>\n",
              "    <tr>\n",
              "      <th>H</th>\n",
              "      <td>368</td>\n",
              "      <td>5216.706780</td>\n",
              "      <td>18795</td>\n",
              "    </tr>\n",
              "    <tr>\n",
              "      <th>I</th>\n",
              "      <td>334</td>\n",
              "      <td>5946.180672</td>\n",
              "      <td>18823</td>\n",
              "    </tr>\n",
              "    <tr>\n",
              "      <th>J</th>\n",
              "      <td>363</td>\n",
              "      <td>6294.591584</td>\n",
              "      <td>18710</td>\n",
              "    </tr>\n",
              "    <tr>\n",
              "      <th rowspan=\"7\" valign=\"top\">Very Good</th>\n",
              "      <th>D</th>\n",
              "      <td>357</td>\n",
              "      <td>3470.467284</td>\n",
              "      <td>18542</td>\n",
              "    </tr>\n",
              "    <tr>\n",
              "      <th>E</th>\n",
              "      <td>352</td>\n",
              "      <td>3214.652083</td>\n",
              "      <td>18731</td>\n",
              "    </tr>\n",
              "    <tr>\n",
              "      <th>F</th>\n",
              "      <td>357</td>\n",
              "      <td>3778.820240</td>\n",
              "      <td>18777</td>\n",
              "    </tr>\n",
              "    <tr>\n",
              "      <th>G</th>\n",
              "      <td>354</td>\n",
              "      <td>3872.753806</td>\n",
              "      <td>18818</td>\n",
              "    </tr>\n",
              "    <tr>\n",
              "      <th>H</th>\n",
              "      <td>337</td>\n",
              "      <td>4535.390351</td>\n",
              "      <td>18803</td>\n",
              "    </tr>\n",
              "    <tr>\n",
              "      <th>I</th>\n",
              "      <td>336</td>\n",
              "      <td>5255.879568</td>\n",
              "      <td>18500</td>\n",
              "    </tr>\n",
              "    <tr>\n",
              "      <th>J</th>\n",
              "      <td>336</td>\n",
              "      <td>5103.513274</td>\n",
              "      <td>18430</td>\n",
              "    </tr>\n",
              "  </tbody>\n",
              "</table>\n",
              "</div>"
            ],
            "text/plain": [
              "                 min         mean    max\n",
              "cut       color                         \n",
              "Fair      D      536  4291.061350  16386\n",
              "          E      337  3682.312500  15584\n",
              "          F      496  3827.003205  17995\n",
              "          G      369  4239.254777  18574\n",
              "          H      659  5135.683168  18565\n",
              "          I      735  4685.445714  18242\n",
              "          J      416  4975.655462  18531\n",
              "Good      D      361  3405.382175  18468\n",
              "          E      327  3423.644159  18236\n",
              "          F      357  3495.750275  18686\n",
              "          G      394  4123.482204  18788\n",
              "          H      368  4276.254986  18640\n",
              "          I      351  5078.532567  18707\n",
              "          J      335  4574.172638  18325\n",
              "Ideal     D      367  2629.094566  18693\n",
              "          E      326  2597.550090  18729\n",
              "          F      408  3374.939362  18780\n",
              "          G      361  3720.706388  18806\n",
              "          H      357  3889.334831  18760\n",
              "          I      348  4451.970377  18779\n",
              "          J      340  4918.186384  18508\n",
              "Premium   D      367  3631.292576  18575\n",
              "          E      326  3538.914420  18477\n",
              "          F      342  4324.890176  18791\n",
              "          G      382  4500.742134  18741\n",
              "          H      368  5216.706780  18795\n",
              "          I      334  5946.180672  18823\n",
              "          J      363  6294.591584  18710\n",
              "Very Good D      357  3470.467284  18542\n",
              "          E      352  3214.652083  18731\n",
              "          F      357  3778.820240  18777\n",
              "          G      354  3872.753806  18818\n",
              "          H      337  4535.390351  18803\n",
              "          I      336  5255.879568  18500\n",
              "          J      336  5103.513274  18430"
            ]
          },
          "metadata": {
            "tags": []
          },
          "execution_count": 24
        }
      ]
    },
    {
      "cell_type": "markdown",
      "metadata": {
        "id": "2hQ9hik-nxo1",
        "colab_type": "text"
      },
      "source": [
        "Cada una de las funciones que le pedí las toma como una nueva columna. \n",
        "\n",
        "Ahora apliquemos una nueva función creada por nosotros. "
      ]
    },
    {
      "cell_type": "code",
      "metadata": {
        "id": "YtETVpK2nU8-",
        "colab_type": "code",
        "colab": {}
      },
      "source": [
        "def mean_kilo(x):\n",
        "  return np.mean(x)/1000"
      ],
      "execution_count": 25,
      "outputs": []
    },
    {
      "cell_type": "code",
      "metadata": {
        "id": "_DmycQBaoOg-",
        "colab_type": "code",
        "colab": {
          "base_uri": "https://localhost:8080/",
          "height": 238
        },
        "outputId": "a1359992-6933-45b6-c1e8-6879c767b106"
      },
      "source": [
        "df.groupby(['cut', 'color'])['price'].aggregate([min, np.mean, 'max', mean_kilo]).head(5)"
      ],
      "execution_count": 26,
      "outputs": [
        {
          "output_type": "execute_result",
          "data": {
            "text/html": [
              "<div>\n",
              "<style scoped>\n",
              "    .dataframe tbody tr th:only-of-type {\n",
              "        vertical-align: middle;\n",
              "    }\n",
              "\n",
              "    .dataframe tbody tr th {\n",
              "        vertical-align: top;\n",
              "    }\n",
              "\n",
              "    .dataframe thead th {\n",
              "        text-align: right;\n",
              "    }\n",
              "</style>\n",
              "<table border=\"1\" class=\"dataframe\">\n",
              "  <thead>\n",
              "    <tr style=\"text-align: right;\">\n",
              "      <th></th>\n",
              "      <th></th>\n",
              "      <th>min</th>\n",
              "      <th>mean</th>\n",
              "      <th>max</th>\n",
              "      <th>mean_kilo</th>\n",
              "    </tr>\n",
              "    <tr>\n",
              "      <th>cut</th>\n",
              "      <th>color</th>\n",
              "      <th></th>\n",
              "      <th></th>\n",
              "      <th></th>\n",
              "      <th></th>\n",
              "    </tr>\n",
              "  </thead>\n",
              "  <tbody>\n",
              "    <tr>\n",
              "      <th rowspan=\"5\" valign=\"top\">Fair</th>\n",
              "      <th>D</th>\n",
              "      <td>536</td>\n",
              "      <td>4291.061350</td>\n",
              "      <td>16386</td>\n",
              "      <td>4.291061</td>\n",
              "    </tr>\n",
              "    <tr>\n",
              "      <th>E</th>\n",
              "      <td>337</td>\n",
              "      <td>3682.312500</td>\n",
              "      <td>15584</td>\n",
              "      <td>3.682313</td>\n",
              "    </tr>\n",
              "    <tr>\n",
              "      <th>F</th>\n",
              "      <td>496</td>\n",
              "      <td>3827.003205</td>\n",
              "      <td>17995</td>\n",
              "      <td>3.827003</td>\n",
              "    </tr>\n",
              "    <tr>\n",
              "      <th>G</th>\n",
              "      <td>369</td>\n",
              "      <td>4239.254777</td>\n",
              "      <td>18574</td>\n",
              "      <td>4.239255</td>\n",
              "    </tr>\n",
              "    <tr>\n",
              "      <th>H</th>\n",
              "      <td>659</td>\n",
              "      <td>5135.683168</td>\n",
              "      <td>18565</td>\n",
              "      <td>5.135683</td>\n",
              "    </tr>\n",
              "  </tbody>\n",
              "</table>\n",
              "</div>"
            ],
            "text/plain": [
              "            min         mean    max  mean_kilo\n",
              "cut  color                                    \n",
              "Fair D      536  4291.061350  16386   4.291061\n",
              "     E      337  3682.312500  15584   3.682313\n",
              "     F      496  3827.003205  17995   3.827003\n",
              "     G      369  4239.254777  18574   4.239255\n",
              "     H      659  5135.683168  18565   5.135683"
            ]
          },
          "metadata": {
            "tags": []
          },
          "execution_count": 26
        }
      ]
    },
    {
      "cell_type": "markdown",
      "metadata": {
        "id": "ZllIOVlAocOh",
        "colab_type": "text"
      },
      "source": [
        "Tambien podemos crear un diccionario de instrucciones y pasarselo a **aggregate()**. Por ejemplo puedo crear un diccionario donde quiera obtener varios estudios estadisticos."
      ]
    },
    {
      "cell_type": "code",
      "metadata": {
        "id": "MvV8okyqoSTy",
        "colab_type": "code",
        "colab": {
          "base_uri": "https://localhost:8080/",
          "height": 52
        },
        "outputId": "7a1ba517-2fce-44be-d89a-5e9a3b40c4dd"
      },
      "source": [
        "dict_agg = {'carat':[min, max],\n",
        "            'price':[np.mean, mean_kilo]}\n",
        "dict_agg"
      ],
      "execution_count": 27,
      "outputs": [
        {
          "output_type": "execute_result",
          "data": {
            "text/plain": [
              "{'carat': [<function min>, <function max>],\n",
              " 'price': [<function numpy.mean>, <function __main__.mean_kilo>]}"
            ]
          },
          "metadata": {
            "tags": []
          },
          "execution_count": 27
        }
      ]
    },
    {
      "cell_type": "markdown",
      "metadata": {
        "id": "D_JhD9pepGfB",
        "colab_type": "text"
      },
      "source": [
        "En este caso se creará un dataframe con dos indices para las filas y dos indices para las columnas. "
      ]
    },
    {
      "cell_type": "code",
      "metadata": {
        "id": "ioNgGVzgo0ea",
        "colab_type": "code",
        "colab": {
          "base_uri": "https://localhost:8080/",
          "height": 269
        },
        "outputId": "23a74341-e386-43a8-8018-ada892508b18"
      },
      "source": [
        "df.groupby(['cut', 'color']).aggregate(dict_agg).head(5)"
      ],
      "execution_count": 28,
      "outputs": [
        {
          "output_type": "execute_result",
          "data": {
            "text/html": [
              "<div>\n",
              "<style scoped>\n",
              "    .dataframe tbody tr th:only-of-type {\n",
              "        vertical-align: middle;\n",
              "    }\n",
              "\n",
              "    .dataframe tbody tr th {\n",
              "        vertical-align: top;\n",
              "    }\n",
              "\n",
              "    .dataframe thead tr th {\n",
              "        text-align: left;\n",
              "    }\n",
              "\n",
              "    .dataframe thead tr:last-of-type th {\n",
              "        text-align: right;\n",
              "    }\n",
              "</style>\n",
              "<table border=\"1\" class=\"dataframe\">\n",
              "  <thead>\n",
              "    <tr>\n",
              "      <th></th>\n",
              "      <th></th>\n",
              "      <th colspan=\"2\" halign=\"left\">carat</th>\n",
              "      <th colspan=\"2\" halign=\"left\">price</th>\n",
              "    </tr>\n",
              "    <tr>\n",
              "      <th></th>\n",
              "      <th></th>\n",
              "      <th>min</th>\n",
              "      <th>max</th>\n",
              "      <th>mean</th>\n",
              "      <th>mean_kilo</th>\n",
              "    </tr>\n",
              "    <tr>\n",
              "      <th>cut</th>\n",
              "      <th>color</th>\n",
              "      <th></th>\n",
              "      <th></th>\n",
              "      <th></th>\n",
              "      <th></th>\n",
              "    </tr>\n",
              "  </thead>\n",
              "  <tbody>\n",
              "    <tr>\n",
              "      <th rowspan=\"5\" valign=\"top\">Fair</th>\n",
              "      <th>D</th>\n",
              "      <td>0.25</td>\n",
              "      <td>3.40</td>\n",
              "      <td>4291.061350</td>\n",
              "      <td>4.291061</td>\n",
              "    </tr>\n",
              "    <tr>\n",
              "      <th>E</th>\n",
              "      <td>0.22</td>\n",
              "      <td>2.04</td>\n",
              "      <td>3682.312500</td>\n",
              "      <td>3.682313</td>\n",
              "    </tr>\n",
              "    <tr>\n",
              "      <th>F</th>\n",
              "      <td>0.25</td>\n",
              "      <td>2.58</td>\n",
              "      <td>3827.003205</td>\n",
              "      <td>3.827003</td>\n",
              "    </tr>\n",
              "    <tr>\n",
              "      <th>G</th>\n",
              "      <td>0.23</td>\n",
              "      <td>2.60</td>\n",
              "      <td>4239.254777</td>\n",
              "      <td>4.239255</td>\n",
              "    </tr>\n",
              "    <tr>\n",
              "      <th>H</th>\n",
              "      <td>0.33</td>\n",
              "      <td>4.13</td>\n",
              "      <td>5135.683168</td>\n",
              "      <td>5.135683</td>\n",
              "    </tr>\n",
              "  </tbody>\n",
              "</table>\n",
              "</div>"
            ],
            "text/plain": [
              "           carat              price          \n",
              "             min   max         mean mean_kilo\n",
              "cut  color                                   \n",
              "Fair D      0.25  3.40  4291.061350  4.291061\n",
              "     E      0.22  2.04  3682.312500  3.682313\n",
              "     F      0.25  2.58  3827.003205  3.827003\n",
              "     G      0.23  2.60  4239.254777  4.239255\n",
              "     H      0.33  4.13  5135.683168  5.135683"
            ]
          },
          "metadata": {
            "tags": []
          },
          "execution_count": 28
        }
      ]
    },
    {
      "cell_type": "code",
      "metadata": {
        "id": "Orcecd-1o9Dh",
        "colab_type": "code",
        "colab": {}
      },
      "source": [
        "def f_filter(x):\n",
        "  return mean_kilo(x['price']) > 4"
      ],
      "execution_count": 29,
      "outputs": []
    },
    {
      "cell_type": "code",
      "metadata": {
        "id": "Q7uROMWOpb35",
        "colab_type": "code",
        "colab": {
          "base_uri": "https://localhost:8080/",
          "height": 424
        },
        "outputId": "f33fdd44-1309-4e97-b235-5cf2820fbb96"
      },
      "source": [
        "df.groupby('cut').filter(f_filter)"
      ],
      "execution_count": 30,
      "outputs": [
        {
          "output_type": "execute_result",
          "data": {
            "text/html": [
              "<div>\n",
              "<style scoped>\n",
              "    .dataframe tbody tr th:only-of-type {\n",
              "        vertical-align: middle;\n",
              "    }\n",
              "\n",
              "    .dataframe tbody tr th {\n",
              "        vertical-align: top;\n",
              "    }\n",
              "\n",
              "    .dataframe thead th {\n",
              "        text-align: right;\n",
              "    }\n",
              "</style>\n",
              "<table border=\"1\" class=\"dataframe\">\n",
              "  <thead>\n",
              "    <tr style=\"text-align: right;\">\n",
              "      <th></th>\n",
              "      <th>carat</th>\n",
              "      <th>cut</th>\n",
              "      <th>color</th>\n",
              "      <th>clarity</th>\n",
              "      <th>depth</th>\n",
              "      <th>table</th>\n",
              "      <th>price</th>\n",
              "      <th>x</th>\n",
              "      <th>y</th>\n",
              "      <th>z</th>\n",
              "    </tr>\n",
              "  </thead>\n",
              "  <tbody>\n",
              "    <tr>\n",
              "      <th>1</th>\n",
              "      <td>0.21</td>\n",
              "      <td>Premium</td>\n",
              "      <td>E</td>\n",
              "      <td>SI1</td>\n",
              "      <td>59.8</td>\n",
              "      <td>61.0</td>\n",
              "      <td>326</td>\n",
              "      <td>3.89</td>\n",
              "      <td>3.84</td>\n",
              "      <td>2.31</td>\n",
              "    </tr>\n",
              "    <tr>\n",
              "      <th>3</th>\n",
              "      <td>0.29</td>\n",
              "      <td>Premium</td>\n",
              "      <td>I</td>\n",
              "      <td>VS2</td>\n",
              "      <td>62.4</td>\n",
              "      <td>58.0</td>\n",
              "      <td>334</td>\n",
              "      <td>4.20</td>\n",
              "      <td>4.23</td>\n",
              "      <td>2.63</td>\n",
              "    </tr>\n",
              "    <tr>\n",
              "      <th>8</th>\n",
              "      <td>0.22</td>\n",
              "      <td>Fair</td>\n",
              "      <td>E</td>\n",
              "      <td>VS2</td>\n",
              "      <td>65.1</td>\n",
              "      <td>61.0</td>\n",
              "      <td>337</td>\n",
              "      <td>3.87</td>\n",
              "      <td>3.78</td>\n",
              "      <td>2.49</td>\n",
              "    </tr>\n",
              "    <tr>\n",
              "      <th>12</th>\n",
              "      <td>0.22</td>\n",
              "      <td>Premium</td>\n",
              "      <td>F</td>\n",
              "      <td>SI1</td>\n",
              "      <td>60.4</td>\n",
              "      <td>61.0</td>\n",
              "      <td>342</td>\n",
              "      <td>3.88</td>\n",
              "      <td>3.84</td>\n",
              "      <td>2.33</td>\n",
              "    </tr>\n",
              "    <tr>\n",
              "      <th>14</th>\n",
              "      <td>0.20</td>\n",
              "      <td>Premium</td>\n",
              "      <td>E</td>\n",
              "      <td>SI2</td>\n",
              "      <td>60.2</td>\n",
              "      <td>62.0</td>\n",
              "      <td>345</td>\n",
              "      <td>3.79</td>\n",
              "      <td>3.75</td>\n",
              "      <td>2.27</td>\n",
              "    </tr>\n",
              "    <tr>\n",
              "      <th>...</th>\n",
              "      <td>...</td>\n",
              "      <td>...</td>\n",
              "      <td>...</td>\n",
              "      <td>...</td>\n",
              "      <td>...</td>\n",
              "      <td>...</td>\n",
              "      <td>...</td>\n",
              "      <td>...</td>\n",
              "      <td>...</td>\n",
              "      <td>...</td>\n",
              "    </tr>\n",
              "    <tr>\n",
              "      <th>53928</th>\n",
              "      <td>0.79</td>\n",
              "      <td>Premium</td>\n",
              "      <td>E</td>\n",
              "      <td>SI2</td>\n",
              "      <td>61.4</td>\n",
              "      <td>58.0</td>\n",
              "      <td>2756</td>\n",
              "      <td>6.03</td>\n",
              "      <td>5.96</td>\n",
              "      <td>3.68</td>\n",
              "    </tr>\n",
              "    <tr>\n",
              "      <th>53930</th>\n",
              "      <td>0.71</td>\n",
              "      <td>Premium</td>\n",
              "      <td>E</td>\n",
              "      <td>SI1</td>\n",
              "      <td>60.5</td>\n",
              "      <td>55.0</td>\n",
              "      <td>2756</td>\n",
              "      <td>5.79</td>\n",
              "      <td>5.74</td>\n",
              "      <td>3.49</td>\n",
              "    </tr>\n",
              "    <tr>\n",
              "      <th>53931</th>\n",
              "      <td>0.71</td>\n",
              "      <td>Premium</td>\n",
              "      <td>F</td>\n",
              "      <td>SI1</td>\n",
              "      <td>59.8</td>\n",
              "      <td>62.0</td>\n",
              "      <td>2756</td>\n",
              "      <td>5.74</td>\n",
              "      <td>5.73</td>\n",
              "      <td>3.43</td>\n",
              "    </tr>\n",
              "    <tr>\n",
              "      <th>53934</th>\n",
              "      <td>0.72</td>\n",
              "      <td>Premium</td>\n",
              "      <td>D</td>\n",
              "      <td>SI1</td>\n",
              "      <td>62.7</td>\n",
              "      <td>59.0</td>\n",
              "      <td>2757</td>\n",
              "      <td>5.69</td>\n",
              "      <td>5.73</td>\n",
              "      <td>3.58</td>\n",
              "    </tr>\n",
              "    <tr>\n",
              "      <th>53938</th>\n",
              "      <td>0.86</td>\n",
              "      <td>Premium</td>\n",
              "      <td>H</td>\n",
              "      <td>SI2</td>\n",
              "      <td>61.0</td>\n",
              "      <td>58.0</td>\n",
              "      <td>2757</td>\n",
              "      <td>6.15</td>\n",
              "      <td>6.12</td>\n",
              "      <td>3.74</td>\n",
              "    </tr>\n",
              "  </tbody>\n",
              "</table>\n",
              "<p>15401 rows × 10 columns</p>\n",
              "</div>"
            ],
            "text/plain": [
              "       carat      cut color clarity  depth  table  price     x     y     z\n",
              "1       0.21  Premium     E     SI1   59.8   61.0    326  3.89  3.84  2.31\n",
              "3       0.29  Premium     I     VS2   62.4   58.0    334  4.20  4.23  2.63\n",
              "8       0.22     Fair     E     VS2   65.1   61.0    337  3.87  3.78  2.49\n",
              "12      0.22  Premium     F     SI1   60.4   61.0    342  3.88  3.84  2.33\n",
              "14      0.20  Premium     E     SI2   60.2   62.0    345  3.79  3.75  2.27\n",
              "...      ...      ...   ...     ...    ...    ...    ...   ...   ...   ...\n",
              "53928   0.79  Premium     E     SI2   61.4   58.0   2756  6.03  5.96  3.68\n",
              "53930   0.71  Premium     E     SI1   60.5   55.0   2756  5.79  5.74  3.49\n",
              "53931   0.71  Premium     F     SI1   59.8   62.0   2756  5.74  5.73  3.43\n",
              "53934   0.72  Premium     D     SI1   62.7   59.0   2757  5.69  5.73  3.58\n",
              "53938   0.86  Premium     H     SI2   61.0   58.0   2757  6.15  6.12  3.74\n",
              "\n",
              "[15401 rows x 10 columns]"
            ]
          },
          "metadata": {
            "tags": []
          },
          "execution_count": 30
        }
      ]
    },
    {
      "cell_type": "code",
      "metadata": {
        "id": "kBXLTEl5phaZ",
        "colab_type": "code",
        "colab": {
          "base_uri": "https://localhost:8080/",
          "height": 34
        },
        "outputId": "eac4be8b-ba8e-49f9-f850-2bc659e9b06f"
      },
      "source": [
        "df.groupby('cut').filter(f_filter)['cut'].unique()"
      ],
      "execution_count": 31,
      "outputs": [
        {
          "output_type": "execute_result",
          "data": {
            "text/plain": [
              "array(['Premium', 'Fair'], dtype=object)"
            ]
          },
          "metadata": {
            "tags": []
          },
          "execution_count": 31
        }
      ]
    },
    {
      "cell_type": "code",
      "metadata": {
        "id": "8eCp475lppou",
        "colab_type": "code",
        "colab": {}
      },
      "source": [
        ""
      ],
      "execution_count": null,
      "outputs": []
    }
  ]
}